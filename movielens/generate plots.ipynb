{
 "cells": [
  {
   "cell_type": "markdown",
   "metadata": {},
   "source": [
    "# Part I. Ingesting data."
   ]
  },
  {
   "cell_type": "markdown",
   "metadata": {},
   "source": [
    "Create a dictionary with movies for each genre."
   ]
  },
  {
   "cell_type": "code",
   "execution_count": 1,
   "metadata": {
    "collapsed": true
   },
   "outputs": [],
   "source": [
    "import numpy as np\n",
    "import math\n",
    "import time"
   ]
  },
  {
   "cell_type": "markdown",
   "metadata": {},
   "source": [
    "### First, read in the similarity matrix. Not all movies have ratings, so we'll ignore the ones that are unrated."
   ]
  },
  {
   "cell_type": "code",
   "execution_count": 2,
   "metadata": {
    "collapsed": true
   },
   "outputs": [],
   "source": [
    "simDataFile = open(\"mvs.csv\", \"r\")\n",
    "simData = [ map(float,line.split(',')) for line in simDataFile ]"
   ]
  },
  {
   "cell_type": "code",
   "execution_count": 3,
   "metadata": {
    "collapsed": false
   },
   "outputs": [
    {
     "name": "stdout",
     "output_type": "stream",
     "text": [
      "10473  movies have ratings\n"
     ]
    }
   ],
   "source": [
    "print len(simData), ' movies have ratings'"
   ]
  },
  {
   "cell_type": "code",
   "execution_count": 4,
   "metadata": {
    "collapsed": false
   },
   "outputs": [],
   "source": [
    "simMat = dict()\n",
    "\n",
    "for sd in simData:\n",
    "    simMat[int(sd[0])] = sd[1:] / np.linalg.norm(sd[1:])"
   ]
  },
  {
   "cell_type": "code",
   "execution_count": 5,
   "metadata": {
    "collapsed": false
   },
   "outputs": [
    {
     "data": {
      "text/plain": [
       "0.75932462063717177"
      ]
     },
     "execution_count": 5,
     "metadata": {},
     "output_type": "execute_result"
    }
   ],
   "source": [
    "np.dot(simMat[1], simMat[4])"
   ]
  },
  {
   "cell_type": "markdown",
   "metadata": {},
   "source": [
    "### Read in the ratings. We will be working only with the top 1000 movies. Ratings are in the format - userId,movieId,rating,timestamp"
   ]
  },
  {
   "cell_type": "code",
   "execution_count": 6,
   "metadata": {
    "collapsed": false
   },
   "outputs": [
    {
     "data": {
      "text/plain": [
       "(3.92123956132, 3.21197680169, 3.15104043973, 3.61520190024)"
      ]
     },
     "execution_count": 6,
     "metadata": {},
     "output_type": "execute_result"
    }
   ],
   "source": [
    "ratingsFile = open(\"procRatings.csv\", \"r\")\n",
    "\n",
    "ratings = dict()\n",
    "\n",
    "for line in ratingsFile:\n",
    "    data = map(float,line.split(','))\n",
    "    ratings[int(data[0])] = data[1]\n",
    "    \n",
    "ratings[1], ratings[2], ratings[3], ratings[30848]"
   ]
  },
  {
   "cell_type": "markdown",
   "metadata": {},
   "source": [
    "#### Set the ratings of the 100'th movie as a threshold"
   ]
  },
  {
   "cell_type": "code",
   "execution_count": 7,
   "metadata": {
    "collapsed": false
   },
   "outputs": [],
   "source": [
    "minRating = sorted(ratings.values(), reverse=True)[99]"
   ]
  },
  {
   "cell_type": "markdown",
   "metadata": {},
   "source": [
    "### Now, read in the movies."
   ]
  },
  {
   "cell_type": "code",
   "execution_count": 8,
   "metadata": {
    "collapsed": true
   },
   "outputs": [],
   "source": [
    "movies = dict() # a category -> list_of_movies dict stored as integers\n",
    "\n",
    "# catID returns the index of a category of type string. catName returns the name of the category given its ID.\n",
    "catID = dict()\n",
    "catName = dict()\n",
    "\n",
    "# same as with cat\n",
    "movieID = dict()\n",
    "movieName = dict()"
   ]
  },
  {
   "cell_type": "code",
   "execution_count": 9,
   "metadata": {
    "collapsed": false
   },
   "outputs": [
    {
     "name": "stdout",
     "output_type": "stream",
     "text": [
      "we have 100 movies\n"
     ]
    }
   ],
   "source": [
    "allData = open(\"movies.csv\", \"r\")\n",
    "\n",
    "# this first line contains header info\n",
    "allData.readline()\n",
    "\n",
    "numMovies = 0\n",
    "numCategories = 0\n",
    "\n",
    "while True:\n",
    "    line = allData.readline()\n",
    "    \n",
    "    if line == '':\n",
    "        break\n",
    "    \n",
    "    curMovieID = int(line.split(\",\", 1)[0])\n",
    "    if curMovieID not in simMat.keys():\n",
    "        continue\n",
    "    if ratings[curMovieID] < minRating:\n",
    "        continue\n",
    "    \n",
    "    curMovieName = (line.split(\",\", 1)[1]).rsplit(\",\", 1)[0]\n",
    "    curCategories = line.rsplit(\",\", 1)[1].rsplit(\"\\r\")[0].split(\"|\")\n",
    "    \n",
    "    \n",
    "    # update catID, catName, movieID, movieName\n",
    "    movieID[curMovieName] = curMovieID\n",
    "    movieName[curMovieID] = curMovieName\n",
    "    \n",
    "    for cat in curCategories:\n",
    "        if not (cat in catID):\n",
    "            catID[cat] = numCategories\n",
    "            catName[numCategories] = cat\n",
    "            \n",
    "            numCategories = numCategories + 1\n",
    "            \n",
    "    for cat in curCategories:\n",
    "        if catID[cat] in movies:\n",
    "            movies[catID[cat]].append(movieID[curMovieName])\n",
    "        else:\n",
    "            movies[catID[cat]] = [movieID[curMovieName]]\n",
    "    \n",
    "    numMovies = numMovies + 1\n",
    "\n",
    "print \"we have\", numMovies, \"movies\""
   ]
  },
  {
   "cell_type": "code",
   "execution_count": 10,
   "metadata": {
    "collapsed": false
   },
   "outputs": [
    {
     "data": {
      "text/plain": [
       "[593]"
      ]
     },
     "execution_count": 10,
     "metadata": {},
     "output_type": "execute_result"
    }
   ],
   "source": [
    "movies[catID['Horror']][:10]"
   ]
  },
  {
   "cell_type": "markdown",
   "metadata": {},
   "source": [
    "# Part II. Fix k = 5. Increase l from 5 to 30"
   ]
  },
  {
   "cell_type": "code",
   "execution_count": 11,
   "metadata": {
    "collapsed": false
   },
   "outputs": [
    {
     "name": "stdout",
     "output_type": "stream",
     "text": [
      "100 19 5\n"
     ]
    }
   ],
   "source": [
    "k = 5\n",
    "\n",
    "print numMovies, numCategories, k"
   ]
  },
  {
   "cell_type": "code",
   "execution_count": 12,
   "metadata": {
    "collapsed": true
   },
   "outputs": [],
   "source": [
    "from novel import wrapper\n",
    "from greedysum import gsWrapper\n",
    "from greedymerge import gmWrapper\n",
    "from localsearch import lsWrapper"
   ]
  },
  {
   "cell_type": "code",
   "execution_count": 13,
   "metadata": {
    "collapsed": false
   },
   "outputs": [
    {
     "name": "stdout",
     "output_type": "stream",
     "text": [
      "Our solution gives totalCost =  249.185840593\n",
      "Greedy Sum gives cost =  249.181097699\n",
      "Greedy Merge gives cost =  250.859756776\n",
      "Size of S is  47\n",
      "Picking l random elements gives cost =  246.146396939\n",
      "Intermediate cost at step  0  =  246.986424033\n",
      "Intermediate cost at step  1  =  247.398292101\n",
      "Intermediate cost at step  2  =  247.674378967\n",
      "Intermediate cost at step  3  =  248.095688945\n",
      "Intermediate cost at step  4  =  248.095688945\n",
      "Local Search gives cost =  248.095688945\n",
      "\n",
      "Done for l =  6\n",
      "\n",
      "\n",
      "\n",
      "\n",
      "Our solution gives totalCost =  249.666843121\n",
      "Greedy Sum gives cost =  249.595530139\n",
      "Greedy Merge gives cost =  250.859756776\n",
      "Size of S is  47\n",
      "Picking l random elements gives cost =  246.808017624\n",
      "Intermediate cost at step  0  =  248.074855405\n",
      "Intermediate cost at step  1  =  248.206968805\n",
      "Intermediate cost at step  2  =  248.699881516\n",
      "Intermediate cost at step  3  =  248.983967368\n",
      "Intermediate cost at step  4  =  249.216902995\n",
      "Intermediate cost at step  5  =  249.47773417\n",
      "Intermediate cost at step  6  =  249.47773417\n",
      "Local Search gives cost =  249.47773417\n",
      "\n",
      "Done for l =  8\n",
      "\n",
      "\n",
      "\n",
      "\n",
      "Our solution gives totalCost =  250.059830688\n",
      "Greedy Sum gives cost =  249.953779285\n",
      "Greedy Merge gives cost =  250.859756776\n",
      "Size of S is  47\n",
      "Picking l random elements gives cost =  248.093638343\n",
      "Intermediate cost at step  0  =  249.123229373\n",
      "Intermediate cost at step  1  =  249.368145142\n",
      "Intermediate cost at step  2  =  249.48053595\n",
      "Intermediate cost at step  3  =  249.623676981\n",
      "Intermediate cost at step  4  =  249.66980868\n",
      "Intermediate cost at step  5  =  249.73773223\n",
      "Intermediate cost at step  6  =  249.798015474\n",
      "Intermediate cost at step  7  =  249.929189253\n",
      "Intermediate cost at step  8  =  249.929189253\n",
      "Local Search gives cost =  249.929189253\n",
      "\n",
      "Done for l =  10\n",
      "\n",
      "\n",
      "\n",
      "\n",
      "Our solution gives totalCost =  250.306584929\n",
      "Greedy Sum gives cost =  250.208413621\n",
      "Greedy Merge gives cost =  250.859756776\n",
      "Size of S is  47\n",
      "Picking l random elements gives cost =  248.106028462\n",
      "Intermediate cost at step  0  =  249.139510701\n",
      "Intermediate cost at step  1  =  249.389524198\n",
      "Intermediate cost at step  2  =  249.425887039\n",
      "Intermediate cost at step  3  =  249.495955162\n",
      "Intermediate cost at step  4  =  249.63341726\n",
      "Intermediate cost at step  5  =  249.709872819\n",
      "Intermediate cost at step  6  =  249.745808067\n",
      "Intermediate cost at step  7  =  249.82952179\n",
      "Intermediate cost at step  8  =  249.865457038\n",
      "Intermediate cost at step  9  =  249.963690759\n",
      "Intermediate cost at step  10  =  250.028978267\n",
      "Intermediate cost at step  11  =  250.081467812\n",
      "Intermediate cost at step  12  =  250.123155546\n",
      "Intermediate cost at step  13  =  250.123155546\n",
      "Local Search gives cost =  250.123155546\n",
      "\n",
      "Done for l =  12\n",
      "\n",
      "\n",
      "\n",
      "\n",
      "Our solution gives totalCost =  250.471573906\n",
      "Greedy Sum gives cost =  250.261814735\n",
      "Greedy Merge gives cost =  250.859756776\n",
      "Size of S is  47\n",
      "Picking l random elements gives cost =  249.170934909\n",
      "Intermediate cost at step  0  =  249.381143265\n",
      "Intermediate cost at step  1  =  249.733901871\n",
      "Intermediate cost at step  2  =  249.86283911\n",
      "Intermediate cost at step  3  =  249.889973971\n",
      "Intermediate cost at step  4  =  249.975629023\n",
      "Intermediate cost at step  5  =  249.99282017\n",
      "Intermediate cost at step  6  =  250.02414294\n",
      "Intermediate cost at step  7  =  250.083129729\n",
      "Intermediate cost at step  8  =  250.086951428\n",
      "Intermediate cost at step  9  =  250.131643647\n",
      "Intermediate cost at step  10  =  250.197910459\n",
      "Intermediate cost at step  11  =  250.253761098\n",
      "Intermediate cost at step  12  =  250.277774773\n",
      "Intermediate cost at step  13  =  250.318489112\n",
      "Intermediate cost at step  14  =  250.318489112\n",
      "Local Search gives cost =  250.318489112\n",
      "\n",
      "Done for l =  14\n",
      "\n",
      "\n",
      "\n",
      "\n",
      "Our solution gives totalCost =  250.575871913\n",
      "Greedy Sum gives cost =  250.382992083\n",
      "Greedy Merge gives cost =  250.859756776\n",
      "Size of S is  47\n",
      "Picking l random elements gives cost =  249.179106712\n",
      "Intermediate cost at step  0  =  249.392294892\n",
      "Intermediate cost at step  1  =  249.745053498\n",
      "Intermediate cost at step  2  =  249.815514797\n",
      "Intermediate cost at step  3  =  249.851877638\n",
      "Intermediate cost at step  4  =  249.990504652\n",
      "Intermediate cost at step  5  =  250.000991972\n",
      "Intermediate cost at step  6  =  250.039018569\n",
      "Intermediate cost at step  7  =  250.093011276\n",
      "Intermediate cost at step  8  =  250.093853149\n",
      "Intermediate cost at step  9  =  250.141525193\n",
      "Intermediate cost at step  10  =  250.207792006\n",
      "Intermediate cost at step  11  =  250.20863388\n",
      "Intermediate cost at step  12  =  250.256305923\n",
      "Intermediate cost at step  13  =  250.27547846\n",
      "Intermediate cost at step  14  =  250.328000296\n",
      "Intermediate cost at step  15  =  250.343117383\n",
      "Intermediate cost at step  16  =  250.38009284\n",
      "Intermediate cost at step  17  =  250.427114224\n",
      "Intermediate cost at step  18  =  250.450229828\n",
      "Intermediate cost at step  19  =  250.450229828\n",
      "Local Search gives cost =  250.450229828\n",
      "\n",
      "Done for l =  16\n",
      "\n",
      "\n",
      "\n",
      "\n",
      "Our solution gives totalCost =  250.661827823\n",
      "Greedy Sum gives cost =  250.414650086\n",
      "Greedy Merge gives cost =  250.859756776\n",
      "Size of S is  47\n",
      "Picking l random elements gives cost =  249.24168129\n",
      "Intermediate cost at step  0  =  249.455711345\n",
      "Intermediate cost at step  1  =  249.80846995\n",
      "Intermediate cost at step  2  =  249.882094762\n",
      "Intermediate cost at step  3  =  249.916348769\n",
      "Intermediate cost at step  4  =  250.057084616\n",
      "Intermediate cost at step  5  =  250.066730063\n",
      "Intermediate cost at step  6  =  250.103489701\n",
      "Intermediate cost at step  7  =  250.15959124\n",
      "Intermediate cost at step  8  =  250.205996325\n",
      "Intermediate cost at step  9  =  250.27437197\n",
      "Intermediate cost at step  10  =  250.320777055\n",
      "Intermediate cost at step  11  =  250.352514814\n",
      "Intermediate cost at step  12  =  250.373120099\n",
      "Intermediate cost at step  13  =  250.403963076\n",
      "Intermediate cost at step  14  =  250.432517445\n",
      "Intermediate cost at step  15  =  250.468790342\n",
      "Intermediate cost at step  16  =  250.482142356\n",
      "Intermediate cost at step  17  =  250.507474281\n",
      "Intermediate cost at step  18  =  250.534775742\n",
      "Intermediate cost at step  19  =  250.546561872\n",
      "Intermediate cost at step  20  =  250.546561872\n",
      "Local Search gives cost =  250.546561872\n",
      "\n",
      "Done for l =  18\n",
      "\n",
      "\n",
      "\n",
      "\n",
      "Our solution gives totalCost =  250.735336548\n",
      "Greedy Sum gives cost =  250.50805858\n",
      "Greedy Merge gives cost =  250.859756776\n",
      "Size of S is  47\n",
      "Picking l random elements gives cost =  249.256314153\n",
      "Intermediate cost at step  0  =  249.470344207\n",
      "Intermediate cost at step  1  =  249.823102812\n",
      "Intermediate cost at step  2  =  249.896727624\n",
      "Intermediate cost at step  3  =  249.930981632\n",
      "Intermediate cost at step  4  =  250.071717479\n",
      "Intermediate cost at step  5  =  250.081362925\n",
      "Intermediate cost at step  6  =  250.118122563\n",
      "Intermediate cost at step  7  =  250.174224103\n",
      "Intermediate cost at step  8  =  250.220629187\n",
      "Intermediate cost at step  9  =  250.289004833\n",
      "Intermediate cost at step  10  =  250.335409917\n",
      "Intermediate cost at step  11  =  250.35430235\n",
      "Intermediate cost at step  12  =  250.378238461\n",
      "Intermediate cost at step  13  =  250.397130894\n",
      "Intermediate cost at step  14  =  250.434827002\n",
      "Intermediate cost at step  15  =  250.457574211\n",
      "Intermediate cost at step  16  =  250.472459552\n",
      "Intermediate cost at step  17  =  250.503198951\n",
      "Intermediate cost at step  18  =  250.517024435\n",
      "Intermediate cost at step  19  =  250.526994599\n",
      "Intermediate cost at step  20  =  250.54961419\n",
      "Intermediate cost at step  21  =  250.574501041\n",
      "Intermediate cost at step  22  =  250.602445999\n",
      "Intermediate cost at step  23  =  250.602445999\n",
      "Local Search gives cost =  250.602445999\n",
      "\n",
      "Done for l =  20\n",
      "\n",
      "\n",
      "\n",
      "\n"
     ]
    }
   ],
   "source": [
    "solution = []\n",
    "runtime = []\n",
    "calls = []\n",
    "\n",
    "for l in range(6,22,2):\n",
    "    novel = wrapper(numMovies, numCategories, l, k, simMat, movies)\n",
    "    gs = gsWrapper(numMovies, numCategories, l, k, simMat, movies)\n",
    "    gm = gmWrapper(numMovies, numCategories, l, k, simMat, movies)\n",
    "    ls = lsWrapper(numMovies, numCategories, l, k, 0.5, simMat, movies)\n",
    "    \n",
    "    curSol = []\n",
    "    curRt = []\n",
    "    curCalls = []\n",
    "    \n",
    "    for alg in [novel, gs, gm, ls]:\n",
    "        start = time.time()\n",
    "        \n",
    "        algS, algCost, algEvals = alg(movieName.keys())\n",
    "        \n",
    "        curRt.append(time.time() - start)\n",
    "        curSol.append(algCost)\n",
    "        curCalls.append(algEvals)\n",
    "    \n",
    "    solution.append(curSol)\n",
    "    runtime.append(curRt)\n",
    "    calls.append(curCalls)\n",
    "    \n",
    "    print \"\"\n",
    "    print \"Done for l = \", l\n",
    "    print \"\\n\\n\\n\""
   ]
  },
  {
   "cell_type": "code",
   "execution_count": 14,
   "metadata": {
    "collapsed": false
   },
   "outputs": [],
   "source": [
    "novSol = []\n",
    "gsSol = []\n",
    "gmSol = []\n",
    "lsSol = []\n",
    "\n",
    "for sol in solution:\n",
    "    novSol.append(sol[0])\n",
    "    gsSol.append(sol[1])\n",
    "    gmSol.append(sol[2])\n",
    "    lsSol.append(sol[3])"
   ]
  },
  {
   "cell_type": "code",
   "execution_count": 15,
   "metadata": {
    "collapsed": false
   },
   "outputs": [
    {
     "data": {
      "text/plain": [
       "8"
      ]
     },
     "execution_count": 15,
     "metadata": {},
     "output_type": "execute_result"
    }
   ],
   "source": [
    "len(novSol)"
   ]
  },
  {
   "cell_type": "code",
   "execution_count": 22,
   "metadata": {
    "collapsed": false
   },
   "outputs": [
    {
     "data": {
      "image/png": "[encoded data removed]",
      "text/plain": [
       "<matplotlib.figure.Figure at 0x10fe54d10>"
      ]
     },
     "metadata": {},
     "output_type": "display_data"
    }
   ],
   "source": [
    "import matplotlib.pyplot as plt\n",
    "\n",
    "ax = plt.subplot(111)\n",
    "\n",
    "# http://matplotlib.org/users/text_intro.html\n",
    "ax.set_xlabel('l')\n",
    "ax.set_ylabel('Objective Value')\n",
    "\n",
    "plt.ylim(247,252)\n",
    "plt.xlim(0,len(novSol)-1)\n",
    "labels = [l for l in range(6,22,2)]\n",
    "\n",
    "x = [i for i in range(len(novSol))]\n",
    "\n",
    "\n",
    "plt.xticks(x, labels)\n",
    "\n",
    "plt.plot(novSol, c = 'red', label = 'Novel')\n",
    "plt.plot(novSol, 'ro')\n",
    "\n",
    "plt.plot(lsSol, c = 'cyan', label = 'Local Search')\n",
    "plt.plot(lsSol, 'co')\n",
    "\n",
    "plt.plot(gsSol, c = 'blue', label = 'Greedy Sum')\n",
    "plt.plot(gsSol, 'bo')\n",
    "\n",
    "plt.plot(gmSol, c = 'green', label = 'Greedy Merge')\n",
    "plt.plot(gmSol, 'go')\n",
    "\n",
    "# http://matplotlib.org/1.3.0/examples/pylab_examples/legend_demo.html\n",
    "legend = ax.legend(loc='lower right')\n",
    "\n",
    "# Set the fontsize\n",
    "for label in legend.get_texts():\n",
    "    label.set_fontsize('small')\n",
    "\n",
    "\n",
    "\n",
    "plt.show()"
   ]
  },
  {
   "cell_type": "code",
   "execution_count": 32,
   "metadata": {
    "collapsed": false
   },
   "outputs": [
    {
     "data": {
      "text/plain": [
       "[[1.3862190246582031,\n",
       "  0.7195529937744141,\n",
       "  0.468250036239624,\n",
       "  57.37943506240845],\n",
       " [2.9354279041290283,\n",
       "  1.102057933807373,\n",
       "  0.46973609924316406,\n",
       "  257.29114508628845],\n",
       " [5.122560024261475, 1.76560378074646, 0.5320770740509033, 226.39125895500183],\n",
       " [6.903010845184326, 2.523277997970581, 0.5270459651947021, 362.9045169353485],\n",
       " [8.062669038772583,\n",
       "  3.1649858951568604,\n",
       "  0.5008149147033691,\n",
       "  441.2118148803711],\n",
       " [9.586172103881836, 4.058565855026245, 0.484450101852417, 729.2033421993256],\n",
       " [11.362506866455078,\n",
       "  5.071719169616699,\n",
       "  0.46247315406799316,\n",
       "  1140.9458241462708],\n",
       " [12.71277904510498,\n",
       "  6.168472766876221,\n",
       "  0.48377013206481934,\n",
       "  12782.67346906662]]"
      ]
     },
     "execution_count": 32,
     "metadata": {},
     "output_type": "execute_result"
    }
   ],
   "source": [
    "runtime"
   ]
  },
  {
   "cell_type": "code",
   "execution_count": 35,
   "metadata": {
    "collapsed": false
   },
   "outputs": [
    {
     "data": {
      "text/plain": [
       "19"
      ]
     },
     "execution_count": 35,
     "metadata": {},
     "output_type": "execute_result"
    }
   ],
   "source": [
    "1140/60"
   ]
  },
  {
   "cell_type": "code",
   "execution_count": null,
   "metadata": {
    "collapsed": true
   },
   "outputs": [],
   "source": []
  }
 ],
 "metadata": {
  "anaconda-cloud": {},
  "kernelspec": {
   "display_name": "Python [conda root]",
   "language": "python",
   "name": "conda-root-py"
  },
  "language_info": {
   "codemirror_mode": {
    "name": "ipython",
    "version": 2
   },
   "file_extension": ".py",
   "mimetype": "text/x-python",
   "name": "python",
   "nbconvert_exporter": "python",
   "pygments_lexer": "ipython2",
   "version": "2.7.12"
  }
 },
 "nbformat": 4,
 "nbformat_minor": 1
}
