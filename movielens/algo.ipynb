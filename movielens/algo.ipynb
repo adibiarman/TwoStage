{
 "cells": [
  {
   "cell_type": "markdown",
   "metadata": {},
   "source": [
    "# Part I. Ingesting data."
   ]
  },
  {
   "cell_type": "markdown",
   "metadata": {},
   "source": [
    "Create a dictionary with movies for each genre."
   ]
  },
  {
   "cell_type": "code",
   "execution_count": 1,
   "metadata": {
    "collapsed": true
   },
   "outputs": [],
   "source": [
    "import numpy as np\n",
    "import math\n",
    "import time"
   ]
  },
  {
   "cell_type": "markdown",
   "metadata": {},
   "source": [
    "### First, read in the similarity matrix. Not all movies have ratings, so we'll ignore the ones that are unrated."
   ]
  },
  {
   "cell_type": "code",
   "execution_count": 2,
   "metadata": {
    "collapsed": true
   },
   "outputs": [],
   "source": [
    "simDataFile = open(\"mvs.csv\", \"r\")\n",
    "simData = [ map(float,line.split(',')) for line in simDataFile ]"
   ]
  },
  {
   "cell_type": "code",
   "execution_count": 3,
   "metadata": {
    "collapsed": false
   },
   "outputs": [
    {
     "name": "stdout",
     "output_type": "stream",
     "text": [
      "10473  movies have ratings\n"
     ]
    }
   ],
   "source": [
    "print len(simData), ' movies have ratings'"
   ]
  },
  {
   "cell_type": "code",
   "execution_count": 4,
   "metadata": {
    "collapsed": false
   },
   "outputs": [],
   "source": [
    "simMat = dict()\n",
    "\n",
    "for sd in simData:\n",
    "    simMat[int(sd[0])] = sd[1:] / np.linalg.norm(sd[1:])"
   ]
  },
  {
   "cell_type": "code",
   "execution_count": 5,
   "metadata": {
    "collapsed": false
   },
   "outputs": [
    {
     "data": {
      "text/plain": [
       "0.75932462063717177"
      ]
     },
     "execution_count": 5,
     "metadata": {},
     "output_type": "execute_result"
    }
   ],
   "source": [
    "np.dot(simMat[1], simMat[4])"
   ]
  },
  {
   "cell_type": "markdown",
   "metadata": {},
   "source": [
    "### Read in the ratings. We will be working only with the top 1000 movies. Ratings are in the format - userId,movieId,rating,timestamp"
   ]
  },
  {
   "cell_type": "code",
   "execution_count": 6,
   "metadata": {
    "collapsed": false
   },
   "outputs": [
    {
     "data": {
      "text/plain": [
       "(3.92123956132, 3.21197680169, 3.15104043973, 3.61520190024)"
      ]
     },
     "execution_count": 6,
     "metadata": {},
     "output_type": "execute_result"
    }
   ],
   "source": [
    "ratingsFile = open(\"procRatings.csv\", \"r\")\n",
    "\n",
    "ratings = dict()\n",
    "\n",
    "for line in ratingsFile:\n",
    "    data = map(float,line.split(','))\n",
    "    ratings[int(data[0])] = data[1]\n",
    "    \n",
    "ratings[1], ratings[2], ratings[3], ratings[30848]"
   ]
  },
  {
   "cell_type": "markdown",
   "metadata": {},
   "source": [
    "#### Set the ratings of the 300'th movie as a threshold"
   ]
  },
  {
   "cell_type": "code",
   "execution_count": 7,
   "metadata": {
    "collapsed": false
   },
   "outputs": [],
   "source": [
    "minRating = sorted(ratings.values(), reverse=True)[99]"
   ]
  },
  {
   "cell_type": "markdown",
   "metadata": {},
   "source": [
    "### Now, read in the movies."
   ]
  },
  {
   "cell_type": "code",
   "execution_count": 8,
   "metadata": {
    "collapsed": true
   },
   "outputs": [],
   "source": [
    "movies = dict() # a category -> list_of_movies dict stored as integers\n",
    "\n",
    "# catID returns the index of a category of type string. catName returns the name of the category given its ID.\n",
    "catID = dict()\n",
    "catName = dict()\n",
    "\n",
    "# same as with cat\n",
    "movieID = dict()\n",
    "movieName = dict()"
   ]
  },
  {
   "cell_type": "code",
   "execution_count": 9,
   "metadata": {
    "collapsed": false
   },
   "outputs": [
    {
     "name": "stdout",
     "output_type": "stream",
     "text": [
      "we have 100 movies\n"
     ]
    }
   ],
   "source": [
    "allData = open(\"movies.csv\", \"r\")\n",
    "\n",
    "# this first line contains header info\n",
    "allData.readline()\n",
    "\n",
    "numMovies = 0\n",
    "numCategories = 0\n",
    "\n",
    "while True:\n",
    "    line = allData.readline()\n",
    "    \n",
    "    if line == '':\n",
    "        break\n",
    "    \n",
    "    curMovieID = int(line.split(\",\", 1)[0])\n",
    "    if curMovieID not in simMat.keys():\n",
    "        continue\n",
    "    if ratings[curMovieID] < minRating:\n",
    "        continue\n",
    "    \n",
    "    curMovieName = (line.split(\",\", 1)[1]).rsplit(\",\", 1)[0]\n",
    "    curCategories = line.rsplit(\",\", 1)[1].rsplit(\"\\r\")[0].split(\"|\")\n",
    "    \n",
    "    \n",
    "    # update catID, catName, movieID, movieName\n",
    "    movieID[curMovieName] = curMovieID\n",
    "    movieName[curMovieID] = curMovieName\n",
    "    \n",
    "    for cat in curCategories:\n",
    "        if not (cat in catID):\n",
    "            catID[cat] = numCategories\n",
    "            catName[numCategories] = cat\n",
    "            \n",
    "            numCategories = numCategories + 1\n",
    "            \n",
    "    for cat in curCategories:\n",
    "        if catID[cat] in movies:\n",
    "            movies[catID[cat]].append(movieID[curMovieName])\n",
    "        else:\n",
    "            movies[catID[cat]] = [movieID[curMovieName]]\n",
    "    \n",
    "    numMovies = numMovies + 1\n",
    "\n",
    "print \"we have\", numMovies, \"movies\""
   ]
  },
  {
   "cell_type": "code",
   "execution_count": 10,
   "metadata": {
    "collapsed": false
   },
   "outputs": [
    {
     "data": {
      "text/plain": [
       "[593]"
      ]
     },
     "execution_count": 10,
     "metadata": {},
     "output_type": "execute_result"
    }
   ],
   "source": [
    "movies[catID['Horror']][:10]"
   ]
  },
  {
   "cell_type": "markdown",
   "metadata": {},
   "source": [
    "# Part II. Run the algorithms"
   ]
  },
  {
   "cell_type": "code",
   "execution_count": 11,
   "metadata": {
    "collapsed": false
   },
   "outputs": [
    {
     "name": "stdout",
     "output_type": "stream",
     "text": [
      "100 19 10 5\n"
     ]
    }
   ],
   "source": [
    "l = 10\n",
    "k = 5\n",
    "\n",
    "print numMovies, numCategories, l, k"
   ]
  },
  {
   "cell_type": "code",
   "execution_count": 12,
   "metadata": {
    "collapsed": false
   },
   "outputs": [
    {
     "name": "stdout",
     "output_type": "stream",
     "text": [
      "Our solution gives totalCost =  250.059830688\n",
      "Number of calls =  62358\n",
      "Algorithm runtime =  4.89803791046\n"
     ]
    }
   ],
   "source": [
    "from novel import wrapper\n",
    "novel = wrapper(numMovies, numCategories, l, k, simMat, movies);\n",
    "\n",
    "start = time.time()\n",
    "\n",
    "novS, novCost, novEvals, novBstS = novel(movieName.keys())\n",
    "\n",
    "print \"Number of calls = \", novEvals\n",
    "\n",
    "print \"Algorithm runtime = \", time.time() - start"
   ]
  },
  {
   "cell_type": "code",
   "execution_count": 13,
   "metadata": {
    "collapsed": false
   },
   "outputs": [
    {
     "name": "stdout",
     "output_type": "stream",
     "text": [
      "10\n",
      "True True\n",
      "True True\n",
      "True True\n",
      "True True\n",
      "True True\n",
      "True True\n",
      "True True\n",
      "True True\n",
      "True True\n",
      "True True\n",
      "True True\n",
      "True True\n",
      "True True\n",
      "True True\n",
      "True True\n",
      "True True\n",
      "True True\n",
      "True True\n",
      "True True\n"
     ]
    }
   ],
   "source": [
    "# sanity check\n",
    "print len(novS)\n",
    "\n",
    "for i in range(numCategories):\n",
    "    print set(novBstS[i]).issubset(set(novS)), len(novBstS[i]) == k"
   ]
  },
  {
   "cell_type": "code",
   "execution_count": 14,
   "metadata": {
    "collapsed": false
   },
   "outputs": [
    {
     "name": "stdout",
     "output_type": "stream",
     "text": [
      "Greedy Sum gives cost =  249.953779285\n",
      "Number of calls =  19779\n",
      "Algorithm runtime =  1.7732899189\n"
     ]
    }
   ],
   "source": [
    "from greedysum import gsWrapper\n",
    "\n",
    "gs = gsWrapper(numMovies, numCategories, l, k, simMat, movies)\n",
    "\n",
    "start = time.time()\n",
    "\n",
    "gsS, gsCost, gsEvals = gs(movieName.keys())\n",
    "\n",
    "print \"Number of calls = \", gsEvals\n",
    "\n",
    "print \"Algorithm runtime = \", time.time() - start"
   ]
  },
  {
   "cell_type": "code",
   "execution_count": 15,
   "metadata": {
    "collapsed": false
   },
   "outputs": [
    {
     "name": "stdout",
     "output_type": "stream",
     "text": [
      "Greedy Merge gives cost =  250.859756776\n",
      "Size of S is  47\n",
      "Number of calls =  9329\n",
      "Algorithm runtime =  0.520768165588\n"
     ]
    }
   ],
   "source": [
    "from greedymerge import gmWrapper\n",
    "\n",
    "gm = gmWrapper(numMovies, numCategories, l, k, simMat, movies)\n",
    "\n",
    "start = time.time()\n",
    "\n",
    "gmS, gmCost, gmEvals = gm(movieName.keys())\n",
    "\n",
    "print \"Number of calls = \", gmEvals\n",
    "\n",
    "print \"Algorithm runtime = \", time.time() - start"
   ]
  },
  {
   "cell_type": "code",
   "execution_count": 16,
   "metadata": {
    "collapsed": false
   },
   "outputs": [
    {
     "name": "stdout",
     "output_type": "stream",
     "text": [
      "Picking l random elements gives cost =  248.093638343\n",
      "Working for step  0\n",
      "Replaced index  0  with index  1  =>  [1203, 670, 6669, 2324, 4973, 1178, 2186, 6016, 1224, 2571]\n",
      "Intermediate cost =  249.123229373\n",
      "\n",
      "Working for step  1\n",
      "Replaced index  3  with index  28  =>  [1203, 670, 2324, 4973, 1178, 2186, 6016, 1224, 2571, 1196]\n",
      "Intermediate cost =  249.368145142\n",
      "\n",
      "Working for step  2\n",
      "Replaced index  24  with index  3  =>  [1203, 2324, 4973, 1178, 2186, 6016, 1224, 2571, 1196, 6669]\n",
      "Intermediate cost =  249.48053595\n",
      "\n",
      "Working for step  3\n",
      "Replaced index  21  with index  38  =>  [1203, 2324, 4973, 2186, 6016, 1224, 2571, 1196, 6669, 58559]\n",
      "Intermediate cost =  249.623676981\n",
      "\n",
      "Working for step  4\n",
      "Replaced index  1  with index  2  =>  [1203, 2324, 4973, 2186, 6016, 1224, 1196, 6669, 58559, 77658]\n",
      "Intermediate cost =  249.66980868\n",
      "\n",
      "Working for step  5\n",
      "Replaced index  2  with index  17  =>  [1203, 2324, 4973, 2186, 6016, 1224, 1196, 6669, 58559, 1148]\n",
      "Intermediate cost =  249.73773223\n",
      "\n",
      "Working for step  6\n",
      "Replaced index  32  with index  7  =>  [2324, 4973, 2186, 6016, 1224, 1196, 6669, 58559, 1148, 541]\n",
      "Intermediate cost =  249.798015474\n",
      "\n",
      "Working for step  7\n",
      "Replaced index  41  with index  67  =>  [2324, 4973, 2186, 6016, 1196, 6669, 58559, 1148, 541, 5971]\n",
      "Intermediate cost =  249.929189253\n",
      "\n",
      "Working for step  8\n",
      "Intermediate cost =  249.929189253\n",
      "\n",
      "Local Search gives cost =  249.929189253\n",
      "Number of calls =  4319802\n",
      "Local Search should do O(k m l n^2 log(n)) evaluations =  43749116.7669\n",
      "Algorithm runtime =  218.121208906\n"
     ]
    }
   ],
   "source": [
    "from localsearch import lsWrapper\n",
    "\n",
    "ls = lsWrapper(numMovies, numCategories, l, k, 0.5, simMat, movies)\n",
    "\n",
    "start = time.time()\n",
    "\n",
    "lsS, lsCost, lsEvals = ls(movieName.keys())\n",
    "\n",
    "print \"Number of calls = \", lsEvals\n",
    "\n",
    "print \"Local Search should do O(k m l n^2 log(n)) evaluations = \", \\\n",
    "    k * numCategories * l * numMovies**2 * np.log(numMovies)\n",
    "\n",
    "print \"Algorithm runtime = \", time.time() - start"
   ]
  }
 ],
 "metadata": {
  "anaconda-cloud": {},
  "kernelspec": {
   "display_name": "Python [conda root]",
   "language": "python",
   "name": "conda-root-py"
  },
  "language_info": {
   "codemirror_mode": {
    "name": "ipython",
    "version": 2
   },
   "file_extension": ".py",
   "mimetype": "text/x-python",
   "name": "python",
   "nbconvert_exporter": "python",
   "pygments_lexer": "ipython2",
   "version": "2.7.12"
  }
 },
 "nbformat": 4,
 "nbformat_minor": 1
}
