{
 "cells": [
  {
   "cell_type": "markdown",
   "metadata": {},
   "source": [
    "# Part I. Ingesting data."
   ]
  },
  {
   "cell_type": "markdown",
   "metadata": {},
   "source": [
    "Create a dictionary with movies for each genre."
   ]
  },
  {
   "cell_type": "code",
   "execution_count": 1,
   "metadata": {
    "collapsed": true
   },
   "outputs": [],
   "source": [
    "import numpy as np\n",
    "import time"
   ]
  },
  {
   "cell_type": "markdown",
   "metadata": {},
   "source": [
    "### First, read in the similarity matrix. Not all movies have ratings, so we'll ignore the ones that are unrated."
   ]
  },
  {
   "cell_type": "code",
   "execution_count": 2,
   "metadata": {
    "collapsed": true
   },
   "outputs": [],
   "source": [
    "simDataFile = open(\"mvs.csv\", \"r\")\n",
    "simData = [ map(float,line.split(',')) for line in simDataFile ]"
   ]
  },
  {
   "cell_type": "code",
   "execution_count": 3,
   "metadata": {
    "collapsed": false
   },
   "outputs": [
    {
     "name": "stdout",
     "output_type": "stream",
     "text": [
      "10473  movies have ratings\n"
     ]
    }
   ],
   "source": [
    "print len(simData), ' movies have ratings'"
   ]
  },
  {
   "cell_type": "code",
   "execution_count": 4,
   "metadata": {
    "collapsed": false
   },
   "outputs": [],
   "source": [
    "simMat = dict()\n",
    "\n",
    "for sd in simData:\n",
    "    simMat[int(sd[0])] = sd[1:] / np.linalg.norm(sd[1:])"
   ]
  },
  {
   "cell_type": "code",
   "execution_count": 5,
   "metadata": {
    "collapsed": false
   },
   "outputs": [
    {
     "data": {
      "text/plain": [
       "0.75932462063717177"
      ]
     },
     "execution_count": 5,
     "metadata": {},
     "output_type": "execute_result"
    }
   ],
   "source": [
    "np.dot(simMat[1], simMat[4])"
   ]
  },
  {
   "cell_type": "markdown",
   "metadata": {},
   "source": [
    "### Now, read in the movies."
   ]
  },
  {
   "cell_type": "code",
   "execution_count": 6,
   "metadata": {
    "collapsed": true
   },
   "outputs": [],
   "source": [
    "movies = dict() # a category -> list_of_movies dict stored as integers\n",
    "\n",
    "# catID returns the index of a category of type string. catName returns the name of the category given its ID.\n",
    "catID = dict()\n",
    "catName = dict()\n",
    "\n",
    "# same as with cat\n",
    "movieID = dict()\n",
    "movieName = dict()"
   ]
  },
  {
   "cell_type": "code",
   "execution_count": 7,
   "metadata": {
    "collapsed": false
   },
   "outputs": [
    {
     "name": "stdout",
     "output_type": "stream",
     "text": [
      "we have 2000 movies\n"
     ]
    }
   ],
   "source": [
    "allData = open(\"movies.csv\", \"r\")\n",
    "\n",
    "# this first line contains header info\n",
    "allData.readline()\n",
    "\n",
    "numMovies = 0\n",
    "numCategories = 0\n",
    "\n",
    "while True:\n",
    "    line = allData.readline()\n",
    "    \n",
    "    if line == '':\n",
    "        break\n",
    "    \n",
    "    curMovieID = int(line.split(\",\", 1)[0])\n",
    "    curMovieName = (line.split(\",\", 1)[1]).rsplit(\",\", 1)[0]\n",
    "    curCategories = line.rsplit(\",\", 1)[1].rsplit(\"\\r\")[0].split(\"|\")\n",
    "    \n",
    "    if curMovieID not in simMat.keys():\n",
    "        continue\n",
    "    \n",
    "    # update catID, catName, movieID, movieName\n",
    "    movieID[curMovieName] = curMovieID\n",
    "    movieName[curMovieID] = curMovieName\n",
    "    \n",
    "    for cat in curCategories:\n",
    "        if not (cat in catID):\n",
    "            catID[cat] = numCategories\n",
    "            catName[numCategories] = cat\n",
    "            \n",
    "            numCategories = numCategories + 1\n",
    "            \n",
    "    for cat in curCategories:\n",
    "        if catID[cat] in movies:\n",
    "            movies[catID[cat]].append(movieID[curMovieName])\n",
    "        else:\n",
    "            movies[catID[cat]] = [movieID[curMovieName]]\n",
    "    \n",
    "    numMovies = numMovies + 1\n",
    "\n",
    "    # keep the data-set small for now\n",
    "    if numMovies == 2000:\n",
    "        break\n",
    "\n",
    "print \"we have\", numMovies, \"movies\""
   ]
  },
  {
   "cell_type": "code",
   "execution_count": 8,
   "metadata": {
    "collapsed": false
   },
   "outputs": [
    {
     "data": {
      "text/plain": [
       "[12, 22, 70, 92, 93, 152, 177, 183, 188, 196]"
      ]
     },
     "execution_count": 8,
     "metadata": {},
     "output_type": "execute_result"
    }
   ],
   "source": [
    "movies[catID['Horror']][:10]"
   ]
  },
  {
   "cell_type": "markdown",
   "metadata": {},
   "source": [
    "# Part II. Build the algorithm in Spark"
   ]
  },
  {
   "cell_type": "code",
   "execution_count": 9,
   "metadata": {
    "collapsed": true
   },
   "outputs": [],
   "source": [
    "import findspark\n",
    "import os\n",
    "\n",
    "findspark.init()\n",
    "import pyspark"
   ]
  },
  {
   "cell_type": "code",
   "execution_count": 10,
   "metadata": {
    "collapsed": false
   },
   "outputs": [],
   "source": [
    "sc = pyspark.SparkContext()"
   ]
  },
  {
   "cell_type": "code",
   "execution_count": 11,
   "metadata": {
    "collapsed": true
   },
   "outputs": [],
   "source": [
    "from novel import wrapper"
   ]
  },
  {
   "cell_type": "code",
   "execution_count": 12,
   "metadata": {
    "collapsed": false
   },
   "outputs": [
    {
     "name": "stdout",
     "output_type": "stream",
     "text": [
      "2000 19\n"
     ]
    }
   ],
   "source": [
    "print numMovies, numCategories"
   ]
  },
  {
   "cell_type": "code",
   "execution_count": 13,
   "metadata": {
    "collapsed": false
   },
   "outputs": [],
   "source": [
    "novel = wrapper(numMovies, numCategories, 7, 3, simMat, movies);"
   ]
  },
  {
   "cell_type": "code",
   "execution_count": 14,
   "metadata": {
    "collapsed": false
   },
   "outputs": [],
   "source": [
    "# start = time.time()\n",
    "# print sorted(novel(movieName.keys())), time.time() - start"
   ]
  },
  {
   "cell_type": "code",
   "execution_count": 15,
   "metadata": {
    "collapsed": false
   },
   "outputs": [
    {
     "name": "stdout",
     "output_type": "stream",
     "text": [
      "60.4492821693\n",
      "3969.80251817\n",
      "[335, 354, 415, 616, 688, 1342, 2120] 60.6553859711\n"
     ]
    }
   ],
   "source": [
    "start = time.time()\n",
    "\n",
    "allMovs = sc.parallelize(movieName.keys(), 4) \\\n",
    "    .mapPartitions(novel) \\\n",
    "    .collect()\n",
    "    \n",
    "print time.time() - start\n",
    "    \n",
    "goodMovs = novel(allMovs)\n",
    "\n",
    "print sorted(goodMovs), time.time() - start"
   ]
  },
  {
   "cell_type": "code",
   "execution_count": 16,
   "metadata": {
    "collapsed": false
   },
   "outputs": [],
   "source": [
    "# for mov in novel(goodMovs):\n",
    "#     print movieName[mov]"
   ]
  },
  {
   "cell_type": "code",
   "execution_count": null,
   "metadata": {
    "collapsed": true
   },
   "outputs": [],
   "source": []
  }
 ],
 "metadata": {
  "anaconda-cloud": {},
  "kernelspec": {
   "display_name": "Python [conda root]",
   "language": "python",
   "name": "conda-root-py"
  },
  "language_info": {
   "codemirror_mode": {
    "name": "ipython",
    "version": 2
   },
   "file_extension": ".py",
   "mimetype": "text/x-python",
   "name": "python",
   "nbconvert_exporter": "python",
   "pygments_lexer": "ipython2",
   "version": "2.7.12"
  }
 },
 "nbformat": 4,
 "nbformat_minor": 1
}
