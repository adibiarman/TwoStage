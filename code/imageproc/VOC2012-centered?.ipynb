{
 "cells": [
  {
   "cell_type": "code",
   "execution_count": 1,
   "metadata": {
    "collapsed": true
   },
   "outputs": [],
   "source": [
    "import xml.etree.ElementTree as ET\n",
    "import glob"
   ]
  },
  {
   "cell_type": "code",
   "execution_count": 2,
   "metadata": {
    "collapsed": true
   },
   "outputs": [],
   "source": [
    "import time\n",
    "import numpy as np"
   ]
  },
  {
   "cell_type": "code",
   "execution_count": 3,
   "metadata": {
    "collapsed": true
   },
   "outputs": [],
   "source": [
    "# we will work with totImages images\n",
    "totImages = 300"
   ]
  },
  {
   "cell_type": "code",
   "execution_count": 4,
   "metadata": {
    "collapsed": true
   },
   "outputs": [],
   "source": [
    "fn = glob.glob(\"VOC2012/Annotations/*\");"
   ]
  },
  {
   "cell_type": "code",
   "execution_count": 5,
   "metadata": {
    "collapsed": false
   },
   "outputs": [],
   "source": [
    "images = dict()\n",
    "cat = set()"
   ]
  },
  {
   "cell_type": "code",
   "execution_count": 6,
   "metadata": {
    "collapsed": false
   },
   "outputs": [
    {
     "name": "stdout",
     "output_type": "stream",
     "text": [
      "Done parsing in  0.215428113937  seconds\n"
     ]
    }
   ],
   "source": [
    "start = time.time()\n",
    "\n",
    "cnt = 0\n",
    "\n",
    "for f in fn:\n",
    "    cnt = cnt + 1\n",
    "    if cnt > totImages:\n",
    "        break\n",
    "    \n",
    "    tree = ET.parse(f)\n",
    "    root = tree.getroot()\n",
    "\n",
    "    curFile = \"\"\n",
    "    for child in root:\n",
    "        if child.tag == 'filename':\n",
    "            curFile = child.text\n",
    "    images[curFile] = []\n",
    "    \n",
    "    for child in root:\n",
    "        if child.tag == 'object':\n",
    "            for child2 in child:\n",
    "                if child2.tag == 'name':\n",
    "                    images[curFile].append(child2.text)\n",
    "                    cat.add(child2.text)\n",
    "                    \n",
    "print 'Done parsing in ', time.time() - start, \" seconds\""
   ]
  },
  {
   "cell_type": "code",
   "execution_count": 7,
   "metadata": {
    "collapsed": false
   },
   "outputs": [
    {
     "name": "stdout",
     "output_type": "stream",
     "text": [
      "['sheep', 'horse', 'bicycle', 'bottle', 'cow', 'sofa', 'dog', 'bus', 'cat', 'person', 'train', 'diningtable', 'aeroplane', 'car', 'pottedplant', 'tvmonitor', 'chair', 'bird', 'boat', 'motorbike']\n"
     ]
    }
   ],
   "source": [
    "cat = list(cat)\n",
    "print cat"
   ]
  },
  {
   "cell_type": "code",
   "execution_count": 8,
   "metadata": {
    "collapsed": false
   },
   "outputs": [
    {
     "data": {
      "text/plain": [
       "20"
      ]
     },
     "execution_count": 8,
     "metadata": {},
     "output_type": "execute_result"
    }
   ],
   "source": [
    "len(cat)"
   ]
  },
  {
   "cell_type": "code",
   "execution_count": 9,
   "metadata": {
    "collapsed": false
   },
   "outputs": [
    {
     "name": "stdout",
     "output_type": "stream",
     "text": [
      "['2007_002618.jpg', '2007_001872.jpg', '2007_003714.jpg', '2007_000925.jpg', '2007_000676.jpg']\n"
     ]
    }
   ],
   "source": [
    "catimg = dict()\n",
    "for curCat in cat:\n",
    "    catimg[curCat] = []\n",
    "\n",
    "for img in images:\n",
    "    for curCat in set(images[img]):\n",
    "        catimg[curCat].append(img)\n",
    "        \n",
    "print catimg['sheep'][:5]"
   ]
  },
  {
   "cell_type": "code",
   "execution_count": 10,
   "metadata": {
    "collapsed": false
   },
   "outputs": [
    {
     "name": "stdout",
     "output_type": "stream",
     "text": [
      "2007_004081.jpg ['cow', 'pottedplant']\n",
      "2007_004081.jpg [0 0 0 0 1 0 0 0 0 0 0 0 0 0 1 0 0 0 0 0]\n",
      "\n",
      "2007_001154.jpg ['sofa', 'pottedplant']\n",
      "2007_001154.jpg [0 0 0 0 0 1 0 0 0 0 0 0 0 0 1 0 0 0 0 0]\n",
      "\n",
      "2007_000645.jpg ['bird', 'bird']\n",
      "2007_000645.jpg [0 0 0 0 0 0 0 0 0 0 0 0 0 0 0 0 0 2 0 0]\n",
      "\n",
      "2007_002284.jpg ['pottedplant', 'pottedplant', 'pottedplant', 'pottedplant', 'pottedplant', 'pottedplant']\n",
      "2007_002284.jpg [0 0 0 0 0 0 0 0 0 0 0 0 0 0 6 0 0 0 0 0]\n",
      "\n",
      "2007_003861.jpg ['boat', 'boat']\n",
      "2007_003861.jpg [0 0 0 0 0 0 0 0 0 0 0 0 0 0 0 0 0 0 2 0]\n",
      "\n"
     ]
    }
   ],
   "source": [
    "featvec = images.copy()\n",
    "\n",
    "cnt = 0\n",
    "maxnrm = 0\n",
    "\n",
    "for img in images:\n",
    "    cnt = cnt + 1\n",
    "    if cnt <= 5:\n",
    "        print img, images[img]\n",
    "    \n",
    "    features = featvec[img]\n",
    "    \n",
    "    featvec[img] = [0 for i in range(len(cat))]\n",
    "    for f in features:\n",
    "        for j in range(len(cat)):\n",
    "            if cat[j] == f:\n",
    "                featvec[img][j] = featvec[img][j] + 1\n",
    "                break\n",
    "                \n",
    "    featvec[img] = np.array(featvec[img])\n",
    "    maxnrm = max(maxnrm, np.linalg.norm(featvec[img]))\n",
    "                \n",
    "    if cnt <= 5:\n",
    "        print img, featvec[img]\n",
    "        print \"\"\n",
    "        \n",
    "for fv in featvec:\n",
    "    featvec[fv] = featvec[fv] / maxnrm"
   ]
  },
  {
   "cell_type": "code",
   "execution_count": 11,
   "metadata": {
    "collapsed": true
   },
   "outputs": [],
   "source": [
    "n = len(images.keys())\n",
    "m = len(cat)\n",
    "l = 15\n",
    "k = 4"
   ]
  },
  {
   "cell_type": "code",
   "execution_count": 12,
   "metadata": {
    "collapsed": false
   },
   "outputs": [],
   "source": [
    "from novel import novel"
   ]
  },
  {
   "cell_type": "code",
   "execution_count": 13,
   "metadata": {
    "collapsed": false
   },
   "outputs": [
    {
     "name": "stdout",
     "output_type": "stream",
     "text": [
      "We obtained objective value  447.672980388  for set  ['2007_004092.jpg', '2007_003815.jpg', '2007_001901.jpg', '2007_004000.jpg', '2007_002378.jpg', '2007_003000.jpg', '2007_001594.jpg', '2007_001825.jpg', '2007_003201.jpg', '2007_000799.jpg', '2007_000068.jpg', '2007_002216.jpg', '2007_003451.jpg', '2007_002789.jpg', '2007_003848.jpg']\n",
      "365.304171085\n"
     ]
    }
   ],
   "source": [
    "start = time.time()\n",
    "myS = novel(l, k, featvec, catimg)\n",
    "print time.time() - start"
   ]
  },
  {
   "cell_type": "code",
   "execution_count": 14,
   "metadata": {
    "collapsed": false
   },
   "outputs": [
    {
     "name": "stdout",
     "output_type": "stream",
     "text": [
      "['2007_004092.jpg', '2007_003815.jpg', '2007_001901.jpg', '2007_004000.jpg', '2007_002378.jpg', '2007_003000.jpg', '2007_001594.jpg', '2007_001825.jpg', '2007_003201.jpg', '2007_000799.jpg', '2007_000068.jpg', '2007_002216.jpg', '2007_003451.jpg', '2007_002789.jpg', '2007_003848.jpg']\n"
     ]
    }
   ],
   "source": [
    "print myS"
   ]
  },
  {
   "cell_type": "code",
   "execution_count": 15,
   "metadata": {
    "collapsed": false
   },
   "outputs": [],
   "source": [
    "from greedy import greedy"
   ]
  },
  {
   "cell_type": "code",
   "execution_count": 16,
   "metadata": {
    "collapsed": false
   },
   "outputs": [
    {
     "name": "stdout",
     "output_type": "stream",
     "text": [
      "Converged after  13  iterations\n",
      "Obtained cost  444.709078295  for set  ['2007_002378.jpg', '2007_003000.jpg', '2007_001526.jpg', '2007_003169.jpg', '2007_003848.jpg', '2007_000170.jpg', '2007_001724.jpg', '2007_001733.jpg', '2007_004092.jpg', '2007_001698.jpg', '2007_004000.jpg', '2007_001901.jpg', '2007_003190.jpg', '2007_000799.jpg', '2007_001764.jpg']\n",
      "1.30396509171\n"
     ]
    }
   ],
   "source": [
    "start = time.time()\n",
    "greedyS = greedy(l, k, featvec, catimg)\n",
    "print time.time() - start"
   ]
  },
  {
   "cell_type": "code",
   "execution_count": null,
   "metadata": {
    "collapsed": true
   },
   "outputs": [],
   "source": []
  }
 ],
 "metadata": {
  "anaconda-cloud": {},
  "kernelspec": {
   "display_name": "Python [conda root]",
   "language": "python",
   "name": "conda-root-py"
  },
  "language_info": {
   "codemirror_mode": {
    "name": "ipython",
    "version": 2
   },
   "file_extension": ".py",
   "mimetype": "text/x-python",
   "name": "python",
   "nbconvert_exporter": "python",
   "pygments_lexer": "ipython2",
   "version": "2.7.12"
  }
 },
 "nbformat": 4,
 "nbformat_minor": 1
}
