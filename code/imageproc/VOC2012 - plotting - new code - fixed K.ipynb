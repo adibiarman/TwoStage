{
 "cells": [
  {
   "cell_type": "code",
   "execution_count": 1,
   "metadata": {
    "collapsed": true
   },
   "outputs": [],
   "source": [
    "import xml.etree.ElementTree as ET\n",
    "import glob"
   ]
  },
  {
   "cell_type": "code",
   "execution_count": 2,
   "metadata": {
    "collapsed": true
   },
   "outputs": [],
   "source": [
    "import time\n",
    "import math\n",
    "import numpy as np"
   ]
  },
  {
   "cell_type": "code",
   "execution_count": 3,
   "metadata": {
    "collapsed": true
   },
   "outputs": [],
   "source": [
    "import matplotlib.pyplot as plt"
   ]
  },
  {
   "cell_type": "code",
   "execution_count": 4,
   "metadata": {
    "collapsed": true
   },
   "outputs": [],
   "source": [
    "# we will work with totImages images\n",
    "totImages = 150"
   ]
  },
  {
   "cell_type": "code",
   "execution_count": 5,
   "metadata": {
    "collapsed": true
   },
   "outputs": [],
   "source": [
    "fn = glob.glob(\"VOC2012/Annotations/*\");"
   ]
  },
  {
   "cell_type": "code",
   "execution_count": 6,
   "metadata": {
    "collapsed": false
   },
   "outputs": [],
   "source": [
    "images = dict()\n",
    "cat = set()"
   ]
  },
  {
   "cell_type": "code",
   "execution_count": 7,
   "metadata": {
    "collapsed": false
   },
   "outputs": [
    {
     "name": "stdout",
     "output_type": "stream",
     "text": [
      "Done parsing in  0.112756967545  seconds\n"
     ]
    }
   ],
   "source": [
    "start = time.time()\n",
    "\n",
    "cnt = 0\n",
    "\n",
    "for f in fn:\n",
    "    cnt = cnt + 1\n",
    "    if cnt > totImages:\n",
    "        break\n",
    "    \n",
    "    tree = ET.parse(f)\n",
    "    root = tree.getroot()\n",
    "\n",
    "    curFile = \"\"\n",
    "    for child in root:\n",
    "        if child.tag == 'filename':\n",
    "            curFile = child.text\n",
    "    images[curFile] = []\n",
    "    \n",
    "    for child in root:\n",
    "        if child.tag == 'object':\n",
    "            for child2 in child:\n",
    "                if child2.tag == 'name':\n",
    "                    images[curFile].append(child2.text)\n",
    "                    cat.add(child2.text)\n",
    "                    \n",
    "print 'Done parsing in ', time.time() - start, \" seconds\""
   ]
  },
  {
   "cell_type": "code",
   "execution_count": 8,
   "metadata": {
    "collapsed": false
   },
   "outputs": [
    {
     "name": "stdout",
     "output_type": "stream",
     "text": [
      "['sheep', 'horse', 'bicycle', 'bottle', 'cow', 'sofa', 'dog', 'bus', 'cat', 'person', 'train', 'diningtable', 'aeroplane', 'car', 'pottedplant', 'tvmonitor', 'chair', 'bird', 'boat', 'motorbike']\n"
     ]
    }
   ],
   "source": [
    "cat = list(cat)\n",
    "print cat"
   ]
  },
  {
   "cell_type": "code",
   "execution_count": 9,
   "metadata": {
    "collapsed": false
   },
   "outputs": [
    {
     "data": {
      "text/plain": [
       "20"
      ]
     },
     "execution_count": 9,
     "metadata": {},
     "output_type": "execute_result"
    }
   ],
   "source": [
    "len(cat)"
   ]
  },
  {
   "cell_type": "code",
   "execution_count": 10,
   "metadata": {
    "collapsed": false
   },
   "outputs": [
    {
     "name": "stdout",
     "output_type": "stream",
     "text": [
      "['2007_001872.jpg', '2007_000925.jpg', '2007_000676.jpg', '2007_001733.jpg', '2007_000175.jpg']\n"
     ]
    }
   ],
   "source": [
    "catimg = dict()\n",
    "for curCat in cat:\n",
    "    catimg[curCat] = []\n",
    "\n",
    "for img in images:\n",
    "    for curCat in set(images[img]):\n",
    "        catimg[curCat].append(img)\n",
    "        \n",
    "print catimg['sheep'][:5]"
   ]
  },
  {
   "cell_type": "code",
   "execution_count": 11,
   "metadata": {
    "collapsed": false
   },
   "outputs": [
    {
     "name": "stdout",
     "output_type": "stream",
     "text": [
      "2007_001154.jpg ['sofa', 'pottedplant']\n",
      "2007_001154.jpg [0 0 0 0 0 1 0 0 0 0 0 0 0 0 1 0 0 0 0 0]\n",
      "\n",
      "2007_000645.jpg ['bird', 'bird']\n",
      "2007_000645.jpg [0 0 0 0 0 0 0 0 0 0 0 0 0 0 0 0 0 2 0 0]\n",
      "\n",
      "2007_000061.jpg ['boat', 'boat']\n",
      "2007_000061.jpg [0 0 0 0 0 0 0 0 0 0 0 0 0 0 0 0 0 0 2 0]\n",
      "\n",
      "2007_000847.jpg ['diningtable', 'person']\n",
      "2007_000847.jpg [0 0 0 0 0 0 0 0 0 1 0 1 0 0 0 0 0 0 0 0]\n",
      "\n",
      "2007_000129.jpg ['bicycle', 'bicycle', 'bicycle', 'person', 'person', 'person']\n",
      "2007_000129.jpg [0 0 3 0 0 0 0 0 0 3 0 0 0 0 0 0 0 0 0 0]\n",
      "\n"
     ]
    }
   ],
   "source": [
    "featvec = images.copy()\n",
    "\n",
    "cnt = 0\n",
    "\n",
    "for img in images:\n",
    "    cnt = cnt + 1\n",
    "    if cnt <= 5:\n",
    "        print img, images[img]\n",
    "    \n",
    "    features = featvec[img][:]\n",
    "    \n",
    "    featvec[img] = [0 for i in range(len(cat))]\n",
    "    for f in features:\n",
    "        for j in range(len(cat)):\n",
    "            if cat[j] == f:\n",
    "                featvec[img][j] = featvec[img][j] + 1\n",
    "                break\n",
    "                \n",
    "    featvec[img] = np.array(featvec[img])\n",
    "                \n",
    "    if cnt <= 5:\n",
    "        print img, featvec[img]\n",
    "        print \"\""
   ]
  },
  {
   "cell_type": "code",
   "execution_count": 12,
   "metadata": {
    "collapsed": false
   },
   "outputs": [],
   "source": [
    "# we will pick the exemplar such that max(nrm(v,v') < nrm(v, exemplar)). \n",
    "# taking the exemplar twice(or 3x, 4x) the longest vector should thus suffice\n",
    "exemplar = [0]\n",
    "for elem in featvec:\n",
    "    if np.linalg.norm(featvec[elem]) > np.linalg.norm(exemplar):\n",
    "        exemplar = featvec[elem][:]\n",
    "exemplar = exemplar * 0 # the above constraint should be satisfied?\n",
    "\n",
    "# compute a dictionary of norms and normdistances\n",
    "exempDist = featvec.copy()\n",
    "for elem in featvec:\n",
    "    exempDist[elem] = np.linalg.norm(featvec[elem] - exemplar)\n",
    "\n",
    "dist = dict()\n",
    "for el1 in featvec:\n",
    "    for el2 in featvec:\n",
    "        dist[(el1, el2)] = np.linalg.norm(featvec[el1] - featvec[el2])"
   ]
  },
  {
   "cell_type": "code",
   "execution_count": 13,
   "metadata": {
    "collapsed": true
   },
   "outputs": [],
   "source": [
    "n = len(images.keys())\n",
    "m = len(cat)\n",
    "k = 5"
   ]
  },
  {
   "cell_type": "code",
   "execution_count": 14,
   "metadata": {
    "collapsed": true
   },
   "outputs": [],
   "source": [
    "from replacementGreedy import replacementGreedy\n",
    "from localsearch import localsearch\n",
    "from greedysum import greedysum\n",
    "from greedymerge import greedymerge\n",
    "from greedyclustering import greedyclustering"
   ]
  },
  {
   "cell_type": "code",
   "execution_count": 15,
   "metadata": {
    "collapsed": false
   },
   "outputs": [
    {
     "name": "stdout",
     "output_type": "stream",
     "text": [
      "Local search value after initialization =  12.2190590205\n",
      "Intermediate cost at step  0  =  12.2190590205\n",
      "Local Search gives cost =  12.2190590205\n",
      "Greedy Sum gives cost =  12.2190590205\n",
      "Greedy Merge gives cost =  43.0660401087\n",
      "Size of S is  76\n",
      "\n",
      "Done for l =  5\n",
      "\n",
      "\n",
      "\n",
      "\n",
      "2007_000648.jpg ['person', 'person', 'person', 'person', 'bus', 'aeroplane', 'car']\n",
      "2007_001733.jpg ['sheep', 'sheep', 'sheep', 'sheep', 'sheep', 'sheep', 'sheep', 'sheep', 'sheep', 'sheep', 'sheep', 'sheep', 'sheep', 'sheep', 'sheep', 'sheep', 'sheep', 'sheep', 'sheep']\n",
      "2007_001901.jpg ['chair', 'chair', 'chair', 'diningtable', 'sofa']\n",
      "2007_001594.jpg ['sheep', 'sheep', 'sheep', 'sheep', 'sheep', 'person', 'dog']\n",
      "2007_001408.jpg ['bottle', 'person', 'bottle', 'person', 'person', 'pottedplant']\n",
      "2007_000793.jpg ['person', 'person', 'person', 'person', 'person', 'person', 'person', 'person', 'bicycle', 'bus']\n",
      "2007_001430.jpg ['diningtable', 'person', 'person', 'person', 'pottedplant', 'tvmonitor', 'pottedplant']\n",
      "Local search value after initialization =  15.4870461454\n",
      "Intermediate cost at step  0  =  15.4870461454\n",
      "Local Search gives cost =  15.4870461454\n",
      "Greedy Sum gives cost =  15.4870461454\n",
      "Greedy Merge gives cost =  43.0660401087\n",
      "Size of S is  76\n",
      "\n",
      "Done for l =  7\n",
      "\n",
      "\n",
      "\n",
      "\n",
      "Local search value after initialization =  19.3810286909\n",
      "Intermediate cost at step  0  =  19.3810286909\n",
      "Local Search gives cost =  19.3810286909\n",
      "Greedy Sum gives cost =  19.3680393581\n",
      "Greedy Merge gives cost =  43.0660401087\n",
      "Size of S is  76\n",
      "\n",
      "Done for l =  10\n",
      "\n",
      "\n",
      "\n",
      "\n",
      "Local search value after initialization =  23.4737785014\n",
      "Intermediate cost at step  0  =  23.4737785014\n",
      "Local Search gives cost =  23.4737785014\n",
      "Greedy Sum gives cost =  23.4308164962\n",
      "Greedy Merge gives cost =  43.0660401087\n",
      "Size of S is  76\n",
      "\n",
      "Done for l =  14\n",
      "\n",
      "\n",
      "\n",
      "\n",
      "Local search value after initialization =  26.0768217568\n",
      "Intermediate cost at step  0  =  26.0768217568\n",
      "Local Search gives cost =  26.0768217568\n",
      "Greedy Sum gives cost =  26.0193849281\n",
      "Greedy Merge gives cost =  43.0660401087\n",
      "Size of S is  76\n",
      "\n",
      "Done for l =  17\n",
      "\n",
      "\n",
      "\n",
      "\n",
      "Local search value after initialization =  28.488694076\n",
      "Intermediate cost at step  0  =  28.488694076\n",
      "Local Search gives cost =  28.488694076\n",
      "Greedy Sum gives cost =  28.4776680307\n",
      "Greedy Merge gives cost =  43.0660401087\n",
      "Size of S is  76\n",
      "\n",
      "Done for l =  20\n",
      "\n",
      "\n",
      "\n",
      "\n",
      "Local search value after initialization =  34.7764715421\n",
      "Intermediate cost at step  0  =  34.7764715421\n",
      "Local Search gives cost =  34.7764715421\n",
      "Greedy Sum gives cost =  34.7960679308\n",
      "Greedy Merge gives cost =  43.0660401087\n",
      "Size of S is  76\n",
      "\n",
      "Done for l =  30\n",
      "\n",
      "\n",
      "\n",
      "\n",
      "Local search value after initialization =  38.1418914627\n",
      "Intermediate cost at step  0  =  38.1418914627\n",
      "Local Search gives cost =  38.1418914627\n",
      "Greedy Sum gives cost =  37.7035898217\n",
      "Greedy Merge gives cost =  43.0660401087\n",
      "Size of S is  76\n",
      "\n",
      "Done for l =  40\n",
      "\n",
      "\n",
      "\n",
      "\n",
      "Local search value after initialization =  40.4956237258\n",
      "Intermediate cost at step  0  =  40.4956237258\n",
      "Local Search gives cost =  40.4956237258\n",
      "Greedy Sum gives cost =  39.5712291226\n",
      "Greedy Merge gives cost =  43.0660401087\n",
      "Size of S is  76\n",
      "\n",
      "Done for l =  50\n",
      "\n",
      "\n",
      "\n",
      "\n"
     ]
    }
   ],
   "source": [
    "solution = []\n",
    "runtime = []\n",
    "calls = []\n",
    "\n",
    "Lvalues = [k,7,10,14,17]\n",
    "for l in range(20,60,10):\n",
    "    Lvalues.append(l)\n",
    "\n",
    "for l in Lvalues:\n",
    "    rgTime = time.time()\n",
    "    rgS, rgCost, rgEvals = replacementGreedy(l, k, featvec, exempDist, dist, catimg)\n",
    "    rgTime = time.time() - rgTime\n",
    "    \n",
    "    if l == 7:\n",
    "#         print rgS\n",
    "        for img in rgS:\n",
    "            print img, images[img]\n",
    "    \n",
    "    lsTime = time.time()\n",
    "    lsS, lsCost, lsEvals = localsearch(l, k, featvec, exempDist, dist, catimg, 0.2)\n",
    "    lsTime = time.time() - lsTime\n",
    "    \n",
    "    gsTime = time.time()\n",
    "    gsS, gsCost, gsEvals = greedysum(l, k, featvec, exempDist, dist, catimg)\n",
    "    gsTime = time.time() - gsTime\n",
    "    \n",
    "    gmTime = time.time()\n",
    "    gmS, gmCost, gmEvals = greedymerge(l, k, featvec, exempDist, dist, catimg)\n",
    "    gmTime = time.time() - gmTime\n",
    "    \n",
    "#     clS, clCost, clEvals = greedyclustering(l, k, featvec, exempDist, dist, catimg)\n",
    "    \n",
    "    solution.append([rgCost, lsCost, gsCost, gmCost])\n",
    "    runtime.append([rgTime, lsTime, gsTime, gmTime])\n",
    "    calls.append([rgEvals, lsEvals, gsEvals, gmEvals])\n",
    "    \n",
    "    print \"\"\n",
    "    print \"Done for l = \", l\n",
    "    print \"\\n\\n\\n\""
   ]
  },
  {
   "cell_type": "code",
   "execution_count": 16,
   "metadata": {
    "collapsed": true
   },
   "outputs": [],
   "source": [
    "# store locally\n",
    "filename = open('../data/voc2012-K.txt', 'w')\n",
    "\n",
    "print>>filename, 'solution'\n",
    "for item in solution:\n",
    "    print>>filename,item[0],item[1],item[2],item[3]\n",
    "    \n",
    "print>>filename, 'runtime'\n",
    "for item in runtime:\n",
    "    print>>filename,item[0],item[1],item[2],item[3]\n",
    "    \n",
    "print>>filename, 'calls'\n",
    "for item in calls:\n",
    "    print>>filename,item[0],item[1],item[2],item[3]"
   ]
  },
  {
   "cell_type": "code",
   "execution_count": 20,
   "metadata": {
    "collapsed": false
   },
   "outputs": [],
   "source": [
    "plt.clf()\n",
    "\n",
    "ax = plt.subplot(111)\n",
    "\n",
    "fs = 17\n",
    "lfs=22\n",
    "\n",
    "# http://matplotlib.org/users/text_intro.html\n",
    "ax.set_xlabel('l', fontsize=lfs)\n",
    "ax.set_ylabel('Objective Value', fontsize=lfs)\n",
    "\n",
    "plt.ylim(10,45)\n",
    "plt.xlim(min(Lvalues), max(Lvalues))\n",
    "\n",
    "xticks = [min(Lvalues)]\n",
    "for l in range(10, max(Lvalues) + 10, 10):\n",
    "    xticks.append(l)\n",
    "\n",
    "ax.set_xticks(xticks)\n",
    "\n",
    "for tick in ax.xaxis.get_major_ticks():\n",
    "    tick.label.set_fontsize(fs) \n",
    "for tick in ax.yaxis.get_major_ticks():\n",
    "    tick.label.set_fontsize(fs) \n",
    "\n",
    "colors = ['ro', 'cs', 'b^', 'gv']\n",
    "labelNames = ['Replacement Greedy', 'Local Search', 'Greedy Sum', 'Greedy Merge']\n",
    "\n",
    "for ind in range(len(colors)-1, -1,-1):\n",
    "    vals = []\n",
    "    for i in range(len(solution)):\n",
    "        vals.append(solution[i][ind])\n",
    "    \n",
    "    if ind != 0:\n",
    "        plt.plot(Lvalues, vals, c = colors[ind][0], marker = colors[ind][1], linewidth=2, label = labelNames[ind])\n",
    "    else:\n",
    "        plt.plot(Lvalues, vals, 'r--', linewidth=4, label = labelNames[ind])\n",
    "\n",
    "    \n",
    "# http://matplotlib.org/1.3.0/examples/pylab_examples/legend_demo.html\n",
    "legend = ax.legend(loc='lower right')\n",
    "\n",
    "# Set the fontsize\n",
    "for label in legend.get_texts():\n",
    "    label.set_fontsize(fs)\n",
    "\n",
    "plt.savefig(\"../../writeup/images/voc2012-fixed-k\")\n",
    "\n",
    "plt.close()"
   ]
  },
  {
   "cell_type": "code",
   "execution_count": 21,
   "metadata": {
    "collapsed": false
   },
   "outputs": [],
   "source": [
    "plt.clf()\n",
    "\n",
    "ax = plt.subplot(111)\n",
    "\n",
    "# http://matplotlib.org/users/text_intro.html\n",
    "ax.set_xlabel('l', fontsize=lfs)\n",
    "ax.set_ylabel('Log(runtime)', fontsize=lfs)\n",
    "\n",
    "plt.ylim(-10,25)\n",
    "plt.xlim(min(Lvalues), max(Lvalues))\n",
    "\n",
    "xticks = [min(Lvalues)]\n",
    "for l in range(10, max(Lvalues) + 10, 10):\n",
    "    xticks.append(l)\n",
    "\n",
    "ax.set_xticks(xticks)\n",
    "\n",
    "for tick in ax.xaxis.get_major_ticks():\n",
    "    tick.label.set_fontsize(fs) \n",
    "for tick in ax.yaxis.get_major_ticks():\n",
    "    tick.label.set_fontsize(fs) \n",
    "\n",
    "colors = ['ro', 'cs', 'b^', 'gv']\n",
    "labelNames = ['Replacement Greedy', 'Local Search', 'Greedy Sum', 'Greedy Merge']\n",
    "\n",
    "for ind in range(len(colors)-1, -1,-1):\n",
    "    vals = []\n",
    "    for i in range(len(runtime)):\n",
    "        vals.append(math.log(runtime[i][ind], 2))\n",
    "        \n",
    "    if ind != 0:\n",
    "        plt.plot(Lvalues, vals, c = colors[ind][0], marker = colors[ind][1], linewidth=2, label = labelNames[ind])\n",
    "    else:\n",
    "        plt.plot(Lvalues, vals, 'r--', linewidth=4, label = labelNames[ind])\n",
    "    \n",
    "# http://matplotlib.org/1.3.0/examples/pylab_examples/legend_demo.html\n",
    "legend = ax.legend(loc='upper right')\n",
    "\n",
    "# Set the fontsize\n",
    "for label in legend.get_texts():\n",
    "    label.set_fontsize(fs)\n",
    "\n",
    "plt.savefig(\"../../writeup/images/voc2012-runtime-fixed-k\")\n",
    "\n",
    "plt.close()"
   ]
  },
  {
   "cell_type": "code",
   "execution_count": null,
   "metadata": {
    "collapsed": true
   },
   "outputs": [],
   "source": []
  }
 ],
 "metadata": {
  "anaconda-cloud": {},
  "kernelspec": {
   "display_name": "Python [conda root]",
   "language": "python",
   "name": "conda-root-py"
  },
  "language_info": {
   "codemirror_mode": {
    "name": "ipython",
    "version": 2
   },
   "file_extension": ".py",
   "mimetype": "text/x-python",
   "name": "python",
   "nbconvert_exporter": "python",
   "pygments_lexer": "ipython2",
   "version": "2.7.10"
  }
 },
 "nbformat": 4,
 "nbformat_minor": 1
}
