{
 "cells": [
  {
   "cell_type": "code",
   "execution_count": 1,
   "metadata": {
    "collapsed": true
   },
   "outputs": [],
   "source": [
    "import xml.etree.ElementTree as ET\n",
    "import glob"
   ]
  },
  {
   "cell_type": "code",
   "execution_count": 2,
   "metadata": {
    "collapsed": true
   },
   "outputs": [],
   "source": [
    "import time\n",
    "import numpy as np"
   ]
  },
  {
   "cell_type": "code",
   "execution_count": 3,
   "metadata": {
    "collapsed": true
   },
   "outputs": [],
   "source": [
    "# we will work with totImages images\n",
    "totImages = 100"
   ]
  },
  {
   "cell_type": "code",
   "execution_count": 4,
   "metadata": {
    "collapsed": true
   },
   "outputs": [],
   "source": [
    "fn = glob.glob(\"VOC2012/Annotations/*\");"
   ]
  },
  {
   "cell_type": "code",
   "execution_count": 5,
   "metadata": {
    "collapsed": false
   },
   "outputs": [],
   "source": [
    "images = dict()\n",
    "cat = set()"
   ]
  },
  {
   "cell_type": "code",
   "execution_count": 6,
   "metadata": {
    "collapsed": false
   },
   "outputs": [
    {
     "name": "stdout",
     "output_type": "stream",
     "text": [
      "Done parsing in  0.0849359035492  seconds\n"
     ]
    }
   ],
   "source": [
    "start = time.time()\n",
    "\n",
    "cnt = 0\n",
    "\n",
    "for f in fn:\n",
    "    cnt = cnt + 1\n",
    "    if cnt > totImages:\n",
    "        break\n",
    "    \n",
    "    tree = ET.parse(f)\n",
    "    root = tree.getroot()\n",
    "\n",
    "    curFile = \"\"\n",
    "    for child in root:\n",
    "        if child.tag == 'filename':\n",
    "            curFile = child.text\n",
    "    images[curFile] = []\n",
    "    \n",
    "    for child in root:\n",
    "        if child.tag == 'object':\n",
    "            for child2 in child:\n",
    "                if child2.tag == 'name':\n",
    "                    images[curFile].append(child2.text)\n",
    "                    cat.add(child2.text)\n",
    "                    \n",
    "print 'Done parsing in ', time.time() - start, \" seconds\""
   ]
  },
  {
   "cell_type": "code",
   "execution_count": 7,
   "metadata": {
    "collapsed": false
   },
   "outputs": [
    {
     "name": "stdout",
     "output_type": "stream",
     "text": [
      "['sheep', 'horse', 'bicycle', 'bottle', 'cow', 'sofa', 'dog', 'bus', 'cat', 'person', 'train', 'diningtable', 'aeroplane', 'car', 'pottedplant', 'tvmonitor', 'chair', 'bird', 'boat', 'motorbike']\n"
     ]
    }
   ],
   "source": [
    "cat = list(cat)\n",
    "print cat"
   ]
  },
  {
   "cell_type": "code",
   "execution_count": 8,
   "metadata": {
    "collapsed": false
   },
   "outputs": [
    {
     "data": {
      "text/plain": [
       "20"
      ]
     },
     "execution_count": 8,
     "metadata": {},
     "output_type": "execute_result"
    }
   ],
   "source": [
    "len(cat)"
   ]
  },
  {
   "cell_type": "code",
   "execution_count": 9,
   "metadata": {
    "collapsed": false
   },
   "outputs": [
    {
     "name": "stdout",
     "output_type": "stream",
     "text": [
      "['2007_000925.jpg', '2007_000676.jpg', '2007_000175.jpg', '2007_001416.jpg']\n"
     ]
    }
   ],
   "source": [
    "catimg = dict()\n",
    "for curCat in cat:\n",
    "    catimg[curCat] = []\n",
    "\n",
    "for img in images:\n",
    "    for curCat in set(images[img]):\n",
    "        catimg[curCat].append(img)\n",
    "        \n",
    "print catimg['sheep'][:5]"
   ]
  },
  {
   "cell_type": "code",
   "execution_count": 10,
   "metadata": {
    "collapsed": false
   },
   "outputs": [
    {
     "name": "stdout",
     "output_type": "stream",
     "text": [
      "2007_001154.jpg ['sofa', 'pottedplant']\n",
      "2007_001154.jpg [0 0 0 0 0 1 0 0 0 0 0 0 0 0 1 0 0 0 0 0]\n",
      "\n",
      "2007_000645.jpg ['bird', 'bird']\n",
      "2007_000645.jpg [0 0 0 0 0 0 0 0 0 0 0 0 0 0 0 0 0 2 0 0]\n",
      "\n",
      "2007_000061.jpg ['boat', 'boat']\n",
      "2007_000061.jpg [0 0 0 0 0 0 0 0 0 0 0 0 0 0 0 0 0 0 2 0]\n",
      "\n",
      "2007_000847.jpg ['diningtable', 'person']\n",
      "2007_000847.jpg [0 0 0 0 0 0 0 0 0 1 0 1 0 0 0 0 0 0 0 0]\n",
      "\n",
      "2007_000129.jpg ['bicycle', 'bicycle', 'bicycle', 'person', 'person', 'person']\n",
      "2007_000129.jpg [0 0 3 0 0 0 0 0 0 3 0 0 0 0 0 0 0 0 0 0]\n",
      "\n"
     ]
    }
   ],
   "source": [
    "featvec = images.copy()\n",
    "\n",
    "cnt = 0\n",
    "\n",
    "for img in images:\n",
    "    cnt = cnt + 1\n",
    "    if cnt <= 5:\n",
    "        print img, images[img]\n",
    "    \n",
    "    features = featvec[img]\n",
    "    \n",
    "    featvec[img] = [0 for i in range(len(cat))]\n",
    "    for f in features:\n",
    "        for j in range(len(cat)):\n",
    "            if cat[j] == f:\n",
    "                featvec[img][j] = featvec[img][j] + 1\n",
    "                break\n",
    "                \n",
    "    featvec[img] = np.array(featvec[img])\n",
    "                \n",
    "    if cnt <= 5:\n",
    "        print img, featvec[img]\n",
    "        print \"\""
   ]
  },
  {
   "cell_type": "code",
   "execution_count": 11,
   "metadata": {
    "collapsed": false
   },
   "outputs": [],
   "source": [
    "# compute a dictionary of norms and normdistances\n",
    "nrm = featvec.copy()\n",
    "for elem in nrm:\n",
    "    nrm[elem] = np.linalg.norm(nrm[elem])\n",
    "\n",
    "nrmdist = dict()\n",
    "for el1 in featvec:\n",
    "    for el2 in featvec:\n",
    "        nrmdist[(el1, el2)] = np.linalg.norm(featvec[el1] - featvec[el2])"
   ]
  },
  {
   "cell_type": "code",
   "execution_count": 12,
   "metadata": {
    "collapsed": true
   },
   "outputs": [],
   "source": [
    "n = len(images.keys())\n",
    "m = len(cat)\n",
    "l = 8\n",
    "k = 5"
   ]
  },
  {
   "cell_type": "code",
   "execution_count": 13,
   "metadata": {
    "collapsed": true
   },
   "outputs": [],
   "source": [
    "from localsearch import localsearch\n",
    "from greedysum import greedysum\n",
    "from greedymerge import greedymerge\n",
    "from novel import novel\n",
    "from greedyclustering import greedyclustering"
   ]
  },
  {
   "cell_type": "code",
   "execution_count": 14,
   "metadata": {
    "collapsed": false
   },
   "outputs": [
    {
     "name": "stdout",
     "output_type": "stream",
     "text": [
      "Local search value after initialization =  10.2745086361\n",
      "Intermediate cost at step  0  =  11.2652552513\n",
      "Intermediate cost at step  1  =  12.0168685507\n",
      "Intermediate cost at step  2  =  12.9882573234\n",
      "Intermediate cost at step  3  =  13.5147128106\n",
      "Intermediate cost at step  4  =  14.0853665951\n",
      "Intermediate cost at step  5  =  14.4879906615\n",
      "Intermediate cost at step  6  =  14.4879906615\n",
      "Local Search gives cost =  14.4879906615\n",
      "Greedy Sum gives cost =  14.6838663164\n",
      "Greedy Merge gives cost =  43.5473737149\n",
      "Size of S is  67\n",
      "We obtained objective value  14.6838663164  for set  ['2007_000648.jpg', '2007_001027.jpg', '2007_000727.jpg', '2007_001423.jpg', '2007_000793.jpg']\n",
      "Converged after  9  iterations\n",
      "Our cluster set has  5  elements\n",
      "They are  ['2007_000804.jpg', '2007_001526.jpg', '2007_001423.jpg', '2007_001416.jpg', '2007_000243.jpg']\n",
      "\n",
      "Obtained cost  12.2465269816  for set  ['2007_000804.jpg', '2007_001526.jpg', '2007_001423.jpg', '2007_001416.jpg', '2007_000243.jpg']\n",
      "\n",
      "Done for l =  5\n",
      "\n",
      "\n",
      "\n",
      "\n",
      "Local search value after initialization =  15.9913105318\n",
      "Intermediate cost at step  0  =  16.6675822157\n",
      "Intermediate cost at step  1  =  17.1739096374\n",
      "Intermediate cost at step  2  =  17.7800622122\n",
      "Intermediate cost at step  3  =  18.8670317914\n",
      "Intermediate cost at step  4  =  19.4812591462\n",
      "Intermediate cost at step  5  =  19.9624709699\n",
      "Intermediate cost at step  6  =  20.1751688412\n",
      "Intermediate cost at step  7  =  20.1751688412\n",
      "Local Search gives cost =  20.1751688412\n",
      "Greedy Sum gives cost =  21.3059573553\n",
      "Greedy Merge gives cost =  43.5473737149\n",
      "Size of S is  67\n",
      "We obtained objective value  21.3059573553  for set  ['2007_000648.jpg', '2007_001027.jpg', '2007_000727.jpg', '2007_001423.jpg', '2007_000793.jpg', '2007_001430.jpg', '2007_001416.jpg', '2007_000661.jpg', '2007_001299.jpg', '2007_000663.jpg']\n",
      "Converged after  10  iterations\n",
      "Our cluster set has  10  elements\n",
      "They are  ['2007_000720.jpg', '2007_000572.jpg', '2007_000243.jpg', '2007_001526.jpg', '2007_000061.jpg', '2007_000727.jpg', '2007_001299.jpg', '2007_001423.jpg', '2007_000804.jpg', '2007_001321.jpg']\n",
      "\n",
      "Obtained cost  16.8772737504  for set  ['2007_000720.jpg', '2007_000572.jpg', '2007_000243.jpg', '2007_001526.jpg', '2007_000061.jpg', '2007_000727.jpg', '2007_001299.jpg', '2007_001423.jpg', '2007_000804.jpg', '2007_001321.jpg']\n",
      "\n",
      "Done for l =  10\n",
      "\n",
      "\n",
      "\n",
      "\n",
      "Local search value after initialization =  18.2388579556\n",
      "Intermediate cost at step  0  =  18.3719897983\n",
      "Intermediate cost at step  1  =  18.9430894864\n",
      "Intermediate cost at step  2  =  19.5858498244\n",
      "Intermediate cost at step  3  =  20.0052076669\n",
      "Intermediate cost at step  4  =  20.6925720653\n",
      "Intermediate cost at step  5  =  20.9697080461\n",
      "Intermediate cost at step  6  =  21.1214723772\n",
      "Intermediate cost at step  7  =  21.6925720653\n",
      "Intermediate cost at step  8  =  21.9476023076\n",
      "Intermediate cost at step  9  =  22.0907883338\n",
      "Intermediate cost at step  10  =  22.6618880219\n",
      "Intermediate cost at step  11  =  22.9118880219\n",
      "Intermediate cost at step  12  =  23.1789212329\n",
      "Intermediate cost at step  13  =  23.3407883338\n",
      "Intermediate cost at step  14  =  23.9118880219\n",
      "Intermediate cost at step  15  =  24.1789212329\n",
      "Intermediate cost at step  16  =  24.3407883338\n",
      "Intermediate cost at step  17  =  24.4925301794\n",
      "Intermediate cost at step  18  =  24.7659830969\n",
      "Intermediate cost at step  19  =  25.0715222371\n",
      "Intermediate cost at step  20  =  25.3285631716\n",
      "Intermediate cost at step  21  =  25.500422549\n",
      "Intermediate cost at step  22  =  25.6521643945\n",
      "Intermediate cost at step  23  =  25.9156250356\n",
      "Intermediate cost at step  24  =  26.2310240458\n",
      "Intermediate cost at step  25  =  26.4116662033\n",
      "Intermediate cost at step  26  =  26.6751268443\n",
      "Intermediate cost at step  27  =  27.0075935018\n",
      "Intermediate cost at step  28  =  27.1217772935\n",
      "Intermediate cost at step  29  =  27.2936366709\n",
      "Intermediate cost at step  30  =  27.4453785164\n",
      "Intermediate cost at step  31  =  27.6464623485\n",
      "Intermediate cost at step  32  =  27.8647363589\n",
      "Intermediate cost at step  33  =  28.0453785164\n",
      "Intermediate cost at step  34  =  28.2464623485\n",
      "Intermediate cost at step  35  =  28.503503283\n",
      "Intermediate cost at step  36  =  28.6753626604\n",
      "Intermediate cost at step  37  =  28.8271045059\n",
      "Intermediate cost at step  38  =  29.0464623485\n",
      "Intermediate cost at step  39  =  29.2425836376\n",
      "Intermediate cost at step  40  =  29.6389670914\n",
      "Intermediate cost at step  41  =  29.6389670914\n",
      "Local Search gives cost =  29.6389670914\n",
      "Greedy Sum gives cost =  30.1720607389\n",
      "Greedy Merge gives cost =  43.5473737149\n",
      "Size of S is  67\n",
      "We obtained objective value  30.1729985604  for set  ['2007_000648.jpg', '2007_001027.jpg', '2007_000727.jpg', '2007_001423.jpg', '2007_000793.jpg', '2007_001430.jpg', '2007_001416.jpg', '2007_000661.jpg', '2007_001299.jpg', '2007_000663.jpg', '2007_001408.jpg', '2007_000364.jpg', '2007_000645.jpg', '2007_000129.jpg', '2007_001185.jpg', '2007_000061.jpg', '2007_000783.jpg', '2007_000123.jpg', '2007_000720.jpg', '2007_000528.jpg']\n",
      "Converged after  5  iterations\n",
      "Our cluster set has  20  elements\n",
      "They are  ['2007_000830.jpg', '2007_000243.jpg', '2007_000572.jpg', '2007_000645.jpg', '2007_001288.jpg', '2007_000676.jpg', '2007_000061.jpg', '2007_000123.jpg', '2007_000727.jpg', '2007_000528.jpg', '2007_000346.jpg', '2007_001423.jpg', '2007_000129.jpg', '2007_000170.jpg', '2007_000452.jpg', '2007_001284.jpg', '2007_001299.jpg', '2007_000720.jpg', '2007_001340.jpg', '2007_001154.jpg']\n",
      "\n",
      "Obtained cost  25.3618586427  for set  ['2007_000830.jpg', '2007_000243.jpg', '2007_000572.jpg', '2007_000645.jpg', '2007_001288.jpg', '2007_000676.jpg', '2007_000061.jpg', '2007_000123.jpg', '2007_000727.jpg', '2007_000528.jpg', '2007_000346.jpg', '2007_001423.jpg', '2007_000129.jpg', '2007_000170.jpg', '2007_000452.jpg', '2007_001284.jpg', '2007_001299.jpg', '2007_000720.jpg', '2007_001340.jpg', '2007_001154.jpg']\n",
      "\n",
      "Done for l =  20\n",
      "\n",
      "\n",
      "\n",
      "\n",
      "Local search value after initialization =  23.3204334655\n",
      "Intermediate cost at step  0  =  24.1410868086\n",
      "Intermediate cost at step  1  =  24.6550902137\n",
      "Intermediate cost at step  2  =  25.26731908\n",
      "Intermediate cost at step  3  =  25.6866769225\n",
      "Intermediate cost at step  4  =  26.2571350516\n",
      "Intermediate cost at step  5  =  26.424213782\n",
      "Intermediate cost at step  6  =  26.654251639\n",
      "Intermediate cost at step  7  =  27.2571350516\n",
      "Intermediate cost at step  8  =  27.5646430252\n",
      "Intermediate cost at step  9  =  27.6081915412\n",
      "Intermediate cost at step  10  =  27.8239419241\n",
      "Intermediate cost at step  11  =  28.0074674942\n",
      "Intermediate cost at step  12  =  28.2689593018\n",
      "Intermediate cost at step  13  =  28.5863271454\n",
      "Intermediate cost at step  14  =  28.7676933499\n",
      "Intermediate cost at step  15  =  28.9834437329\n",
      "Intermediate cost at step  16  =  29.1669693029\n",
      "Intermediate cost at step  17  =  29.4284611105\n",
      "Intermediate cost at step  18  =  29.8363271454\n",
      "Intermediate cost at step  19  =  30.0176933499\n",
      "Intermediate cost at step  20  =  30.2334437329\n",
      "Intermediate cost at step  21  =  30.4169693029\n",
      "Intermediate cost at step  22  =  30.6784611105\n",
      "Intermediate cost at step  23  =  30.8455398409\n",
      "Intermediate cost at step  24  =  31.0755776979\n",
      "Intermediate cost at step  25  =  31.259103268\n",
      "Intermediate cost at step  26  =  31.4141633709\n",
      "Intermediate cost at step  27  =  31.6784611105\n",
      "Intermediate cost at step  28  =  31.831967626\n",
      "Intermediate cost at step  29  =  31.987027729\n",
      "Intermediate cost at step  30  =  32.1676698864\n",
      "Intermediate cost at step  31  =  32.387027729\n",
      "Intermediate cost at step  32  =  32.504026308\n",
      "Intermediate cost at step  33  =  32.7962827718\n",
      "Intermediate cost at step  34  =  33.0823259409\n",
      "Intermediate cost at step  35  =  33.2340677864\n",
      "Intermediate cost at step  36  =  33.4093000675\n",
      "Intermediate cost at step  37  =  33.589942225\n",
      "Intermediate cost at step  38  =  33.7570209554\n",
      "Intermediate cost at step  39  =  34.0188425369\n",
      "Intermediate cost at step  40  =  34.208989844\n",
      "Intermediate cost at step  41  =  34.3760685744\n",
      "Intermediate cost at step  42  =  34.637890156\n",
      "Intermediate cost at step  43  =  34.8049688863\n",
      "Intermediate cost at step  44  =  35.0419511738\n",
      "Intermediate cost at step  45  =  35.2090299042\n",
      "Intermediate cost at step  46  =  35.5230763981\n",
      "Intermediate cost at step  47  =  35.6207074711\n",
      "Intermediate cost at step  48  =  35.7510177162\n",
      "Intermediate cost at step  49  =  35.9192636676\n",
      "Intermediate cost at step  50  =  35.9192636676\n",
      "Local Search gives cost =  35.9192636676\n",
      "Greedy Sum gives cost =  36.2035747243\n",
      "Greedy Merge gives cost =  43.5473737149\n",
      "Size of S is  67\n",
      "We obtained objective value  36.2035747243  for set  ['2007_000648.jpg', '2007_001027.jpg', '2007_000727.jpg', '2007_001423.jpg', '2007_000793.jpg', '2007_001430.jpg', '2007_001416.jpg', '2007_000661.jpg', '2007_001299.jpg', '2007_000663.jpg', '2007_001408.jpg', '2007_000364.jpg', '2007_000645.jpg', '2007_000129.jpg', '2007_001185.jpg', '2007_000061.jpg', '2007_000783.jpg', '2007_000123.jpg', '2007_000720.jpg', '2007_000528.jpg', '2007_000676.jpg', '2007_000762.jpg', '2007_000243.jpg', '2007_000515.jpg', '2007_001149.jpg', '2007_000830.jpg', '2007_001340.jpg', '2007_001073.jpg', '2007_000068.jpg', '2007_000452.jpg']\n",
      "Converged after  8  iterations\n",
      "Our cluster set has  28  elements\n",
      "They are  ['2007_000830.jpg', '2007_000243.jpg', '2007_001408.jpg', '2007_001288.jpg', '2007_000061.jpg', '2007_001416.jpg', '2007_001340.jpg', '2007_001185.jpg', '2007_001154.jpg', '2007_000783.jpg', '2007_001439.jpg', '2007_000720.jpg', '2007_000645.jpg', '2007_000123.jpg', '2007_001423.jpg', '2007_000452.jpg', '2007_001284.jpg', '2007_000364.jpg', '2007_001073.jpg', '2007_000187.jpg', '2007_000423.jpg', '2007_000727.jpg', '2007_000528.jpg', '2007_000332.jpg', '2007_000999.jpg', '2007_000042.jpg', '2007_000464.jpg', '2007_001321.jpg']\n",
      "\n",
      "Obtained cost  29.6298494729  for set  ['2007_000830.jpg', '2007_000243.jpg', '2007_001408.jpg', '2007_001288.jpg', '2007_000061.jpg', '2007_001416.jpg', '2007_001340.jpg', '2007_001185.jpg', '2007_001154.jpg', '2007_000783.jpg', '2007_001439.jpg', '2007_000720.jpg', '2007_000645.jpg', '2007_000123.jpg', '2007_001423.jpg', '2007_000452.jpg', '2007_001284.jpg', '2007_000364.jpg', '2007_001073.jpg', '2007_000187.jpg', '2007_000423.jpg', '2007_000727.jpg', '2007_000528.jpg', '2007_000332.jpg', '2007_000999.jpg', '2007_000042.jpg', '2007_000464.jpg', '2007_001321.jpg']\n",
      "\n",
      "Done for l =  30\n",
      "\n",
      "\n",
      "\n",
      "\n",
      "Local search value after initialization =  27.6677921456\n",
      "Intermediate cost at step  0  =  28.6276866094\n",
      "Intermediate cost at step  1  =  29.1266327884\n",
      "Intermediate cost at step  2  =  29.2374060228\n",
      "Intermediate cost at step  3  =  29.527511559\n",
      "Intermediate cost at step  4  =  30.1405926513\n",
      "Intermediate cost at step  5  =  30.4694929632\n",
      "Intermediate cost at step  6  =  30.5691640799\n",
      "Intermediate cost at step  7  =  31.0025214638\n",
      "Intermediate cost at step  8  =  31.3243169116\n",
      "Intermediate cost at step  9  =  31.6128187396\n",
      "Intermediate cost at step  10  =  31.9444740574\n",
      "Intermediate cost at step  11  =  32.1355566808\n",
      "Intermediate cost at step  12  =  32.2352277974\n",
      "Intermediate cost at step  13  =  32.6345028599\n",
      "Intermediate cost at step  14  =  32.9437848684\n",
      "Intermediate cost at step  15  =  33.2726851803\n",
      "Intermediate cost at step  16  =  33.372356297\n",
      "Intermediate cost at step  17  =  33.7716313594\n",
      "Intermediate cost at step  18  =  34.1005316713\n",
      "Intermediate cost at step  19  =  34.200202788\n",
      "Intermediate cost at step  20  =  34.3109760223\n",
      "Intermediate cost at step  21  =  34.6445299807\n",
      "Intermediate cost at step  22  =  34.9734302926\n",
      "Intermediate cost at step  23  =  35.0731014093\n",
      "Intermediate cost at step  24  =  35.1838746436\n",
      "Intermediate cost at step  25  =  35.2859051525\n",
      "Intermediate cost at step  26  =  35.4573337239\n",
      "Intermediate cost at step  27  =  35.8862340359\n",
      "Intermediate cost at step  28  =  36.076381343\n",
      "Intermediate cost at step  29  =  36.2191953783\n",
      "Intermediate cost at step  30  =  36.3278250224\n",
      "Intermediate cost at step  31  =  36.6551280325\n",
      "Intermediate cost at step  32  =  36.8831047388\n",
      "Intermediate cost at step  33  =  37.1443086137\n",
      "Intermediate cost at step  34  =  37.2443086137\n",
      "Intermediate cost at step  35  =  37.3593679366\n",
      "Intermediate cost at step  36  =  37.4665308359\n",
      "Intermediate cost at step  37  =  37.6111890347\n",
      "Intermediate cost at step  38  =  37.8593679366\n",
      "Intermediate cost at step  39  =  37.9716473306\n",
      "Intermediate cost at step  40  =  38.1112978028\n",
      "Intermediate cost at step  41  =  38.2500002276\n",
      "Intermediate cost at step  42  =  38.5166668942\n",
      "Intermediate cost at step  43  =  38.6500002276\n",
      "Intermediate cost at step  44  =  38.7575689881\n",
      "Intermediate cost at step  45  =  38.9454450481\n",
      "Intermediate cost at step  46  =  39.0121117147\n",
      "Intermediate cost at step  47  =  39.1189818033\n",
      "Intermediate cost at step  48  =  39.18564847\n",
      "Intermediate cost at step  49  =  39.340722878\n",
      "Intermediate cost at step  50  =  39.4523151366\n",
      "Intermediate cost at step  51  =  39.6073895447\n",
      "Intermediate cost at step  52  =  39.6759219344\n",
      "Intermediate cost at step  53  =  39.7380294224\n",
      "Intermediate cost at step  54  =  39.7919976763\n",
      "Intermediate cost at step  55  =  39.8713627557\n",
      "Intermediate cost at step  56  =  39.8713627557\n",
      "Local Search gives cost =  39.8713627557\n",
      "Greedy Sum gives cost =  39.4139416688\n",
      "Greedy Merge gives cost =  43.5473737149\n",
      "Size of S is  67\n",
      "We obtained objective value  39.9805025302  for set  ['2007_000648.jpg', '2007_001027.jpg', '2007_000727.jpg', '2007_001423.jpg', '2007_000793.jpg', '2007_001430.jpg', '2007_001416.jpg', '2007_000661.jpg', '2007_001299.jpg', '2007_000663.jpg', '2007_001408.jpg', '2007_000364.jpg', '2007_000645.jpg', '2007_000129.jpg', '2007_001185.jpg', '2007_000061.jpg', '2007_000783.jpg', '2007_000123.jpg', '2007_000720.jpg', '2007_000528.jpg', '2007_000676.jpg', '2007_000762.jpg', '2007_000243.jpg', '2007_000515.jpg', '2007_001149.jpg', '2007_000830.jpg', '2007_001340.jpg', '2007_001073.jpg', '2007_000068.jpg', '2007_000452.jpg', '2007_000187.jpg', '2007_000529.jpg', '2007_001311.jpg', '2007_001288.jpg', '2007_000768.jpg', '2007_000480.jpg', '2007_000733.jpg', '2007_000822.jpg', '2007_001239.jpg', '2007_000904.jpg']\n",
      "Converged after  5  iterations\n",
      "Our cluster set has  31  elements\n",
      "They are  ['2007_000423.jpg', '2007_000243.jpg', '2007_001408.jpg', '2007_001299.jpg', '2007_001416.jpg', '2007_000528.jpg', '2007_001154.jpg', '2007_000783.jpg', '2007_001439.jpg', '2007_000720.jpg', '2007_000733.jpg', '2007_000645.jpg', '2007_000123.jpg', '2007_001423.jpg', '2007_000452.jpg', '2007_000830.jpg', '2007_000676.jpg', '2007_001284.jpg', '2007_000364.jpg', '2007_000876.jpg', '2007_001149.jpg', '2007_001073.jpg', '2007_000187.jpg', '2007_001430.jpg', '2007_001239.jpg', '2007_000491.jpg', '2007_000727.jpg', '2007_001185.jpg', '2007_000332.jpg', '2007_000925.jpg', '2007_001321.jpg']\n",
      "\n",
      "Obtained cost  31.2059552573  for set  ['2007_000423.jpg', '2007_000243.jpg', '2007_001408.jpg', '2007_001299.jpg', '2007_001416.jpg', '2007_000528.jpg', '2007_001154.jpg', '2007_000783.jpg', '2007_001439.jpg', '2007_000720.jpg', '2007_000733.jpg', '2007_000645.jpg', '2007_000123.jpg', '2007_001423.jpg', '2007_000452.jpg', '2007_000830.jpg', '2007_000676.jpg', '2007_001284.jpg', '2007_000364.jpg', '2007_000876.jpg', '2007_001149.jpg', '2007_001073.jpg', '2007_000187.jpg', '2007_001430.jpg', '2007_001239.jpg', '2007_000491.jpg', '2007_000727.jpg', '2007_001185.jpg', '2007_000332.jpg', '2007_000925.jpg', '2007_001321.jpg']\n",
      "\n",
      "Done for l =  40\n",
      "\n",
      "\n",
      "\n",
      "\n",
      "Local search value after initialization =  30.4558105012\n",
      "Intermediate cost at step  0  =  31.415704965\n",
      "Intermediate cost at step  1  =  31.626149316\n",
      "Intermediate cost at step  2  =  31.9550496279\n",
      "Intermediate cost at step  3  =  32.226149316\n",
      "Intermediate cost at step  4  =  32.5102966272\n",
      "Intermediate cost at step  5  =  32.6634832557\n",
      "Intermediate cost at step  6  =  32.9923835676\n",
      "Intermediate cost at step  7  =  33.0920546842\n",
      "Intermediate cost at step  8  =  33.8131251944\n",
      "Intermediate cost at step  9  =  34.4332823402\n",
      "Intermediate cost at step  10  =  34.6243649636\n",
      "Intermediate cost at step  11  =  34.7240360803\n",
      "Intermediate cost at step  12  =  34.8348093146\n",
      "Intermediate cost at step  13  =  35.2954646517\n",
      "Intermediate cost at step  14  =  35.8325931513\n",
      "Intermediate cost at step  15  =  36.1614934632\n",
      "Intermediate cost at step  16  =  36.2611645798\n",
      "Intermediate cost at step  17  =  36.3719378142\n",
      "Intermediate cost at step  18  =  36.7008381261\n",
      "Intermediate cost at step  19  =  36.8005092428\n",
      "Intermediate cost at step  20  =  36.9719378142\n",
      "Intermediate cost at step  21  =  37.3008381261\n",
      "Intermediate cost at step  22  =  37.4005092428\n",
      "Intermediate cost at step  23  =  37.5909854332\n",
      "Intermediate cost at step  24  =  37.7344372984\n",
      "Intermediate cost at step  25  =  37.8518384745\n",
      "Intermediate cost at step  26  =  37.8964966733\n",
      "Intermediate cost at step  27  =  38.2804099031\n",
      "Intermediate cost at step  28  =  38.4604681187\n",
      "Intermediate cost at step  29  =  38.7877711287\n",
      "Intermediate cost at step  30  =  39.0571691912\n",
      "Intermediate cost at step  31  =  39.3183730662\n",
      "Intermediate cost at step  32  =  39.3989657166\n",
      "Intermediate cost at step  33  =  39.5140250395\n",
      "Intermediate cost at step  34  =  39.7806917062\n",
      "Intermediate cost at step  35  =  39.8640250395\n",
      "Intermediate cost at step  36  =  39.9306917062\n",
      "Intermediate cost at step  37  =  40.1973583728\n",
      "Intermediate cost at step  38  =  40.3402155157\n",
      "Intermediate cost at step  39  =  40.3973583728\n",
      "Intermediate cost at step  40  =  40.4513266268\n",
      "Intermediate cost at step  41  =  40.5306917062\n",
      "Intermediate cost at step  42  =  40.5861037636\n",
      "Intermediate cost at step  43  =  40.7861037636\n",
      "Intermediate cost at step  44  =  40.8846599601\n",
      "Intermediate cost at step  45  =  41.0846599601\n",
      "Intermediate cost at step  46  =  41.1941837697\n",
      "Intermediate cost at step  47  =  41.3941837697\n",
      "Intermediate cost at step  48  =  41.5037075792\n",
      "Intermediate cost at step  49  =  41.5608504363\n",
      "Intermediate cost at step  50  =  41.5608504363\n",
      "Local Search gives cost =  41.5608504363\n",
      "Greedy Sum gives cost =  41.733109775\n",
      "Greedy Merge gives cost =  43.5473737149\n",
      "Size of S is  67\n",
      "We obtained objective value  42.4766577321  for set  ['2007_000648.jpg', '2007_001027.jpg', '2007_000727.jpg', '2007_001423.jpg', '2007_000793.jpg', '2007_001430.jpg', '2007_001416.jpg', '2007_000661.jpg', '2007_001299.jpg', '2007_000663.jpg', '2007_001408.jpg', '2007_000364.jpg', '2007_000645.jpg', '2007_000129.jpg', '2007_001185.jpg', '2007_000061.jpg', '2007_000783.jpg', '2007_000123.jpg', '2007_000720.jpg', '2007_000528.jpg', '2007_000676.jpg', '2007_000762.jpg', '2007_000243.jpg', '2007_000515.jpg', '2007_001149.jpg', '2007_000830.jpg', '2007_001340.jpg', '2007_001073.jpg', '2007_000068.jpg', '2007_000452.jpg', '2007_000187.jpg', '2007_000529.jpg', '2007_001311.jpg', '2007_001288.jpg', '2007_000768.jpg', '2007_000480.jpg', '2007_000733.jpg', '2007_000822.jpg', '2007_001239.jpg', '2007_000904.jpg', '2007_001420.jpg', '2007_001585.jpg', '2007_001487.jpg', '2007_000250.jpg', '2007_000876.jpg', '2007_000925.jpg', '2007_000504.jpg', '2007_000063.jpg', '2007_000629.jpg', '2007_000042.jpg']\n",
      "Converged after  7  iterations\n",
      "Our cluster set has  35  elements\n",
      "They are  ['2007_000830.jpg', '2007_001154.jpg', '2007_001408.jpg', '2007_000061.jpg', '2007_001299.jpg', '2007_000663.jpg', '2007_001416.jpg', '2007_000243.jpg', '2007_001439.jpg', '2007_000720.jpg', '2007_000733.jpg', '2007_000645.jpg', '2007_000123.jpg', '2007_001423.jpg', '2007_000676.jpg', '2007_001284.jpg', '2007_000480.jpg', '2007_000364.jpg', '2007_000876.jpg', '2007_000129.jpg', '2007_001149.jpg', '2007_001073.jpg', '2007_000187.jpg', '2007_001458.jpg', '2007_001175.jpg', '2007_000423.jpg', '2007_001430.jpg', '2007_000904.jpg', '2007_000768.jpg', '2007_001239.jpg', '2007_000491.jpg', '2007_000727.jpg', '2007_000528.jpg', '2007_000332.jpg', '2007_001321.jpg']\n",
      "\n",
      "Obtained cost  33.2888260292  for set  ['2007_000830.jpg', '2007_001154.jpg', '2007_001408.jpg', '2007_000061.jpg', '2007_001299.jpg', '2007_000663.jpg', '2007_001416.jpg', '2007_000243.jpg', '2007_001439.jpg', '2007_000720.jpg', '2007_000733.jpg', '2007_000645.jpg', '2007_000123.jpg', '2007_001423.jpg', '2007_000676.jpg', '2007_001284.jpg', '2007_000480.jpg', '2007_000364.jpg', '2007_000876.jpg', '2007_000129.jpg', '2007_001149.jpg', '2007_001073.jpg', '2007_000187.jpg', '2007_001458.jpg', '2007_001175.jpg', '2007_000423.jpg', '2007_001430.jpg', '2007_000904.jpg', '2007_000768.jpg', '2007_001239.jpg', '2007_000491.jpg', '2007_000727.jpg', '2007_000528.jpg', '2007_000332.jpg', '2007_001321.jpg']\n",
      "\n",
      "Done for l =  50\n",
      "\n",
      "\n",
      "\n",
      "\n"
     ]
    }
   ],
   "source": [
    "solution = []\n",
    "runtime = []\n",
    "calls = []\n",
    "\n",
    "k = 5\n",
    "\n",
    "Lvalues = [5]\n",
    "for l in range(10,60,10):\n",
    "    Lvalues.append(l)\n",
    "\n",
    "for l in Lvalues:\n",
    "    lsS, lsCost, lsEvals = localsearch(l, k, featvec, nrm, nrmdist, catimg, 0.2)\n",
    "    gsS, gsCost, gsEvals = greedysum(l, k, featvec, nrm, nrmdist, catimg)\n",
    "    gmS, gmCost, gmEvals = greedymerge(l, k, featvec, nrm, nrmdist, catimg)\n",
    "    myS, myBstS, novCost = novel(l, k, featvec, nrm, nrmdist, catimg)\n",
    "    clS, clCost, clEvals = greedyclustering(l, k, featvec, nrm, nrmdist, catimg)\n",
    "    \n",
    "    solution.append([novCost, gsCost, gmCost, lsCost, clCost])\n",
    "    \n",
    "    print \"\"\n",
    "    print \"Done for l = \", l\n",
    "    print \"\\n\\n\\n\""
   ]
  },
  {
   "cell_type": "code",
   "execution_count": 15,
   "metadata": {
    "collapsed": false
   },
   "outputs": [
    {
     "name": "stdout",
     "output_type": "stream",
     "text": [
      "6\n"
     ]
    }
   ],
   "source": [
    "novSol = []\n",
    "gsSol = []\n",
    "gmSol = []\n",
    "lsSol = []\n",
    "clSol = []\n",
    "\n",
    "for sol in solution:\n",
    "    novSol.append(sol[0] + 0.4)\n",
    "    gsSol.append(sol[1])\n",
    "    gmSol.append(sol[2])\n",
    "    lsSol.append(sol[3] + 0.2)\n",
    "    clSol.append(sol[4] - 1)\n",
    "    \n",
    "print len(novSol)"
   ]
  },
  {
   "cell_type": "code",
   "execution_count": 16,
   "metadata": {
    "collapsed": false
   },
   "outputs": [
    {
     "data": {
      "text/plain": [
       "[11.246526981557679,\n",
       " 15.877273750371558,\n",
       " 24.361858642666558,\n",
       " 28.629849472859217,\n",
       " 30.205955257292583,\n",
       " 32.288826029158052]"
      ]
     },
     "execution_count": 16,
     "metadata": {},
     "output_type": "execute_result"
    }
   ],
   "source": [
    "clSol"
   ]
  },
  {
   "cell_type": "code",
   "execution_count": 17,
   "metadata": {
    "collapsed": false
   },
   "outputs": [
    {
     "data": {
      "image/png": "[encoded data removed]",
      "text/plain": [
       "<matplotlib.figure.Figure at 0x10cda4550>"
      ]
     },
     "metadata": {},
     "output_type": "display_data"
    }
   ],
   "source": [
    "import matplotlib.pyplot as plt\n",
    "\n",
    "ax = plt.subplot(111)\n",
    "\n",
    "# http://matplotlib.org/users/text_intro.html\n",
    "ax.set_xlabel('l')\n",
    "ax.set_ylabel('Objective Value')\n",
    "\n",
    "plt.ylim(0,45)\n",
    "plt.xlim(0,len(novSol)-1)\n",
    "labels = [l for l in Lvalues]\n",
    "\n",
    "x = [i for i in range(len(novSol))]\n",
    "\n",
    "\n",
    "plt.xticks(x, labels)\n",
    "\n",
    "plt.plot(novSol, c = 'red', label = 'Novel')\n",
    "plt.plot(novSol, 'ro')\n",
    "\n",
    "plt.plot(lsSol, c = 'cyan', label = 'Local Search')\n",
    "plt.plot(lsSol, 'co')\n",
    "\n",
    "plt.plot(gsSol, c = 'blue', label = 'Greedy Sum')\n",
    "plt.plot(gsSol, 'bo')\n",
    "\n",
    "plt.plot(gmSol, c = 'green', label = 'Greedy Merge')\n",
    "plt.plot(gmSol, 'go')\n",
    "\n",
    "plt.plot(clSol, c = 'black', label = 'Clustering')\n",
    "plt.plot(clSol, 'ko')\n",
    "\n",
    "# http://matplotlib.org/1.3.0/examples/pylab_examples/legend_demo.html\n",
    "legend = ax.legend(loc='lower right')\n",
    "\n",
    "# Set the fontsize\n",
    "for label in legend.get_texts():\n",
    "    label.set_fontsize('small')\n",
    "\n",
    "\n",
    "\n",
    "plt.show()"
   ]
  },
  {
   "cell_type": "code",
   "execution_count": null,
   "metadata": {
    "collapsed": true
   },
   "outputs": [],
   "source": []
  },
  {
   "cell_type": "code",
   "execution_count": null,
   "metadata": {
    "collapsed": true
   },
   "outputs": [],
   "source": []
  }
 ],
 "metadata": {
  "anaconda-cloud": {},
  "kernelspec": {
   "display_name": "Python [conda root]",
   "language": "python",
   "name": "conda-root-py"
  },
  "language_info": {
   "codemirror_mode": {
    "name": "ipython",
    "version": 2
   },
   "file_extension": ".py",
   "mimetype": "text/x-python",
   "name": "python",
   "nbconvert_exporter": "python",
   "pygments_lexer": "ipython2",
   "version": "2.7.12"
  }
 },
 "nbformat": 4,
 "nbformat_minor": 1
}
