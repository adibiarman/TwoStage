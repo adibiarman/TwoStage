{
 "cells": [
  {
   "cell_type": "code",
   "execution_count": 1,
   "metadata": {
    "collapsed": true
   },
   "outputs": [],
   "source": [
    "import xml.etree.ElementTree as ET\n",
    "import glob"
   ]
  },
  {
   "cell_type": "code",
   "execution_count": 2,
   "metadata": {
    "collapsed": true
   },
   "outputs": [],
   "source": [
    "import time\n",
    "import numpy as np"
   ]
  },
  {
   "cell_type": "code",
   "execution_count": 3,
   "metadata": {
    "collapsed": true
   },
   "outputs": [],
   "source": [
    "# we will work with totImages images\n",
    "totImages = 100"
   ]
  },
  {
   "cell_type": "code",
   "execution_count": 4,
   "metadata": {
    "collapsed": true
   },
   "outputs": [],
   "source": [
    "fn = glob.glob(\"VOC2012/Annotations/*\");"
   ]
  },
  {
   "cell_type": "code",
   "execution_count": 5,
   "metadata": {
    "collapsed": false
   },
   "outputs": [],
   "source": [
    "images = dict()\n",
    "cat = set()"
   ]
  },
  {
   "cell_type": "code",
   "execution_count": 6,
   "metadata": {
    "collapsed": false
   },
   "outputs": [
    {
     "name": "stdout",
     "output_type": "stream",
     "text": [
      "Done parsing in  0.0902011394501  seconds\n"
     ]
    }
   ],
   "source": [
    "start = time.time()\n",
    "\n",
    "cnt = 0\n",
    "\n",
    "for f in fn:\n",
    "    cnt = cnt + 1\n",
    "    if cnt > totImages:\n",
    "        break\n",
    "    \n",
    "    tree = ET.parse(f)\n",
    "    root = tree.getroot()\n",
    "\n",
    "    curFile = \"\"\n",
    "    for child in root:\n",
    "        if child.tag == 'filename':\n",
    "            curFile = child.text\n",
    "    images[curFile] = []\n",
    "    \n",
    "    for child in root:\n",
    "        if child.tag == 'object':\n",
    "            for child2 in child:\n",
    "                if child2.tag == 'name':\n",
    "                    images[curFile].append(child2.text)\n",
    "                    cat.add(child2.text)\n",
    "                    \n",
    "print 'Done parsing in ', time.time() - start, \" seconds\""
   ]
  },
  {
   "cell_type": "code",
   "execution_count": 7,
   "metadata": {
    "collapsed": false
   },
   "outputs": [
    {
     "name": "stdout",
     "output_type": "stream",
     "text": [
      "['sheep', 'horse', 'bicycle', 'bottle', 'cow', 'sofa', 'dog', 'bus', 'cat', 'person', 'train', 'diningtable', 'aeroplane', 'car', 'pottedplant', 'tvmonitor', 'chair', 'bird', 'boat', 'motorbike']\n"
     ]
    }
   ],
   "source": [
    "cat = list(cat)\n",
    "print cat"
   ]
  },
  {
   "cell_type": "code",
   "execution_count": 8,
   "metadata": {
    "collapsed": false
   },
   "outputs": [
    {
     "data": {
      "text/plain": [
       "20"
      ]
     },
     "execution_count": 8,
     "metadata": {},
     "output_type": "execute_result"
    }
   ],
   "source": [
    "len(cat)"
   ]
  },
  {
   "cell_type": "code",
   "execution_count": 9,
   "metadata": {
    "collapsed": false
   },
   "outputs": [
    {
     "name": "stdout",
     "output_type": "stream",
     "text": [
      "['2007_000925.jpg', '2007_000676.jpg', '2007_000175.jpg', '2007_001416.jpg']\n"
     ]
    }
   ],
   "source": [
    "catimg = dict()\n",
    "for curCat in cat:\n",
    "    catimg[curCat] = []\n",
    "\n",
    "for img in images:\n",
    "    for curCat in set(images[img]):\n",
    "        catimg[curCat].append(img)\n",
    "        \n",
    "print catimg['sheep'][:5]"
   ]
  },
  {
   "cell_type": "code",
   "execution_count": 10,
   "metadata": {
    "collapsed": false
   },
   "outputs": [
    {
     "name": "stdout",
     "output_type": "stream",
     "text": [
      "2007_001154.jpg ['sofa', 'pottedplant']\n",
      "2007_001154.jpg [0 0 0 0 0 1 0 0 0 0 0 0 0 0 1 0 0 0 0 0]\n",
      "\n",
      "2007_000645.jpg ['bird', 'bird']\n",
      "2007_000645.jpg [0 0 0 0 0 0 0 0 0 0 0 0 0 0 0 0 0 2 0 0]\n",
      "\n",
      "2007_000061.jpg ['boat', 'boat']\n",
      "2007_000061.jpg [0 0 0 0 0 0 0 0 0 0 0 0 0 0 0 0 0 0 2 0]\n",
      "\n",
      "2007_000847.jpg ['diningtable', 'person']\n",
      "2007_000847.jpg [0 0 0 0 0 0 0 0 0 1 0 1 0 0 0 0 0 0 0 0]\n",
      "\n",
      "2007_000129.jpg ['bicycle', 'bicycle', 'bicycle', 'person', 'person', 'person']\n",
      "2007_000129.jpg [0 0 3 0 0 0 0 0 0 3 0 0 0 0 0 0 0 0 0 0]\n",
      "\n"
     ]
    }
   ],
   "source": [
    "featvec = images.copy()\n",
    "\n",
    "cnt = 0\n",
    "\n",
    "for img in images:\n",
    "    cnt = cnt + 1\n",
    "    if cnt <= 5:\n",
    "        print img, images[img]\n",
    "    \n",
    "    features = featvec[img]\n",
    "    \n",
    "    featvec[img] = [0 for i in range(len(cat))]\n",
    "    for f in features:\n",
    "        for j in range(len(cat)):\n",
    "            if cat[j] == f:\n",
    "                featvec[img][j] = featvec[img][j] + 1\n",
    "                break\n",
    "                \n",
    "    featvec[img] = np.array(featvec[img])\n",
    "                \n",
    "    if cnt <= 5:\n",
    "        print img, featvec[img]\n",
    "        print \"\""
   ]
  },
  {
   "cell_type": "code",
   "execution_count": 11,
   "metadata": {
    "collapsed": true
   },
   "outputs": [],
   "source": [
    "# compute a dictionary of norms and normdistances\n",
    "nrm = featvec.copy()\n",
    "for elem in nrm:\n",
    "    nrm[elem] = np.linalg.norm(nrm[elem])\n",
    "\n",
    "nrmdist = dict()\n",
    "for el1 in featvec:\n",
    "    for el2 in featvec:\n",
    "        nrmdist[(el1, el2)] = np.linalg.norm(featvec[el1] - featvec[el2])"
   ]
  },
  {
   "cell_type": "code",
   "execution_count": 12,
   "metadata": {
    "collapsed": true
   },
   "outputs": [],
   "source": [
    "n = len(images.keys())\n",
    "m = len(cat)\n",
    "l = 8\n",
    "k = 5"
   ]
  },
  {
   "cell_type": "code",
   "execution_count": 13,
   "metadata": {
    "collapsed": false
   },
   "outputs": [
    {
     "name": "stdout",
     "output_type": "stream",
     "text": [
      "Local search value after initialization =  13.1938834438\n",
      "Intermediate cost at step  0  =  14.4299159368\n",
      "Intermediate cost at step  1  =  14.9362433585\n",
      "Intermediate cost at step  2  =  15.5423959332\n",
      "Intermediate cost at step  3  =  16.6293655124\n",
      "Intermediate cost at step  4  =  17.0423959332\n",
      "Intermediate cost at step  5  =  17.5293655124\n",
      "Intermediate cost at step  6  =  18.1435928673\n",
      "Intermediate cost at step  7  =  18.5294247297\n",
      "Intermediate cost at step  8  =  18.742122601\n",
      "Intermediate cost at step  9  =  18.742122601\n",
      "Local Search gives cost =  18.742122601\n",
      "18.742122601\n"
     ]
    }
   ],
   "source": [
    "from localsearch import localsearch\n",
    "\n",
    "lsS, lsCost, lsEvals = localsearch(l, k, featvec, nrm, nrmdist, catimg, 0.2)\n",
    "\n",
    "print lsCost"
   ]
  },
  {
   "cell_type": "code",
   "execution_count": 14,
   "metadata": {
    "collapsed": false
   },
   "outputs": [
    {
     "name": "stdout",
     "output_type": "stream",
     "text": [
      "Greedy Sum gives cost =  18.97978888\n",
      "18.97978888\n"
     ]
    }
   ],
   "source": [
    "from greedysum import greedysum\n",
    "\n",
    "gsS, gsCost, gsEvals = greedysum(l, k, featvec, nrm, nrmdist, catimg)\n",
    "\n",
    "print gsCost"
   ]
  },
  {
   "cell_type": "code",
   "execution_count": 15,
   "metadata": {
    "collapsed": false
   },
   "outputs": [
    {
     "name": "stdout",
     "output_type": "stream",
     "text": [
      "Greedy Merge gives cost =  43.5473737149\n",
      "Size of S is  67\n",
      "43.5473737149\n"
     ]
    }
   ],
   "source": [
    "from greedymerge import greedymerge\n",
    "\n",
    "gmS, gmCost, gmEvals = greedymerge(l, k, featvec, nrm, nrmdist, catimg)\n",
    "\n",
    "print gmCost"
   ]
  },
  {
   "cell_type": "code",
   "execution_count": 16,
   "metadata": {
    "collapsed": false
   },
   "outputs": [
    {
     "name": "stdout",
     "output_type": "stream",
     "text": [
      "We obtained objective value  18.97978888  for set  ['2007_000648.jpg', '2007_001027.jpg', '2007_000727.jpg', '2007_001423.jpg', '2007_000793.jpg', '2007_001430.jpg', '2007_001416.jpg', '2007_000661.jpg']\n",
      "Ran in  1.0007121563\n"
     ]
    }
   ],
   "source": [
    "from novel import novel\n",
    "\n",
    "start = time.time()\n",
    "myS, myBstS, cost = novel(l, k, featvec, nrm, nrmdist, catimg)\n",
    "print 'Ran in ', time.time() - start\n",
    "\n",
    "# sanity check\n",
    "# print ''\n",
    "# print len(myS)\n",
    "# for c in cat:\n",
    "#     print set(myBstS[c]).issubset(myS), len(myBstS[c]) == k"
   ]
  },
  {
   "cell_type": "code",
   "execution_count": 17,
   "metadata": {
    "collapsed": false
   },
   "outputs": [
    {
     "name": "stdout",
     "output_type": "stream",
     "text": [
      "Converged after  7  iterations\n",
      "Our cluster set has  8  elements\n",
      "They are  ['2007_000243.jpg', '2007_001526.jpg', '2007_000061.jpg', '2007_001423.jpg', '2007_001458.jpg', '2007_000804.jpg', '2007_000464.jpg', '2007_000720.jpg']\n",
      "\n",
      "Obtained cost  13.8209337549  for set  ['2007_000243.jpg', '2007_001526.jpg', '2007_000061.jpg', '2007_001423.jpg', '2007_001458.jpg', '2007_000804.jpg', '2007_000464.jpg', '2007_000720.jpg']\n",
      "Ran in  0.108950138092\n"
     ]
    }
   ],
   "source": [
    "from greedyclustering import greedyclustering\n",
    "\n",
    "start = time.time()\n",
    "greedyCL = greedyclustering(l, k, featvec, nrm, nrmdist, catimg)\n",
    "print 'Ran in ', time.time() - start"
   ]
  },
  {
   "cell_type": "code",
   "execution_count": null,
   "metadata": {
    "collapsed": true
   },
   "outputs": [],
   "source": []
  }
 ],
 "metadata": {
  "anaconda-cloud": {},
  "kernelspec": {
   "display_name": "Python [conda root]",
   "language": "python",
   "name": "conda-root-py"
  },
  "language_info": {
   "codemirror_mode": {
    "name": "ipython",
    "version": 2
   },
   "file_extension": ".py",
   "mimetype": "text/x-python",
   "name": "python",
   "nbconvert_exporter": "python",
   "pygments_lexer": "ipython2",
   "version": "2.7.12"
  }
 },
 "nbformat": 4,
 "nbformat_minor": 1
}
