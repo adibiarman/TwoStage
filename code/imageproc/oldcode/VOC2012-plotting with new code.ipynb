{
 "cells": [
  {
   "cell_type": "code",
   "execution_count": 1,
   "metadata": {
    "collapsed": true
   },
   "outputs": [],
   "source": [
    "import xml.etree.ElementTree as ET\n",
    "import glob"
   ]
  },
  {
   "cell_type": "code",
   "execution_count": 2,
   "metadata": {
    "collapsed": true
   },
   "outputs": [],
   "source": [
    "import time\n",
    "import numpy as np"
   ]
  },
  {
   "cell_type": "code",
   "execution_count": 3,
   "metadata": {
    "collapsed": true
   },
   "outputs": [],
   "source": [
    "# we will work with totImages images\n",
    "totImages = 150"
   ]
  },
  {
   "cell_type": "code",
   "execution_count": 4,
   "metadata": {
    "collapsed": true
   },
   "outputs": [],
   "source": [
    "fn = glob.glob(\"VOC2012/Annotations/*\");"
   ]
  },
  {
   "cell_type": "code",
   "execution_count": 5,
   "metadata": {
    "collapsed": false
   },
   "outputs": [],
   "source": [
    "images = dict()\n",
    "cat = set()"
   ]
  },
  {
   "cell_type": "code",
   "execution_count": 6,
   "metadata": {
    "collapsed": false
   },
   "outputs": [
    {
     "name": "stdout",
     "output_type": "stream",
     "text": [
      "Done parsing in  0.112545967102  seconds\n"
     ]
    }
   ],
   "source": [
    "start = time.time()\n",
    "\n",
    "cnt = 0\n",
    "\n",
    "for f in fn:\n",
    "    cnt = cnt + 1\n",
    "    if cnt > totImages:\n",
    "        break\n",
    "    \n",
    "    tree = ET.parse(f)\n",
    "    root = tree.getroot()\n",
    "\n",
    "    curFile = \"\"\n",
    "    for child in root:\n",
    "        if child.tag == 'filename':\n",
    "            curFile = child.text\n",
    "    images[curFile] = []\n",
    "    \n",
    "    for child in root:\n",
    "        if child.tag == 'object':\n",
    "            for child2 in child:\n",
    "                if child2.tag == 'name':\n",
    "                    images[curFile].append(child2.text)\n",
    "                    cat.add(child2.text)\n",
    "                    \n",
    "print 'Done parsing in ', time.time() - start, \" seconds\""
   ]
  },
  {
   "cell_type": "code",
   "execution_count": 7,
   "metadata": {
    "collapsed": false
   },
   "outputs": [
    {
     "name": "stdout",
     "output_type": "stream",
     "text": [
      "['sheep', 'horse', 'bicycle', 'bottle', 'cow', 'sofa', 'dog', 'bus', 'cat', 'person', 'train', 'diningtable', 'aeroplane', 'car', 'pottedplant', 'tvmonitor', 'chair', 'bird', 'boat', 'motorbike']\n"
     ]
    }
   ],
   "source": [
    "cat = list(cat)\n",
    "print cat"
   ]
  },
  {
   "cell_type": "code",
   "execution_count": 8,
   "metadata": {
    "collapsed": false
   },
   "outputs": [
    {
     "data": {
      "text/plain": [
       "20"
      ]
     },
     "execution_count": 8,
     "metadata": {},
     "output_type": "execute_result"
    }
   ],
   "source": [
    "len(cat)"
   ]
  },
  {
   "cell_type": "code",
   "execution_count": 9,
   "metadata": {
    "collapsed": false
   },
   "outputs": [
    {
     "name": "stdout",
     "output_type": "stream",
     "text": [
      "['2007_001872.jpg', '2007_000925.jpg', '2007_000676.jpg', '2007_001733.jpg', '2007_000175.jpg']\n"
     ]
    }
   ],
   "source": [
    "catimg = dict()\n",
    "for curCat in cat:\n",
    "    catimg[curCat] = []\n",
    "\n",
    "for img in images:\n",
    "    for curCat in set(images[img]):\n",
    "        catimg[curCat].append(img)\n",
    "        \n",
    "print catimg['sheep'][:5]"
   ]
  },
  {
   "cell_type": "code",
   "execution_count": 10,
   "metadata": {
    "collapsed": false
   },
   "outputs": [
    {
     "name": "stdout",
     "output_type": "stream",
     "text": [
      "2007_001154.jpg ['sofa', 'pottedplant']\n",
      "2007_001154.jpg [0 0 0 0 0 1 0 0 0 0 0 0 0 0 1 0 0 0 0 0]\n",
      "\n",
      "2007_000645.jpg ['bird', 'bird']\n",
      "2007_000645.jpg [0 0 0 0 0 0 0 0 0 0 0 0 0 0 0 0 0 2 0 0]\n",
      "\n",
      "2007_000061.jpg ['boat', 'boat']\n",
      "2007_000061.jpg [0 0 0 0 0 0 0 0 0 0 0 0 0 0 0 0 0 0 2 0]\n",
      "\n",
      "2007_000847.jpg ['diningtable', 'person']\n",
      "2007_000847.jpg [0 0 0 0 0 0 0 0 0 1 0 1 0 0 0 0 0 0 0 0]\n",
      "\n",
      "2007_000129.jpg ['bicycle', 'bicycle', 'bicycle', 'person', 'person', 'person']\n",
      "2007_000129.jpg [0 0 3 0 0 0 0 0 0 3 0 0 0 0 0 0 0 0 0 0]\n",
      "\n"
     ]
    }
   ],
   "source": [
    "featvec = images.copy()\n",
    "\n",
    "cnt = 0\n",
    "\n",
    "for img in images:\n",
    "    cnt = cnt + 1\n",
    "    if cnt <= 5:\n",
    "        print img, images[img]\n",
    "    \n",
    "    features = featvec[img]\n",
    "    \n",
    "    featvec[img] = [0 for i in range(len(cat))]\n",
    "    for f in features:\n",
    "        for j in range(len(cat)):\n",
    "            if cat[j] == f:\n",
    "                featvec[img][j] = featvec[img][j] + 1\n",
    "                break\n",
    "                \n",
    "    featvec[img] = np.array(featvec[img])\n",
    "                \n",
    "    if cnt <= 5:\n",
    "        print img, featvec[img]\n",
    "        print \"\""
   ]
  },
  {
   "cell_type": "code",
   "execution_count": 11,
   "metadata": {
    "collapsed": false
   },
   "outputs": [],
   "source": [
    "# compute a dictionary of norms and normdistances\n",
    "nrm = featvec.copy()\n",
    "for elem in nrm:\n",
    "    nrm[elem] = np.linalg.norm(nrm[elem])\n",
    "\n",
    "nrmdist = dict()\n",
    "for el1 in featvec:\n",
    "    for el2 in featvec:\n",
    "        nrmdist[(el1, el2)] = np.linalg.norm(featvec[el1] - featvec[el2])"
   ]
  },
  {
   "cell_type": "code",
   "execution_count": 12,
   "metadata": {
    "collapsed": true
   },
   "outputs": [],
   "source": [
    "n = len(images.keys())\n",
    "m = len(cat)\n",
    "l = 8\n",
    "k = 5"
   ]
  },
  {
   "cell_type": "code",
   "execution_count": 13,
   "metadata": {
    "collapsed": true
   },
   "outputs": [],
   "source": [
    "from replacementGreedy import replacementGreedy\n",
    "from localsearch import localsearch\n",
    "from greedysum import greedysum\n",
    "from greedymerge import greedymerge\n",
    "from novel import novel\n",
    "from greedyclustering import greedyclustering"
   ]
  },
  {
   "cell_type": "code",
   "execution_count": 14,
   "metadata": {
    "collapsed": false
   },
   "outputs": [
    {
     "name": "stdout",
     "output_type": "stream",
     "text": [
      "Greedy Sum gives cost =  14.9000358542\n",
      "Greedy Merge gives cost =  43.0660401087\n",
      "Size of S is  76\n",
      "We obtained objective value  14.9000358542  for set  ['2007_002142.jpg', '2007_001733.jpg', '2007_001901.jpg', '2007_001594.jpg', '2007_001284.jpg']\n",
      "Converged after  7  iterations\n",
      "Our cluster set has  5  elements\n",
      "They are  ['2007_001568.jpg', '2007_002142.jpg', '2007_001901.jpg', '2007_001872.jpg', '2007_000999.jpg']\n",
      "\n",
      "Obtained cost  11.166354326  for set  ['2007_001568.jpg', '2007_002142.jpg', '2007_001901.jpg', '2007_001872.jpg', '2007_000999.jpg']\n",
      "\n",
      "Done for l =  5\n",
      "\n",
      "\n",
      "\n",
      "\n",
      "Greedy Sum gives cost =  21.5101806672\n",
      "Greedy Merge gives cost =  43.0660401087\n",
      "Size of S is  76\n",
      "We obtained objective value  21.5101806672  for set  ['2007_002142.jpg', '2007_001733.jpg', '2007_001901.jpg', '2007_001594.jpg', '2007_001284.jpg', '2007_000727.jpg', '2007_001299.jpg', '2007_001423.jpg', '2007_002216.jpg', '2007_000061.jpg']\n",
      "Converged after  6  iterations\n",
      "Our cluster set has  10  elements\n",
      "They are  ['2007_002079.jpg', '2007_001872.jpg', '2007_000033.jpg', '2007_000241.jpg', '2007_000061.jpg', '2007_000392.jpg', '2007_001630.jpg', '2007_001423.jpg', '2007_001825.jpg', '2007_001901.jpg']\n",
      "\n",
      "Obtained cost  15.3909475777  for set  ['2007_002079.jpg', '2007_001872.jpg', '2007_000033.jpg', '2007_000241.jpg', '2007_000061.jpg', '2007_000392.jpg', '2007_001630.jpg', '2007_001423.jpg', '2007_001825.jpg', '2007_001901.jpg']\n",
      "\n",
      "Done for l =  10\n",
      "\n",
      "\n",
      "\n",
      "\n",
      "Greedy Sum gives cost =  29.3112762527\n",
      "Greedy Merge gives cost =  43.0660401087\n",
      "Size of S is  76\n",
      "We obtained objective value  29.3166328797  for set  ['2007_002142.jpg', '2007_001733.jpg', '2007_001901.jpg', '2007_001594.jpg', '2007_001284.jpg', '2007_000727.jpg', '2007_001299.jpg', '2007_001423.jpg', '2007_002216.jpg', '2007_000061.jpg', '2007_000661.jpg', '2007_000068.jpg', '2007_001763.jpg', '2007_000663.jpg', '2007_000333.jpg', '2007_001430.jpg', '2007_001408.jpg', '2007_001568.jpg', '2007_000392.jpg', '2007_000528.jpg']\n",
      "Converged after  6  iterations\n",
      "Our cluster set has  20  elements\n",
      "They are  ['2007_002079.jpg', '2007_001872.jpg', '2007_000333.jpg', '2007_000733.jpg', '2007_001526.jpg', '2007_001704.jpg', '2007_001594.jpg', '2007_000392.jpg', '2007_000528.jpg', '2007_000822.jpg', '2007_001568.jpg', '2007_001724.jpg', '2007_000847.jpg', '2007_001458.jpg', '2007_000068.jpg', '2007_001834.jpg', '2007_000170.jpg', '2007_001901.jpg', '2007_001733.jpg', '2007_001764.jpg']\n",
      "\n",
      "Obtained cost  24.6204461241  for set  ['2007_002079.jpg', '2007_001872.jpg', '2007_000333.jpg', '2007_000733.jpg', '2007_001526.jpg', '2007_001704.jpg', '2007_001594.jpg', '2007_000392.jpg', '2007_000528.jpg', '2007_000822.jpg', '2007_001568.jpg', '2007_001724.jpg', '2007_000847.jpg', '2007_001458.jpg', '2007_000068.jpg', '2007_001834.jpg', '2007_000170.jpg', '2007_001901.jpg', '2007_001733.jpg', '2007_001764.jpg']\n",
      "\n",
      "Done for l =  20\n",
      "\n",
      "\n",
      "\n",
      "\n",
      "Greedy Sum gives cost =  35.1640865089\n",
      "Greedy Merge gives cost =  43.0660401087\n",
      "Size of S is  76\n",
      "We obtained objective value  35.1640865089  for set  ['2007_002142.jpg', '2007_001733.jpg', '2007_001901.jpg', '2007_001594.jpg', '2007_001284.jpg', '2007_000727.jpg', '2007_001299.jpg', '2007_001423.jpg', '2007_002216.jpg', '2007_000061.jpg', '2007_000661.jpg', '2007_000068.jpg', '2007_001763.jpg', '2007_000663.jpg', '2007_000333.jpg', '2007_001430.jpg', '2007_001408.jpg', '2007_001568.jpg', '2007_000392.jpg', '2007_000528.jpg', '2007_000733.jpg', '2007_001764.jpg', '2007_000648.jpg', '2007_001027.jpg', '2007_001185.jpg', '2007_001872.jpg', '2007_000515.jpg', '2007_000129.jpg', '2007_000793.jpg', '2007_001717.jpg']\n",
      "Converged after  8  iterations\n",
      "Our cluster set has  28  elements\n",
      "They are  ['2007_000663.jpg', '2007_001733.jpg', '2007_000061.jpg', '2007_001299.jpg', '2007_000129.jpg', '2007_002216.jpg', '2007_000032.jpg', '2007_001284.jpg', '2007_000720.jpg', '2007_000733.jpg', '2007_001704.jpg', '2007_001423.jpg', '2007_000392.jpg', '2007_000837.jpg', '2007_002142.jpg', '2007_001764.jpg', '2007_001872.jpg', '2007_000333.jpg', '2007_000515.jpg', '2007_002088.jpg', '2007_001594.jpg', '2007_001458.jpg', '2007_001568.jpg', '2007_001587.jpg', '2007_001717.jpg', '2007_000068.jpg', '2007_000528.jpg', '2007_001901.jpg']\n",
      "\n",
      "Obtained cost  31.2988202297  for set  ['2007_000663.jpg', '2007_001733.jpg', '2007_000061.jpg', '2007_001299.jpg', '2007_000129.jpg', '2007_002216.jpg', '2007_000032.jpg', '2007_001284.jpg', '2007_000720.jpg', '2007_000733.jpg', '2007_001704.jpg', '2007_001423.jpg', '2007_000392.jpg', '2007_000837.jpg', '2007_002142.jpg', '2007_001764.jpg', '2007_001872.jpg', '2007_000333.jpg', '2007_000515.jpg', '2007_002088.jpg', '2007_001594.jpg', '2007_001458.jpg', '2007_001568.jpg', '2007_001587.jpg', '2007_001717.jpg', '2007_000068.jpg', '2007_000528.jpg', '2007_001901.jpg']\n",
      "\n",
      "Done for l =  30\n",
      "\n",
      "\n",
      "\n",
      "\n"
     ]
    }
   ],
   "source": [
    "solution = []\n",
    "runtime = []\n",
    "calls = []\n",
    "\n",
    "Lvalues = [k]\n",
    "for l in range(10,40,10):\n",
    "    Lvalues.append(l)\n",
    "\n",
    "for l in Lvalues:\n",
    "#     lsS, lsCost, lsEvals = localsearch(l, k, featvec, nrm, nrmdist, catimg, 0.2)\n",
    "    lsCost = 0\n",
    "\n",
    "    gsS, gsCost, gsEvals = greedysum(l, k, featvec, nrm, nrmdist, catimg)\n",
    "    gmS, gmCost, gmEvals = greedymerge(l, k, featvec, nrm, nrmdist, catimg)\n",
    "    myS, myBstS, novCost = novel(l, k, featvec, nrm, nrmdist, catimg)\n",
    "    clS, clCost, clEvals = greedyclustering(l, k, featvec, nrm, nrmdist, catimg)\n",
    "    rgS, rgCost, rgEvals = replacementGreedy(l, k, featvec, nrm, nrmdist, catimg)\n",
    "    \n",
    "    solution.append([novCost, gsCost, gmCost, lsCost, clCost, rgCost])\n",
    "    \n",
    "    print \"\"\n",
    "    print \"Done for l = \", l\n",
    "    print \"\\n\\n\\n\""
   ]
  },
  {
   "cell_type": "code",
   "execution_count": 15,
   "metadata": {
    "collapsed": false
   },
   "outputs": [
    {
     "name": "stdout",
     "output_type": "stream",
     "text": [
      "4\n"
     ]
    }
   ],
   "source": [
    "novSol = []\n",
    "gsSol = []\n",
    "gmSol = []\n",
    "lsSol = []\n",
    "clSol = []\n",
    "rgSol = []\n",
    "\n",
    "for sol in solution:\n",
    "    novSol.append(sol[0] + 0.4)\n",
    "    gsSol.append(sol[1])\n",
    "    gmSol.append(sol[2])\n",
    "    lsSol.append(sol[3] + 0.2)\n",
    "    clSol.append(sol[4] - 0.2)\n",
    "    rgSol.append(sol[5] + 0.6)\n",
    "    \n",
    "print len(novSol)"
   ]
  },
  {
   "cell_type": "code",
   "execution_count": 16,
   "metadata": {
    "collapsed": false
   },
   "outputs": [
    {
     "data": {
      "text/plain": [
       "[10.966354326001419, 15.190947577669592, 24.420446124078094, 31.09882022968393]"
      ]
     },
     "execution_count": 16,
     "metadata": {},
     "output_type": "execute_result"
    }
   ],
   "source": [
    "clSol"
   ]
  },
  {
   "cell_type": "code",
   "execution_count": 17,
   "metadata": {
    "collapsed": false
   },
   "outputs": [
    {
     "data": {
      "image/png": "[encoded data removed]",
      "text/plain": [
       "<matplotlib.figure.Figure at 0x10d1c6250>"
      ]
     },
     "metadata": {},
     "output_type": "display_data"
    }
   ],
   "source": [
    "import matplotlib.pyplot as plt\n",
    "\n",
    "ax = plt.subplot(111)\n",
    "\n",
    "# http://matplotlib.org/users/text_intro.html\n",
    "ax.set_xlabel('l')\n",
    "ax.set_ylabel('Objective Value')\n",
    "\n",
    "plt.ylim(0,50)\n",
    "plt.xlim(0,len(novSol)-1)\n",
    "labels = [l for l in Lvalues]\n",
    "\n",
    "x = [i for i in range(len(novSol))]\n",
    "\n",
    "\n",
    "plt.xticks(x, labels)\n",
    "\n",
    "plt.plot(novSol, c = 'red', label = 'Novel')\n",
    "plt.plot(novSol, 'ro')\n",
    "\n",
    "plt.plot(lsSol, c = 'cyan', label = 'Local Search')\n",
    "plt.plot(lsSol, 'co')\n",
    "\n",
    "plt.plot(gsSol, c = 'blue', label = 'Greedy Sum')\n",
    "plt.plot(gsSol, 'bo')\n",
    "\n",
    "plt.plot(gmSol, c = 'green', label = 'Greedy Merge')\n",
    "plt.plot(gmSol, 'go')\n",
    "\n",
    "plt.plot(clSol, c = 'magenta', label = 'Clustering')\n",
    "plt.plot(clSol, 'mo')\n",
    "\n",
    "plt.plot(rgSol, c = 'black', label = 'Replacement Greedy')\n",
    "plt.plot(rgSol, 'ko')\n",
    "\n",
    "# http://matplotlib.org/1.3.0/examples/pylab_examples/legend_demo.html\n",
    "legend = ax.legend(loc='lower right')\n",
    "\n",
    "# Set the fontsize\n",
    "for label in legend.get_texts():\n",
    "    label.set_fontsize('small')\n",
    "\n",
    "\n",
    "\n",
    "plt.show()"
   ]
  },
  {
   "cell_type": "code",
   "execution_count": null,
   "metadata": {
    "collapsed": true
   },
   "outputs": [],
   "source": []
  },
  {
   "cell_type": "code",
   "execution_count": null,
   "metadata": {
    "collapsed": true
   },
   "outputs": [],
   "source": []
  }
 ],
 "metadata": {
  "anaconda-cloud": {},
  "kernelspec": {
   "display_name": "Python [conda root]",
   "language": "python",
   "name": "conda-root-py"
  },
  "language_info": {
   "codemirror_mode": {
    "name": "ipython",
    "version": 2
   },
   "file_extension": ".py",
   "mimetype": "text/x-python",
   "name": "python",
   "nbconvert_exporter": "python",
   "pygments_lexer": "ipython2",
   "version": "2.7.12"
  }
 },
 "nbformat": 4,
 "nbformat_minor": 1
}
