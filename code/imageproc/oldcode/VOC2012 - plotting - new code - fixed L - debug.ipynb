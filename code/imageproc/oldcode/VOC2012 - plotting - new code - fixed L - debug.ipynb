{
 "cells": [
  {
   "cell_type": "code",
   "execution_count": 1,
   "metadata": {
    "collapsed": true
   },
   "outputs": [],
   "source": [
    "import xml.etree.ElementTree as ET\n",
    "import glob"
   ]
  },
  {
   "cell_type": "code",
   "execution_count": 2,
   "metadata": {
    "collapsed": true
   },
   "outputs": [],
   "source": [
    "import time\n",
    "import numpy as np"
   ]
  },
  {
   "cell_type": "code",
   "execution_count": 3,
   "metadata": {
    "collapsed": true
   },
   "outputs": [],
   "source": [
    "import matplotlib.pyplot as plt"
   ]
  },
  {
   "cell_type": "code",
   "execution_count": 4,
   "metadata": {
    "collapsed": true
   },
   "outputs": [],
   "source": [
    "# we will work with totImages images\n",
    "totImages = 100"
   ]
  },
  {
   "cell_type": "code",
   "execution_count": 5,
   "metadata": {
    "collapsed": true
   },
   "outputs": [],
   "source": [
    "fn = glob.glob(\"VOC2012/Annotations/*\");"
   ]
  },
  {
   "cell_type": "code",
   "execution_count": 6,
   "metadata": {
    "collapsed": false
   },
   "outputs": [],
   "source": [
    "images = dict()\n",
    "cat = set()"
   ]
  },
  {
   "cell_type": "code",
   "execution_count": 7,
   "metadata": {
    "collapsed": false
   },
   "outputs": [
    {
     "name": "stdout",
     "output_type": "stream",
     "text": [
      "Done parsing in  0.0656549930573  seconds\n"
     ]
    }
   ],
   "source": [
    "start = time.time()\n",
    "\n",
    "cnt = 0\n",
    "\n",
    "for f in fn:\n",
    "    cnt = cnt + 1\n",
    "    if cnt > totImages:\n",
    "        break\n",
    "    \n",
    "    tree = ET.parse(f)\n",
    "    root = tree.getroot()\n",
    "\n",
    "    curFile = \"\"\n",
    "    for child in root:\n",
    "        if child.tag == 'filename':\n",
    "            curFile = child.text\n",
    "    images[curFile] = []\n",
    "    \n",
    "    for child in root:\n",
    "        if child.tag == 'object':\n",
    "            for child2 in child:\n",
    "                if child2.tag == 'name':\n",
    "                    images[curFile].append(child2.text)\n",
    "                    cat.add(child2.text)\n",
    "                    \n",
    "print 'Done parsing in ', time.time() - start, \" seconds\""
   ]
  },
  {
   "cell_type": "code",
   "execution_count": 8,
   "metadata": {
    "collapsed": false
   },
   "outputs": [
    {
     "name": "stdout",
     "output_type": "stream",
     "text": [
      "['sheep', 'horse', 'bicycle', 'bottle', 'cow', 'sofa', 'dog', 'bus', 'cat', 'person', 'train', 'diningtable', 'aeroplane', 'car', 'pottedplant', 'tvmonitor', 'chair', 'bird', 'boat', 'motorbike']\n"
     ]
    }
   ],
   "source": [
    "cat = list(cat)\n",
    "print cat"
   ]
  },
  {
   "cell_type": "code",
   "execution_count": 9,
   "metadata": {
    "collapsed": false
   },
   "outputs": [
    {
     "data": {
      "text/plain": [
       "20"
      ]
     },
     "execution_count": 9,
     "metadata": {},
     "output_type": "execute_result"
    }
   ],
   "source": [
    "len(cat)"
   ]
  },
  {
   "cell_type": "code",
   "execution_count": 10,
   "metadata": {
    "collapsed": false
   },
   "outputs": [
    {
     "name": "stdout",
     "output_type": "stream",
     "text": [
      "['2007_000925.jpg', '2007_000676.jpg', '2007_000175.jpg', '2007_001416.jpg']\n"
     ]
    }
   ],
   "source": [
    "catimg = dict()\n",
    "for curCat in cat:\n",
    "    catimg[curCat] = []\n",
    "\n",
    "for img in images:\n",
    "    for curCat in set(images[img]):\n",
    "        catimg[curCat].append(img)\n",
    "        \n",
    "print catimg['sheep'][:5]"
   ]
  },
  {
   "cell_type": "code",
   "execution_count": 11,
   "metadata": {
    "collapsed": false
   },
   "outputs": [
    {
     "name": "stdout",
     "output_type": "stream",
     "text": [
      "2007_001154.jpg ['sofa', 'pottedplant']\n",
      "2007_001154.jpg [0 0 0 0 0 1 0 0 0 0 0 0 0 0 1 0 0 0 0 0]\n",
      "\n",
      "2007_000645.jpg ['bird', 'bird']\n",
      "2007_000645.jpg [0 0 0 0 0 0 0 0 0 0 0 0 0 0 0 0 0 2 0 0]\n",
      "\n",
      "2007_000061.jpg ['boat', 'boat']\n",
      "2007_000061.jpg [0 0 0 0 0 0 0 0 0 0 0 0 0 0 0 0 0 0 2 0]\n",
      "\n",
      "2007_000847.jpg ['diningtable', 'person']\n",
      "2007_000847.jpg [0 0 0 0 0 0 0 0 0 1 0 1 0 0 0 0 0 0 0 0]\n",
      "\n",
      "2007_000129.jpg ['bicycle', 'bicycle', 'bicycle', 'person', 'person', 'person']\n",
      "2007_000129.jpg [0 0 3 0 0 0 0 0 0 3 0 0 0 0 0 0 0 0 0 0]\n",
      "\n"
     ]
    }
   ],
   "source": [
    "featvec = images.copy()\n",
    "\n",
    "cnt = 0\n",
    "\n",
    "for img in images:\n",
    "    cnt = cnt + 1\n",
    "    if cnt <= 5:\n",
    "        print img, images[img]\n",
    "    \n",
    "    features = featvec[img]\n",
    "    \n",
    "    featvec[img] = [0 for i in range(len(cat))]\n",
    "    for f in features:\n",
    "        for j in range(len(cat)):\n",
    "            if cat[j] == f:\n",
    "                featvec[img][j] = featvec[img][j] + 1\n",
    "                break\n",
    "                \n",
    "    featvec[img] = np.array(featvec[img])\n",
    "                \n",
    "    if cnt <= 5:\n",
    "        print img, featvec[img]\n",
    "        print \"\""
   ]
  },
  {
   "cell_type": "code",
   "execution_count": 12,
   "metadata": {
    "collapsed": false
   },
   "outputs": [],
   "source": [
    "# compute a dictionary of norms and normdistances\n",
    "nrm = featvec.copy()\n",
    "for elem in nrm:\n",
    "    nrm[elem] = np.linalg.norm(nrm[elem])\n",
    "\n",
    "nrmdist = dict()\n",
    "for el1 in featvec:\n",
    "    for el2 in featvec:\n",
    "        nrmdist[(el1, el2)] = np.linalg.norm(featvec[el1] - featvec[el2])"
   ]
  },
  {
   "cell_type": "code",
   "execution_count": 13,
   "metadata": {
    "collapsed": true
   },
   "outputs": [],
   "source": [
    "from replacementGreedy import replacementGreedy\n",
    "from localsearch import localsearch\n",
    "from greedysum import greedysum\n",
    "from greedymerge import greedymerge\n",
    "from greedyclustering import greedyclustering"
   ]
  },
  {
   "cell_type": "code",
   "execution_count": null,
   "metadata": {
    "collapsed": true
   },
   "outputs": [],
   "source": [
    "n = len(images.keys())\n",
    "m = len(cat)\n",
    "l = 15"
   ]
  },
  {
   "cell_type": "code",
   "execution_count": null,
   "metadata": {
    "collapsed": false
   },
   "outputs": [
    {
     "name": "stdout",
     "output_type": "stream",
     "text": [
      "Local search value after initialization =  18.8192787953\n",
      "Intermediate cost at step  0  =  20.6164991779\n",
      "Intermediate cost at step  1  =  21.1662909928\n",
      "Intermediate cost at step  2  =  21.4946822533\n",
      "Intermediate cost at step  3  =  21.7617093295\n",
      "Intermediate cost at step  4  =  22.1652524628\n",
      "Intermediate cost at step  5  =  22.3495616202\n",
      "Intermediate cost at step  6  =  22.6001454186\n",
      "Intermediate cost at step  7  =  22.8820129761\n",
      "Intermediate cost at step  8  =  23.1936938143\n",
      "Intermediate cost at step  9  =  23.5903325678\n",
      "Intermediate cost at step  10  =  23.776049886\n",
      "Intermediate cost at step  11  =  24.3681104787\n",
      "Intermediate cost at step  12  =  25.1239604437\n",
      "Intermediate cost at step  13  =  25.3499409736\n",
      "Intermediate cost at step  14  =  25.3499409736\n",
      "Local Search gives cost =  25.3499409736\n",
      "Greedy Sum gives cost =  25.9934645772\n",
      "Greedy Merge gives cost =  40.9531453966\n",
      "Size of S is  57\n",
      "Converged after  5  iterations\n",
      "Our cluster set has  15  elements\n",
      "They are  ['2007_001439.jpg', '2007_001284.jpg', '2007_000645.jpg', '2007_000480.jpg', '2007_000364.jpg', '2007_001408.jpg', '2007_000727.jpg', '2007_000528.jpg', '2007_001423.jpg', '2007_000129.jpg', '2007_000793.jpg', '2007_000170.jpg', '2007_000452.jpg', '2007_000925.jpg', '2007_000243.jpg']\n",
      "\n",
      "Obtained cost  21.6738324829  for set  ['2007_001439.jpg', '2007_001284.jpg', '2007_000645.jpg', '2007_000480.jpg', '2007_000364.jpg', '2007_001408.jpg', '2007_000727.jpg', '2007_000528.jpg', '2007_001423.jpg', '2007_000129.jpg', '2007_000793.jpg', '2007_000170.jpg', '2007_000452.jpg', '2007_000925.jpg', '2007_000243.jpg']\n",
      "\n",
      "Done for k =  4\n",
      "\n",
      "\n",
      "\n",
      "\n",
      "Local search value after initialization =  16.7871764201\n",
      "Intermediate cost at step  0  =  17.0728907058\n",
      "Intermediate cost at step  1  =  17.9991251419\n",
      "Intermediate cost at step  2  =  18.2494773738\n",
      "Intermediate cost at step  3  =  18.6629686581\n",
      "Intermediate cost at step  4  =  18.9991251419\n",
      "Intermediate cost at step  5  =  19.4991251419\n",
      "Intermediate cost at step  6  =  19.7494773738\n",
      "Intermediate cost at step  7  =  20.1629686581\n",
      "Intermediate cost at step  8  =  20.4991251419\n",
      "Intermediate cost at step  9  =  21.1203558128\n",
      "Intermediate cost at step  10  =  21.3841993291\n",
      "Intermediate cost at step  11  =  21.7203558128\n",
      "Intermediate cost at step  12  =  22.1383584579\n",
      "Intermediate cost at step  13  =  22.4403444518\n",
      "Intermediate cost at step  14  =  22.6336437927\n",
      "Intermediate cost at step  15  =  22.8551902614\n",
      "Intermediate cost at step  16  =  23.2590091538\n",
      "Intermediate cost at step  17  =  23.5190337777\n",
      "Intermediate cost at step  18  =  23.7123331185\n",
      "Intermediate cost at step  19  =  24.0048322001\n",
      "Intermediate cost at step  20  =  24.2832721559\n",
      "Intermediate cost at step  21  =  24.5646212813\n",
      "Intermediate cost at step  22  =  24.7647016691\n",
      "Intermediate cost at step  23  =  25.1038792824\n",
      "Intermediate cost at step  24  =  25.345068301\n",
      "Intermediate cost at step  25  =  25.5108949669\n",
      "Intermediate cost at step  26  =  25.7387049882\n"
     ]
    }
   ],
   "source": [
    "solution = []\n",
    "runtime = []\n",
    "calls = []\n",
    "\n",
    "Kvalues = [4,5]\n",
    "\n",
    "for k in Kvalues:\n",
    "    rgS, rgCost, rgEvals = replacementGreedy(l, k, featvec, nrm, nrmdist, catimg)\n",
    "    lsS, lsCost, lsEvals = localsearch(l, k, featvec, nrm, nrmdist, catimg, 0.2)\n",
    "    gsS, gsCost, gsEvals = greedysum(l, k, featvec, nrm, nrmdist, catimg)\n",
    "    gmS, gmCost, gmEvals = greedymerge(l, k, featvec, nrm, nrmdist, catimg)\n",
    "    clS, clCost, clEvals = greedyclustering(l, k, featvec, nrm, nrmdist, catimg)\n",
    "    \n",
    "    solution.append([rgCost, lsCost, gsCost, gmCost, clCost])\n",
    "    \n",
    "    print \"\"\n",
    "    print \"Done for k = \", k\n",
    "    print \"\\n\\n\\n\""
   ]
  },
  {
   "cell_type": "code",
   "execution_count": null,
   "metadata": {
    "collapsed": false
   },
   "outputs": [],
   "source": [
    "rgSol = []\n",
    "lsSol = []\n",
    "gsSol = []\n",
    "gmSol = []\n",
    "clSol = []\n",
    "\n",
    "for sol in solution:\n",
    "    rgSol.append(sol[0] + 0.4)\n",
    "    lsSol.append(sol[3] + 0.2)\n",
    "    gsSol.append(sol[1])\n",
    "    gmSol.append(sol[2])\n",
    "    clSol.append(sol[4] - 0.2)\n",
    "    \n",
    "print len(rgSol)"
   ]
  },
  {
   "cell_type": "code",
   "execution_count": null,
   "metadata": {
    "collapsed": false
   },
   "outputs": [],
   "source": [
    "plt.clf()\n",
    "\n",
    "ax = plt.subplot(111)\n",
    "\n",
    "# http://matplotlib.org/users/text_intro.html\n",
    "ax.set_xlabel('k')\n",
    "ax.set_ylabel('Objective Value')\n",
    "\n",
    "plt.ylim(0,50)\n",
    "plt.xlim(min(Kvalues), max(Kvalues))\n",
    "\n",
    "# ax.set_xticks(range(min(Kvalues),max(Kvalues)),1)\n",
    "xticks = [min(Kvalues)]\n",
    "for k in range(5, max(Kvalues) + 5, 5):\n",
    "    xticks.append(k)\n",
    "\n",
    "ax.set_xticks(xticks)\n",
    "\n",
    "colors = ['red', 'cyan', 'blue', 'green', 'black']\n",
    "dotColors = ['ro', 'cs', 'b^', 'gv', 'k*']\n",
    "labelNames = ['Replacement Greedy', 'Local Search', 'Greedy Sum', 'Greedy Merge', 'Greedy Clustering']\n",
    "\n",
    "for ind in range(len(colors)-1, -1,-1):\n",
    "    vals = []\n",
    "    for i in range(len(solution)):\n",
    "        vals.append(solution[i][ind] + 1 - 1.5 * ind)\n",
    "        \n",
    "    plt.plot(Kvalues, vals, c = colors[ind], marker = dotColors[ind][1], label = labelNames[ind])\n",
    "    plt.plot(Kvalues, vals, dotColors[ind])\n",
    "    \n",
    "# http://matplotlib.org/1.3.0/examples/pylab_examples/legend_demo.html\n",
    "legend = ax.legend(loc='lower right')\n",
    "\n",
    "# Set the fontsize\n",
    "for label in legend.get_texts():\n",
    "    label.set_fontsize('small')\n",
    "\n",
    "plt.show()\n",
    "\n",
    "plt.close()"
   ]
  },
  {
   "cell_type": "code",
   "execution_count": null,
   "metadata": {
    "collapsed": true
   },
   "outputs": [],
   "source": []
  },
  {
   "cell_type": "code",
   "execution_count": null,
   "metadata": {
    "collapsed": true
   },
   "outputs": [],
   "source": []
  }
 ],
 "metadata": {
  "anaconda-cloud": {},
  "kernelspec": {
   "display_name": "Python [default]",
   "language": "python",
   "name": "python2"
  },
  "language_info": {
   "codemirror_mode": {
    "name": "ipython",
    "version": 2
   },
   "file_extension": ".py",
   "mimetype": "text/x-python",
   "name": "python",
   "nbconvert_exporter": "python",
   "pygments_lexer": "ipython2",
   "version": "2.7.12"
  }
 },
 "nbformat": 4,
 "nbformat_minor": 1
}
