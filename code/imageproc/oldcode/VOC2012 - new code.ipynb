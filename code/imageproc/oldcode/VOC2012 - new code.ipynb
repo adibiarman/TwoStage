{
 "cells": [
  {
   "cell_type": "code",
   "execution_count": 1,
   "metadata": {
    "collapsed": true
   },
   "outputs": [],
   "source": [
    "import xml.etree.ElementTree as ET\n",
    "import glob"
   ]
  },
  {
   "cell_type": "code",
   "execution_count": 2,
   "metadata": {
    "collapsed": true
   },
   "outputs": [],
   "source": [
    "import time\n",
    "import numpy as np"
   ]
  },
  {
   "cell_type": "code",
   "execution_count": 3,
   "metadata": {
    "collapsed": true
   },
   "outputs": [],
   "source": [
    "# we will work with totImages images\n",
    "totImages = 100"
   ]
  },
  {
   "cell_type": "code",
   "execution_count": 4,
   "metadata": {
    "collapsed": true
   },
   "outputs": [],
   "source": [
    "fn = glob.glob(\"VOC2012/Annotations/*\");"
   ]
  },
  {
   "cell_type": "code",
   "execution_count": 5,
   "metadata": {
    "collapsed": false
   },
   "outputs": [],
   "source": [
    "images = dict()\n",
    "cat = set()"
   ]
  },
  {
   "cell_type": "code",
   "execution_count": 6,
   "metadata": {
    "collapsed": false
   },
   "outputs": [
    {
     "name": "stdout",
     "output_type": "stream",
     "text": [
      "Done parsing in  0.0796840190887  seconds\n"
     ]
    }
   ],
   "source": [
    "start = time.time()\n",
    "\n",
    "cnt = 0\n",
    "\n",
    "for f in fn:\n",
    "    cnt = cnt + 1\n",
    "    if cnt > totImages:\n",
    "        break\n",
    "    \n",
    "    tree = ET.parse(f)\n",
    "    root = tree.getroot()\n",
    "\n",
    "    curFile = \"\"\n",
    "    for child in root:\n",
    "        if child.tag == 'filename':\n",
    "            curFile = child.text\n",
    "    images[curFile] = []\n",
    "    \n",
    "    for child in root:\n",
    "        if child.tag == 'object':\n",
    "            for child2 in child:\n",
    "                if child2.tag == 'name':\n",
    "                    images[curFile].append(child2.text)\n",
    "                    cat.add(child2.text)\n",
    "                    \n",
    "print 'Done parsing in ', time.time() - start, \" seconds\""
   ]
  },
  {
   "cell_type": "code",
   "execution_count": 7,
   "metadata": {
    "collapsed": false
   },
   "outputs": [
    {
     "name": "stdout",
     "output_type": "stream",
     "text": [
      "['sheep', 'horse', 'bicycle', 'bottle', 'cow', 'sofa', 'dog', 'bus', 'cat', 'person', 'train', 'diningtable', 'aeroplane', 'car', 'pottedplant', 'tvmonitor', 'chair', 'bird', 'boat', 'motorbike']\n"
     ]
    }
   ],
   "source": [
    "cat = list(cat)\n",
    "print cat"
   ]
  },
  {
   "cell_type": "code",
   "execution_count": 8,
   "metadata": {
    "collapsed": false
   },
   "outputs": [
    {
     "data": {
      "text/plain": [
       "20"
      ]
     },
     "execution_count": 8,
     "metadata": {},
     "output_type": "execute_result"
    }
   ],
   "source": [
    "len(cat)"
   ]
  },
  {
   "cell_type": "code",
   "execution_count": 9,
   "metadata": {
    "collapsed": false
   },
   "outputs": [
    {
     "name": "stdout",
     "output_type": "stream",
     "text": [
      "['2007_000925.jpg', '2007_000676.jpg', '2007_000175.jpg', '2007_001416.jpg']\n"
     ]
    }
   ],
   "source": [
    "catimg = dict()\n",
    "for curCat in cat:\n",
    "    catimg[curCat] = []\n",
    "\n",
    "for img in images:\n",
    "    for curCat in set(images[img]):\n",
    "        catimg[curCat].append(img)\n",
    "        \n",
    "print catimg['sheep'][:5]"
   ]
  },
  {
   "cell_type": "code",
   "execution_count": 10,
   "metadata": {
    "collapsed": false
   },
   "outputs": [
    {
     "name": "stdout",
     "output_type": "stream",
     "text": [
      "2007_001154.jpg ['sofa', 'pottedplant']\n",
      "2007_001154.jpg [0 0 0 0 0 1 0 0 0 0 0 0 0 0 1 0 0 0 0 0]\n",
      "\n",
      "2007_000645.jpg ['bird', 'bird']\n",
      "2007_000645.jpg [0 0 0 0 0 0 0 0 0 0 0 0 0 0 0 0 0 2 0 0]\n",
      "\n",
      "2007_000061.jpg ['boat', 'boat']\n",
      "2007_000061.jpg [0 0 0 0 0 0 0 0 0 0 0 0 0 0 0 0 0 0 2 0]\n",
      "\n",
      "2007_000847.jpg ['diningtable', 'person']\n",
      "2007_000847.jpg [0 0 0 0 0 0 0 0 0 1 0 1 0 0 0 0 0 0 0 0]\n",
      "\n",
      "2007_000129.jpg ['bicycle', 'bicycle', 'bicycle', 'person', 'person', 'person']\n",
      "2007_000129.jpg [0 0 3 0 0 0 0 0 0 3 0 0 0 0 0 0 0 0 0 0]\n",
      "\n"
     ]
    }
   ],
   "source": [
    "featvec = images.copy()\n",
    "\n",
    "cnt = 0\n",
    "\n",
    "for img in images:\n",
    "    cnt = cnt + 1\n",
    "    if cnt <= 5:\n",
    "        print img, images[img]\n",
    "    \n",
    "    features = featvec[img]\n",
    "    \n",
    "    featvec[img] = [0 for i in range(len(cat))]\n",
    "    for f in features:\n",
    "        for j in range(len(cat)):\n",
    "            if cat[j] == f:\n",
    "                featvec[img][j] = featvec[img][j] + 1\n",
    "                break\n",
    "                \n",
    "    featvec[img] = np.array(featvec[img])\n",
    "                \n",
    "    if cnt <= 5:\n",
    "        print img, featvec[img]\n",
    "        print \"\""
   ]
  },
  {
   "cell_type": "code",
   "execution_count": 27,
   "metadata": {
    "collapsed": true
   },
   "outputs": [],
   "source": [
    "# we will pick the exemplar such that max(nrm(v,v') < nrm(v, exemplar)). \n",
    "# taking the exemplar twice(or 3x, 4x) the longest vector should thus suffice\n",
    "exemplar = [0]\n",
    "for elem in featvec:\n",
    "    if np.linalg.norm(featvec[elem]) > np.linalg.norm(exemplar):\n",
    "        exemplar = featvec[elem][:]\n",
    "exemplar = exemplar * 3\n",
    "\n",
    "# compute a dictionary of norms and normdistances\n",
    "exempDist = featvec.copy()\n",
    "for elem in featvec:\n",
    "    exempDist[elem] = np.linalg.norm(featvec[elem] - exemplar)\n",
    "\n",
    "dist = dict()\n",
    "for el1 in featvec:\n",
    "    for el2 in featvec:\n",
    "        dist[(el1, el2)] = np.linalg.norm(featvec[el1] - featvec[el2])"
   ]
  },
  {
   "cell_type": "code",
   "execution_count": 12,
   "metadata": {
    "collapsed": true
   },
   "outputs": [],
   "source": [
    "n = len(images.keys())\n",
    "m = len(cat)\n",
    "l = 8\n",
    "k = 5"
   ]
  },
  {
   "cell_type": "code",
   "execution_count": 13,
   "metadata": {
    "collapsed": false
   },
   "outputs": [
    {
     "name": "stdout",
     "output_type": "stream",
     "text": [
      "Ran in  0.58779501915\n",
      "Obtained cost 18.97978888\n"
     ]
    }
   ],
   "source": [
    "from replacementGreedy import replacementGreedy\n",
    "\n",
    "start = time.time()\n",
    "rg = replacementGreedy(l, k, featvec, exempDist, dist, catimg)\n",
    "\n",
    "print 'Ran in ', time.time() - start\n",
    "print 'Obtained cost', rg[1]"
   ]
  },
  {
   "cell_type": "code",
   "execution_count": 28,
   "metadata": {
    "collapsed": false
   },
   "outputs": [
    {
     "name": "stdout",
     "output_type": "stream",
     "text": [
      "Distance to exemplar 22.4053565024\n",
      "2.44948974278\n",
      "2.82842712475\n",
      "2.82842712475\n",
      "4.79583152331\n",
      "1.41421356237\n",
      "3.16227766017\n",
      "1.41421356237\n",
      "2.0\n",
      "1.0\n",
      "2.2360679775\n",
      "1.41421356237\n",
      "2.44948974278\n",
      "2.2360679775\n",
      "2.82842712475\n",
      "3.60555127546\n",
      "1.41421356237\n",
      "1.41421356237\n",
      "2.2360679775\n",
      "1.0\n",
      "2.2360679775\n",
      "1.0\n",
      "2.44948974278\n",
      "2.2360679775\n",
      "3.60555127546\n",
      "2.2360679775\n",
      "2.44948974278\n",
      "1.73205080757\n",
      "2.2360679775\n",
      "3.0\n",
      "2.82842712475\n",
      "2.82842712475\n",
      "6.32455532034\n",
      "2.2360679775\n",
      "2.2360679775\n",
      "1.0\n",
      "2.2360679775\n",
      "2.82842712475\n",
      "1.41421356237\n",
      "2.82842712475\n",
      "2.44948974278\n",
      "2.64575131106\n",
      "3.60555127546\n",
      "2.44948974278\n",
      "1.0\n",
      "2.2360679775\n",
      "2.0\n",
      "2.2360679775\n",
      "4.24264068712\n",
      "2.82842712475\n",
      "2.2360679775\n",
      "3.74165738677\n",
      "2.64575131106\n",
      "2.44948974278\n",
      "1.0\n",
      "0.0\n",
      "3.60555127546\n",
      "2.82842712475\n",
      "1.41421356237\n",
      "5.47722557505\n",
      "5.83095189485\n",
      "6.32455532034\n",
      "4.0\n",
      "2.2360679775\n",
      "1.41421356237\n",
      "4.0\n",
      "2.2360679775\n",
      "2.44948974278\n",
      "1.41421356237\n",
      "2.2360679775\n",
      "0.0\n",
      "2.82842712475\n",
      "2.44948974278\n",
      "2.44948974278\n",
      "2.2360679775\n",
      "2.2360679775\n",
      "2.44948974278\n",
      "1.41421356237\n",
      "1.41421356237\n",
      "0.0\n",
      "2.64575131106\n",
      "1.41421356237\n",
      "2.2360679775\n",
      "2.64575131106\n",
      "6.16441400297\n",
      "3.0\n",
      "4.24264068712\n",
      "2.2360679775\n",
      "1.73205080757\n",
      "1.73205080757\n",
      "2.2360679775\n",
      "3.60555127546\n",
      "2.2360679775\n",
      "2.2360679775\n",
      "2.2360679775\n",
      "2.2360679775\n",
      "1.41421356237\n",
      "2.82842712475\n",
      "2.2360679775\n",
      "2.82842712475\n"
     ]
    }
   ],
   "source": [
    "el0 = featvec.keys()[0]\n",
    "\n",
    "print 'Distance to exemplar', exempDist[el0]\n",
    "\n",
    "for other in featvec:\n",
    "    if other != el0:\n",
    "        print nrmdist[(other, el0)]"
   ]
  },
  {
   "cell_type": "code",
   "execution_count": null,
   "metadata": {
    "collapsed": true
   },
   "outputs": [],
   "source": []
  }
 ],
 "metadata": {
  "anaconda-cloud": {},
  "kernelspec": {
   "display_name": "Python [conda root]",
   "language": "python",
   "name": "conda-root-py"
  },
  "language_info": {
   "codemirror_mode": {
    "name": "ipython",
    "version": 2
   },
   "file_extension": ".py",
   "mimetype": "text/x-python",
   "name": "python",
   "nbconvert_exporter": "python",
   "pygments_lexer": "ipython2",
   "version": "2.7.12"
  }
 },
 "nbformat": 4,
 "nbformat_minor": 1
}
