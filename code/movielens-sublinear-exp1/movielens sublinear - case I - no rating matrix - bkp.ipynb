{
 "cells": [
  {
   "cell_type": "markdown",
   "metadata": {},
   "source": [
    "# Part I. Ingesting data."
   ]
  },
  {
   "cell_type": "markdown",
   "metadata": {},
   "source": [
    "Create a dictionary with movies for each genre."
   ]
  },
  {
   "cell_type": "code",
   "execution_count": 1,
   "metadata": {
    "collapsed": false
   },
   "outputs": [],
   "source": [
    "import numpy as np\n",
    "import math\n",
    "import time\n",
    "import matplotlib.pyplot as plt\n",
    "import random\n",
    "\n",
    "from scipy import stats"
   ]
  },
  {
   "cell_type": "markdown",
   "metadata": {},
   "source": [
    "### Read in the ratings. Ratings are in the format - userId,movieId,rating"
   ]
  },
  {
   "cell_type": "code",
   "execution_count": 2,
   "metadata": {
    "collapsed": false
   },
   "outputs": [
    {
     "name": "stdout",
     "output_type": "stream",
     "text": [
      "200 2493\n"
     ]
    }
   ],
   "source": [
    "ratingsFile = open(\"ratingsSummary.csv\", \"r\")\n",
    "\n",
    "userRatings = dict()\n",
    "relevantMovies = dict()\n",
    "\n",
    "for line in ratingsFile:\n",
    "    data = map(float,line.split(','))\n",
    "    \n",
    "    usr = int(data[0])\n",
    "    mov = int(data[1])\n",
    "    r = int(data[2])\n",
    "    \n",
    "    if usr in userRatings:\n",
    "        userRatings[usr][mov] = r\n",
    "    else:\n",
    "        userRatings[usr] = dict()\n",
    "        userRatings[usr][mov] = r\n",
    "        \n",
    "    relevantMovies[mov] = True\n",
    "    \n",
    "print len(userRatings.keys()), len(relevantMovies.keys())"
   ]
  },
  {
   "cell_type": "markdown",
   "metadata": {},
   "source": [
    "### Now, read in the movies."
   ]
  },
  {
   "cell_type": "code",
   "execution_count": 3,
   "metadata": {
    "collapsed": true
   },
   "outputs": [],
   "source": [
    "movies = dict() # a category -> list_of_movies dict stored as integers\n",
    "movieCats = dict() # movieID -> categories movie is part\n",
    "\n",
    "# catID returns the index of a category of type string. catName returns the name of the category given its ID.\n",
    "catID = dict()\n",
    "catName = dict()\n",
    "\n",
    "# same as with cat\n",
    "movieID = dict()\n",
    "movieName = dict()"
   ]
  },
  {
   "cell_type": "code",
   "execution_count": 4,
   "metadata": {
    "collapsed": false
   },
   "outputs": [
    {
     "name": "stdout",
     "output_type": "stream",
     "text": [
      "we have 2493 movies\n"
     ]
    }
   ],
   "source": [
    "allData = open(\"movies.csv\", \"r\")\n",
    "\n",
    "# this first line contains header info\n",
    "allData.readline()\n",
    "\n",
    "numMovies = 0\n",
    "numGenres = 0\n",
    "\n",
    "while True:\n",
    "    line = allData.readline()\n",
    "    \n",
    "    if line == '':\n",
    "        break\n",
    "    \n",
    "    curMovieID = int(line.split(\",\", 1)[0])\n",
    "    if curMovieID not in relevantMovies.keys():\n",
    "        continue\n",
    "    \n",
    "    curMovieName = (line.split(\",\", 1)[1]).rsplit(\",\", 1)[0]\n",
    "    curCategories = line.rsplit(\",\", 1)[1].rsplit(\"\\r\")[0].split(\"|\")\n",
    "    \n",
    "    \n",
    "    # update catID, catName, movieID, movieName\n",
    "    movieID[curMovieName] = curMovieID\n",
    "    movieName[curMovieID] = curMovieName\n",
    "    \n",
    "    for cat in curCategories:\n",
    "        if not (cat in catID):\n",
    "            catID[cat] = numGenres\n",
    "            catName[numGenres] = cat\n",
    "            \n",
    "            numGenres = numGenres + 1\n",
    "            \n",
    "    movieCats[curMovieID] = curCategories\n",
    "            \n",
    "    for cat in curCategories:\n",
    "        if catID[cat] in movies:\n",
    "            movies[catID[cat]].append(movieID[curMovieName])\n",
    "        else:\n",
    "            movies[catID[cat]] = [movieID[curMovieName]]\n",
    "    \n",
    "    numMovies = numMovies + 1\n",
    "\n",
    "print \"we have\", numMovies, \"movies\""
   ]
  },
  {
   "cell_type": "code",
   "execution_count": 5,
   "metadata": {
    "collapsed": false
   },
   "outputs": [
    {
     "name": "stdout",
     "output_type": "stream",
     "text": [
      "[593, 841, 1076, 1200, 1214, 1215, 1219, 1241, 1258, 1261]\n",
      "\"Silence of the Lambs, The (1991)\"\n",
      "['Crime', 'Horror', 'Thriller']\n",
      "['Mystery', 'Romance', 'Sci-Fi', 'Musical', 'Film-Noir', 'Crime', 'Drama', 'Fantasy', 'Western', 'Animation', 'War', 'Adventure', 'Horror', 'Action', '(no genres listed)', 'Comedy', 'Documentary', 'Children', 'Thriller', 'IMAX']\n"
     ]
    }
   ],
   "source": [
    "print movies[catID['Horror']][:10]\n",
    "print movieName[movies[catID['Horror']][0]]\n",
    "print movieCats[movies[catID['Horror']][0]]\n",
    "print catID.keys()"
   ]
  },
  {
   "cell_type": "code",
   "execution_count": 6,
   "metadata": {
    "collapsed": false
   },
   "outputs": [
    {
     "name": "stdout",
     "output_type": "stream",
     "text": [
      "We have 200 users\n",
      "We have 2493 movies\n",
      "We have 20 genres\n"
     ]
    }
   ],
   "source": [
    "print 'We have', len(userRatings.keys()), 'users'\n",
    "print 'We have', len(movieCats), 'movies'\n",
    "print 'We have', len(catID.keys()), 'genres'"
   ]
  },
  {
   "cell_type": "code",
   "execution_count": 7,
   "metadata": {
    "collapsed": false
   },
   "outputs": [
    {
     "name": "stdout",
     "output_type": "stream",
     "text": [
      "2493 200\n"
     ]
    }
   ],
   "source": [
    "numMovies = len(movieCats)\n",
    "numUsers = len(userRatings.keys())\n",
    "\n",
    "print numMovies, numUsers"
   ]
  },
  {
   "cell_type": "markdown",
   "metadata": {},
   "source": [
    "#### compute the weights for each user"
   ]
  },
  {
   "cell_type": "code",
   "execution_count": 8,
   "metadata": {
    "collapsed": true
   },
   "outputs": [],
   "source": [
    "weights = dict()\n",
    "for user in userRatings.keys():\n",
    "    weights[user] = dict()\n",
    "    \n",
    "    for genre in catID.keys():\n",
    "        weights[user][genre] = 0\n",
    "        \n",
    "    tot = 0\n",
    "        \n",
    "    for mov in userRatings[user]:\n",
    "        genres = movieCats[mov]\n",
    "        \n",
    "        for genre in genres:\n",
    "            weights[user][genre] = weights[user][genre] + 1\n",
    "            tot = tot + 1\n",
    "            \n",
    "    for genre in catID.keys():\n",
    "        weights[user][genre] = 1.0 * weights[user][genre] / tot\n",
    "\n",
    "    # verify that they sum to 1\n",
    "    curSum = 0\n",
    "    for genre in weights[user]:\n",
    "        curSum = curSum + weights[user][genre]\n",
    "    assert 0.9999 <= curSum and curSum <= 1.0001, \"weights don't sum up to 1\""
   ]
  },
  {
   "cell_type": "markdown",
   "metadata": {},
   "source": [
    "# Part II. Fix k = 3. Increase l from 5 to 50"
   ]
  },
  {
   "cell_type": "code",
   "execution_count": 9,
   "metadata": {
    "collapsed": true
   },
   "outputs": [],
   "source": [
    "k = 3"
   ]
  },
  {
   "cell_type": "code",
   "execution_count": 10,
   "metadata": {
    "collapsed": false
   },
   "outputs": [],
   "source": [
    "from replacementGreedy import replacementGreedy\n",
    "from greedysum import gsWrapper\n",
    "from greedymerge import gmWrapper\n",
    "from localsearch import lsWrapper"
   ]
  },
  {
   "cell_type": "code",
   "execution_count": 11,
   "metadata": {
    "collapsed": false
   },
   "outputs": [],
   "source": [
    "def computeCostOuter(userIndex, A):\n",
    "    tot = 0\n",
    "\n",
    "    curUser = userRatings.keys()[userIndex]\n",
    "\n",
    "    # make sure we are only considering movies the current user rated\n",
    "    ratedA = list(set(A).intersection(userRatings[curUser].keys()))\n",
    "\n",
    "    catA = dict()\n",
    "    for cat in catID.keys():\n",
    "        catA[cat] = []\n",
    "    for mov in ratedA:\n",
    "        for cat in movieCats[mov]:\n",
    "            catA[cat].append(mov)\n",
    "\n",
    "    for cat in catID.keys():\n",
    "        # now, find the highest rated movie in each category\n",
    "        highestRated = 0\n",
    "        for mov in catA[cat]:\n",
    "            highestRated = max(highestRated, userRatings[curUser][mov])\n",
    "\n",
    "        tot = tot + weights[curUser][cat] * highestRated\n",
    "\n",
    "    return tot\n",
    "\n",
    "# compute the greedy maximization solution for S for the second stage submodular maximization\n",
    "def greedyOuter(userIndex, S):\n",
    "    greedyS = []\n",
    "\n",
    "    use = [False for s in S]\n",
    "\n",
    "    for times in range(k):\n",
    "        # at each step, add the element that gives the greatest marginal gain \n",
    "\n",
    "        bestInd = -1\n",
    "        bestCost = -1\n",
    "\n",
    "        for ind in range(len(S)):\n",
    "            if use[ind] == False:\n",
    "                greedyS.append(S[ind])\n",
    "\n",
    "                curCost = computeCostOuter(userIndex, greedyS)\n",
    "                if curCost > bestCost:\n",
    "                    bestCost = curCost\n",
    "                    bestInd = ind\n",
    "\n",
    "                greedyS.pop()\n",
    "\n",
    "        greedyS.append(S[bestInd])\n",
    "        use[bestInd] = True\n",
    "\n",
    "    return computeCostOuter(userIndex, greedyS)\n",
    "\n",
    "# return the mean, the confidence interval, and the runtime to compute\n",
    "def computeRatio(S, otherUsers):\n",
    "    rtGS = time.time()\n",
    "    groundSetMean = 0\n",
    "    for other in otherUsers:\n",
    "        groundSetMean = groundSetMean + greedyOuter(other, movieName.keys())\n",
    "    groundSetMean = 1.0 * groundSetMean / len(otherUsers)\n",
    "    rtGS = time.time() - rtGS\n",
    "    \n",
    "#     SMean = 0\n",
    "#     for other in otherUsers:\n",
    "#         SMean = SMean + greedyOuter(other, S)\n",
    "#     SMean = 1.0 * SMean / len(otherUsers)\n",
    "    \n",
    "#     print SMean / groundSetMean\n",
    "#     return SMean / groundSetMean\n",
    "\n",
    "    rtS = time.time()\n",
    "    Sval = []\n",
    "    for other in otherUsers:\n",
    "        curVal = greedyOuter(other, S) / groundSetMean\n",
    "        Sval.append(curVal)\n",
    "    rtS = time.time() - rtS\n",
    "    \n",
    "    print np.mean(Sval)\n",
    "    \n",
    "    return np.mean(Sval), \\\n",
    "        stats.norm.interval(0.95, loc=np.mean(Sval), scale=np.std(Sval)/np.sqrt(len(otherUsers))), \\\n",
    "        rtS / rtGS"
   ]
  },
  {
   "cell_type": "code",
   "execution_count": null,
   "metadata": {
    "collapsed": true
   },
   "outputs": [],
   "source": [
    "# return solutionSet, solutionValue, "
   ]
  },
  {
   "cell_type": "code",
   "execution_count": 12,
   "metadata": {
    "collapsed": false
   },
   "outputs": [
    {
     "name": "stdout",
     "output_type": "stream",
     "text": [
      "Replacement Greedy gives cost 352.480436783\n",
      "0.786335657055\n",
      "Greedy Sum gives cost =  352.480436783\n",
      "0.786335657055\n",
      "Greedy Merge gives cost =  416.830681304\n",
      "Size of S is  119\n",
      "0.984309141592\n",
      "[352.48043678347165, 352.48043678347165, 416.8306813043843]\n",
      "[66.90506100654602, 35.590461015701294, 33.581660985946655]\n",
      "[0.0010294293268442794, 0.0010279103970716635, 0.04939232558166809]\n",
      "[(0.7863356570548824, (0.73124797092203075, 0.84142334318773404)), (0.7863356570548824, (0.73124797092203075, 0.84142334318773404)), (0.98430914159247307, (0.9487884013561847, 1.0198298818287614))]\n",
      "\n",
      "Done for l =  3\n",
      "\n",
      "\n",
      "\n",
      "\n",
      "Replacement Greedy gives cost 363.71278472\n",
      "0.82819172809\n",
      "Greedy Sum gives cost =  362.235155977\n",
      "0.807805323961\n",
      "Greedy Merge gives cost =  416.830681304\n",
      "Size of S is  119\n",
      "0.984309141592\n",
      "[363.7127847197164, 362.2351559774917, 416.8306813043843]\n",
      "[118.82006597518921, 48.83973002433777, 33.689528942108154]\n",
      "[0.001491920829211572, 0.001532465324974765, 0.04890052236348306]\n",
      "[(0.82819172808998209, (0.78075016191945545, 0.87563329426050873)), (0.80780532396090821, (0.75092539237378486, 0.86468525554803155)), (0.98430914159247307, (0.9487884013561847, 1.0198298818287614))]\n",
      "\n",
      "Done for l =  4\n",
      "\n",
      "\n",
      "\n",
      "\n",
      "Replacement Greedy gives cost 373.294200219\n",
      "0.876451312558\n",
      "Greedy Sum gives cost =  364.772564582\n",
      "0.823251523527\n",
      "Greedy Merge gives cost =  416.830681304\n",
      "Size of S is  119\n",
      "0.984309141592\n",
      "[373.2942002191408, 364.77256458242874, 416.8306813043843]\n",
      "[171.38985204696655, 64.97216701507568, 33.63596796989441]\n",
      "[0.0019147823482820975, 0.0019002962199088582, 0.050049924021739856]\n",
      "[(0.87645131255811604, (0.83892752992518982, 0.91397509519104225)), (0.82325152352650921, (0.77248259234202299, 0.87402045471099543)), (0.98430914159247307, (0.9487884013561847, 1.0198298818287614))]\n",
      "\n",
      "Done for l =  5\n",
      "\n",
      "\n",
      "\n",
      "\n",
      "Replacement Greedy gives cost 381.734577723\n",
      "0.893280371632\n",
      "Greedy Sum gives cost =  371.124616658\n",
      "0.834459304016\n",
      "Greedy Merge gives cost =  416.830681304\n",
      "Size of S is  119\n",
      "0.984309141592\n",
      "[381.7345777226121, 371.12461665837833, 416.8306813043843]\n",
      "[279.3140399456024, 92.03704190254211, 32.58375310897827]\n",
      "[0.0027377114253024563, 0.002860093682592915, 0.05019231712216033]\n",
      "[(0.89328037163204088, (0.85440016943525754, 0.93216057382882422)), (0.83445930401610402, (0.78514224237678998, 0.88377636565541806)), (0.98430914159247307, (0.9487884013561847, 1.0198298818287614))]\n",
      "\n",
      "Done for l =  7\n",
      "\n",
      "\n",
      "\n",
      "\n",
      "Replacement Greedy gives cost 389.220250138\n",
      "0.906936253767\n",
      "Greedy Sum gives cost =  381.101033548\n",
      "0.887712515526\n",
      "Greedy Merge gives cost =  416.830681304\n",
      "Size of S is  119\n",
      "0.984309141592\n",
      "[389.2202501377353, 381.1010335484827, 416.8306813043843]\n",
      "[436.50922107696533, 137.23782801628113, 32.505358934402466]\n",
      "[0.003992474108668804, 0.0040381692187172235, 0.05008419527874477]\n",
      "[(0.90693625376674414, (0.86756214190419534, 0.94631036562929294)), (0.88771251552575181, (0.84584185448405935, 0.92958317656744427)), (0.98430914159247307, (0.9487884013561847, 1.0198298818287614))]\n",
      "\n",
      "Done for l =  10\n",
      "\n",
      "\n",
      "\n",
      "\n",
      "Replacement Greedy gives cost 396.223345287\n",
      "0.919738602958\n",
      "Greedy Sum gives cost =  389.011750778\n",
      "0.916785955911\n",
      "Greedy Merge gives cost =  416.830681304\n",
      "Size of S is  119\n",
      "0.984309141592\n",
      "[396.22334528730227, 389.0117507784379, 416.8306813043843]\n",
      "[644.1359438896179, 207.25518918037415, 32.33085584640503]\n",
      "[0.005728595312861117, 0.005794389735043591, 0.04931718796221101]\n",
      "[(0.91973860295751797, (0.88208194141215912, 0.95739526450287682)), (0.91678595591108303, (0.87438139385868918, 0.95919051796347687)), (0.98430914159247307, (0.9487884013561847, 1.0198298818287614))]\n",
      "\n",
      "Done for l =  14\n",
      "\n",
      "\n",
      "\n",
      "\n",
      "Replacement Greedy gives cost 399.497855636\n",
      "0.928639421271\n",
      "Greedy Sum gives cost =  389.892620637\n",
      "0.920310455765\n",
      "Greedy Merge gives cost =  416.830681304\n",
      "Size of S is  119\n",
      "0.984309141592\n",
      "[399.4978556359009, 389.8926206368145, 416.8306813043843]\n",
      "[790.4963359832764, 260.4526557922363, 31.5134060382843]\n",
      "[0.007046467263704639, 0.007454985154920688, 0.04972356250677244]\n",
      "[(0.92863942127114285, (0.88909566490922998, 0.96818317763305572)), (0.92031045576473736, (0.87940625712873066, 0.96121465440074405)), (0.98430914159247307, (0.9487884013561847, 1.0198298818287614))]\n",
      "\n",
      "Done for l =  17\n",
      "\n",
      "\n",
      "\n",
      "\n",
      "Replacement Greedy gives cost 402.191171456\n",
      "0.934973242725\n",
      "Greedy Sum gives cost =  390.697061258\n",
      "0.922813315317\n",
      "Greedy Merge gives cost =  416.830681304\n",
      "Size of S is  119\n",
      "0.984309141592\n",
      "[402.1911714558748, 390.69706125753527, 416.8306813043843]\n",
      "[933.5082900524139, 322.37378120422363, 31.53041911125183]\n",
      "[0.008190490671608501, 0.008196330951098266, 0.04929265552548717]\n",
      "[(0.93497324272525462, (0.89281192729772951, 0.97713455815277972)), (0.92281331531703137, (0.88411812238009813, 0.96150850825396461)), (0.98430914159247307, (0.9487884013561847, 1.0198298818287614))]\n",
      "\n",
      "Done for l =  20\n",
      "\n",
      "\n",
      "\n",
      "\n",
      "Replacement Greedy gives cost 408.844444345\n",
      "0.943550848942\n",
      "Greedy Sum gives cost =  394.687358791\n",
      "0.932388975189\n",
      "Greedy Merge gives cost =  416.830681304\n",
      "Size of S is  119\n",
      "0.984309141592\n",
      "[408.84444434476444, 394.6873587914759, 416.8306813043843]\n",
      "[1449.0383110046387, 533.5977628231049, 31.312901973724365]\n",
      "[0.012811884893598016, 0.01234753538021746, 0.049461544544216904]\n",
      "[(0.94355084894221264, (0.90143568460975365, 0.98566601327467163)), (0.93238897518897679, (0.89381418268365098, 0.97096376769430259)), (0.98430914159247307, (0.9487884013561847, 1.0198298818287614))]\n",
      "\n",
      "Done for l =  30\n",
      "\n",
      "\n",
      "\n",
      "\n",
      "Replacement Greedy gives cost 413.841902566\n",
      "0.96115611983\n",
      "Greedy Sum gives cost =  400.200570518\n",
      "0.938753844342\n",
      "Greedy Merge gives cost =  416.830681304\n",
      "Size of S is  119\n",
      "0.984309141592\n",
      "[413.84190256552074, 400.2005705184252, 416.8306813043843]\n",
      "[1962.0969038009644, 761.9254539012909, 30.53388786315918]\n",
      "[0.016540580498642363, 0.016840757757440837, 0.048864067988954984]\n",
      "[(0.96115611983038873, (0.92471159044451234, 0.99760064921626512)), (0.93875384434230946, (0.90172840454217662, 0.9757792841424423)), (0.98430914159247307, (0.9487884013561847, 1.0198298818287614))]\n",
      "\n",
      "Done for l =  40\n",
      "\n",
      "\n",
      "\n",
      "\n"
     ]
    }
   ],
   "source": [
    "solution = []\n",
    "runtime = []\n",
    "runtimeRatio = []\n",
    "calls = []\n",
    "ratios = []\n",
    "\n",
    "# Lvalues = [3,4]\n",
    "Lvalues = [3,4,5,7,10,14,17]\n",
    "for l in range(20,50,10):\n",
    "    Lvalues.append(l)\n",
    "\n",
    "# now, pick 20 random users from the remaining\n",
    "otherUsers = random.sample([x for x in range(numUsers/2, numUsers)], 20)\n",
    "    \n",
    "for l in Lvalues:\n",
    "    rg = replacementGreedy(numMovies, numUsers/2, l, k, userRatings, weights, movieCats, catID.keys())\n",
    "    gs = gsWrapper(numMovies, numUsers/2, l, k, userRatings, weights, movieCats, catID.keys())\n",
    "    gm = gmWrapper(numMovies, numUsers/2, l, k, userRatings, weights, movieCats, catID.keys())\n",
    "    \n",
    "    curSol = []\n",
    "    curRt = []\n",
    "    curRtRatio = []\n",
    "    curRatio = []\n",
    "    \n",
    "    curCalls = []\n",
    "    \n",
    "    for alg in [rg, gs, gm]:\n",
    "        start = time.time()\n",
    "        \n",
    "        algS, algCost, algEvals = alg(movieName.keys())\n",
    "        \n",
    "        if alg == rg:\n",
    "            print 'Replacement Greedy gives cost', algCost\n",
    "        \n",
    "        curSol.append(algCost)\n",
    "        curRt.append(time.time() - start)\n",
    "        curCalls.append(algEvals)\n",
    "        \n",
    "        Smean, ci, rtratio = computeRatio(algS, otherUsers)\n",
    "        \n",
    "        curRtRatio.append(rtratio)\n",
    "        curRatio.append((Smean, ci))\n",
    "        \n",
    "    solution.append(curSol)\n",
    "    runtime.append(curRt)\n",
    "    runtimeRatio.append(curRtRatio)\n",
    "    ratios.append(curRatio)\n",
    "    calls.append(curCalls)\n",
    "    \n",
    "    print curSol\n",
    "    print curRt\n",
    "    print curRtRatio\n",
    "    print curRatio\n",
    "    \n",
    "    print \"\"\n",
    "    print \"Done for l = \", l\n",
    "    print \"\\n\\n\\n\""
   ]
  },
  {
   "cell_type": "code",
   "execution_count": null,
   "metadata": {
    "collapsed": true
   },
   "outputs": [],
   "source": [
    "# store locally\n",
    "filename = open('../data/movielens-sublinear.txt', 'w')\n",
    "\n",
    "print>>filename, 'solution'\n",
    "for item in solution:\n",
    "    for (meanVal,sdVal) in item:\n",
    "        print>>filename,meanVal,sdVal[0],sdVal[1]\n",
    "    print>>filename,''\n",
    "    \n",
    "print>>filename, 'runtime'\n",
    "for item in runtime:\n",
    "    print>>filename,item[0],item[1],item[2],item[3]\n",
    "    \n",
    "print>>filename, 'runtimeRatio'\n",
    "for item in runtimeRatio:\n",
    "    print>>filename,item[0],item[1],item[2],item[3]\n",
    "    \n",
    "print>>filename, 'calls'\n",
    "for item in calls:\n",
    "    print>>filename,item[0],item[1],item[2],item[3]"
   ]
  },
  {
   "cell_type": "code",
   "execution_count": 18,
   "metadata": {
    "collapsed": false
   },
   "outputs": [],
   "source": [
    "plt.clf()\n",
    "\n",
    "ax = plt.subplot(111)\n",
    "\n",
    "fs = 17\n",
    "\n",
    "# http://matplotlib.org/users/text_intro.html\n",
    "ax.set_xlabel('l', fontsize=fs)\n",
    "ax.set_ylabel('Objective Value', fontsize=fs)\n",
    "\n",
    "plt.ylim(350,430)\n",
    "plt.xlim(min(Lvalues), max(Lvalues))\n",
    "\n",
    "xticks = [min(Lvalues)]\n",
    "for l in range(10, max(Lvalues) + 10, 10):\n",
    "    xticks.append(l)\n",
    "\n",
    "ax.set_xticks(xticks)\n",
    "\n",
    "for tick in ax.xaxis.get_major_ticks():\n",
    "    tick.label.set_fontsize(fs) \n",
    "for tick in ax.yaxis.get_major_ticks():\n",
    "    tick.label.set_fontsize(fs) \n",
    "\n",
    "colors = ['ro', 'b^', 'gv']\n",
    "labelNames = ['Replacement Greedy', 'Greedy Sum', 'Greedy Merge']\n",
    "\n",
    "for ind in range(len(colors)-1, -1,-1):\n",
    "    vals = []\n",
    "    for i in range(len(solution)):\n",
    "        vals.append(solution[i][ind])\n",
    "        \n",
    "    plt.plot(Lvalues, vals, c = colors[ind][0], marker = colors[ind][1], linewidth=2, label = labelNames[ind])\n",
    "\n",
    "# http://matplotlib.org/1.3.0/examples/pylab_examples/legend_demo.html\n",
    "legend = ax.legend(loc='lower right')\n",
    "\n",
    "# Set the fontsize\n",
    "for label in legend.get_texts():\n",
    "    label.set_fontsize(fs)\n",
    "\n",
    "# plt.show()\n",
    "plt.savefig(\"../../writeup/images/movielens-sublinear-fixed-k\")\n",
    "\n",
    "plt.close()"
   ]
  },
  {
   "cell_type": "code",
   "execution_count": 14,
   "metadata": {
    "collapsed": false
   },
   "outputs": [],
   "source": [
    "plt.clf()\n",
    "\n",
    "ax = plt.subplot(111)\n",
    "\n",
    "fs = 17\n",
    "\n",
    "# http://matplotlib.org/users/text_intro.html\n",
    "ax.set_xlabel('l', fontsize=fs)\n",
    "ax.set_ylabel('Ratio', fontsize=fs)\n",
    "\n",
    "plt.ylim(0.75,1.05)\n",
    "plt.xlim(min(Lvalues), max(Lvalues))\n",
    "\n",
    "xticks = [min(Lvalues)]\n",
    "for l in range(10, max(Lvalues) + 10, 10):\n",
    "    xticks.append(l)\n",
    "\n",
    "ax.set_xticks(xticks)\n",
    "\n",
    "for tick in ax.xaxis.get_major_ticks():\n",
    "    tick.label.set_fontsize(fs) \n",
    "for tick in ax.yaxis.get_major_ticks():\n",
    "    tick.label.set_fontsize(fs) \n",
    "\n",
    "colors = ['ro', 'b^', 'gv']\n",
    "labelNames = ['Replacement Greedy', 'Greedy Sum', 'Greedy Merge']\n",
    "\n",
    "for ind in range(len(colors)-1, -1,-1):\n",
    "    vals = []\n",
    "    for i in range(len(ratios)):\n",
    "        vals.append(ratios[i][ind][0])\n",
    "        \n",
    "    errTop = []\n",
    "    errBot = []\n",
    "    for i in range(len(solution)):\n",
    "        errBot.append(vals[i] - ratios[i][ind][1][0])\n",
    "        errTop.append(ratios[i][ind][1][1] - vals[i])\n",
    "        \n",
    "    plt.plot(Lvalues, vals, c = colors[ind][0], marker = colors[ind][1], linewidth=2, label = labelNames[ind])\n",
    "    plt.errorbar(Lvalues, vals, yerr = [errBot, errTop], fmt = colors[ind])\n",
    "    \n",
    "# http://matplotlib.org/1.3.0/examples/pylab_examples/legend_demo.html\n",
    "legend = ax.legend(loc='lower right')\n",
    "\n",
    "# Set the fontsize\n",
    "# for label in legend.get_texts():\n",
    "#     label.set_fontsize(fs)\n",
    "\n",
    "# plt.show()\n",
    "plt.savefig(\"../../writeup/images/movielens-sublinear-ratio-fixed-k\")\n",
    "\n",
    "plt.close()"
   ]
  },
  {
   "cell_type": "code",
   "execution_count": 15,
   "metadata": {
    "collapsed": false
   },
   "outputs": [
    {
     "data": {
      "text/plain": [
       "[[66.90506100654602, 35.590461015701294, 33.581660985946655],\n",
       " [118.82006597518921, 48.83973002433777, 33.689528942108154],\n",
       " [171.38985204696655, 64.97216701507568, 33.63596796989441],\n",
       " [279.3140399456024, 92.03704190254211, 32.58375310897827],\n",
       " [436.50922107696533, 137.23782801628113, 32.505358934402466],\n",
       " [644.1359438896179, 207.25518918037415, 32.33085584640503],\n",
       " [790.4963359832764, 260.4526557922363, 31.5134060382843],\n",
       " [933.5082900524139, 322.37378120422363, 31.53041911125183],\n",
       " [1449.0383110046387, 533.5977628231049, 31.312901973724365],\n",
       " [1962.0969038009644, 761.9254539012909, 30.53388786315918]]"
      ]
     },
     "execution_count": 15,
     "metadata": {},
     "output_type": "execute_result"
    }
   ],
   "source": [
    "runtime"
   ]
  },
  {
   "cell_type": "code",
   "execution_count": 16,
   "metadata": {
    "collapsed": true
   },
   "outputs": [],
   "source": [
    "plt.clf()\n",
    "\n",
    "ax = plt.subplot(111)\n",
    "\n",
    "fs = 17\n",
    "\n",
    "# http://matplotlib.org/users/text_intro.html\n",
    "ax.set_xlabel('l', fontsize=fs)\n",
    "ax.set_ylabel('Objective Value', fontsize=fs)\n",
    "\n",
    "plt.ylim(0,0.5)\n",
    "plt.xlim(min(Lvalues), max(Lvalues))\n",
    "\n",
    "xticks = [min(Lvalues)]\n",
    "for l in range(10, max(Lvalues) + 10, 10):\n",
    "    xticks.append(l)\n",
    "\n",
    "ax.set_xticks(xticks)\n",
    "\n",
    "for tick in ax.xaxis.get_major_ticks():\n",
    "    tick.label.set_fontsize(fs) \n",
    "for tick in ax.yaxis.get_major_ticks():\n",
    "    tick.label.set_fontsize(fs) \n",
    "\n",
    "colors = ['ro', 'b^', 'gv']\n",
    "labelNames = ['Replacement Greedy', 'Greedy Sum', 'Greedy Merge']\n",
    "\n",
    "for ind in range(len(colors)-1, -1,-1):\n",
    "    vals = []\n",
    "    for i in range(len(runtimeRatio)):\n",
    "        vals.append(runtimeRatio[i][ind])\n",
    "        \n",
    "    plt.plot(Lvalues, vals, c = colors[ind][0], marker = colors[ind][1], linewidth=2, label = labelNames[ind])\n",
    "\n",
    "# http://matplotlib.org/1.3.0/examples/pylab_examples/legend_demo.html\n",
    "legend = ax.legend(loc='lower right')\n",
    "\n",
    "# Set the fontsize\n",
    "for label in legend.get_texts():\n",
    "    label.set_fontsize(fs)\n",
    "\n",
    "# plt.show()\n",
    "plt.savefig(\"../../writeup/images/movielens-sublinear-runtime-ratio-fixed-k\")\n",
    "\n",
    "plt.close()"
   ]
  },
  {
   "cell_type": "code",
   "execution_count": null,
   "metadata": {
    "collapsed": true
   },
   "outputs": [],
   "source": []
  }
 ],
 "metadata": {
  "anaconda-cloud": {},
  "kernelspec": {
   "display_name": "Python [conda root]",
   "language": "python",
   "name": "conda-root-py"
  },
  "language_info": {
   "codemirror_mode": {
    "name": "ipython",
    "version": 2
   },
   "file_extension": ".py",
   "mimetype": "text/x-python",
   "name": "python",
   "nbconvert_exporter": "python",
   "pygments_lexer": "ipython2",
   "version": "2.7.12"
  }
 },
 "nbformat": 4,
 "nbformat_minor": 1
}
