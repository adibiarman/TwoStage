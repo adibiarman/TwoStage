{
 "cells": [
  {
   "cell_type": "markdown",
   "metadata": {},
   "source": [
    "# Part I. Ingesting data."
   ]
  },
  {
   "cell_type": "markdown",
   "metadata": {},
   "source": [
    "Create a dictionary with movies for each genre."
   ]
  },
  {
   "cell_type": "code",
   "execution_count": 1,
   "metadata": {
    "collapsed": true
   },
   "outputs": [],
   "source": [
    "import numpy as np\n",
    "import math\n",
    "import time"
   ]
  },
  {
   "cell_type": "markdown",
   "metadata": {},
   "source": [
    "### First, read in the similarity matrix. Not all movies have ratings, so we'll ignore the ones that are unrated."
   ]
  },
  {
   "cell_type": "code",
   "execution_count": 2,
   "metadata": {
    "collapsed": true
   },
   "outputs": [],
   "source": [
    "simDataFile = open(\"mvs.csv\", \"r\")\n",
    "simData = [ map(float,line.split(',')) for line in simDataFile ]"
   ]
  },
  {
   "cell_type": "code",
   "execution_count": 3,
   "metadata": {
    "collapsed": false
   },
   "outputs": [
    {
     "name": "stdout",
     "output_type": "stream",
     "text": [
      "10473  movies have ratings\n"
     ]
    }
   ],
   "source": [
    "print len(simData), ' movies have ratings'"
   ]
  },
  {
   "cell_type": "code",
   "execution_count": 4,
   "metadata": {
    "collapsed": false
   },
   "outputs": [],
   "source": [
    "simMat = dict()\n",
    "\n",
    "for sd in simData:\n",
    "    simMat[int(sd[0])] = sd[1:] / np.linalg.norm(sd[1:])"
   ]
  },
  {
   "cell_type": "code",
   "execution_count": 5,
   "metadata": {
    "collapsed": false
   },
   "outputs": [
    {
     "data": {
      "text/plain": [
       "0.75932462063717177"
      ]
     },
     "execution_count": 5,
     "metadata": {},
     "output_type": "execute_result"
    }
   ],
   "source": [
    "np.dot(simMat[1], simMat[4])"
   ]
  },
  {
   "cell_type": "markdown",
   "metadata": {},
   "source": [
    "### Read in the ratings. We will be working only with the top 1000 movies. Ratings are in the format - userId,movieId,rating,timestamp"
   ]
  },
  {
   "cell_type": "code",
   "execution_count": 6,
   "metadata": {
    "collapsed": false
   },
   "outputs": [],
   "source": [
    "userRatingsFile = open(\"ratings.csv\", \"r\")\n",
    "userRatings = [ map(float,line.split(',')) for line in userRatingsFile ]"
   ]
  },
  {
   "cell_type": "code",
   "execution_count": 7,
   "metadata": {
    "collapsed": false
   },
   "outputs": [
    {
     "data": {
      "text/plain": [
       "([1.0, 2.0, 3.5, 1112486027.0], [1.0, 29.0, 3.5, 1112484676.0])"
      ]
     },
     "execution_count": 7,
     "metadata": {},
     "output_type": "execute_result"
    }
   ],
   "source": [
    "userRatings[0], userRatings[1]"
   ]
  },
  {
   "cell_type": "code",
   "execution_count": 8,
   "metadata": {
    "collapsed": false
   },
   "outputs": [],
   "source": [
    "ratings = dict.fromkeys(simMat)\n",
    "\n",
    "for r in userRatings:\n",
    "    mov = r[1]\n",
    "    val = r[2]\n",
    "    \n",
    "    try:\n",
    "        if ratings[mov] == None:\n",
    "            ratings[mov] = [val]\n",
    "        else:            \n",
    "            ratings[mov].append(val)\n",
    "    except KeyError:\n",
    "        continue\n",
    "        \n",
    "for r in ratings:\n",
    "    ratings[r] = np.mean(ratings[r])"
   ]
  },
  {
   "cell_type": "code",
   "execution_count": 9,
   "metadata": {
    "collapsed": false
   },
   "outputs": [
    {
     "data": {
      "text/plain": [
       "(3.9212395613240769,\n",
       " 3.2119768016904193,\n",
       " 3.1510404397330194,\n",
       " 3.6152019002375297)"
      ]
     },
     "execution_count": 9,
     "metadata": {},
     "output_type": "execute_result"
    }
   ],
   "source": [
    "ratings[1], ratings[2], ratings[3], ratings[30848]"
   ]
  },
  {
   "cell_type": "markdown",
   "metadata": {},
   "source": [
    "#### write ratings to a file to save time next time"
   ]
  },
  {
   "cell_type": "code",
   "execution_count": 11,
   "metadata": {
    "collapsed": true
   },
   "outputs": [],
   "source": [
    "procRatings = open(\"procRatings.csv\", \"w\")\n",
    "\n",
    "for mov in ratings.keys():\n",
    "    procRatings.write(str(mov) + \",\" + str(ratings[mov]) + \"\\n\")\n",
    "    \n",
    "procRatings.close()"
   ]
  },
  {
   "cell_type": "code",
   "execution_count": null,
   "metadata": {
    "collapsed": true
   },
   "outputs": [],
   "source": []
  }
 ],
 "metadata": {
  "anaconda-cloud": {},
  "kernelspec": {
   "display_name": "Python [conda root]",
   "language": "python",
   "name": "conda-root-py"
  },
  "language_info": {
   "codemirror_mode": {
    "name": "ipython",
    "version": 2
   },
   "file_extension": ".py",
   "mimetype": "text/x-python",
   "name": "python",
   "nbconvert_exporter": "python",
   "pygments_lexer": "ipython2",
   "version": "2.7.12"
  }
 },
 "nbformat": 4,
 "nbformat_minor": 1
}
