{
 "cells": [
  {
   "cell_type": "markdown",
   "metadata": {},
   "source": [
    "# Part I. Ingesting data."
   ]
  },
  {
   "cell_type": "markdown",
   "metadata": {},
   "source": [
    "Create a dictionary with movies for each genre."
   ]
  },
  {
   "cell_type": "code",
   "execution_count": 1,
   "metadata": {
    "collapsed": true
   },
   "outputs": [],
   "source": [
    "import numpy as np\n",
    "import math\n",
    "import time"
   ]
  },
  {
   "cell_type": "markdown",
   "metadata": {},
   "source": [
    "### First, read in the similarity matrix. Not all movies have ratings, so we'll ignore the ones that are unrated."
   ]
  },
  {
   "cell_type": "code",
   "execution_count": 2,
   "metadata": {
    "collapsed": true
   },
   "outputs": [],
   "source": [
    "simDataFile = open(\"mvs.csv\", \"r\")\n",
    "simData = [ map(float,line.split(',')) for line in simDataFile ]"
   ]
  },
  {
   "cell_type": "code",
   "execution_count": 3,
   "metadata": {
    "collapsed": false
   },
   "outputs": [
    {
     "name": "stdout",
     "output_type": "stream",
     "text": [
      "10473  movies have ratings\n"
     ]
    }
   ],
   "source": [
    "print len(simData), ' movies have ratings'"
   ]
  },
  {
   "cell_type": "code",
   "execution_count": 4,
   "metadata": {
    "collapsed": false
   },
   "outputs": [],
   "source": [
    "simMat = dict()\n",
    "\n",
    "for sd in simData:\n",
    "    simMat[int(sd[0])] = sd[1:] / np.linalg.norm(sd[1:])"
   ]
  },
  {
   "cell_type": "code",
   "execution_count": 5,
   "metadata": {
    "collapsed": false
   },
   "outputs": [
    {
     "data": {
      "text/plain": [
       "0.75932462063717177"
      ]
     },
     "execution_count": 5,
     "metadata": {},
     "output_type": "execute_result"
    }
   ],
   "source": [
    "np.dot(simMat[1], simMat[4])"
   ]
  },
  {
   "cell_type": "markdown",
   "metadata": {},
   "source": [
    "### Read in the ratings. We will be working only with the top 100 movies. Ratings are in the format - userId,movieId,rating,timestamp"
   ]
  },
  {
   "cell_type": "code",
   "execution_count": 6,
   "metadata": {
    "collapsed": false
   },
   "outputs": [
    {
     "data": {
      "text/plain": [
       "(3.92123956132, 3.21197680169, 3.15104043973, 3.61520190024)"
      ]
     },
     "execution_count": 6,
     "metadata": {},
     "output_type": "execute_result"
    }
   ],
   "source": [
    "ratingsFile = open(\"procRatings.csv\", \"r\")\n",
    "\n",
    "ratings = dict()\n",
    "\n",
    "for line in ratingsFile:\n",
    "    data = map(float,line.split(','))\n",
    "    ratings[int(data[0])] = data[1]\n",
    "    \n",
    "ratings[1], ratings[2], ratings[3], ratings[30848]"
   ]
  },
  {
   "cell_type": "markdown",
   "metadata": {},
   "source": [
    "#### Set the ratings of the 100'th movie as a threshold"
   ]
  },
  {
   "cell_type": "code",
   "execution_count": 7,
   "metadata": {
    "collapsed": false
   },
   "outputs": [],
   "source": [
    "minRating = sorted(ratings.values(), reverse=True)[99]"
   ]
  },
  {
   "cell_type": "markdown",
   "metadata": {},
   "source": [
    "### Now, read in the movies."
   ]
  },
  {
   "cell_type": "code",
   "execution_count": 8,
   "metadata": {
    "collapsed": true
   },
   "outputs": [],
   "source": [
    "movies = dict() # a category -> list_of_movies dict stored as integers\n",
    "\n",
    "# catID returns the index of a category of type string. catName returns the name of the category given its ID.\n",
    "catID = dict()\n",
    "catName = dict()\n",
    "\n",
    "# same as with cat\n",
    "movieID = dict()\n",
    "movieName = dict()"
   ]
  },
  {
   "cell_type": "code",
   "execution_count": 9,
   "metadata": {
    "collapsed": false
   },
   "outputs": [
    {
     "name": "stdout",
     "output_type": "stream",
     "text": [
      "we have 100 movies\n"
     ]
    }
   ],
   "source": [
    "allData = open(\"movies.csv\", \"r\")\n",
    "\n",
    "# this first line contains header info\n",
    "allData.readline()\n",
    "\n",
    "numMovies = 0\n",
    "numCategories = 0\n",
    "\n",
    "while True:\n",
    "    line = allData.readline()\n",
    "    \n",
    "    if line == '':\n",
    "        break\n",
    "    \n",
    "    curMovieID = int(line.split(\",\", 1)[0])\n",
    "    if curMovieID not in simMat.keys():\n",
    "        continue\n",
    "    if ratings[curMovieID] < minRating:\n",
    "        continue\n",
    "    \n",
    "    curMovieName = (line.split(\",\", 1)[1]).rsplit(\",\", 1)[0]\n",
    "    curCategories = line.rsplit(\",\", 1)[1].rsplit(\"\\r\")[0].split(\"|\")\n",
    "    \n",
    "    \n",
    "    # update catID, catName, movieID, movieName\n",
    "    movieID[curMovieName] = curMovieID\n",
    "    movieName[curMovieID] = curMovieName\n",
    "    \n",
    "    for cat in curCategories:\n",
    "        if not (cat in catID):\n",
    "            catID[cat] = numCategories\n",
    "            catName[numCategories] = cat\n",
    "            \n",
    "            numCategories = numCategories + 1\n",
    "            \n",
    "    for cat in curCategories:\n",
    "        if catID[cat] in movies:\n",
    "            movies[catID[cat]].append(movieID[curMovieName])\n",
    "        else:\n",
    "            movies[catID[cat]] = [movieID[curMovieName]]\n",
    "    \n",
    "    numMovies = numMovies + 1\n",
    "\n",
    "print \"we have\", numMovies, \"movies\""
   ]
  },
  {
   "cell_type": "code",
   "execution_count": 10,
   "metadata": {
    "collapsed": false
   },
   "outputs": [
    {
     "data": {
      "text/plain": [
       "[593]"
      ]
     },
     "execution_count": 10,
     "metadata": {},
     "output_type": "execute_result"
    }
   ],
   "source": [
    "movies[catID['Horror']][:10]"
   ]
  },
  {
   "cell_type": "markdown",
   "metadata": {},
   "source": [
    "### Get the similarity distance matrix"
   ]
  },
  {
   "cell_type": "code",
   "execution_count": 11,
   "metadata": {
    "collapsed": false
   },
   "outputs": [],
   "source": [
    "simDist = dict()\n",
    "\n",
    "for k1 in movieName.keys():\n",
    "    for k2 in movieName.keys():\n",
    "        simDist[(k1, k2)] = np.dot(simMat[k1], simMat[k2])"
   ]
  },
  {
   "cell_type": "markdown",
   "metadata": {},
   "source": [
    "# Part II. Run the algorithms"
   ]
  },
  {
   "cell_type": "code",
   "execution_count": 12,
   "metadata": {
    "collapsed": false
   },
   "outputs": [
    {
     "name": "stdout",
     "output_type": "stream",
     "text": [
      "100 19 15 10\n"
     ]
    }
   ],
   "source": [
    "l = 15\n",
    "k = 10\n",
    "\n",
    "print numMovies, numCategories, l, k"
   ]
  },
  {
   "cell_type": "code",
   "execution_count": 13,
   "metadata": {
    "collapsed": false
   },
   "outputs": [
    {
     "name": "stdout",
     "output_type": "stream",
     "text": [
      "251.322740358 [1203, 1212, 4226, 1196, 3429, 79132, 908, 318, 5971, 1209, 1197, 7153, 2731, 1148, 1213] 4.80211114883\n"
     ]
    }
   ],
   "source": [
    "from replacementGreedy import replacementGreedy\n",
    "rg = replacementGreedy(numMovies, numCategories, l, k, simDist, movies)\n",
    "\n",
    "start = time.time()\n",
    "\n",
    "rgS, rgCost, rgEvals = rg(movieName.keys())\n",
    "\n",
    "print rgCost, rgS, time.time() - start\n"
   ]
  },
  {
   "cell_type": "code",
   "execution_count": 14,
   "metadata": {
    "collapsed": false
   },
   "outputs": [
    {
     "name": "stdout",
     "output_type": "stream",
     "text": [
      "Our solution gives totalCost =  251.322740358\n",
      "Number of calls =  110143\n",
      "Algorithm runtime =  6.48615789413\n"
     ]
    }
   ],
   "source": [
    "from novel import wrapper\n",
    "novel = wrapper(numMovies, numCategories, l, k, simDist, movies);\n",
    "\n",
    "start = time.time()\n",
    "\n",
    "novS, novCost, novEvals = novel(movieName.keys())\n",
    "\n",
    "print \"Number of calls = \", novEvals\n",
    "\n",
    "print \"Algorithm runtime = \", time.time() - start"
   ]
  },
  {
   "cell_type": "code",
   "execution_count": null,
   "metadata": {
    "collapsed": true
   },
   "outputs": [],
   "source": []
  }
 ],
 "metadata": {
  "anaconda-cloud": {},
  "kernelspec": {
   "display_name": "Python [conda root]",
   "language": "python",
   "name": "conda-root-py"
  },
  "language_info": {
   "codemirror_mode": {
    "name": "ipython",
    "version": 2
   },
   "file_extension": ".py",
   "mimetype": "text/x-python",
   "name": "python",
   "nbconvert_exporter": "python",
   "pygments_lexer": "ipython2",
   "version": "2.7.12"
  }
 },
 "nbformat": 4,
 "nbformat_minor": 1
}
