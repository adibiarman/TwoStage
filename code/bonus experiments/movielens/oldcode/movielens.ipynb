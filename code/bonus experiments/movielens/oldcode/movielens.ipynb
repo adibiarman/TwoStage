{
 "cells": [
  {
   "cell_type": "markdown",
   "metadata": {},
   "source": [
    "# Part I. Ingesting data."
   ]
  },
  {
   "cell_type": "markdown",
   "metadata": {},
   "source": [
    "Create a dictionary with movies for each genre."
   ]
  },
  {
   "cell_type": "code",
   "execution_count": 1,
   "metadata": {
    "collapsed": true
   },
   "outputs": [],
   "source": [
    "import numpy as np\n",
    "import math\n",
    "import time"
   ]
  },
  {
   "cell_type": "markdown",
   "metadata": {},
   "source": [
    "### First, read in the similarity matrix. Not all movies have ratings, so we'll ignore the ones that are unrated."
   ]
  },
  {
   "cell_type": "code",
   "execution_count": 2,
   "metadata": {
    "collapsed": true
   },
   "outputs": [],
   "source": [
    "simDataFile = open(\"mvs.csv\", \"r\")\n",
    "simData = [ map(float,line.split(',')) for line in simDataFile ]"
   ]
  },
  {
   "cell_type": "code",
   "execution_count": 3,
   "metadata": {
    "collapsed": false
   },
   "outputs": [
    {
     "name": "stdout",
     "output_type": "stream",
     "text": [
      "10473  movies have ratings\n"
     ]
    }
   ],
   "source": [
    "print len(simData), ' movies have ratings'"
   ]
  },
  {
   "cell_type": "code",
   "execution_count": 4,
   "metadata": {
    "collapsed": false
   },
   "outputs": [],
   "source": [
    "simMat = dict()\n",
    "\n",
    "for sd in simData:\n",
    "    simMat[int(sd[0])] = sd[1:] / np.linalg.norm(sd[1:])"
   ]
  },
  {
   "cell_type": "code",
   "execution_count": 5,
   "metadata": {
    "collapsed": false
   },
   "outputs": [
    {
     "data": {
      "text/plain": [
       "0.75932462063717177"
      ]
     },
     "execution_count": 5,
     "metadata": {},
     "output_type": "execute_result"
    }
   ],
   "source": [
    "np.dot(simMat[1], simMat[4])"
   ]
  },
  {
   "cell_type": "markdown",
   "metadata": {},
   "source": [
    "### Read in the ratings. We will be working only with the top 1000 movies. Ratings are in the format - userId,movieId,rating,timestamp"
   ]
  },
  {
   "cell_type": "code",
   "execution_count": 6,
   "metadata": {
    "collapsed": false
   },
   "outputs": [
    {
     "data": {
      "text/plain": [
       "(3.92123956132, 3.21197680169, 3.15104043973, 3.61520190024)"
      ]
     },
     "execution_count": 6,
     "metadata": {},
     "output_type": "execute_result"
    }
   ],
   "source": [
    "ratingsFile = open(\"procRatings.csv\", \"r\")\n",
    "\n",
    "ratings = dict()\n",
    "\n",
    "for line in ratingsFile:\n",
    "    data = map(float,line.split(','))\n",
    "    ratings[int(data[0])] = data[1]\n",
    "    \n",
    "ratings[1], ratings[2], ratings[3], ratings[30848]"
   ]
  },
  {
   "cell_type": "markdown",
   "metadata": {},
   "source": [
    "#### Set the ratings of the 300'th movie as a threshold"
   ]
  },
  {
   "cell_type": "code",
   "execution_count": 7,
   "metadata": {
    "collapsed": false
   },
   "outputs": [],
   "source": [
    "minRating = sorted(ratings.values(), reverse=True)[99]"
   ]
  },
  {
   "cell_type": "markdown",
   "metadata": {},
   "source": [
    "### Now, read in the movies."
   ]
  },
  {
   "cell_type": "code",
   "execution_count": 8,
   "metadata": {
    "collapsed": true
   },
   "outputs": [],
   "source": [
    "movies = dict() # a category -> list_of_movies dict stored as integers\n",
    "\n",
    "# catID returns the index of a category of type string. catName returns the name of the category given its ID.\n",
    "catID = dict()\n",
    "catName = dict()\n",
    "\n",
    "# same as with cat\n",
    "movieID = dict()\n",
    "movieName = dict()"
   ]
  },
  {
   "cell_type": "code",
   "execution_count": 9,
   "metadata": {
    "collapsed": false
   },
   "outputs": [
    {
     "name": "stdout",
     "output_type": "stream",
     "text": [
      "we have 100 movies\n"
     ]
    }
   ],
   "source": [
    "allData = open(\"movies.csv\", \"r\")\n",
    "\n",
    "# this first line contains header info\n",
    "allData.readline()\n",
    "\n",
    "numMovies = 0\n",
    "numCategories = 0\n",
    "\n",
    "while True:\n",
    "    line = allData.readline()\n",
    "    \n",
    "    if line == '':\n",
    "        break\n",
    "    \n",
    "    curMovieID = int(line.split(\",\", 1)[0])\n",
    "    if curMovieID not in simMat.keys():\n",
    "        continue\n",
    "    if ratings[curMovieID] < minRating:\n",
    "        continue\n",
    "    \n",
    "    curMovieName = (line.split(\",\", 1)[1]).rsplit(\",\", 1)[0]\n",
    "    curCategories = line.rsplit(\",\", 1)[1].rsplit(\"\\r\")[0].split(\"|\")\n",
    "    \n",
    "    \n",
    "    # update catID, catName, movieID, movieName\n",
    "    movieID[curMovieName] = curMovieID\n",
    "    movieName[curMovieID] = curMovieName\n",
    "    \n",
    "    for cat in curCategories:\n",
    "        if not (cat in catID):\n",
    "            catID[cat] = numCategories\n",
    "            catName[numCategories] = cat\n",
    "            \n",
    "            numCategories = numCategories + 1\n",
    "            \n",
    "    for cat in curCategories:\n",
    "        if catID[cat] in movies:\n",
    "            movies[catID[cat]].append(movieID[curMovieName])\n",
    "        else:\n",
    "            movies[catID[cat]] = [movieID[curMovieName]]\n",
    "    \n",
    "    numMovies = numMovies + 1\n",
    "\n",
    "print \"we have\", numMovies, \"movies\""
   ]
  },
  {
   "cell_type": "code",
   "execution_count": 10,
   "metadata": {
    "collapsed": false
   },
   "outputs": [
    {
     "data": {
      "text/plain": [
       "[593]"
      ]
     },
     "execution_count": 10,
     "metadata": {},
     "output_type": "execute_result"
    }
   ],
   "source": [
    "movies[catID['Horror']][:10]"
   ]
  },
  {
   "cell_type": "markdown",
   "metadata": {},
   "source": [
    "### Get the similarity distance matrix"
   ]
  },
  {
   "cell_type": "code",
   "execution_count": 11,
   "metadata": {
    "collapsed": false
   },
   "outputs": [],
   "source": [
    "simDist = dict()\n",
    "\n",
    "for k1 in movieName.keys():\n",
    "    for k2 in movieName.keys():\n",
    "        simDist[(k1, k2)] = np.dot(simMat[k1], simMat[k2])"
   ]
  },
  {
   "cell_type": "markdown",
   "metadata": {},
   "source": [
    "# Part II. Run the algorithms"
   ]
  },
  {
   "cell_type": "code",
   "execution_count": 12,
   "metadata": {
    "collapsed": false
   },
   "outputs": [
    {
     "name": "stdout",
     "output_type": "stream",
     "text": [
      "100 19 30 5\n"
     ]
    }
   ],
   "source": [
    "l = 30\n",
    "k = 5\n",
    "\n",
    "print numMovies, numCategories, l, k"
   ]
  },
  {
   "cell_type": "code",
   "execution_count": 13,
   "metadata": {
    "collapsed": false
   },
   "outputs": [
    {
     "name": "stdout",
     "output_type": "stream",
     "text": [
      "Our solution gives totalCost =  251.010041042\n",
      "Category  0\n",
      "858   25.4370721867\n",
      "1212   0.685539181522\n",
      "4226   0.348690323272\n",
      "58559   0.0825852687581\n",
      "904   0.065836905251\n",
      "Total cost  26.6197238655 \n",
      "\n",
      "Category  1\n",
      "904   13.6110426076\n",
      "1212   0.0611189691355\n",
      "4226   0.208805402058\n",
      "79132   0.0485518613432\n",
      "908   0.00458893347119\n",
      "Total cost  13.9341077736 \n",
      "\n",
      "Category  2\n",
      "541   20.7261812928\n",
      "1212   0.464735451369\n",
      "4226   0.416627371119\n",
      "58559   0.0566058607828\n",
      "904   0.0873429380345\n",
      "Total cost  21.7514929141 \n",
      "\n",
      "Category  3\n",
      "1209   19.5383833948\n",
      "908   0.323571662857\n",
      "1197   0.343973631076\n",
      "1196   0.219376341408\n",
      "58559   0.217030966953\n",
      "Total cost  20.6423359971 \n",
      "\n",
      "Category  4\n",
      "4993   14.5298121764\n",
      "6016   0.763080633693\n",
      "1136   0.162964849971\n",
      "1196   0.114390013877\n",
      "908   0.224550040324\n",
      "Total cost  15.7947977143 \n",
      "\n",
      "Category  5\n",
      "541   5.54353232624\n",
      "2571   0.251799756307\n",
      "94466   0.0661075536662\n",
      "1196   0.0921210614769\n",
      "79132   0.0418856820157\n",
      "Total cost  5.99544637971 \n",
      "\n",
      "Category  6\n",
      "2324   19.5342602911\n",
      "1212   1.65878366351\n",
      "4226   0.183237140567\n",
      "951   0.147348582403\n",
      "1148   0.119051355463\n",
      "Total cost  21.642681033 \n",
      "\n",
      "Category  7\n",
      "904   56.228848144\n",
      "3089   0.443386737241\n",
      "6016   0.93309629789\n",
      "58559   0.220736372097\n",
      "2324   0.178906610331\n",
      "Total cost  58.0049741616 \n",
      "\n",
      "Category  8\n",
      "1203   13.5136138006\n",
      "1212   0.201176929623\n",
      "2324   0.0668380725563\n",
      "7502   0.0390146814311\n",
      "527   0.0351895775133\n",
      "Total cost  13.8558330617 \n",
      "\n",
      "Category  9\n",
      "593   1.0\n",
      "1212   0.0\n",
      "4226   0.0\n",
      "1196   0.0\n",
      "3429   0.0\n",
      "Total cost  1.0 \n",
      "\n",
      "Category  10\n",
      "5971   4.81196327395\n",
      "1148   0.165976592469\n",
      "4226   0.0\n",
      "1196   0.0\n",
      "3429   0.0184521746723\n",
      "Total cost  4.9963920411 \n",
      "\n",
      "Category  11\n",
      "5971   2.85080812069\n",
      "1148   0.148570608041\n",
      "4226   0.0\n",
      "1196   0.0\n",
      "3429   0.0\n",
      "Total cost  2.99937872873 \n",
      "\n",
      "Category  12\n",
      "44555   16.1815219336\n",
      "3089   0.32560507701\n",
      "2324   0.0468499754086\n",
      "1197   0.0707739425307\n",
      "930   0.237987070849\n",
      "Total cost  16.8627379994 \n",
      "\n",
      "Category  13\n",
      "908   9.86095308438\n",
      "1212   0.0916952010773\n",
      "904   0.000414529787077\n",
      "930   0.00418419628533\n",
      "3429   0.0\n",
      "Total cost  9.95724701153 \n",
      "\n",
      "Category  14\n",
      "5971   5.65900388832\n",
      "1197   0.146975367963\n",
      "1136   0.0366705905871\n",
      "4993   0.153268464644\n",
      "3429   0.0\n",
      "Total cost  5.99591831151 \n",
      "\n",
      "Category  15\n",
      "77658   3.84249217521\n",
      "1212   0.118189828327\n",
      "2859   0.0233228624088\n",
      "1196   0.0\n",
      "3429   0.0\n",
      "Total cost  3.98400486594 \n",
      "\n",
      "Category  16\n",
      "1209   2.95826050437\n",
      "908   0.0270111307039\n",
      "4226   0.0\n",
      "1196   0.0\n",
      "3429   0.0\n",
      "Total cost  2.98527163507 \n",
      "\n",
      "Category  17\n",
      "2859   1.98448041934\n",
      "1212   0.00321712905059\n",
      "4226   0.0\n",
      "1196   0.0\n",
      "3429   0.0\n",
      "Total cost  1.98769754839 \n",
      "\n",
      "Category  18\n",
      "58559   1.98669497703\n",
      "79132   0.0133050229726\n",
      "4226   0.0\n",
      "1196   0.0\n",
      "3429   0.0\n",
      "Total cost  2.0 \n",
      "\n",
      "Number of calls =  246107\n",
      "Algorithm runtime =  8.37329006195\n"
     ]
    }
   ],
   "source": [
    "from novel import wrapper\n",
    "novel = wrapper(numMovies, numCategories, l, k, simDist, movies);\n",
    "\n",
    "start = time.time()\n",
    "\n",
    "novS, novCost, novEvals = novel(movieName.keys())\n",
    "\n",
    "print \"Number of calls = \", novEvals\n",
    "\n",
    "print \"Algorithm runtime = \", time.time() - start"
   ]
  },
  {
   "cell_type": "code",
   "execution_count": 14,
   "metadata": {
    "collapsed": false
   },
   "outputs": [],
   "source": [
    "# # sanity check\n",
    "# print len(novS)\n",
    "\n",
    "# for i in range(numCategories):\n",
    "#     print set(novBstS[i]).issubset(set(novS)), len(novBstS[i]) == k"
   ]
  },
  {
   "cell_type": "code",
   "execution_count": 15,
   "metadata": {
    "collapsed": false
   },
   "outputs": [],
   "source": [
    "# from greedysum import gsWrapper\n",
    "\n",
    "# gs = gsWrapper(numMovies, numCategories, l, k, simDist, movies)\n",
    "\n",
    "# start = time.time()\n",
    "\n",
    "# gsS, gsCost, gsEvals = gs(movieName.keys())\n",
    "\n",
    "# print \"Number of calls = \", gsEvals\n",
    "\n",
    "# print \"Algorithm runtime = \", time.time() - start"
   ]
  },
  {
   "cell_type": "code",
   "execution_count": 16,
   "metadata": {
    "collapsed": false
   },
   "outputs": [
    {
     "name": "stdout",
     "output_type": "stream",
     "text": [
      "Category  0\n",
      "3468   25.7599992293\n",
      "4226   0.523646603443\n",
      "1212   0.148516905654\n",
      "58559   0.0825852687581\n",
      "1213   0.0661551983517\n",
      "Total cost =  26.5809032055 \n",
      "\n",
      "Category  1\n",
      "904   13.6110426076\n",
      "4226   0.208805402058\n",
      "1212   0.0611189691355\n",
      "79132   0.0485518613432\n",
      "1131   0.0177925021294\n",
      "Total cost =  13.9473113423 \n",
      "\n",
      "Category  2\n",
      "1203   21.0984783388\n",
      "4226   0.33014849819\n",
      "2186   0.198913025771\n",
      "58559   0.0566058607828\n",
      "593   0.0449049375959\n",
      "Total cost =  21.7290506612 \n",
      "\n",
      "Category  3\n",
      "1203   19.8598670966\n",
      "2571   0.430641586733\n",
      "1196   0.145773504013\n",
      "2019   0.112298528881\n",
      "58559   0.0662541419019\n",
      "Total cost =  20.6148348582 \n",
      "\n",
      "Category  4\n",
      "1203   15.1870637642\n",
      "1196   0.381138676566\n",
      "2019   0.0916846745355\n",
      "4993   0.07865214725\n",
      "1136   0.0554501279005\n",
      "Total cost =  15.7939893904 \n",
      "\n",
      "Category  5\n",
      "2571   5.68638124535\n",
      "77658   0.111644983456\n",
      "1196   0.0921210614769\n",
      "79132   0.0418856820157\n",
      "541   0.0319313747077\n",
      "Total cost =  5.963964347 \n",
      "\n",
      "Category  6\n",
      "2859   21.079932198\n",
      "4226   0.220812373793\n",
      "950   0.158343499483\n",
      "92259   0.0917909201998\n",
      "1148   0.0731279424048\n",
      "Total cost =  21.6240069339 \n",
      "\n",
      "Category  7\n",
      "1203   56.3931057132\n",
      "3089   0.775953052378\n",
      "4226   0.484488512633\n",
      "79132   0.142008573526\n",
      "2186   0.137858881415\n",
      "Total cost =  57.9334147331 \n",
      "\n",
      "Category  8\n",
      "1203   13.5136138006\n",
      "1212   0.201176929623\n",
      "318   0.0744994370267\n",
      "1224   0.0293045874008\n",
      "7502   0.0274902672671\n",
      "Total cost =  13.8460850219 \n",
      "\n",
      "Category  9\n",
      "593   1.0\n",
      "5291   0.0\n",
      "2571   0.0\n",
      "77658   0.0\n",
      "6669   0.0\n",
      "Total cost =  1.0 \n",
      "\n",
      "Category  10\n",
      "3429   4.87999187289\n",
      "5971   0.078865461718\n",
      "1148   0.0375347064864\n",
      "5618   0.0029866876389\n",
      "745   0.000621271265802\n",
      "Total cost =  5.0 \n",
      "\n",
      "Category  11\n",
      "1148   2.92605689939\n",
      "5971   0.0733218293474\n",
      "745   0.000621271265802\n",
      "5291   0.0\n",
      "2571   0.0\n",
      "Total cost =  3.0 \n",
      "\n",
      "Category  12\n",
      "904   16.5053504251\n",
      "4973   0.163438984055\n",
      "3307   0.0777414848336\n",
      "1197   0.0607297400491\n",
      "951   0.037675592221\n",
      "Total cost =  16.8449362263 \n",
      "\n",
      "Category  13\n",
      "3435   9.93649693407\n",
      "1260   0.0193153815344\n",
      "913   0.0128566967834\n",
      "1252   0.00693484759021\n",
      "1248   0.00675119731033\n",
      "Total cost =  9.98235505729 \n",
      "\n",
      "Category  14\n",
      "5618   5.71097788365\n",
      "4993   0.190740309407\n",
      "1197   0.0579843225594\n",
      "1136   0.0362157958918\n",
      "5971   0.0029866876389\n",
      "Total cost =  5.99890499915 \n",
      "\n",
      "Category  15\n",
      "2859   3.94174500316\n",
      "77658   0.0416598693486\n",
      "1189   0.00851961106994\n",
      "1147   0.00807551641846\n",
      "5291   0.0\n",
      "Total cost =  4.0 \n",
      "\n",
      "Category  16\n",
      "1209   2.95826050437\n",
      "1254   0.0333618594181\n",
      "1201   0.00837763621531\n",
      "5291   0.0\n",
      "2571   0.0\n",
      "Total cost =  3.0 \n",
      "\n",
      "Category  17\n",
      "1256   1.98448041934\n",
      "2859   0.0155195806648\n",
      "5291   0.0\n",
      "2571   0.0\n",
      "77658   0.0\n",
      "Total cost =  2.0 \n",
      "\n",
      "Category  18\n",
      "58559   1.98669497703\n",
      "79132   0.0133050229726\n",
      "5291   0.0\n",
      "2571   0.0\n",
      "77658   0.0\n",
      "Total cost =  2.0 \n",
      "\n",
      "Greedy Merge gives cost =  250.859756776\n",
      "Size of S is  47\n",
      "Number of calls =  9538\n",
      "Algorithm runtime =  0.279023885727\n"
     ]
    }
   ],
   "source": [
    "from greedymerge import gmWrapper\n",
    "\n",
    "gm = gmWrapper(numMovies, numCategories, l, k, simDist, movies)\n",
    "\n",
    "start = time.time()\n",
    "\n",
    "gmS, gmCost, gmEvals = gm(movieName.keys())\n",
    "\n",
    "print \"Number of calls = \", gmEvals\n",
    "\n",
    "print \"Algorithm runtime = \", time.time() - start"
   ]
  },
  {
   "cell_type": "code",
   "execution_count": 17,
   "metadata": {
    "collapsed": false
   },
   "outputs": [],
   "source": [
    "# from localsearch import lsWrapper\n",
    "\n",
    "# ls = lsWrapper(numMovies, numCategories, l, k, 0.4, simDist, movies)\n",
    "\n",
    "# start = time.time()\n",
    "\n",
    "# lsS, lsCost, lsEvals = ls(movieName.keys())\n",
    "\n",
    "# print \"Number of calls = \", lsEvals\n",
    "\n",
    "# print \"Local Search should do O(k m l n^2 log(n)) evaluations = \", \\\n",
    "#     k * numCategories * l * numMovies**2 * np.log(numMovies)\n",
    "\n",
    "# print \"Algorithm runtime = \", time.time() - start"
   ]
  },
  {
   "cell_type": "code",
   "execution_count": null,
   "metadata": {
    "collapsed": true
   },
   "outputs": [],
   "source": []
  }
 ],
 "metadata": {
  "anaconda-cloud": {},
  "kernelspec": {
   "display_name": "Python [conda root]",
   "language": "python",
   "name": "conda-root-py"
  },
  "language_info": {
   "codemirror_mode": {
    "name": "ipython",
    "version": 2
   },
   "file_extension": ".py",
   "mimetype": "text/x-python",
   "name": "python",
   "nbconvert_exporter": "python",
   "pygments_lexer": "ipython2",
   "version": "2.7.12"
  }
 },
 "nbformat": 4,
 "nbformat_minor": 1
}
