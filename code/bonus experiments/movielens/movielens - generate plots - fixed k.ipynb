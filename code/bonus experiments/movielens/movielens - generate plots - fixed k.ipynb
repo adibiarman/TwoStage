{
 "cells": [
  {
   "cell_type": "markdown",
   "metadata": {},
   "source": [
    "# Part I. Ingesting data."
   ]
  },
  {
   "cell_type": "markdown",
   "metadata": {},
   "source": [
    "Create a dictionary with movies for each genre."
   ]
  },
  {
   "cell_type": "code",
   "execution_count": 1,
   "metadata": {
    "collapsed": true
   },
   "outputs": [],
   "source": [
    "import numpy as np\n",
    "import math\n",
    "import time\n",
    "import matplotlib.pyplot as plt"
   ]
  },
  {
   "cell_type": "markdown",
   "metadata": {},
   "source": [
    "### First, read in the similarity matrix. Not all movies have ratings, so we'll ignore the ones that are unrated."
   ]
  },
  {
   "cell_type": "code",
   "execution_count": 2,
   "metadata": {
    "collapsed": true
   },
   "outputs": [],
   "source": [
    "simDataFile = open(\"mvs.csv\", \"r\")\n",
    "simData = [ map(float,line.split(',')) for line in simDataFile ]"
   ]
  },
  {
   "cell_type": "code",
   "execution_count": 3,
   "metadata": {
    "collapsed": false
   },
   "outputs": [
    {
     "name": "stdout",
     "output_type": "stream",
     "text": [
      "10473  movies have ratings\n"
     ]
    }
   ],
   "source": [
    "print len(simData), ' movies have ratings'"
   ]
  },
  {
   "cell_type": "code",
   "execution_count": 4,
   "metadata": {
    "collapsed": false
   },
   "outputs": [],
   "source": [
    "simMat = dict()\n",
    "\n",
    "for sd in simData:\n",
    "    simMat[int(sd[0])] = sd[1:] / np.linalg.norm(sd[1:])"
   ]
  },
  {
   "cell_type": "code",
   "execution_count": 5,
   "metadata": {
    "collapsed": false
   },
   "outputs": [
    {
     "data": {
      "text/plain": [
       "0.75932462063717177"
      ]
     },
     "execution_count": 5,
     "metadata": {},
     "output_type": "execute_result"
    }
   ],
   "source": [
    "np.dot(simMat[1], simMat[4])"
   ]
  },
  {
   "cell_type": "code",
   "execution_count": 6,
   "metadata": {
    "collapsed": false
   },
   "outputs": [
    {
     "data": {
      "text/plain": [
       "25"
      ]
     },
     "execution_count": 6,
     "metadata": {},
     "output_type": "execute_result"
    }
   ],
   "source": [
    "len(simMat[1])"
   ]
  },
  {
   "cell_type": "markdown",
   "metadata": {},
   "source": [
    "### Read in the ratings. We will be working only with the top 150 movies. Ratings are in the format - userId,movieId,rating,timestamp"
   ]
  },
  {
   "cell_type": "code",
   "execution_count": 7,
   "metadata": {
    "collapsed": false
   },
   "outputs": [
    {
     "data": {
      "text/plain": [
       "(3.92123956132, 3.21197680169, 3.15104043973, 3.61520190024)"
      ]
     },
     "execution_count": 7,
     "metadata": {},
     "output_type": "execute_result"
    }
   ],
   "source": [
    "ratingsFile = open(\"procRatings.csv\", \"r\")\n",
    "\n",
    "ratings = dict()\n",
    "\n",
    "for line in ratingsFile:\n",
    "    data = map(float,line.split(','))\n",
    "    ratings[int(data[0])] = data[1]\n",
    "    \n",
    "ratings[1], ratings[2], ratings[3], ratings[30848]"
   ]
  },
  {
   "cell_type": "markdown",
   "metadata": {},
   "source": [
    "#### Set the ratings of the 150'th movie as a threshold"
   ]
  },
  {
   "cell_type": "code",
   "execution_count": 8,
   "metadata": {
    "collapsed": false
   },
   "outputs": [],
   "source": [
    "minRating = sorted(ratings.values(), reverse=True)[149]"
   ]
  },
  {
   "cell_type": "markdown",
   "metadata": {},
   "source": [
    "### Now, read in the movies."
   ]
  },
  {
   "cell_type": "code",
   "execution_count": 9,
   "metadata": {
    "collapsed": true
   },
   "outputs": [],
   "source": [
    "movies = dict() # a category -> list_of_movies dict stored as integers\n",
    "\n",
    "# catID returns the index of a category of type string. catName returns the name of the category given its ID.\n",
    "catID = dict()\n",
    "catName = dict()\n",
    "\n",
    "# same as with cat\n",
    "movieID = dict()\n",
    "movieName = dict()"
   ]
  },
  {
   "cell_type": "code",
   "execution_count": 10,
   "metadata": {
    "collapsed": false
   },
   "outputs": [
    {
     "name": "stdout",
     "output_type": "stream",
     "text": [
      "we have 150 movies\n"
     ]
    }
   ],
   "source": [
    "allData = open(\"movies.csv\", \"r\")\n",
    "\n",
    "# this first line contains header info\n",
    "allData.readline()\n",
    "\n",
    "numMovies = 0\n",
    "numCategories = 0\n",
    "\n",
    "while True:\n",
    "    line = allData.readline()\n",
    "    \n",
    "    if line == '':\n",
    "        break\n",
    "    \n",
    "    curMovieID = int(line.split(\",\", 1)[0])\n",
    "    if curMovieID not in simMat.keys():\n",
    "        continue\n",
    "    if ratings[curMovieID] < minRating:\n",
    "        continue\n",
    "    \n",
    "    curMovieName = (line.split(\",\", 1)[1]).rsplit(\",\", 1)[0]\n",
    "    curCategories = line.rsplit(\",\", 1)[1].rsplit(\"\\r\")[0].split(\"|\")\n",
    "    \n",
    "    \n",
    "    # update catID, catName, movieID, movieName\n",
    "    movieID[curMovieName] = curMovieID\n",
    "    movieName[curMovieID] = curMovieName\n",
    "    \n",
    "    for cat in curCategories:\n",
    "        if not (cat in catID):\n",
    "            catID[cat] = numCategories\n",
    "            catName[numCategories] = cat\n",
    "            \n",
    "            numCategories = numCategories + 1\n",
    "            \n",
    "    for cat in curCategories:\n",
    "        if catID[cat] in movies:\n",
    "            movies[catID[cat]].append(movieID[curMovieName])\n",
    "        else:\n",
    "            movies[catID[cat]] = [movieID[curMovieName]]\n",
    "    \n",
    "    numMovies = numMovies + 1\n",
    "\n",
    "print \"we have\", numMovies, \"movies\""
   ]
  },
  {
   "cell_type": "code",
   "execution_count": 11,
   "metadata": {
    "collapsed": false
   },
   "outputs": [
    {
     "data": {
      "text/plain": [
       "[593]"
      ]
     },
     "execution_count": 11,
     "metadata": {},
     "output_type": "execute_result"
    }
   ],
   "source": [
    "movies[catID['Horror']][:10]"
   ]
  },
  {
   "cell_type": "code",
   "execution_count": 12,
   "metadata": {
    "collapsed": true
   },
   "outputs": [],
   "source": [
    "simDist = dict()\n",
    "\n",
    "for k1 in movieName.keys():\n",
    "    for k2 in movieName.keys():\n",
    "        simDist[(k1, k2)] = np.dot(simMat[k1], simMat[k2])"
   ]
  },
  {
   "cell_type": "markdown",
   "metadata": {},
   "source": [
    "# Part II. Fix k = 5. Increase l from 5 to 50"
   ]
  },
  {
   "cell_type": "code",
   "execution_count": 13,
   "metadata": {
    "collapsed": false
   },
   "outputs": [
    {
     "name": "stdout",
     "output_type": "stream",
     "text": [
      "150 19 5\n"
     ]
    }
   ],
   "source": [
    "k = 5\n",
    "\n",
    "print numMovies, numCategories, k"
   ]
  },
  {
   "cell_type": "code",
   "execution_count": 14,
   "metadata": {
    "collapsed": false
   },
   "outputs": [],
   "source": [
    "from replacementGreedy import replacementGreedy\n",
    "from greedysum import gsWrapper\n",
    "from greedymerge import gmWrapper\n",
    "from localsearch import lsWrapper"
   ]
  },
  {
   "cell_type": "code",
   "execution_count": 15,
   "metadata": {
    "collapsed": false
   },
   "outputs": [
    {
     "name": "stdout",
     "output_type": "stream",
     "text": [
      "Replacement Greedy gives cost 346.578812713\n",
      "Local search value after initialization =  346.578812713\n",
      "Intermediate cost at step  0  =  346.578812713\n",
      "Local Search gives cost =  346.578812713\n",
      "Greedy Sum gives cost =  346.578812713\n",
      "Greedy Merge gives cost =  367.081877342\n",
      "Size of S is  61\n",
      "\n",
      "Done for l =  5\n",
      "\n",
      "\n",
      "\n",
      "\n",
      "Replacement Greedy gives cost 356.40887234\n",
      "Movies when l = 7\n",
      "City of God (Cidade de Deus) (2002)\n",
      "Crime\n",
      "Drama\n",
      "Adventure\n",
      "Action\n",
      "Thriller\n",
      "\n",
      "\"African Queen, The (1951)\"\n",
      "Romance\n",
      "Adventure\n",
      "Comedy\n",
      "War\n",
      "\n",
      "Chinatown (1974)\n",
      "Mystery\n",
      "Film-Noir\n",
      "Crime\n",
      "Thriller\n",
      "\n",
      "Nausicaä of the Valley of the Wind (Kaze no tani no Naushika) (1984)\n",
      "Sci-Fi\n",
      "Drama\n",
      "Fantasy\n",
      "Animation\n",
      "Adventure\n",
      "\n",
      "Stop Making Sense (1984)\n",
      "Musical\n",
      "Documentary\n",
      "\n",
      "\"Treasure of the Sierra Madre, The (1948)\"\n",
      "Drama\n",
      "Adventure\n",
      "Action\n",
      "Western\n",
      "\n",
      "Wallace & Gromit: The Wrong Trousers (1993)\n",
      "Crime\n",
      "Animation\n",
      "Children\n",
      "Comedy\n",
      "\n",
      "Local search value after initialization =  356.40887234\n",
      "Intermediate cost at step  0  =  356.40887234\n",
      "Local Search gives cost =  356.40887234\n",
      "Greedy Sum gives cost =  356.40887234\n",
      "Greedy Merge gives cost =  367.081877342\n",
      "Size of S is  61\n",
      "\n",
      "Done for l =  7\n",
      "\n",
      "\n",
      "\n",
      "\n",
      "Replacement Greedy gives cost 361.838925159\n",
      "Local search value after initialization =  361.838925159\n",
      "Intermediate cost at step  0  =  361.838925159\n",
      "Local Search gives cost =  361.838925159\n",
      "Greedy Sum gives cost =  361.838925159\n",
      "Greedy Merge gives cost =  367.081877342\n",
      "Size of S is  61\n",
      "\n",
      "Done for l =  10\n",
      "\n",
      "\n",
      "\n",
      "\n",
      "Replacement Greedy gives cost 364.522381304\n",
      "Local search value after initialization =  364.522381304\n",
      "Intermediate cost at step  0  =  364.522381304\n",
      "Local Search gives cost =  364.522381304\n",
      "Greedy Sum gives cost =  364.506700069\n",
      "Greedy Merge gives cost =  367.081877342\n",
      "Size of S is  61\n",
      "\n",
      "Done for l =  14\n",
      "\n",
      "\n",
      "\n",
      "\n",
      "Replacement Greedy gives cost 365.388461578\n",
      "Local search value after initialization =  365.388461578\n",
      "Intermediate cost at step  0  =  365.388461578\n",
      "Local Search gives cost =  365.388461578\n",
      "Greedy Sum gives cost =  365.313899078\n",
      "Greedy Merge gives cost =  367.081877342\n",
      "Size of S is  61\n",
      "\n",
      "Done for l =  17\n",
      "\n",
      "\n",
      "\n",
      "\n",
      "Replacement Greedy gives cost 365.818445659\n",
      "Local search value after initialization =  365.818445659\n",
      "Intermediate cost at step  0  =  365.818445659\n",
      "Local Search gives cost =  365.818445659\n",
      "Greedy Sum gives cost =  365.623749606\n",
      "Greedy Merge gives cost =  367.081877342\n",
      "Size of S is  61\n",
      "\n",
      "Done for l =  20\n",
      "\n",
      "\n",
      "\n",
      "\n",
      "Replacement Greedy gives cost 366.701872289\n",
      "Local search value after initialization =  366.586462714\n",
      "Intermediate cost at step  0  =  366.606613931\n",
      "Intermediate cost at step  1  =  366.617076371\n",
      "Intermediate cost at step  2  =  366.628525434\n",
      "Intermediate cost at step  3  =  366.628525434\n",
      "Local Search gives cost =  366.628525434\n",
      "Greedy Sum gives cost =  366.260974897\n",
      "Greedy Merge gives cost =  367.081877342\n",
      "Size of S is  61\n",
      "\n",
      "Done for l =  30\n",
      "\n",
      "\n",
      "\n",
      "\n",
      "Replacement Greedy gives cost 367.029796172\n",
      "Local search value after initialization =  366.951604458\n",
      "Intermediate cost at step  0  =  366.956513372\n",
      "Intermediate cost at step  1  =  366.960178453\n",
      "Intermediate cost at step  2  =  366.967548766\n",
      "Intermediate cost at step  3  =  366.97077811\n",
      "Intermediate cost at step  4  =  366.977333214\n",
      "Intermediate cost at step  5  =  366.980998295\n",
      "Intermediate cost at step  6  =  366.988368608\n",
      "Intermediate cost at step  7  =  366.991597952\n",
      "Intermediate cost at step  8  =  366.994225459\n",
      "Intermediate cost at step  9  =  367.001595771\n",
      "Intermediate cost at step  10  =  367.006079958\n",
      "Intermediate cost at step  11  =  367.006079958\n",
      "Local Search gives cost =  367.006079958\n",
      "Greedy Sum gives cost =  366.571561029\n",
      "Greedy Merge gives cost =  367.081877342\n",
      "Size of S is  61\n",
      "\n",
      "Done for l =  40\n",
      "\n",
      "\n",
      "\n",
      "\n",
      "Replacement Greedy gives cost 367.210937458\n",
      "Local search value after initialization =  367.098453668\n",
      "Intermediate cost at step  0  =  367.102118749\n",
      "Intermediate cost at step  1  =  367.10818641\n",
      "Intermediate cost at step  2  =  367.111851491\n",
      "Intermediate cost at step  3  =  367.113292572\n",
      "Intermediate cost at step  4  =  367.116564046\n",
      "Intermediate cost at step  5  =  367.120229127\n",
      "Intermediate cost at step  6  =  367.121670208\n",
      "Intermediate cost at step  7  =  367.123661494\n",
      "Intermediate cost at step  8  =  367.127326576\n",
      "Intermediate cost at step  9  =  367.128767656\n",
      "Intermediate cost at step  10  =  367.132432738\n",
      "Intermediate cost at step  11  =  367.133441261\n",
      "Intermediate cost at step  12  =  367.137106342\n",
      "Intermediate cost at step  13  =  367.137106342\n",
      "Local Search gives cost =  367.137106342\n",
      "Greedy Sum gives cost =  366.776568908\n",
      "Greedy Merge gives cost =  367.081877342\n",
      "Size of S is  61\n",
      "\n",
      "Done for l =  50\n",
      "\n",
      "\n",
      "\n",
      "\n"
     ]
    }
   ],
   "source": [
    "solution = []\n",
    "runtime = []\n",
    "calls = []\n",
    "\n",
    "Lvalues = [5,7,10,14,17]\n",
    "for l in range(20,60,10):\n",
    "    Lvalues.append(l)\n",
    "\n",
    "for l in Lvalues:\n",
    "    rg = replacementGreedy(numMovies, numCategories, l, k, simDist, movies)\n",
    "    ls = lsWrapper(numMovies, numCategories, l, k, 0.2, simDist, movies)\n",
    "    gs = gsWrapper(numMovies, numCategories, l, k, simDist, movies)\n",
    "    gm = gmWrapper(numMovies, numCategories, l, k, simDist, movies)\n",
    "    \n",
    "    curSol = []\n",
    "    curRt = []\n",
    "    curCalls = []\n",
    "    \n",
    "    for alg in [rg, ls, gs, gm]:\n",
    "        start = time.time()\n",
    "        \n",
    "        algS, algCost, algEvals = alg(movieName.keys())\n",
    "        \n",
    "        if alg == rg:\n",
    "            print 'Replacement Greedy gives cost', algCost\n",
    "            \n",
    "        if l == 7 and alg == rg:\n",
    "            print 'Movies when l = 7'\n",
    "            for mov in algS:\n",
    "                print movieName[mov]\n",
    "                \n",
    "                for cat in catID:\n",
    "                    if mov in movies[catID[cat]]:\n",
    "                        print cat\n",
    "                print ''\n",
    "        \n",
    "        curRt.append(time.time() - start)\n",
    "        curSol.append(algCost)\n",
    "        curCalls.append(algEvals)\n",
    "    \n",
    "    solution.append(curSol)\n",
    "    runtime.append(curRt)\n",
    "    calls.append(curCalls)\n",
    "    \n",
    "    print \"\"\n",
    "    print \"Done for l = \", l\n",
    "    print \"\\n\\n\\n\""
   ]
  },
  {
   "cell_type": "code",
   "execution_count": 16,
   "metadata": {
    "collapsed": true
   },
   "outputs": [],
   "source": [
    "# store locally\n",
    "filename = open('../data/movielens-K.txt', 'w')\n",
    "\n",
    "print>>filename, 'solution'\n",
    "for item in solution:\n",
    "    print>>filename,item[0],item[1],item[2],item[3]\n",
    "    \n",
    "print>>filename, 'runtime'\n",
    "for item in runtime:\n",
    "    print>>filename,item[0],item[1],item[2],item[3]\n",
    "    \n",
    "print>>filename, 'calls'\n",
    "for item in calls:\n",
    "    print>>filename,item[0],item[1],item[2],item[3]"
   ]
  },
  {
   "cell_type": "code",
   "execution_count": 17,
   "metadata": {
    "collapsed": false
   },
   "outputs": [],
   "source": [
    "plt.clf()\n",
    "\n",
    "ax = plt.subplot(111)\n",
    "\n",
    "fs = 17\n",
    "\n",
    "# http://matplotlib.org/users/text_intro.html\n",
    "ax.set_xlabel('l', fontsize=fs)\n",
    "ax.set_ylabel('Objective Value', fontsize=fs)\n",
    "\n",
    "plt.ylim(345,370)\n",
    "plt.xlim(min(Lvalues), max(Lvalues))\n",
    "\n",
    "xticks = [min(Lvalues)]\n",
    "for l in range(10, max(Lvalues) + 10, 10):\n",
    "    xticks.append(l)\n",
    "\n",
    "ax.set_xticks(xticks)\n",
    "\n",
    "for tick in ax.xaxis.get_major_ticks():\n",
    "    tick.label.set_fontsize(fs) \n",
    "for tick in ax.yaxis.get_major_ticks():\n",
    "    tick.label.set_fontsize(fs) \n",
    "\n",
    "colors = ['ro', 'cs', 'b^', 'gv']\n",
    "labelNames = ['Replacement Greedy', 'Local Search', 'Greedy Sum', 'Greedy Merge']\n",
    "\n",
    "for ind in range(len(colors)-1, -1,-1):\n",
    "    vals = []\n",
    "    for i in range(len(solution)):\n",
    "        vals.append(solution[i][ind])\n",
    "        \n",
    "    if ind != 0:\n",
    "        plt.plot(Lvalues, vals, c = colors[ind][0], marker = colors[ind][1], linewidth=2, label = labelNames[ind])\n",
    "    else:\n",
    "        plt.plot(Lvalues, vals, 'r--', linewidth=4, label = labelNames[ind])\n",
    "    \n",
    "# http://matplotlib.org/1.3.0/examples/pylab_examples/legend_demo.html\n",
    "legend = ax.legend(loc='lower right')\n",
    "\n",
    "# Set the fontsize\n",
    "for label in legend.get_texts():\n",
    "    label.set_fontsize(fs)\n",
    "\n",
    "plt.savefig(\"../../writeup/images/movielens-fixed-k\")\n",
    "\n",
    "plt.close()"
   ]
  },
  {
   "cell_type": "code",
   "execution_count": 18,
   "metadata": {
    "collapsed": true
   },
   "outputs": [],
   "source": [
    "plt.clf()\n",
    "\n",
    "ax = plt.subplot(111)\n",
    "\n",
    "# http://matplotlib.org/users/text_intro.html\n",
    "ax.set_xlabel('l', fontsize=fs)\n",
    "ax.set_ylabel('Log(runtime)', fontsize=fs)\n",
    "\n",
    "plt.ylim(-10,25)\n",
    "plt.xlim(min(Lvalues), max(Lvalues))\n",
    "\n",
    "xticks = [min(Lvalues)]\n",
    "for l in range(10, max(Lvalues) + 10, 10):\n",
    "    xticks.append(l)\n",
    "\n",
    "ax.set_xticks(xticks)\n",
    "\n",
    "for tick in ax.xaxis.get_major_ticks():\n",
    "    tick.label.set_fontsize(fs) \n",
    "for tick in ax.yaxis.get_major_ticks():\n",
    "    tick.label.set_fontsize(fs) \n",
    "\n",
    "colors = ['ro', 'cs', 'b^', 'gv']\n",
    "labelNames = ['Replacement Greedy', 'Local Search', 'Greedy Sum', 'Greedy Merge']\n",
    "\n",
    "for ind in range(len(colors)-1, -1,-1):\n",
    "    vals = []\n",
    "    for i in range(len(runtime)):\n",
    "        vals.append(math.log(runtime[i][ind], 2))\n",
    "        \n",
    "    if ind != 0:\n",
    "        plt.plot(Lvalues, vals, c = colors[ind][0], marker = colors[ind][1], linewidth=2, label = labelNames[ind])\n",
    "    else:\n",
    "        plt.plot(Lvalues, vals, 'r--', linewidth=4, label = labelNames[ind])\n",
    "    \n",
    "# http://matplotlib.org/1.3.0/examples/pylab_examples/legend_demo.html\n",
    "legend = ax.legend(loc='upper right')\n",
    "\n",
    "# Set the fontsize\n",
    "for label in legend.get_texts():\n",
    "    label.set_fontsize(fs)\n",
    "\n",
    "plt.savefig(\"../../writeup/images/movielens-runtime-fixed-k\")\n",
    "\n",
    "plt.close()"
   ]
  },
  {
   "cell_type": "code",
   "execution_count": null,
   "metadata": {
    "collapsed": true
   },
   "outputs": [],
   "source": []
  }
 ],
 "metadata": {
  "anaconda-cloud": {},
  "kernelspec": {
   "display_name": "Python [conda root]",
   "language": "python",
   "name": "conda-root-py"
  },
  "language_info": {
   "codemirror_mode": {
    "name": "ipython",
    "version": 2
   },
   "file_extension": ".py",
   "mimetype": "text/x-python",
   "name": "python",
   "nbconvert_exporter": "python",
   "pygments_lexer": "ipython2",
   "version": "2.7.10"
  }
 },
 "nbformat": 4,
 "nbformat_minor": 1
}
