{
 "cells": [
  {
   "cell_type": "markdown",
   "metadata": {},
   "source": [
    "# Part I. Ingesting data."
   ]
  },
  {
   "cell_type": "markdown",
   "metadata": {},
   "source": [
    "Create a dictionary with movies for each genre."
   ]
  },
  {
   "cell_type": "code",
   "execution_count": 1,
   "metadata": {
    "collapsed": true
   },
   "outputs": [],
   "source": [
    "import numpy as np\n",
    "import math\n",
    "import time\n",
    "import matplotlib.pyplot as plt"
   ]
  },
  {
   "cell_type": "markdown",
   "metadata": {},
   "source": [
    "### First, read in the similarity matrix. Not all movies have ratings, so we'll ignore the ones that are unrated."
   ]
  },
  {
   "cell_type": "code",
   "execution_count": 2,
   "metadata": {
    "collapsed": true
   },
   "outputs": [],
   "source": [
    "simDataFile = open(\"mvs.csv\", \"r\")\n",
    "simData = [ map(float,line.split(',')) for line in simDataFile ]"
   ]
  },
  {
   "cell_type": "code",
   "execution_count": 3,
   "metadata": {
    "collapsed": false
   },
   "outputs": [
    {
     "name": "stdout",
     "output_type": "stream",
     "text": [
      "10473  movies have ratings\n"
     ]
    }
   ],
   "source": [
    "print len(simData), ' movies have ratings'"
   ]
  },
  {
   "cell_type": "code",
   "execution_count": 4,
   "metadata": {
    "collapsed": false
   },
   "outputs": [],
   "source": [
    "simMat = dict()\n",
    "\n",
    "for sd in simData:\n",
    "    simMat[int(sd[0])] = sd[1:] / np.linalg.norm(sd[1:])"
   ]
  },
  {
   "cell_type": "code",
   "execution_count": 5,
   "metadata": {
    "collapsed": false
   },
   "outputs": [
    {
     "data": {
      "text/plain": [
       "0.75932462063717165"
      ]
     },
     "execution_count": 5,
     "metadata": {},
     "output_type": "execute_result"
    }
   ],
   "source": [
    "np.dot(simMat[1], simMat[4])"
   ]
  },
  {
   "cell_type": "code",
   "execution_count": 6,
   "metadata": {
    "collapsed": false
   },
   "outputs": [
    {
     "data": {
      "text/plain": [
       "25"
      ]
     },
     "execution_count": 6,
     "metadata": {},
     "output_type": "execute_result"
    }
   ],
   "source": [
    "len(simMat[1])"
   ]
  },
  {
   "cell_type": "markdown",
   "metadata": {},
   "source": [
    "### Read in the ratings. We will be working only with the top 150 movies. Ratings are in the format - userId,movieId,rating,timestamp"
   ]
  },
  {
   "cell_type": "code",
   "execution_count": 7,
   "metadata": {
    "collapsed": false
   },
   "outputs": [
    {
     "data": {
      "text/plain": [
       "(3.92123956132, 3.21197680169, 3.15104043973, 3.61520190024)"
      ]
     },
     "execution_count": 7,
     "metadata": {},
     "output_type": "execute_result"
    }
   ],
   "source": [
    "ratingsFile = open(\"procRatings.csv\", \"r\")\n",
    "\n",
    "ratings = dict()\n",
    "\n",
    "for line in ratingsFile:\n",
    "    data = map(float,line.split(','))\n",
    "    ratings[int(data[0])] = data[1]\n",
    "    \n",
    "ratings[1], ratings[2], ratings[3], ratings[30848]"
   ]
  },
  {
   "cell_type": "markdown",
   "metadata": {},
   "source": [
    "#### Set the ratings of the 150'th movie as a threshold"
   ]
  },
  {
   "cell_type": "code",
   "execution_count": 8,
   "metadata": {
    "collapsed": false
   },
   "outputs": [],
   "source": [
    "minRating = sorted(ratings.values(), reverse=True)[149]"
   ]
  },
  {
   "cell_type": "markdown",
   "metadata": {},
   "source": [
    "### Now, read in the movies."
   ]
  },
  {
   "cell_type": "code",
   "execution_count": 9,
   "metadata": {
    "collapsed": true
   },
   "outputs": [],
   "source": [
    "movies = dict() # a category -> list_of_movies dict stored as integers\n",
    "\n",
    "# catID returns the index of a category of type string. catName returns the name of the category given its ID.\n",
    "catID = dict()\n",
    "catName = dict()\n",
    "\n",
    "# same as with cat\n",
    "movieID = dict()\n",
    "movieName = dict()"
   ]
  },
  {
   "cell_type": "code",
   "execution_count": 10,
   "metadata": {
    "collapsed": false
   },
   "outputs": [
    {
     "name": "stdout",
     "output_type": "stream",
     "text": [
      "we have 150 movies\n"
     ]
    }
   ],
   "source": [
    "allData = open(\"movies.csv\", \"r\")\n",
    "\n",
    "# this first line contains header info\n",
    "allData.readline()\n",
    "\n",
    "numMovies = 0\n",
    "numCategories = 0\n",
    "\n",
    "while True:\n",
    "    line = allData.readline()\n",
    "    \n",
    "    if line == '':\n",
    "        break\n",
    "    \n",
    "    curMovieID = int(line.split(\",\", 1)[0])\n",
    "    if curMovieID not in simMat.keys():\n",
    "        continue\n",
    "    if ratings[curMovieID] < minRating:\n",
    "        continue\n",
    "    \n",
    "    curMovieName = (line.split(\",\", 1)[1]).rsplit(\",\", 1)[0]\n",
    "    curCategories = line.rsplit(\",\", 1)[1].rsplit(\"\\r\")[0].split(\"|\")\n",
    "    \n",
    "    \n",
    "    # update catID, catName, movieID, movieName\n",
    "    movieID[curMovieName] = curMovieID\n",
    "    movieName[curMovieID] = curMovieName\n",
    "    \n",
    "    for cat in curCategories:\n",
    "        if not (cat in catID):\n",
    "            catID[cat] = numCategories\n",
    "            catName[numCategories] = cat\n",
    "            \n",
    "            numCategories = numCategories + 1\n",
    "            \n",
    "    for cat in curCategories:\n",
    "        if catID[cat] in movies:\n",
    "            movies[catID[cat]].append(movieID[curMovieName])\n",
    "        else:\n",
    "            movies[catID[cat]] = [movieID[curMovieName]]\n",
    "    \n",
    "    numMovies = numMovies + 1\n",
    "\n",
    "print \"we have\", numMovies, \"movies\""
   ]
  },
  {
   "cell_type": "code",
   "execution_count": 11,
   "metadata": {
    "collapsed": false
   },
   "outputs": [
    {
     "data": {
      "text/plain": [
       "[593]"
      ]
     },
     "execution_count": 11,
     "metadata": {},
     "output_type": "execute_result"
    }
   ],
   "source": [
    "movies[catID['Horror']][:10]"
   ]
  },
  {
   "cell_type": "code",
   "execution_count": 12,
   "metadata": {
    "collapsed": true
   },
   "outputs": [],
   "source": [
    "simDist = dict()\n",
    "\n",
    "for k1 in movieName.keys():\n",
    "    for k2 in movieName.keys():\n",
    "        simDist[(k1, k2)] = np.dot(simMat[k1], simMat[k2])"
   ]
  },
  {
   "cell_type": "markdown",
   "metadata": {},
   "source": [
    "# Part II. Fix l = 15. Increase k"
   ]
  },
  {
   "cell_type": "code",
   "execution_count": 13,
   "metadata": {
    "collapsed": false
   },
   "outputs": [
    {
     "name": "stdout",
     "output_type": "stream",
     "text": [
      "150 19 20\n"
     ]
    }
   ],
   "source": [
    "l = 20\n",
    "\n",
    "print numMovies, numCategories, l"
   ]
  },
  {
   "cell_type": "code",
   "execution_count": 14,
   "metadata": {
    "collapsed": false
   },
   "outputs": [],
   "source": [
    "from replacementGreedy import replacementGreedy\n",
    "from greedysum import gsWrapper\n",
    "from greedymerge import gmWrapper\n",
    "from localsearch import lsWrapper"
   ]
  },
  {
   "cell_type": "code",
   "execution_count": 15,
   "metadata": {
    "collapsed": false
   },
   "outputs": [
    {
     "name": "stdout",
     "output_type": "stream",
     "text": [
      "Replacement Greedy gives cost 357.380422868\n",
      "Local search value after initialization =  357.380422868\n",
      "Intermediate cost at step  0  =  357.380422868\n",
      "Local Search gives cost =  357.380422868\n",
      "Greedy Sum gives cost =  355.415968527\n",
      "Greedy Merge gives cost =  357.380422868\n",
      "Size of S is  15\n",
      "\n",
      "Done for k =  1\n",
      "\n",
      "\n",
      "\n",
      "\n",
      "Replacement Greedy gives cost 362.835285675\n",
      "Local search value after initialization =  362.738493504\n",
      "Intermediate cost at step  0  =  362.761977825\n",
      "Intermediate cost at step  1  =  362.789146852\n",
      "Intermediate cost at step  2  =  362.807138304\n",
      "Intermediate cost at step  3  =  362.840346407\n",
      "Intermediate cost at step  4  =  362.840346407\n",
      "Local Search gives cost =  362.840346407\n",
      "Greedy Sum gives cost =  361.542272291\n",
      "Greedy Merge gives cost =  362.866436008\n",
      "Size of S is  31\n",
      "\n",
      "Done for k =  2\n",
      "\n",
      "\n",
      "\n",
      "\n",
      "Replacement Greedy gives cost 365.279711884\n",
      "Local search value after initialization =  365.269072768\n",
      "Intermediate cost at step  0  =  365.292706957\n",
      "Intermediate cost at step  1  =  365.317892728\n",
      "Intermediate cost at step  2  =  365.317892728\n",
      "Local Search gives cost =  365.317892728\n",
      "Greedy Sum gives cost =  364.9832492\n",
      "Greedy Merge gives cost =  366.232936222\n",
      "Size of S is  53\n",
      "\n",
      "Done for k =  4\n",
      "\n",
      "\n",
      "\n",
      "\n",
      "Replacement Greedy gives cost 365.818445659\n",
      "Local search value after initialization =  365.818445659\n",
      "Intermediate cost at step  0  =  365.818445659\n",
      "Local Search gives cost =  365.818445659\n",
      "Greedy Sum gives cost =  365.623749606\n",
      "Greedy Merge gives cost =  367.081877342\n",
      "Size of S is  61\n",
      "\n",
      "Done for k =  5\n",
      "\n",
      "\n",
      "\n",
      "\n",
      "Replacement Greedy gives cost 366.485245935\n",
      "Local search value after initialization =  366.485245935\n",
      "Intermediate cost at step  0  =  366.485245935\n",
      "Local Search gives cost =  366.485245935\n",
      "Greedy Sum gives cost =  366.342502671\n",
      "Greedy Merge gives cost =  368.180744163\n",
      "Size of S is  73\n",
      "\n",
      "Done for k =  7\n",
      "\n",
      "\n",
      "\n",
      "\n",
      "Replacement Greedy gives cost 366.721860648\n",
      "Local search value after initialization =  366.721860648\n",
      "Intermediate cost at step  0  =  366.721860648\n",
      "Local Search gives cost =  366.721860648\n",
      "Greedy Sum gives cost =  366.721860648\n",
      "Greedy Merge gives cost =  369.253643222\n",
      "Size of S is  90\n",
      "\n",
      "Done for k =  10\n",
      "\n",
      "\n",
      "\n",
      "\n",
      "Replacement Greedy gives cost 366.754532823\n",
      "Local search value after initialization =  366.754532823\n",
      "Intermediate cost at step  0  =  366.754532823\n",
      "Local Search gives cost =  366.754532823\n",
      "Greedy Sum gives cost =  366.754532823\n",
      "Greedy Merge gives cost =  370.358635805\n",
      "Size of S is  110\n",
      "\n",
      "Done for k =  15\n",
      "\n",
      "\n",
      "\n",
      "\n",
      "Replacement Greedy gives cost 366.754532823\n",
      "Local search value after initialization =  366.754532823\n",
      "Intermediate cost at step  0  =  366.754532823\n",
      "Local Search gives cost =  366.754532823\n",
      "Greedy Sum gives cost =  366.754532823\n",
      "Greedy Merge gives cost =  370.985271023\n",
      "Size of S is  121\n",
      "\n",
      "Done for k =  20\n",
      "\n",
      "\n",
      "\n",
      "\n"
     ]
    }
   ],
   "source": [
    "solution = []\n",
    "runtime = []\n",
    "calls = []\n",
    "\n",
    "Kvalues = [1,2,4,5,7]\n",
    "for k in range(10, l + 5, 5):\n",
    "    Kvalues.append(k)\n",
    "\n",
    "for k in Kvalues:\n",
    "    rg = replacementGreedy(numMovies, numCategories, l, k, simDist, movies)\n",
    "    ls = lsWrapper(numMovies, numCategories, l, k, 0.2, simDist, movies)\n",
    "    gs = gsWrapper(numMovies, numCategories, l, k, simDist, movies)\n",
    "    gm = gmWrapper(numMovies, numCategories, l, k, simDist, movies)\n",
    "    \n",
    "    curSol = []\n",
    "    curRt = []\n",
    "    curCalls = []\n",
    "    \n",
    "    for alg in [rg, ls, gs, gm]:\n",
    "        start = time.time()\n",
    "        \n",
    "        # TODO: edit this out\n",
    "#         if alg == ls:\n",
    "#             curRt.append(0)\n",
    "#             curSol.append(0)\n",
    "#             curCalls.append(0)\n",
    "#             continue\n",
    "            \n",
    "        algS, algCost, algEvals = alg(movieName.keys())\n",
    "        \n",
    "        if alg == rg:\n",
    "            print 'Replacement Greedy gives cost', algCost\n",
    "        \n",
    "        curRt.append(time.time() - start)\n",
    "        curSol.append(algCost)\n",
    "        curCalls.append(algEvals)\n",
    "    \n",
    "    solution.append(curSol)\n",
    "    runtime.append(curRt)\n",
    "    calls.append(curCalls)\n",
    "    \n",
    "    print \"\"\n",
    "    print \"Done for k = \", k\n",
    "    print \"\\n\\n\\n\""
   ]
  },
  {
   "cell_type": "code",
   "execution_count": 16,
   "metadata": {
    "collapsed": true
   },
   "outputs": [],
   "source": [
    "# store locally\n",
    "filename = open('../data/movielens-L.txt', 'w')\n",
    "\n",
    "print>>filename, 'solution'\n",
    "for item in solution:\n",
    "    print>>filename,item[0],item[1],item[2],item[3]\n",
    "    \n",
    "print>>filename, 'runtime'\n",
    "for item in runtime:\n",
    "    print>>filename,item[0],item[1],item[2],item[3]\n",
    "    \n",
    "print>>filename, 'calls'\n",
    "for item in calls:\n",
    "    print>>filename,item[0],item[1],item[2],item[3]"
   ]
  },
  {
   "cell_type": "code",
   "execution_count": 17,
   "metadata": {
    "collapsed": false
   },
   "outputs": [],
   "source": [
    "plt.clf()\n",
    "\n",
    "ax = plt.subplot(111)\n",
    "\n",
    "fs = 17\n",
    "\n",
    "# http://matplotlib.org/users/text_intro.html\n",
    "ax.set_xlabel('k', fontsize=fs)\n",
    "ax.set_ylabel('Objective Value', fontsize=fs)\n",
    "\n",
    "plt.ylim(355,372)\n",
    "plt.xlim(min(Kvalues), max(Kvalues))\n",
    "\n",
    "# ax.set_xticks(range(min(Kvalues),max(Kvalues)),1)\n",
    "xticks = [min(Kvalues)]\n",
    "for k in range(5, max(Kvalues) + 5, 5):\n",
    "    xticks.append(k)\n",
    "\n",
    "ax.set_xticks(xticks)\n",
    "\n",
    "colors = ['ro', 'cs', 'b^', 'gv']\n",
    "labelNames = ['Replacement Greedy', 'Local Search', 'Greedy Sum', 'Greedy Merge']\n",
    "\n",
    "for ind in range(len(colors)-1, -1,-1):\n",
    "    vals = []\n",
    "    for i in range(len(solution)):\n",
    "        vals.append(solution[i][ind])\n",
    "        \n",
    "    if ind != 0:\n",
    "        plt.plot(Kvalues, vals, c = colors[ind][0], marker = colors[ind][1], linewidth=2, label = labelNames[ind])\n",
    "    else:\n",
    "        plt.plot(Kvalues, vals, 'r--', linewidth=4, label = labelNames[ind])\n",
    "    \n",
    "# http://matplotlib.org/1.3.0/examples/pylab_examples/legend_demo.html\n",
    "legend = ax.legend(loc='lower right')\n",
    "\n",
    "# Set the fontsize\n",
    "for label in legend.get_texts():\n",
    "    label.set_fontsize('large')\n",
    "\n",
    "plt.savefig(\"../../writeup/images/movielens-fixed-l\")\n",
    "\n",
    "plt.close()\n",
    "\n",
    "# plt.show()"
   ]
  },
  {
   "cell_type": "code",
   "execution_count": 18,
   "metadata": {
    "collapsed": false
   },
   "outputs": [],
   "source": [
    "plt.clf()\n",
    "\n",
    "ax = plt.subplot(111)\n",
    "\n",
    "# http://matplotlib.org/users/text_intro.html\n",
    "ax.set_xlabel('k', fontsize=fs)\n",
    "ax.set_ylabel('Log(runtime)', fontsize=fs)\n",
    "\n",
    "plt.ylim(-10,25)\n",
    "plt.xlim(min(Kvalues), max(Kvalues))\n",
    "\n",
    "xticks = [min(Kvalues)]\n",
    "for l in range(10, max(Kvalues) + 10, 10):\n",
    "    xticks.append(l)\n",
    "\n",
    "ax.set_xticks(xticks)\n",
    "\n",
    "colors = ['ro', 'cs', 'b^', 'gv']\n",
    "labelNames = ['Replacement Greedy', 'Local Search', 'Greedy Sum', 'Greedy Merge']\n",
    "\n",
    "for ind in range(len(colors)-1, -1,-1):\n",
    "    vals = []\n",
    "    for i in range(len(runtime)):\n",
    "        vals.append(math.log(runtime[i][ind], 2))\n",
    "        \n",
    "    if ind != 0:\n",
    "        plt.plot(Kvalues, vals, c = colors[ind][0], marker = colors[ind][1], linewidth=2, label = labelNames[ind])\n",
    "    else:\n",
    "        plt.plot(Kvalues, vals, 'r--', linewidth=4, label = labelNames[ind])\n",
    "    \n",
    "# http://matplotlib.org/1.3.0/examples/pylab_examples/legend_demo.html\n",
    "legend = ax.legend(loc='upper right')\n",
    "\n",
    "# Set the fontsize\n",
    "for label in legend.get_texts():\n",
    "    label.set_fontsize('large')\n",
    "\n",
    "plt.savefig(\"../../writeup/images/movielens-runtime-fixed-l\")\n",
    "\n",
    "plt.close()"
   ]
  },
  {
   "cell_type": "code",
   "execution_count": null,
   "metadata": {
    "collapsed": true
   },
   "outputs": [],
   "source": []
  }
 ],
 "metadata": {
  "anaconda-cloud": {},
  "kernelspec": {
   "display_name": "Python [conda root]",
   "language": "python",
   "name": "conda-root-py"
  },
  "language_info": {
   "codemirror_mode": {
    "name": "ipython",
    "version": 2
   },
   "file_extension": ".py",
   "mimetype": "text/x-python",
   "name": "python",
   "nbconvert_exporter": "python",
   "pygments_lexer": "ipython2",
   "version": "2.7.10"
  }
 },
 "nbformat": 4,
 "nbformat_minor": 1
}
