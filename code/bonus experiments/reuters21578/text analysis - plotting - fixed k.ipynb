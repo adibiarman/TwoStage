{
 "cells": [
  {
   "cell_type": "markdown",
   "metadata": {},
   "source": [
    "### First, to parse the dataset"
   ]
  },
  {
   "cell_type": "code",
   "execution_count": 1,
   "metadata": {
    "collapsed": true
   },
   "outputs": [],
   "source": [
    "import numpy as np\n",
    "from sklearn.metrics.pairwise import cosine_similarity\n",
    "import time\n",
    "import math\n",
    "import matplotlib.pyplot as plt"
   ]
  },
  {
   "cell_type": "code",
   "execution_count": 2,
   "metadata": {
    "collapsed": true
   },
   "outputs": [],
   "source": [
    "from bs4 import BeautifulSoup,SoupStrainer"
   ]
  },
  {
   "cell_type": "code",
   "execution_count": 3,
   "metadata": {
    "collapsed": false
   },
   "outputs": [],
   "source": [
    "f = open('data/reut2-000.sgm', 'r')\n",
    "data= f.read()\n",
    "soup = BeautifulSoup(data)\n",
    "\n",
    "topics = list(soup.findAll('topics'))\n",
    "text = list(soup.findAll('text'))"
   ]
  },
  {
   "cell_type": "markdown",
   "metadata": {},
   "source": [
    "Keep fewer than max entries. Can comment out the next cell after more rigorous testing."
   ]
  },
  {
   "cell_type": "code",
   "execution_count": 4,
   "metadata": {
    "collapsed": true
   },
   "outputs": [],
   "source": [
    "topics = topics[:250]\n",
    "text = text[:250]"
   ]
  },
  {
   "cell_type": "code",
   "execution_count": 5,
   "metadata": {
    "collapsed": false
   },
   "outputs": [
    {
     "name": "stdout",
     "output_type": "stream",
     "text": [
      "earnacq\n",
      "\n",
      "OHIO MATTRESS <OMT> MAY HAVE LOWER 1ST QTR NET\n",
      "    CLEVELAND, Feb 26 - Ohio Mattress Co said its first\n",
      "quarter, ending February 28, profits may be below the 2.4 mln\n",
      "dlrs, or 15 cts a share, earned in the first quarter of fiscal\n",
      "1986.\n",
      "    The company said any decline would be due to expenses\n",
      "related to the acquisitions in the middle of the current\n",
      "quarter of seven licensees of Sealy Inc, as well as 82 pct of\n",
      "the outstanding capital stock of Sealy.\n",
      "    Because of these acquisitions, it said, first quarter sales\n",
      "will be substantially higher than last year's 67.1 mln dlrs.\n",
      "    Noting that it typically reports first quarter results in\n",
      "late march, said the report is likely to be issued in early\n",
      "April this year.\n",
      "    It said the delay is due to administrative considerations,\n",
      "including conducting appraisals, in connection with the\n",
      "acquisitions.\n",
      " Reuter\n",
      "\n"
     ]
    }
   ],
   "source": [
    "print topics[11].text\n",
    "print text[11].text"
   ]
  },
  {
   "cell_type": "code",
   "execution_count": 6,
   "metadata": {
    "collapsed": false
   },
   "outputs": [
    {
     "name": "stdout",
     "output_type": "stream",
     "text": [
      "46\n",
      "{u'copper': True, u'copra-cake': True, u'livestock': True, u'money-fx': True, u'tea': True, u'sunseed': True, u'trade': True, u'cocoa': True, u'reserves': True, u'soybean': True, u'ship': True, u'cotton': True, u'red-bean': True, u'palm-oil': True, u'housing': True, u'rye': True, u'gnp': True, u'sugar': True, u'rubber': True, u'veg-oil': True, u'oat': True, u'barley': True, u'interest': True, u'crude': True, u'rice': True, u'palmkernel': True, u'plywood': True, u'coffee': True, u'soy-oil': True, u'wheat': True, u'meal-feed': True, u'corn': True, u'nat-gas': True, u'oilseed': True, u'linseed': True, u'lin-oil': True, u'earn': True, u'cpi': True, u'soy-meal': True, u'bop': True, u'sun-oil': True, u'money-supply': True, u'carcass': True, u'acq': True, u'grain': True, u'sorghum': True}\n"
     ]
    }
   ],
   "source": [
    "uniqueTopics = {}\n",
    "\n",
    "for topicList in topics:\n",
    "    for t in topicList:\n",
    "        if t.text != '':\n",
    "            uniqueTopics[t.text] = True\n",
    "\n",
    "print len(uniqueTopics)\n",
    "print uniqueTopics"
   ]
  },
  {
   "cell_type": "markdown",
   "metadata": {},
   "source": [
    "Make these things callable by index"
   ]
  },
  {
   "cell_type": "code",
   "execution_count": 7,
   "metadata": {
    "collapsed": false
   },
   "outputs": [],
   "source": [
    "topicsToInd = dict()\n",
    "indToTopic = dict()\n",
    "\n",
    "for i in range(len(uniqueTopics)):\n",
    "    topicsToInd[uniqueTopics.keys()[i]] = i\n",
    "    indToTopic[i] = uniqueTopics.keys()[i]"
   ]
  },
  {
   "cell_type": "markdown",
   "metadata": {},
   "source": [
    "Next, keep only the articles that have a non-null list of topics"
   ]
  },
  {
   "cell_type": "code",
   "execution_count": 8,
   "metadata": {
    "collapsed": false
   },
   "outputs": [
    {
     "name": "stdout",
     "output_type": "stream",
     "text": [
      "153\n",
      "[u'grain', u'wheat', u'corn', u'barley', u'oat', u'sorghum']\n"
     ]
    }
   ],
   "source": [
    "valid = []\n",
    "\n",
    "for ind in range(len(topics)):\n",
    "    if len(topics[ind]) != 0:\n",
    "        valid.append(ind)\n",
    "        \n",
    "print len(valid)\n",
    "print [t.text for t in topics[valid[1]]]"
   ]
  },
  {
   "cell_type": "code",
   "execution_count": 9,
   "metadata": {
    "collapsed": false
   },
   "outputs": [],
   "source": [
    "topics = [topics[x] for x in valid]\n",
    "for ind in range(len(topics)):\n",
    "    topicList = topics[ind]\n",
    "    toText = []\n",
    "    \n",
    "    for t in topicList:\n",
    "        toText.append(t.text)\n",
    "        \n",
    "    topics[ind] = toText[:]\n",
    "\n",
    "text = [text[x].text for x in valid]"
   ]
  },
  {
   "cell_type": "code",
   "execution_count": 10,
   "metadata": {
    "collapsed": false
   },
   "outputs": [
    {
     "name": "stdout",
     "output_type": "stream",
     "text": [
      "[u'earn', u'acq']\n",
      "\n",
      "OHIO MATTRESS <OMT> MAY HAVE LOWER 1ST QTR NET\n",
      "    CLEVELAND, Feb 26 - Ohio Mattress Co said its first\n",
      "quarter, ending February 28, profits may be below the 2.4 mln\n",
      "dlrs, or 15 cts a share, earned in the first quarter of fiscal\n",
      "1986.\n",
      "    The company said any decline would be due to expenses\n",
      "related to the acquisitions in the middle of the current\n",
      "quarter of seven licensees of Sealy Inc, as well as 82 pct of\n",
      "the outstanding capital stock of Sealy.\n",
      "    Because of these acquisitions, it said, first quarter sales\n",
      "will be substantially higher than last year's 67.1 mln dlrs.\n",
      "    Noting that it typically reports first quarter results in\n",
      "late march, said the report is likely to be issued in early\n",
      "April this year.\n",
      "    It said the delay is due to administrative considerations,\n",
      "including conducting appraisals, in connection with the\n",
      "acquisitions.\n",
      " Reuter\n",
      "\n"
     ]
    }
   ],
   "source": [
    "print topics[6]\n",
    "print text[6]"
   ]
  },
  {
   "cell_type": "code",
   "execution_count": 11,
   "metadata": {
    "collapsed": false
   },
   "outputs": [
    {
     "name": "stdout",
     "output_type": "stream",
     "text": [
      "153 153    <---- these should be equal\n"
     ]
    }
   ],
   "source": [
    "print len(topics), len(text), \"   <---- these should be equal\""
   ]
  },
  {
   "cell_type": "markdown",
   "metadata": {},
   "source": [
    "Next, create a dictionary of type topics -> article indexes with said topics"
   ]
  },
  {
   "cell_type": "code",
   "execution_count": 12,
   "metadata": {
    "collapsed": false
   },
   "outputs": [
    {
     "name": "stdout",
     "output_type": "stream",
     "text": [
      "[1, 2, 10, 59, 112, 144, 147]\n"
     ]
    }
   ],
   "source": [
    "articles = dict()\n",
    "\n",
    "for i in range(len(topics)):\n",
    "    for t in topics[i]:\n",
    "        if topicsToInd[t] in articles:\n",
    "            articles[topicsToInd[t]].append(i)\n",
    "        else:\n",
    "            articles[topicsToInd[t]] = [i]\n",
    "\n",
    "print articles[topicsToInd['wheat']]"
   ]
  },
  {
   "cell_type": "markdown",
   "metadata": {},
   "source": [
    "### Now, to generate tf-idf scores"
   ]
  },
  {
   "cell_type": "code",
   "execution_count": 13,
   "metadata": {
    "collapsed": false
   },
   "outputs": [],
   "source": [
    "from sklearn.feature_extraction.text import TfidfVectorizer"
   ]
  },
  {
   "cell_type": "markdown",
   "metadata": {},
   "source": [
    "Set ngram_range for a more refined analysis"
   ]
  },
  {
   "cell_type": "code",
   "execution_count": 14,
   "metadata": {
    "collapsed": true
   },
   "outputs": [],
   "source": [
    "vectorizer = TfidfVectorizer(analyzer='word', ngram_range=(1,3), min_df = 0, stop_words = 'english')"
   ]
  },
  {
   "cell_type": "code",
   "execution_count": 15,
   "metadata": {
    "collapsed": false
   },
   "outputs": [],
   "source": [
    "X = vectorizer.fit_transform(text).todense()"
   ]
  },
  {
   "cell_type": "code",
   "execution_count": 16,
   "metadata": {
    "collapsed": false
   },
   "outputs": [],
   "source": [
    "for ind in range(len(X)):\n",
    "    X[ind] = np.array(X[ind].tolist()[0])"
   ]
  },
  {
   "cell_type": "markdown",
   "metadata": {},
   "source": [
    "### Can we compute the cosine between two different articles? Create a cosine similarity matrix."
   ]
  },
  {
   "cell_type": "code",
   "execution_count": 17,
   "metadata": {
    "collapsed": false
   },
   "outputs": [
    {
     "data": {
      "text/plain": [
       "array([[ 0.02880969]])"
      ]
     },
     "execution_count": 17,
     "metadata": {},
     "output_type": "execute_result"
    }
   ],
   "source": [
    "cosine_similarity(X[0].reshape(1,-1), X[6].reshape(1,-1))"
   ]
  },
  {
   "cell_type": "code",
   "execution_count": 18,
   "metadata": {
    "collapsed": true
   },
   "outputs": [],
   "source": [
    "n = len(topics)"
   ]
  },
  {
   "cell_type": "code",
   "execution_count": 19,
   "metadata": {
    "collapsed": true
   },
   "outputs": [],
   "source": [
    "csim = [[0 for i in range(n)] for i in range(n)]\n",
    "\n",
    "for i in range(n):\n",
    "    for j in range(n):\n",
    "        csim[i][j] = cosine_similarity(X[i].reshape(1,-1), X[j].reshape(1,-1))[0][0]"
   ]
  },
  {
   "cell_type": "markdown",
   "metadata": {
    "collapsed": true
   },
   "source": [
    "### Now, apply our algorithm with facility location as the submodular functions"
   ]
  },
  {
   "cell_type": "code",
   "execution_count": 20,
   "metadata": {
    "collapsed": false
   },
   "outputs": [
    {
     "name": "stdout",
     "output_type": "stream",
     "text": [
      "153 46 5\n"
     ]
    }
   ],
   "source": [
    "n = len(topics)\n",
    "m = len(uniqueTopics)\n",
    "k = 5\n",
    "\n",
    "print n, m, k"
   ]
  },
  {
   "cell_type": "code",
   "execution_count": 21,
   "metadata": {
    "collapsed": true
   },
   "outputs": [],
   "source": [
    "from localsearch import localsearch\n",
    "from greedysum import greedysum\n",
    "from greedymerge import greedymerge\n",
    "from replacementGreedy import replacementGreedy"
   ]
  },
  {
   "cell_type": "code",
   "execution_count": 22,
   "metadata": {
    "collapsed": false
   },
   "outputs": [
    {
     "name": "stdout",
     "output_type": "stream",
     "text": [
      "Local search value after initialization =  51.706115061\n",
      "Intermediate cost at step  0  =  51.706115061\n",
      "Local Search gives cost =  51.706115061\n",
      "Greedy Sum gives cost =  51.706115061\n",
      "Greedy Merge gives cost =  129.920337744\n",
      "Size of S is  58\n",
      "Replacement greedy gives cost 51.706115061\n",
      "\n",
      "Done for l =  5\n",
      "\n",
      "\n",
      "\n",
      "\n",
      "Local search value after initialization =  62.0249168378\n",
      "Intermediate cost at step  0  =  62.0249168378\n",
      "Local Search gives cost =  62.0249168378\n",
      "Greedy Sum gives cost =  62.0249168378\n",
      "Greedy Merge gives cost =  129.920337744\n",
      "Size of S is  58\n",
      "Replacement greedy gives cost 62.0249168378\n",
      "\n",
      "Done for l =  7\n",
      "\n",
      "\n",
      "\n",
      "\n",
      "Local search value after initialization =  72.1819885195\n",
      "Intermediate cost at step  0  =  72.1819885195\n",
      "Local Search gives cost =  72.1819885195\n",
      "Greedy Sum gives cost =  71.5314408768\n",
      "Greedy Merge gives cost =  129.920337744\n",
      "Size of S is  58\n",
      "Replacement greedy gives cost 72.1819885195\n",
      "\n",
      "Done for l =  10\n",
      "\n",
      "\n",
      "\n",
      "\n",
      "Local search value after initialization =  81.8428543583\n",
      "Intermediate cost at step  0  =  81.8428543583\n",
      "Local Search gives cost =  81.8428543583\n",
      "Greedy Sum gives cost =  81.7170098177\n",
      "Greedy Merge gives cost =  129.920337744\n",
      "Size of S is  58\n",
      "Replacement greedy gives cost 81.8428543583\n",
      "\n",
      "Done for l =  14\n",
      "\n",
      "\n",
      "\n",
      "\n",
      "Local search value after initialization =  87.9575948177\n",
      "Intermediate cost at step  0  =  87.9575948177\n",
      "Local Search gives cost =  87.9575948177\n",
      "Greedy Sum gives cost =  86.1847429779\n",
      "Greedy Merge gives cost =  129.920337744\n",
      "Size of S is  58\n",
      "Replacement greedy gives cost 87.9575948177\n",
      "\n",
      "Done for l =  17\n",
      "\n",
      "\n",
      "\n",
      "\n",
      "Local search value after initialization =  93.5897487446\n",
      "Intermediate cost at step  0  =  93.5897487446\n",
      "Local Search gives cost =  93.5897487446\n",
      "Greedy Sum gives cost =  92.1459054656\n",
      "Greedy Merge gives cost =  129.920337744\n",
      "Size of S is  58\n",
      "Replacement greedy gives cost 93.5897487446\n",
      "\n",
      "Done for l =  20\n",
      "\n",
      "\n",
      "\n",
      "\n",
      "Local search value after initialization =  107.071432752\n",
      "Intermediate cost at step  0  =  107.071432752\n",
      "Local Search gives cost =  107.071432752\n",
      "Greedy Sum gives cost =  101.4191509\n",
      "Greedy Merge gives cost =  129.920337744\n",
      "Size of S is  58\n",
      "Replacement greedy gives cost 107.065586542\n",
      "\n",
      "Done for l =  30\n",
      "\n",
      "\n",
      "\n",
      "\n",
      "Local search value after initialization =  117.091584204\n",
      "Intermediate cost at step  0  =  117.091584204\n",
      "Local Search gives cost =  117.091584204\n",
      "Greedy Sum gives cost =  109.141521727\n",
      "Greedy Merge gives cost =  129.920337744\n",
      "Size of S is  58\n",
      "Replacement greedy gives cost 117.085737995\n",
      "\n",
      "Done for l =  40\n",
      "\n",
      "\n",
      "\n",
      "\n",
      "Local search value after initialization =  126.587412038\n",
      "Intermediate cost at step  0  =  126.587412038\n",
      "Local Search gives cost =  126.587412038\n",
      "Greedy Sum gives cost =  118.138989081\n",
      "Greedy Merge gives cost =  129.920337744\n",
      "Size of S is  58\n",
      "Replacement greedy gives cost 126.578622678\n",
      "\n",
      "Done for l =  50\n",
      "\n",
      "\n",
      "\n",
      "\n",
      "Local search value after initialization =  129.964106664\n",
      "Intermediate cost at step  0  =  129.964106664\n",
      "Local Search gives cost =  129.964106664\n",
      "Greedy Sum gives cost =  122.060542492\n",
      "Greedy Merge gives cost =  129.920337744\n",
      "Size of S is  58\n",
      "Replacement greedy gives cost 130.193375307\n",
      "\n",
      "Done for l =  60\n",
      "\n",
      "\n",
      "\n",
      "\n",
      "Local search value after initialization =  129.964106664\n",
      "Intermediate cost at step  0  =  129.964106664\n",
      "Local Search gives cost =  129.964106664\n",
      "Greedy Sum gives cost =  123.937456471\n",
      "Greedy Merge gives cost =  129.920337744\n",
      "Size of S is  58\n",
      "Replacement greedy gives cost 130.217988874\n",
      "\n",
      "Done for l =  70\n",
      "\n",
      "\n",
      "\n",
      "\n"
     ]
    }
   ],
   "source": [
    "solution = []\n",
    "runtime = []\n",
    "calls = []\n",
    "\n",
    "Lvalues = [5,7,10,14,17]\n",
    "for l in range(20,80,10):\n",
    "    Lvalues.append(l)\n",
    "\n",
    "for l in Lvalues:\n",
    "    rgTime = time.time()\n",
    "    rgS, rgCost, rgEvals = replacementGreedy(n, m, l, k, csim, articles)\n",
    "    rgTime = time.time() - rgTime\n",
    "    \n",
    "    lsTime = time.time()\n",
    "    lsS, lsCost, lsEvals = localsearch(n, m, l, k, csim, articles, 0.2)\n",
    "    lsTime = time.time() - lsTime\n",
    "    \n",
    "    gsTime = time.time()\n",
    "    gsS, gsCost, gsEvals = greedysum(n, m, l, k, csim, articles)\n",
    "    gsTime = time.time() - gsTime\n",
    "    \n",
    "    gmTime = time.time()\n",
    "    gmS, gmCost, gmEvals = greedymerge(n, m, l, k, csim, articles)\n",
    "    gmTime = time.time() - gmTime\n",
    "    \n",
    "    solution.append([rgCost, lsCost, gsCost, gmCost])\n",
    "    runtime.append([rgTime, lsTime, gsTime, gmTime])\n",
    "    calls.append([rgEvals, lsEvals, gsEvals, gmEvals])\n",
    "    \n",
    "    print 'Replacement greedy gives cost', rgCost\n",
    "    \n",
    "    print \"\"\n",
    "    print \"Done for l = \", l\n",
    "    print \"\\n\\n\\n\""
   ]
  },
  {
   "cell_type": "code",
   "execution_count": 23,
   "metadata": {
    "collapsed": true
   },
   "outputs": [],
   "source": [
    "# store locally\n",
    "filename = open('../data/reuters-K.txt', 'w')\n",
    "\n",
    "print>>filename, 'solution'\n",
    "for item in solution:\n",
    "    print>>filename,item[0],item[1],item[2],item[3]\n",
    "    \n",
    "print>>filename, 'runtime'\n",
    "for item in runtime:\n",
    "    print>>filename,item[0],item[1],item[2],item[3]\n",
    "    \n",
    "print>>filename, 'calls'\n",
    "for item in calls:\n",
    "    print>>filename,item[0],item[1],item[2],item[3]"
   ]
  },
  {
   "cell_type": "code",
   "execution_count": 24,
   "metadata": {
    "collapsed": false
   },
   "outputs": [],
   "source": [
    "plt.clf()\n",
    "\n",
    "ax = plt.subplot(111)\n",
    "\n",
    "fs = 17\n",
    "\n",
    "# http://matplotlib.org/users/text_intro.html\n",
    "ax.set_xlabel('l', fontsize=fs)\n",
    "ax.set_ylabel('Objective Value', fontsize=fs)\n",
    "\n",
    "plt.ylim(50,140)\n",
    "plt.xlim(min(Lvalues), max(Lvalues))\n",
    "\n",
    "xticks = [min(Lvalues)]\n",
    "for l in range(10, max(Lvalues) + 10, 10):\n",
    "    xticks.append(l)\n",
    "\n",
    "ax.set_xticks(xticks)\n",
    "\n",
    "for tick in ax.xaxis.get_major_ticks():\n",
    "    tick.label.set_fontsize(fs) \n",
    "for tick in ax.yaxis.get_major_ticks():\n",
    "    tick.label.set_fontsize(fs) \n",
    "\n",
    "colors = ['ro', 'cs', 'b^', 'gv']\n",
    "labelNames = ['Replacement Greedy', 'Local Search', 'Greedy Sum', 'Greedy Merge']\n",
    "\n",
    "for ind in range(len(colors)-1, -1,-1):\n",
    "    vals = []\n",
    "    for i in range(len(solution)):\n",
    "        vals.append(solution[i][ind])\n",
    "        \n",
    "    if ind != 0:\n",
    "        plt.plot(Lvalues, vals, c = colors[ind][0], marker = colors[ind][1], linewidth=2, label = labelNames[ind])\n",
    "    else:\n",
    "        plt.plot(Lvalues, vals, 'r--', linewidth=4, label = labelNames[ind])\n",
    "    \n",
    "# http://matplotlib.org/1.3.0/examples/pylab_examples/legend_demo.html\n",
    "legend = ax.legend(loc='lower right')\n",
    "\n",
    "# Set the fontsize\n",
    "for label in legend.get_texts():\n",
    "    label.set_fontsize(fs)\n",
    "\n",
    "plt.savefig(\"../../writeup/images/reuters-fixed-k\")\n",
    "\n",
    "plt.close()"
   ]
  },
  {
   "cell_type": "code",
   "execution_count": 25,
   "metadata": {
    "collapsed": false
   },
   "outputs": [],
   "source": [
    "plt.clf()\n",
    "\n",
    "ax = plt.subplot(111)\n",
    "\n",
    "# http://matplotlib.org/users/text_intro.html\n",
    "ax.set_xlabel('l', fontsize=fs)\n",
    "ax.set_ylabel('Log(runtime)', fontsize=fs)\n",
    "\n",
    "plt.ylim(-10,25)\n",
    "plt.xlim(min(Lvalues), max(Lvalues))\n",
    "\n",
    "xticks = [min(Lvalues)]\n",
    "for l in range(10, max(Lvalues) + 10, 10):\n",
    "    xticks.append(l)\n",
    "\n",
    "ax.set_xticks(xticks)\n",
    "\n",
    "for tick in ax.xaxis.get_major_ticks():\n",
    "    tick.label.set_fontsize(fs) \n",
    "for tick in ax.yaxis.get_major_ticks():\n",
    "    tick.label.set_fontsize(fs) \n",
    "\n",
    "colors = ['ro', 'cs', 'b^', 'gv']\n",
    "labelNames = ['Replacement Greedy', 'Local Search', 'Greedy Sum', 'Greedy Merge']\n",
    "\n",
    "for ind in range(len(colors)-1, -1,-1):\n",
    "    vals = []\n",
    "    for i in range(len(runtime)):\n",
    "        vals.append(math.log(runtime[i][ind], 2))\n",
    "        \n",
    "    if ind != 0:\n",
    "        plt.plot(Lvalues, vals, c = colors[ind][0], marker = colors[ind][1], linewidth=2, label = labelNames[ind])\n",
    "    else:\n",
    "        plt.plot(Lvalues, vals, 'r--', linewidth=4, label = labelNames[ind])\n",
    "    \n",
    "# http://matplotlib.org/1.3.0/examples/pylab_examples/legend_demo.html\n",
    "legend = ax.legend(loc='upper right')\n",
    "\n",
    "# Set the fontsize\n",
    "for label in legend.get_texts():\n",
    "    label.set_fontsize(fs)\n",
    "\n",
    "plt.savefig(\"../../writeup/images/reuters-runtime-fixed-k\")\n",
    "\n",
    "plt.close()"
   ]
  },
  {
   "cell_type": "code",
   "execution_count": null,
   "metadata": {
    "collapsed": true
   },
   "outputs": [],
   "source": []
  }
 ],
 "metadata": {
  "anaconda-cloud": {},
  "kernelspec": {
   "display_name": "Python [conda root]",
   "language": "python",
   "name": "conda-root-py"
  },
  "language_info": {
   "codemirror_mode": {
    "name": "ipython",
    "version": 2
   },
   "file_extension": ".py",
   "mimetype": "text/x-python",
   "name": "python",
   "nbconvert_exporter": "python",
   "pygments_lexer": "ipython2",
   "version": "2.7.10"
  }
 },
 "nbformat": 4,
 "nbformat_minor": 1
}
