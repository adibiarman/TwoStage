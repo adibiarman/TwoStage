{
 "cells": [
  {
   "cell_type": "markdown",
   "metadata": {},
   "source": [
    "### First, to parse the dataset"
   ]
  },
  {
   "cell_type": "code",
   "execution_count": 1,
   "metadata": {
    "collapsed": true
   },
   "outputs": [],
   "source": [
    "import numpy as np\n",
    "from sklearn.metrics.pairwise import cosine_similarity\n",
    "import time"
   ]
  },
  {
   "cell_type": "code",
   "execution_count": 2,
   "metadata": {
    "collapsed": true
   },
   "outputs": [],
   "source": [
    "from bs4 import BeautifulSoup,SoupStrainer"
   ]
  },
  {
   "cell_type": "code",
   "execution_count": 3,
   "metadata": {
    "collapsed": false
   },
   "outputs": [
    {
     "name": "stderr",
     "output_type": "stream",
     "text": [
      "/Users/serbanstan/anaconda2/lib/python2.7/site-packages/bs4/__init__.py:181: UserWarning: No parser was explicitly specified, so I'm using the best available HTML parser for this system (\"lxml\"). This usually isn't a problem, but if you run this code on another system, or in a different virtual environment, it may use a different parser and behave differently.\n",
      "\n",
      "The code that caused this warning is on line 174 of the file /Users/serbanstan/anaconda2/lib/python2.7/runpy.py. To get rid of this warning, change code that looks like this:\n",
      "\n",
      " BeautifulSoup([your markup])\n",
      "\n",
      "to this:\n",
      "\n",
      " BeautifulSoup([your markup], \"lxml\")\n",
      "\n",
      "  markup_type=markup_type))\n"
     ]
    }
   ],
   "source": [
    "f = open('data/reut2-000.sgm', 'r')\n",
    "data= f.read()\n",
    "soup = BeautifulSoup(data)\n",
    "\n",
    "topics = list(soup.findAll('topics'))\n",
    "text = list(soup.findAll('text'))"
   ]
  },
  {
   "cell_type": "markdown",
   "metadata": {},
   "source": [
    "Keep fewer than max entries. Can comment out the next cell after more rigorous testing."
   ]
  },
  {
   "cell_type": "code",
   "execution_count": 4,
   "metadata": {
    "collapsed": true
   },
   "outputs": [],
   "source": [
    "topics = topics[:180]\n",
    "text = text[:180]"
   ]
  },
  {
   "cell_type": "code",
   "execution_count": 5,
   "metadata": {
    "collapsed": false
   },
   "outputs": [
    {
     "name": "stdout",
     "output_type": "stream",
     "text": [
      "earnacq\n",
      "\n",
      "OHIO MATTRESS <OMT> MAY HAVE LOWER 1ST QTR NET\n",
      "    CLEVELAND, Feb 26 - Ohio Mattress Co said its first\n",
      "quarter, ending February 28, profits may be below the 2.4 mln\n",
      "dlrs, or 15 cts a share, earned in the first quarter of fiscal\n",
      "1986.\n",
      "    The company said any decline would be due to expenses\n",
      "related to the acquisitions in the middle of the current\n",
      "quarter of seven licensees of Sealy Inc, as well as 82 pct of\n",
      "the outstanding capital stock of Sealy.\n",
      "    Because of these acquisitions, it said, first quarter sales\n",
      "will be substantially higher than last year's 67.1 mln dlrs.\n",
      "    Noting that it typically reports first quarter results in\n",
      "late march, said the report is likely to be issued in early\n",
      "April this year.\n",
      "    It said the delay is due to administrative considerations,\n",
      "including conducting appraisals, in connection with the\n",
      "acquisitions.\n",
      " Reuter\n",
      "\n"
     ]
    }
   ],
   "source": [
    "print topics[11].text\n",
    "print text[11].text"
   ]
  },
  {
   "cell_type": "code",
   "execution_count": 6,
   "metadata": {
    "collapsed": false
   },
   "outputs": [
    {
     "name": "stdout",
     "output_type": "stream",
     "text": [
      "35\n",
      "{u'copper': True, u'livestock': True, u'sunseed': True, u'trade': True, u'cocoa': True, u'reserves': True, u'soybean': True, u'ship': True, u'cotton': True, u'housing': True, u'rye': True, u'gnp': True, u'sugar': True, u'veg-oil': True, u'oat': True, u'barley': True, u'crude': True, u'coffee': True, u'soy-oil': True, u'wheat': True, u'meal-feed': True, u'corn': True, u'nat-gas': True, u'oilseed': True, u'linseed': True, u'lin-oil': True, u'earn': True, u'cpi': True, u'soy-meal': True, u'sun-oil': True, u'money-supply': True, u'carcass': True, u'acq': True, u'grain': True, u'sorghum': True}\n"
     ]
    }
   ],
   "source": [
    "uniqueTopics = {}\n",
    "\n",
    "for topicList in topics:\n",
    "    for t in topicList:\n",
    "        if t.text != '':\n",
    "            uniqueTopics[t.text] = True\n",
    "\n",
    "print len(uniqueTopics)\n",
    "print uniqueTopics"
   ]
  },
  {
   "cell_type": "markdown",
   "metadata": {},
   "source": [
    "Make these things callable by index"
   ]
  },
  {
   "cell_type": "code",
   "execution_count": 7,
   "metadata": {
    "collapsed": false
   },
   "outputs": [],
   "source": [
    "topicsToInd = dict()\n",
    "indToTopic = dict()\n",
    "\n",
    "for i in range(len(uniqueTopics)):\n",
    "    topicsToInd[uniqueTopics.keys()[i]] = i\n",
    "    indToTopic[i] = uniqueTopics.keys()[i]"
   ]
  },
  {
   "cell_type": "markdown",
   "metadata": {},
   "source": [
    "Next, keep only the articles that have a non-null list of topics"
   ]
  },
  {
   "cell_type": "code",
   "execution_count": 8,
   "metadata": {
    "collapsed": false
   },
   "outputs": [
    {
     "name": "stdout",
     "output_type": "stream",
     "text": [
      "113\n",
      "[u'grain', u'wheat', u'corn', u'barley', u'oat', u'sorghum']\n"
     ]
    }
   ],
   "source": [
    "valid = []\n",
    "\n",
    "for ind in range(len(topics)):\n",
    "    if len(topics[ind]) != 0:\n",
    "        valid.append(ind)\n",
    "        \n",
    "print len(valid)\n",
    "print [t.text for t in topics[valid[1]]]"
   ]
  },
  {
   "cell_type": "code",
   "execution_count": 9,
   "metadata": {
    "collapsed": false
   },
   "outputs": [],
   "source": [
    "topics = [topics[x] for x in valid]\n",
    "for ind in range(len(topics)):\n",
    "    topicList = topics[ind]\n",
    "    toText = []\n",
    "    \n",
    "    for t in topicList:\n",
    "        toText.append(t.text)\n",
    "        \n",
    "    topics[ind] = toText[:]\n",
    "\n",
    "text = [text[x].text for x in valid]"
   ]
  },
  {
   "cell_type": "code",
   "execution_count": 10,
   "metadata": {
    "collapsed": false
   },
   "outputs": [
    {
     "name": "stdout",
     "output_type": "stream",
     "text": [
      "[u'earn', u'acq']\n",
      "\n",
      "OHIO MATTRESS <OMT> MAY HAVE LOWER 1ST QTR NET\n",
      "    CLEVELAND, Feb 26 - Ohio Mattress Co said its first\n",
      "quarter, ending February 28, profits may be below the 2.4 mln\n",
      "dlrs, or 15 cts a share, earned in the first quarter of fiscal\n",
      "1986.\n",
      "    The company said any decline would be due to expenses\n",
      "related to the acquisitions in the middle of the current\n",
      "quarter of seven licensees of Sealy Inc, as well as 82 pct of\n",
      "the outstanding capital stock of Sealy.\n",
      "    Because of these acquisitions, it said, first quarter sales\n",
      "will be substantially higher than last year's 67.1 mln dlrs.\n",
      "    Noting that it typically reports first quarter results in\n",
      "late march, said the report is likely to be issued in early\n",
      "April this year.\n",
      "    It said the delay is due to administrative considerations,\n",
      "including conducting appraisals, in connection with the\n",
      "acquisitions.\n",
      " Reuter\n",
      "\n"
     ]
    }
   ],
   "source": [
    "print topics[6]\n",
    "print text[6]"
   ]
  },
  {
   "cell_type": "code",
   "execution_count": 11,
   "metadata": {
    "collapsed": false
   },
   "outputs": [
    {
     "name": "stdout",
     "output_type": "stream",
     "text": [
      "113 113    <---- these should be equal\n"
     ]
    }
   ],
   "source": [
    "print len(topics), len(text), \"   <---- these should be equal\""
   ]
  },
  {
   "cell_type": "markdown",
   "metadata": {},
   "source": [
    "Next, create a dictionary of type topics -> article indexes with said topics"
   ]
  },
  {
   "cell_type": "code",
   "execution_count": 12,
   "metadata": {
    "collapsed": false
   },
   "outputs": [
    {
     "name": "stdout",
     "output_type": "stream",
     "text": [
      "[1, 2, 10, 59, 112]\n"
     ]
    }
   ],
   "source": [
    "articles = dict()\n",
    "\n",
    "for i in range(len(topics)):\n",
    "    for t in topics[i]:\n",
    "        if topicsToInd[t] in articles:\n",
    "            articles[topicsToInd[t]].append(i)\n",
    "        else:\n",
    "            articles[topicsToInd[t]] = [i]\n",
    "\n",
    "print articles[topicsToInd['wheat']]"
   ]
  },
  {
   "cell_type": "markdown",
   "metadata": {},
   "source": [
    "### Now, to generate tf-idf scores"
   ]
  },
  {
   "cell_type": "code",
   "execution_count": 13,
   "metadata": {
    "collapsed": false
   },
   "outputs": [],
   "source": [
    "from sklearn.feature_extraction.text import TfidfVectorizer"
   ]
  },
  {
   "cell_type": "markdown",
   "metadata": {},
   "source": [
    "Set ngram_range for a more refined analysis"
   ]
  },
  {
   "cell_type": "code",
   "execution_count": 14,
   "metadata": {
    "collapsed": true
   },
   "outputs": [],
   "source": [
    "vectorizer = TfidfVectorizer(analyzer='word', ngram_range=(1,3), min_df = 0, stop_words = 'english')"
   ]
  },
  {
   "cell_type": "code",
   "execution_count": 15,
   "metadata": {
    "collapsed": false
   },
   "outputs": [],
   "source": [
    "X = vectorizer.fit_transform(text).todense()"
   ]
  },
  {
   "cell_type": "code",
   "execution_count": 16,
   "metadata": {
    "collapsed": false
   },
   "outputs": [],
   "source": [
    "for ind in range(len(X)):\n",
    "    X[ind] = np.array(X[ind].tolist()[0])"
   ]
  },
  {
   "cell_type": "markdown",
   "metadata": {},
   "source": [
    "### Can we compute the cosine between two different articles? Create a cosine similarity matrix."
   ]
  },
  {
   "cell_type": "code",
   "execution_count": 17,
   "metadata": {
    "collapsed": false
   },
   "outputs": [
    {
     "data": {
      "text/plain": [
       "array([[ 0.03211389]])"
      ]
     },
     "execution_count": 17,
     "metadata": {},
     "output_type": "execute_result"
    }
   ],
   "source": [
    "cosine_similarity(X[0].reshape(1,-1), X[6].reshape(1,-1))"
   ]
  },
  {
   "cell_type": "code",
   "execution_count": 18,
   "metadata": {
    "collapsed": true
   },
   "outputs": [],
   "source": [
    "n = len(topics)"
   ]
  },
  {
   "cell_type": "code",
   "execution_count": 19,
   "metadata": {
    "collapsed": true
   },
   "outputs": [],
   "source": [
    "csim = [[0 for i in range(n)] for i in range(n)]\n",
    "\n",
    "for i in range(n):\n",
    "    for j in range(n):\n",
    "        csim[i][j] = cosine_similarity(X[i].reshape(1,-1), X[j].reshape(1,-1))[0][0]"
   ]
  },
  {
   "cell_type": "markdown",
   "metadata": {
    "collapsed": true
   },
   "source": [
    "### Now, apply our algorithm with facility location as the submodular functions"
   ]
  },
  {
   "cell_type": "code",
   "execution_count": 20,
   "metadata": {
    "collapsed": true
   },
   "outputs": [],
   "source": [
    "n = len(topics)\n",
    "m = len(uniqueTopics)\n",
    "l = 10\n",
    "k = 5"
   ]
  },
  {
   "cell_type": "code",
   "execution_count": 1,
   "metadata": {
    "collapsed": true
   },
   "outputs": [],
   "source": [
    "from localsearch import localsearch\n",
    "from greedysum import greedysum\n",
    "from greedymerge import greedymerge\n",
    "from replacementGreedy import replacementGreedy"
   ]
  },
  {
   "cell_type": "code",
   "execution_count": 22,
   "metadata": {
    "collapsed": false
   },
   "outputs": [
    {
     "name": "stdout",
     "output_type": "stream",
     "text": [
      "Local search value after initialization =  24.5935275819\n",
      "Intermediate cost at step  0  =  29.3725275078\n",
      "Intermediate cost at step  1  =  31.1980027137\n",
      "Intermediate cost at step  2  =  35.6952359898\n",
      "Intermediate cost at step  3  =  37.569888355\n",
      "Intermediate cost at step  4  =  37.569888355\n",
      "Local Search gives cost =  37.569888355\n",
      "Greedy Sum gives cost =  39.8162833487\n",
      "Greedy Merge gives cost =  86.5081812401\n",
      "Size of S is  43\n",
      "We obtained objective value  39.8162833487  for set  [2, 59, 18, 1, 39]\n",
      "\n",
      "Done for l =  5\n",
      "\n",
      "\n",
      "\n",
      "\n",
      "Local search value after initialization =  34.6708046877\n",
      "Intermediate cost at step  0  =  39.7137459389\n",
      "Intermediate cost at step  1  =  41.6086492238\n",
      "Intermediate cost at step  2  =  46.148023911\n",
      "Intermediate cost at step  3  =  47.0421772756\n",
      "Intermediate cost at step  4  =  49.9787859109\n",
      "Intermediate cost at step  5  =  50.9250750184\n",
      "Intermediate cost at step  6  =  51.5413823377\n",
      "Intermediate cost at step  7  =  51.5413823377\n",
      "Local Search gives cost =  51.5413823377\n",
      "Greedy Sum gives cost =  53.4403864798\n",
      "Greedy Merge gives cost =  86.5081812401\n",
      "Size of S is  43\n",
      "We obtained objective value  53.4403864798  for set  [2, 59, 18, 1, 39, 44, 98, 61, 111, 10]\n",
      "\n",
      "Done for l =  10\n",
      "\n",
      "\n",
      "\n",
      "\n",
      "Local search value after initialization =  45.8132879166\n",
      "Intermediate cost at step  0  =  50.7672453504\n",
      "Intermediate cost at step  1  =  52.6668322597\n",
      "Intermediate cost at step  2  =  53.3097959053\n",
      "Intermediate cost at step  3  =  58.1106314585\n",
      "Intermediate cost at step  4  =  59.0160093014\n",
      "Intermediate cost at step  5  =  59.2872891395\n",
      "Intermediate cost at step  6  =  60.1549862595\n",
      "Intermediate cost at step  7  =  61.1771351649\n",
      "Intermediate cost at step  8  =  62.1288181188\n",
      "Intermediate cost at step  9  =  62.8837150797\n",
      "Intermediate cost at step  10  =  63.4585634649\n",
      "Intermediate cost at step  11  =  64.0821931089\n",
      "Intermediate cost at step  12  =  64.5026652674\n",
      "Intermediate cost at step  13  =  64.74834483\n",
      "Intermediate cost at step  14  =  65.4222762912\n",
      "Intermediate cost at step  15  =  65.7017114927\n",
      "Intermediate cost at step  16  =  66.4792679454\n",
      "Intermediate cost at step  17  =  66.8646050719\n",
      "Intermediate cost at step  18  =  67.0578524485\n",
      "Intermediate cost at step  19  =  67.4757394684\n",
      "Intermediate cost at step  20  =  67.7806164587\n",
      "Intermediate cost at step  21  =  67.7806164587\n",
      "Local Search gives cost =  67.7806164587\n",
      "Greedy Sum gives cost =  68.5128960977\n",
      "Greedy Merge gives cost =  86.5081812401\n",
      "Size of S is  43\n",
      "We obtained objective value  69.0865044627  for set  [2, 59, 18, 1, 39, 44, 98, 61, 111, 10, 6, 23, 68, 74, 101, 58, 70, 22, 72, 93]\n",
      "\n",
      "Done for l =  20\n",
      "\n",
      "\n",
      "\n",
      "\n",
      "Local search value after initialization =  40.8657717134\n",
      "Intermediate cost at step  0  =  45.9322976322\n",
      "Intermediate cost at step  1  =  47.7534485484\n",
      "Intermediate cost at step  2  =  48.7395031577\n",
      "Intermediate cost at step  3  =  53.5605974574\n",
      "Intermediate cost at step  4  =  54.3392016114\n",
      "Intermediate cost at step  5  =  55.5390096587\n",
      "Intermediate cost at step  6  =  58.086960847\n",
      "Intermediate cost at step  7  =  59.0730154563\n",
      "Intermediate cost at step  8  =  60.2556033318\n",
      "Intermediate cost at step  9  =  61.1204891103\n",
      "Intermediate cost at step  10  =  61.3871387141\n",
      "Intermediate cost at step  11  =  62.1013559944\n",
      "Intermediate cost at step  12  =  62.3548169098\n",
      "Intermediate cost at step  13  =  62.8202157781\n",
      "Intermediate cost at step  14  =  63.2135981212\n",
      "Intermediate cost at step  15  =  64.1782627116\n",
      "Intermediate cost at step  16  =  64.4517278338\n",
      "Intermediate cost at step  17  =  65.1186637749\n",
      "Intermediate cost at step  18  =  65.5679293248\n",
      "Intermediate cost at step  19  =  65.841394447\n",
      "Intermediate cost at step  20  =  66.4629976651\n",
      "Intermediate cost at step  21  =  67.4276622555\n",
      "Intermediate cost at step  22  =  67.7011273777\n",
      "Intermediate cost at step  23  =  67.9213122316\n",
      "Intermediate cost at step  24  =  68.6478542181\n",
      "Intermediate cost at step  25  =  69.6125188085\n",
      "Intermediate cost at step  26  =  69.8859839307\n",
      "Intermediate cost at step  27  =  70.8180834151\n",
      "Intermediate cost at step  28  =  70.9863828771\n",
      "Intermediate cost at step  29  =  71.7622267833\n",
      "Intermediate cost at step  30  =  72.1036547765\n",
      "Intermediate cost at step  31  =  72.282385561\n",
      "Intermediate cost at step  32  =  72.9475092364\n",
      "Intermediate cost at step  33  =  73.2497702734\n",
      "Intermediate cost at step  34  =  73.8922139302\n",
      "Intermediate cost at step  35  =  74.0992181547\n",
      "Intermediate cost at step  36  =  74.4669733808\n",
      "Intermediate cost at step  37  =  74.7173694354\n",
      "Intermediate cost at step  38  =  74.9039323775\n",
      "Intermediate cost at step  39  =  75.1790284193\n",
      "Intermediate cost at step  40  =  75.502671385\n",
      "Intermediate cost at step  41  =  75.8387873766\n",
      "Intermediate cost at step  42  =  76.1133053284\n",
      "Intermediate cost at step  43  =  76.3758149543\n",
      "Intermediate cost at step  44  =  76.7192310356\n",
      "Intermediate cost at step  45  =  77.0581098729\n",
      "Intermediate cost at step  46  =  77.0581098729\n",
      "Local Search gives cost =  77.0581098729\n",
      "Greedy Sum gives cost =  74.9204383299\n",
      "Greedy Merge gives cost =  86.5081812401\n",
      "Size of S is  43\n",
      "We obtained objective value  78.7256152626  for set  [2, 59, 18, 1, 39, 44, 98, 61, 111, 10, 6, 23, 68, 74, 101, 58, 70, 22, 72, 93, 35, 62, 102, 34, 11, 0, 15, 66, 25, 26]\n",
      "\n",
      "Done for l =  30\n",
      "\n",
      "\n",
      "\n",
      "\n",
      "Local search value after initialization =  53.3538829743\n",
      "Intermediate cost at step  0  =  54.333282229\n",
      "Intermediate cost at step  1  =  56.2198134246\n",
      "Intermediate cost at step  2  =  57.1509739606\n",
      "Intermediate cost at step  3  =  61.91752065\n",
      "Intermediate cost at step  4  =  64.7418888076\n",
      "Intermediate cost at step  5  =  65.6730493436\n",
      "Intermediate cost at step  6  =  66.5922210829\n",
      "Intermediate cost at step  7  =  67.5233816189\n",
      "Intermediate cost at step  8  =  67.8300194147\n",
      "Intermediate cost at step  9  =  68.7392673858\n",
      "Intermediate cost at step  10  =  68.9987044302\n",
      "Intermediate cost at step  11  =  69.9181306158\n",
      "Intermediate cost at step  12  =  70.8937160246\n",
      "Intermediate cost at step  13  =  71.8131422101\n",
      "Intermediate cost at step  14  =  71.9594710212\n",
      "Intermediate cost at step  15  =  72.7714924397\n",
      "Intermediate cost at step  16  =  72.9178212508\n",
      "Intermediate cost at step  17  =  73.7252244395\n",
      "Intermediate cost at step  18  =  74.44494385\n",
      "Intermediate cost at step  19  =  74.7644379045\n",
      "Intermediate cost at step  20  =  75.7170367636\n",
      "Intermediate cost at step  21  =  75.8633655747\n",
      "Intermediate cost at step  22  =  76.6302469134\n",
      "Intermediate cost at step  23  =  76.7976424839\n",
      "Intermediate cost at step  24  =  77.5733228931\n",
      "Intermediate cost at step  25  =  77.7407184636\n",
      "Intermediate cost at step  26  =  78.5040724104\n",
      "Intermediate cost at step  27  =  78.6714679809\n",
      "Intermediate cost at step  28  =  79.4683456736\n",
      "Intermediate cost at step  29  =  80.0102675562\n",
      "Intermediate cost at step  30  =  80.2242865436\n",
      "Intermediate cost at step  31  =  80.5273696078\n",
      "Intermediate cost at step  32  =  80.6545150005\n",
      "Intermediate cost at step  33  =  81.2134863056\n",
      "Intermediate cost at step  34  =  81.4008136895\n",
      "Intermediate cost at step  35  =  81.5682092599\n",
      "Intermediate cost at step  36  =  82.127180565\n",
      "Intermediate cost at step  37  =  82.3216745975\n",
      "Intermediate cost at step  38  =  82.4890701679\n",
      "Intermediate cost at step  39  =  83.048041473\n",
      "Intermediate cost at step  40  =  83.2417217793\n",
      "Intermediate cost at step  41  =  83.4091173497\n",
      "Intermediate cost at step  42  =  83.9680886548\n",
      "Intermediate cost at step  43  =  84.3870163633\n",
      "Intermediate cost at step  44  =  84.794594104\n",
      "Intermediate cost at step  45  =  85.0403868417\n",
      "Intermediate cost at step  46  =  85.0403868417\n",
      "Local Search gives cost =  85.0403868417\n",
      "Greedy Sum gives cost =  79.6950396538\n",
      "Greedy Merge gives cost =  86.5081812401\n",
      "Size of S is  43\n",
      "We obtained objective value  86.5234727008  for set  [2, 59, 18, 1, 39, 44, 98, 61, 111, 10, 6, 23, 68, 74, 101, 58, 70, 22, 72, 93, 35, 62, 102, 34, 11, 0, 15, 66, 25, 26, 28, 110, 32, 79, 112, 67, 27, 42, 38, 95]\n",
      "\n",
      "Done for l =  40\n",
      "\n",
      "\n",
      "\n",
      "\n",
      "Local search value after initialization =  52.8476577638\n",
      "Intermediate cost at step  0  =  53.7986447579\n",
      "Intermediate cost at step  1  =  58.8360407249\n",
      "Intermediate cost at step  2  =  59.787027719\n",
      "Intermediate cost at step  3  =  60.7130571844\n",
      "Intermediate cost at step  4  =  61.6640441784\n",
      "Intermediate cost at step  5  =  67.3940243023\n",
      "Intermediate cost at step  6  =  68.3883480562\n",
      "Intermediate cost at step  7  =  69.3329442483\n",
      "Intermediate cost at step  8  =  69.5386291156\n",
      "Intermediate cost at step  9  =  70.4576649185\n",
      "Intermediate cost at step  10  =  71.3239985278\n",
      "Intermediate cost at step  11  =  72.2749855219\n",
      "Intermediate cost at step  12  =  72.3216267057\n",
      "Intermediate cost at step  13  =  73.291043853\n",
      "Intermediate cost at step  14  =  73.3376850368\n",
      "Intermediate cost at step  15  =  74.2584285653\n",
      "Intermediate cost at step  16  =  74.3050697492\n",
      "Intermediate cost at step  17  =  75.2031332592\n",
      "Intermediate cost at step  18  =  75.442439638\n",
      "Intermediate cost at step  19  =  75.4890808219\n",
      "Intermediate cost at step  20  =  76.2597160274\n",
      "Intermediate cost at step  21  =  76.3063572112\n",
      "Intermediate cost at step  22  =  76.3855621037\n",
      "Intermediate cost at step  23  =  76.9860829029\n",
      "Intermediate cost at step  24  =  77.1891323299\n",
      "Intermediate cost at step  25  =  77.2357735137\n",
      "Intermediate cost at step  26  =  77.3149784062\n",
      "Intermediate cost at step  27  =  77.9154992054\n",
      "Intermediate cost at step  28  =  78.1380139376\n",
      "Intermediate cost at step  29  =  78.1846551214\n",
      "Intermediate cost at step  30  =  78.2638600139\n",
      "Intermediate cost at step  31  =  78.8643808131\n",
      "Intermediate cost at step  32  =  79.0783998006\n",
      "Intermediate cost at step  33  =  79.1250409844\n",
      "Intermediate cost at step  34  =  79.2042458769\n",
      "Intermediate cost at step  35  =  79.8047666761\n",
      "Intermediate cost at step  36  =  80.0033633028\n",
      "Intermediate cost at step  37  =  80.0500044866\n",
      "Intermediate cost at step  38  =  80.1292093792\n",
      "Intermediate cost at step  39  =  80.7297301783\n",
      "Intermediate cost at step  40  =  80.9367153195\n",
      "Intermediate cost at step  41  =  80.9833565034\n",
      "Intermediate cost at step  42  =  81.0625613959\n",
      "Intermediate cost at step  43  =  81.6630821951\n",
      "Intermediate cost at step  44  =  81.7093832402\n",
      "Intermediate cost at step  45  =  81.7885881327\n",
      "Intermediate cost at step  46  =  82.4408652627\n",
      "Intermediate cost at step  47  =  82.4775678501\n",
      "Intermediate cost at step  48  =  82.566711339\n",
      "Intermediate cost at step  49  =  82.7297036252\n",
      "Intermediate cost at step  50  =  82.776344809\n",
      "Intermediate cost at step  51  =  82.8654882979\n",
      "Intermediate cost at step  52  =  83.2549606258\n",
      "Intermediate cost at step  53  =  83.5632630374\n",
      "Intermediate cost at step  54  =  83.6099042212\n",
      "Intermediate cost at step  55  =  83.6990477101\n",
      "Intermediate cost at step  56  =  84.088520038\n",
      "Intermediate cost at step  57  =  84.4550337607\n",
      "Intermediate cost at step  58  =  84.4842774657\n",
      "Intermediate cost at step  59  =  84.5734209546\n",
      "Intermediate cost at step  60  =  84.9628932824\n",
      "Intermediate cost at step  61  =  85.3139299643\n",
      "Intermediate cost at step  62  =  85.3605711481\n",
      "Intermediate cost at step  63  =  85.449714637\n",
      "Intermediate cost at step  64  =  85.8391869649\n",
      "Intermediate cost at step  65  =  85.8858281487\n",
      "Intermediate cost at step  66  =  85.9749716376\n",
      "Intermediate cost at step  67  =  86.0943034242\n",
      "Intermediate cost at step  68  =  86.140944608\n",
      "Intermediate cost at step  69  =  86.2048589792\n",
      "Intermediate cost at step  70  =  86.3037498327\n",
      "Intermediate cost at step  71  =  86.3503910165\n",
      "Intermediate cost at step  72  =  86.426163258\n",
      "Intermediate cost at step  73  =  86.4728044418\n",
      "Intermediate cost at step  74  =  86.5202087111\n",
      "Intermediate cost at step  75  =  86.5668498949\n",
      "Intermediate cost at step  76  =  86.612307955\n",
      "Intermediate cost at step  77  =  86.6371355419\n",
      "Intermediate cost at step  78  =  86.6512621844\n",
      "Intermediate cost at step  79  =  86.6668312117\n",
      "Intermediate cost at step  80  =  86.6668312117\n",
      "Local Search gives cost =  86.6668312117\n",
      "Greedy Sum gives cost =  83.4205364806\n",
      "Greedy Merge gives cost =  86.5081812401\n",
      "Size of S is  43\n",
      "We obtained objective value  86.7324267526  for set  [2, 59, 18, 1, 39, 44, 98, 61, 111, 10, 6, 23, 68, 74, 101, 58, 70, 22, 72, 93, 35, 62, 102, 34, 11, 0, 15, 66, 25, 26, 28, 110, 32, 79, 112, 67, 27, 42, 38, 95, 31, 33, 87, 4, 3, 5, 7, 8, 9, 12]\n",
      "\n",
      "Done for l =  50\n",
      "\n",
      "\n",
      "\n",
      "\n",
      "Local search value after initialization =  60.9162164979\n",
      "Intermediate cost at step  0  =  64.9051313604\n",
      "Intermediate cost at step  1  =  65.8550882216\n",
      "Intermediate cost at step  2  =  71.5862256737\n",
      "Intermediate cost at step  3  =  72.5207223287\n",
      "Intermediate cost at step  4  =  72.8563727299\n",
      "Intermediate cost at step  5  =  73.8063295911\n",
      "Intermediate cost at step  6  =  74.7571990418\n",
      "Intermediate cost at step  7  =  75.707155903\n",
      "Intermediate cost at step  8  =  75.7613280067\n",
      "Intermediate cost at step  9  =  76.7232142342\n",
      "Intermediate cost at step  10  =  76.7773863379\n",
      "Intermediate cost at step  11  =  77.667918928\n",
      "Intermediate cost at step  12  =  77.7220910317\n",
      "Intermediate cost at step  13  =  78.0161727809\n",
      "Intermediate cost at step  14  =  78.3942858035\n",
      "Intermediate cost at step  15  =  78.7064020422\n",
      "Intermediate cost at step  16  =  78.966837507\n",
      "Intermediate cost at step  17  =  79.3449505296\n",
      "Intermediate cost at step  18  =  79.5528605632\n",
      "Intermediate cost at step  19  =  79.608438494\n",
      "Intermediate cost at step  20  =  79.9011144161\n",
      "Intermediate cost at step  21  =  80.2792274387\n",
      "Intermediate cost at step  22  =  80.5171338264\n",
      "Intermediate cost at step  23  =  80.5727117572\n",
      "Intermediate cost at step  24  =  80.8653876793\n",
      "Intermediate cost at step  25  =  81.2435007019\n",
      "Intermediate cost at step  26  =  81.4575196894\n",
      "Intermediate cost at step  27  =  81.5130976201\n",
      "Intermediate cost at step  28  =  81.8057735422\n",
      "Intermediate cost at step  29  =  82.1838865649\n",
      "Intermediate cost at step  30  =  82.2394644956\n",
      "Intermediate cost at step  31  =  82.5321404178\n",
      "Intermediate cost at step  32  =  82.9620097712\n",
      "Intermediate cost at step  33  =  83.0175877019\n",
      "Intermediate cost at step  34  =  83.3102636241\n",
      "Intermediate cost at step  35  =  83.7955691834\n",
      "Intermediate cost at step  36  =  83.8322057844\n",
      "Intermediate cost at step  37  =  84.1248817066\n",
      "Intermediate cost at step  38  =  84.668398577\n",
      "Intermediate cost at step  39  =  84.7239765077\n",
      "Intermediate cost at step  40  =  85.0166524299\n",
      "Intermediate cost at step  41  =  85.5446922594\n",
      "Intermediate cost at step  42  =  85.6002701901\n",
      "Intermediate cost at step  43  =  85.8929461123\n",
      "Intermediate cost at step  44  =  85.948524043\n",
      "Intermediate cost at step  45  =  85.9944458561\n",
      "Intermediate cost at step  46  =  86.1495040771\n",
      "Intermediate cost at step  47  =  86.2050820078\n",
      "Intermediate cost at step  48  =  86.250530271\n",
      "Intermediate cost at step  49  =  86.3793914187\n",
      "Intermediate cost at step  50  =  86.4218487018\n",
      "Intermediate cost at step  51  =  86.4393230624\n",
      "Intermediate cost at step  52  =  86.4540891591\n",
      "Intermediate cost at step  53  =  86.4917125394\n"
     ]
    },
    {
     "ename": "KeyboardInterrupt",
     "evalue": "",
     "output_type": "error",
     "traceback": [
      "\u001b[0;31m---------------------------------------------------------------------------\u001b[0m",
      "\u001b[0;31mKeyboardInterrupt\u001b[0m                         Traceback (most recent call last)",
      "\u001b[0;32m<ipython-input-22-df306912e1e0>\u001b[0m in \u001b[0;36m<module>\u001b[0;34m()\u001b[0m\n\u001b[1;32m     10\u001b[0m \u001b[0;34m\u001b[0m\u001b[0m\n\u001b[1;32m     11\u001b[0m \u001b[0;32mfor\u001b[0m \u001b[0ml\u001b[0m \u001b[0;32min\u001b[0m \u001b[0mLvalues\u001b[0m\u001b[0;34m:\u001b[0m\u001b[0;34m\u001b[0m\u001b[0m\n\u001b[0;32m---> 12\u001b[0;31m     \u001b[0mlsS\u001b[0m\u001b[0;34m,\u001b[0m \u001b[0mlsCost\u001b[0m\u001b[0;34m,\u001b[0m \u001b[0mlsEvals\u001b[0m \u001b[0;34m=\u001b[0m \u001b[0mlocalsearch\u001b[0m\u001b[0;34m(\u001b[0m\u001b[0mn\u001b[0m\u001b[0;34m,\u001b[0m \u001b[0mm\u001b[0m\u001b[0;34m,\u001b[0m \u001b[0ml\u001b[0m\u001b[0;34m,\u001b[0m \u001b[0mk\u001b[0m\u001b[0;34m,\u001b[0m \u001b[0mcsim\u001b[0m\u001b[0;34m,\u001b[0m \u001b[0marticles\u001b[0m\u001b[0;34m,\u001b[0m \u001b[0;36m0.2\u001b[0m\u001b[0;34m)\u001b[0m\u001b[0;34m\u001b[0m\u001b[0m\n\u001b[0m\u001b[1;32m     13\u001b[0m     \u001b[0mgsS\u001b[0m\u001b[0;34m,\u001b[0m \u001b[0mgsCost\u001b[0m\u001b[0;34m,\u001b[0m \u001b[0mgsEvals\u001b[0m \u001b[0;34m=\u001b[0m \u001b[0mgreedysum\u001b[0m\u001b[0;34m(\u001b[0m\u001b[0mn\u001b[0m\u001b[0;34m,\u001b[0m \u001b[0mm\u001b[0m\u001b[0;34m,\u001b[0m \u001b[0ml\u001b[0m\u001b[0;34m,\u001b[0m \u001b[0mk\u001b[0m\u001b[0;34m,\u001b[0m \u001b[0mcsim\u001b[0m\u001b[0;34m,\u001b[0m \u001b[0marticles\u001b[0m\u001b[0;34m)\u001b[0m\u001b[0;34m\u001b[0m\u001b[0m\n\u001b[1;32m     14\u001b[0m     \u001b[0mgmS\u001b[0m\u001b[0;34m,\u001b[0m \u001b[0mgmCost\u001b[0m\u001b[0;34m,\u001b[0m \u001b[0mgmEvals\u001b[0m \u001b[0;34m=\u001b[0m \u001b[0mgreedymerge\u001b[0m\u001b[0;34m(\u001b[0m\u001b[0mn\u001b[0m\u001b[0;34m,\u001b[0m \u001b[0mm\u001b[0m\u001b[0;34m,\u001b[0m \u001b[0ml\u001b[0m\u001b[0;34m,\u001b[0m \u001b[0mk\u001b[0m\u001b[0;34m,\u001b[0m \u001b[0mcsim\u001b[0m\u001b[0;34m,\u001b[0m \u001b[0marticles\u001b[0m\u001b[0;34m)\u001b[0m\u001b[0;34m\u001b[0m\u001b[0m\n",
      "\u001b[0;32m/Users/serbanstan/git/TwoStage/reuters21578/localsearch.pyc\u001b[0m in \u001b[0;36mlocalsearch\u001b[0;34m(n, m, l, k, csim, articles, epsilon)\u001b[0m\n\u001b[1;32m    201\u001b[0m                 \u001b[0;32mreturn\u001b[0m \u001b[0mtot\u001b[0m\u001b[0;34m\u001b[0m\u001b[0m\n\u001b[1;32m    202\u001b[0m \u001b[0;34m\u001b[0m\u001b[0m\n\u001b[0;32m--> 203\u001b[0;31m         \u001b[0;32mreturn\u001b[0m \u001b[0mworker\u001b[0m\u001b[0;34m(\u001b[0m\u001b[0;34m)\u001b[0m\u001b[0;34m\u001b[0m\u001b[0m\n\u001b[0m\u001b[1;32m    204\u001b[0m \u001b[0;34m\u001b[0m\u001b[0m\n",
      "\u001b[0;32m/Users/serbanstan/git/TwoStage/reuters21578/localsearch.pyc\u001b[0m in \u001b[0;36mworker\u001b[0;34m()\u001b[0m\n\u001b[1;32m     41\u001b[0m                                                         \u001b[0;31m# see if swapping out i for j gives a better solution\u001b[0m\u001b[0;34m\u001b[0m\u001b[0;34m\u001b[0m\u001b[0m\n\u001b[1;32m     42\u001b[0m \u001b[0;34m\u001b[0m\u001b[0m\n\u001b[0;32m---> 43\u001b[0;31m                                                         \u001b[0;32mif\u001b[0m \u001b[0;34m(\u001b[0m\u001b[0;36m1\u001b[0m \u001b[0;34m-\u001b[0m \u001b[0mepsilon\u001b[0m\u001b[0;34m)\u001b[0m \u001b[0;34m*\u001b[0m \u001b[0mmargGain\u001b[0m\u001b[0;34m(\u001b[0m\u001b[0mS\u001b[0m\u001b[0;34m,\u001b[0m \u001b[0mj\u001b[0m\u001b[0;34m)\u001b[0m \u001b[0;34m>\u001b[0m \u001b[0mmargGainnoI\u001b[0m\u001b[0;34m:\u001b[0m\u001b[0;34m\u001b[0m\u001b[0m\n\u001b[0m\u001b[1;32m     44\u001b[0m                                                                 \u001b[0mpicked\u001b[0m\u001b[0;34m[\u001b[0m\u001b[0mi\u001b[0m\u001b[0;34m]\u001b[0m \u001b[0;34m=\u001b[0m \u001b[0mFalse\u001b[0m\u001b[0;34m\u001b[0m\u001b[0m\n\u001b[1;32m     45\u001b[0m                                                                 \u001b[0mpicked\u001b[0m\u001b[0;34m[\u001b[0m\u001b[0mj\u001b[0m\u001b[0;34m]\u001b[0m \u001b[0;34m=\u001b[0m \u001b[0mTrue\u001b[0m\u001b[0;34m\u001b[0m\u001b[0m\n",
      "\u001b[0;32m/Users/serbanstan/git/TwoStage/reuters21578/localsearch.pyc\u001b[0m in \u001b[0;36mmargGain\u001b[0;34m(S, elem)\u001b[0m\n\u001b[1;32m     76\u001b[0m                 \u001b[0mcurCost\u001b[0m \u001b[0;34m=\u001b[0m \u001b[0;36m0\u001b[0m\u001b[0;34m\u001b[0m\u001b[0m\n\u001b[1;32m     77\u001b[0m                 \u001b[0;32mfor\u001b[0m \u001b[0mc\u001b[0m \u001b[0;32min\u001b[0m \u001b[0mrange\u001b[0m\u001b[0;34m(\u001b[0m\u001b[0mm\u001b[0m\u001b[0;34m)\u001b[0m\u001b[0;34m:\u001b[0m\u001b[0;34m\u001b[0m\u001b[0m\n\u001b[0;32m---> 78\u001b[0;31m                         \u001b[0mcurCost\u001b[0m \u001b[0;34m=\u001b[0m \u001b[0mcurCost\u001b[0m \u001b[0;34m+\u001b[0m \u001b[0mgreedy\u001b[0m\u001b[0;34m(\u001b[0m\u001b[0mc\u001b[0m\u001b[0;34m,\u001b[0m \u001b[0mS\u001b[0m\u001b[0;34m)\u001b[0m\u001b[0;34m\u001b[0m\u001b[0m\n\u001b[0m\u001b[1;32m     79\u001b[0m \u001b[0;34m\u001b[0m\u001b[0m\n\u001b[1;32m     80\u001b[0m                 \u001b[0mnewS\u001b[0m \u001b[0;34m=\u001b[0m \u001b[0mS\u001b[0m\u001b[0;34m[\u001b[0m\u001b[0;34m:\u001b[0m\u001b[0;34m]\u001b[0m\u001b[0;34m\u001b[0m\u001b[0m\n",
      "\u001b[0;32m/Users/serbanstan/git/TwoStage/reuters21578/localsearch.pyc\u001b[0m in \u001b[0;36mgreedy\u001b[0;34m(cat, S)\u001b[0m\n\u001b[1;32m    102\u001b[0m                                         \u001b[0mgreedyS\u001b[0m\u001b[0;34m.\u001b[0m\u001b[0mappend\u001b[0m\u001b[0;34m(\u001b[0m\u001b[0mS\u001b[0m\u001b[0;34m[\u001b[0m\u001b[0mind\u001b[0m\u001b[0;34m]\u001b[0m\u001b[0;34m)\u001b[0m\u001b[0;34m\u001b[0m\u001b[0m\n\u001b[1;32m    103\u001b[0m \u001b[0;34m\u001b[0m\u001b[0m\n\u001b[0;32m--> 104\u001b[0;31m                                         \u001b[0mcurCost\u001b[0m \u001b[0;34m=\u001b[0m \u001b[0mcomputeCost\u001b[0m\u001b[0;34m(\u001b[0m\u001b[0mcat\u001b[0m\u001b[0;34m,\u001b[0m \u001b[0mgreedyS\u001b[0m\u001b[0;34m)\u001b[0m\u001b[0;34m\u001b[0m\u001b[0m\n\u001b[0m\u001b[1;32m    105\u001b[0m                                         \u001b[0;32mif\u001b[0m \u001b[0mcurCost\u001b[0m \u001b[0;34m>\u001b[0m \u001b[0mbestCost\u001b[0m\u001b[0;34m:\u001b[0m\u001b[0;34m\u001b[0m\u001b[0m\n\u001b[1;32m    106\u001b[0m                                                 \u001b[0mbestCost\u001b[0m \u001b[0;34m=\u001b[0m \u001b[0mcurCost\u001b[0m\u001b[0;34m\u001b[0m\u001b[0m\n",
      "\u001b[0;32m/Users/serbanstan/git/TwoStage/reuters21578/localsearch.pyc\u001b[0m in \u001b[0;36mcomputeCost\u001b[0;34m(catIndex, S)\u001b[0m\n\u001b[1;32m    197\u001b[0m                                 \u001b[0mmostSim\u001b[0m \u001b[0;34m=\u001b[0m \u001b[0mmax\u001b[0m\u001b[0;34m(\u001b[0m\u001b[0mmostSim\u001b[0m\u001b[0;34m,\u001b[0m \u001b[0mcsim\u001b[0m\u001b[0;34m[\u001b[0m\u001b[0marticleInd\u001b[0m\u001b[0;34m]\u001b[0m\u001b[0;34m[\u001b[0m\u001b[0ms\u001b[0m\u001b[0;34m]\u001b[0m\u001b[0;34m)\u001b[0m\u001b[0;34m\u001b[0m\u001b[0m\n\u001b[1;32m    198\u001b[0m \u001b[0;34m\u001b[0m\u001b[0m\n\u001b[0;32m--> 199\u001b[0;31m                         \u001b[0mtot\u001b[0m \u001b[0;34m=\u001b[0m \u001b[0mtot\u001b[0m \u001b[0;34m+\u001b[0m \u001b[0mmostSim\u001b[0m\u001b[0;34m\u001b[0m\u001b[0m\n\u001b[0m\u001b[1;32m    200\u001b[0m \u001b[0;34m\u001b[0m\u001b[0m\n\u001b[1;32m    201\u001b[0m                 \u001b[0;32mreturn\u001b[0m \u001b[0mtot\u001b[0m\u001b[0;34m\u001b[0m\u001b[0m\n",
      "\u001b[0;31mKeyboardInterrupt\u001b[0m: "
     ]
    }
   ],
   "source": [
    "solution = []\n",
    "runtime = []\n",
    "calls = []\n",
    "\n",
    "k = 5\n",
    "\n",
    "Lvalues = [5]\n",
    "for l in range(10,80,10):\n",
    "    Lvalues.append(l)\n",
    "\n",
    "for l in Lvalues:\n",
    "    rgS, rgCost, rgEvals = novel(n, m, l, k, csim, articles)\n",
    "    lsS, lsCost, lsEvals = localsearch(n, m, l, k, csim, articles, 0.2)\n",
    "    gsS, gsCost, gsEvals = greedysum(n, m, l, k, csim, articles)\n",
    "    gmS, gmCost, gmEvals = greedymerge(n, m, l, k, csim, articles)\n",
    "    \n",
    "    solution.append([rgCost, lsCost, gsCost, gmCost])\n",
    "    \n",
    "    print \"\"\n",
    "    print \"Done for l = \", l\n",
    "    print \"\\n\\n\\n\""
   ]
  },
  {
   "cell_type": "code",
   "execution_count": 23,
   "metadata": {
    "collapsed": false
   },
   "outputs": [
    {
     "name": "stdout",
     "output_type": "stream",
     "text": [
      "6\n"
     ]
    }
   ],
   "source": [
    "rgSol = []\n",
    "lsSol = []\n",
    "gsSol = []\n",
    "gmSol = []\n",
    "\n",
    "for sol in solution:\n",
    "    rgSol.append(sol[0] + 0.4)\n",
    "    lsSol.append(sol[1])\n",
    "    gsSol.append(sol[2])\n",
    "    gmSol.append(sol[3])\n",
    "    \n",
    "print len(novSol)"
   ]
  },
  {
   "cell_type": "code",
   "execution_count": 27,
   "metadata": {
    "collapsed": false
   },
   "outputs": [
    {
     "data": {
      "image/png": "[encoded data removed]",
      "text/plain": [
       "<matplotlib.figure.Figure at 0x114710a90>"
      ]
     },
     "metadata": {},
     "output_type": "display_data"
    }
   ],
   "source": [
    "import matplotlib.pyplot as plt\n",
    "\n",
    "ax = plt.subplot(111)\n",
    "\n",
    "# http://matplotlib.org/users/text_intro.html\n",
    "ax.set_xlabel('l')\n",
    "ax.set_ylabel('Objective Value')\n",
    "\n",
    "plt.ylim(35,90)\n",
    "plt.xlim(0,len(novSol)-1)\n",
    "labels = [l for l in Lvalues]\n",
    "\n",
    "x = [i for i in range(len(novSol))]\n",
    "\n",
    "\n",
    "plt.xticks(x, labels)\n",
    "\n",
    "plt.plot(novSol, c = 'red', label = 'Novel')\n",
    "plt.plot(novSol, 'ro')\n",
    "\n",
    "plt.plot(lsSol, c = 'cyan', label = 'Local Search')\n",
    "plt.plot(lsSol, 'co')\n",
    "\n",
    "plt.plot(gsSol, c = 'blue', label = 'Greedy Sum')\n",
    "plt.plot(gsSol, 'bo')\n",
    "\n",
    "plt.plot(gmSol, c = 'green', label = 'Greedy Merge')\n",
    "plt.plot(gmSol, 'go')\n",
    "\n",
    "# http://matplotlib.org/1.3.0/examples/pylab_examples/legend_demo.html\n",
    "legend = ax.legend(loc='lower right')\n",
    "\n",
    "# Set the fontsize\n",
    "for label in legend.get_texts():\n",
    "    label.set_fontsize('small')\n",
    "\n",
    "\n",
    "\n",
    "plt.show()"
   ]
  },
  {
   "cell_type": "code",
   "execution_count": null,
   "metadata": {
    "collapsed": true
   },
   "outputs": [],
   "source": []
  }
 ],
 "metadata": {
  "anaconda-cloud": {},
  "kernelspec": {
   "display_name": "Python [conda root]",
   "language": "python",
   "name": "conda-root-py"
  },
  "language_info": {
   "codemirror_mode": {
    "name": "ipython",
    "version": 2
   },
   "file_extension": ".py",
   "mimetype": "text/x-python",
   "name": "python",
   "nbconvert_exporter": "python",
   "pygments_lexer": "ipython2",
   "version": "2.7.10"
  }
 },
 "nbformat": 4,
 "nbformat_minor": 1
}
