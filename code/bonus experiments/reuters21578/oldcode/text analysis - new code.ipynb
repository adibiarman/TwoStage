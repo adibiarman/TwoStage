{
 "cells": [
  {
   "cell_type": "markdown",
   "metadata": {},
   "source": [
    "### First, to parse the dataset"
   ]
  },
  {
   "cell_type": "code",
   "execution_count": 1,
   "metadata": {
    "collapsed": true
   },
   "outputs": [],
   "source": [
    "import numpy as np\n",
    "from sklearn.metrics.pairwise import cosine_similarity\n",
    "import time"
   ]
  },
  {
   "cell_type": "code",
   "execution_count": 2,
   "metadata": {
    "collapsed": true
   },
   "outputs": [],
   "source": [
    "from bs4 import BeautifulSoup,SoupStrainer"
   ]
  },
  {
   "cell_type": "code",
   "execution_count": 3,
   "metadata": {
    "collapsed": false
   },
   "outputs": [
    {
     "name": "stderr",
     "output_type": "stream",
     "text": [
      "/Users/serbanstan/anaconda2/lib/python2.7/site-packages/bs4/__init__.py:181: UserWarning: No parser was explicitly specified, so I'm using the best available HTML parser for this system (\"lxml\"). This usually isn't a problem, but if you run this code on another system, or in a different virtual environment, it may use a different parser and behave differently.\n",
      "\n",
      "The code that caused this warning is on line 174 of the file /Users/serbanstan/anaconda2/lib/python2.7/runpy.py. To get rid of this warning, change code that looks like this:\n",
      "\n",
      " BeautifulSoup([your markup])\n",
      "\n",
      "to this:\n",
      "\n",
      " BeautifulSoup([your markup], \"lxml\")\n",
      "\n",
      "  markup_type=markup_type))\n"
     ]
    }
   ],
   "source": [
    "f = open('data/reut2-000.sgm', 'r')\n",
    "data= f.read()\n",
    "soup = BeautifulSoup(data)\n",
    "\n",
    "topics = list(soup.findAll('topics'))\n",
    "text = list(soup.findAll('text'))"
   ]
  },
  {
   "cell_type": "markdown",
   "metadata": {},
   "source": [
    "Keep fewer than max entries. Can comment out the next cell after more rigorous testing."
   ]
  },
  {
   "cell_type": "code",
   "execution_count": 4,
   "metadata": {
    "collapsed": true
   },
   "outputs": [],
   "source": [
    "topics = topics[:200]\n",
    "text = text[:200]"
   ]
  },
  {
   "cell_type": "code",
   "execution_count": 5,
   "metadata": {
    "collapsed": false
   },
   "outputs": [
    {
     "name": "stdout",
     "output_type": "stream",
     "text": [
      "earnacq\n",
      "\n",
      "OHIO MATTRESS <OMT> MAY HAVE LOWER 1ST QTR NET\n",
      "    CLEVELAND, Feb 26 - Ohio Mattress Co said its first\n",
      "quarter, ending February 28, profits may be below the 2.4 mln\n",
      "dlrs, or 15 cts a share, earned in the first quarter of fiscal\n",
      "1986.\n",
      "    The company said any decline would be due to expenses\n",
      "related to the acquisitions in the middle of the current\n",
      "quarter of seven licensees of Sealy Inc, as well as 82 pct of\n",
      "the outstanding capital stock of Sealy.\n",
      "    Because of these acquisitions, it said, first quarter sales\n",
      "will be substantially higher than last year's 67.1 mln dlrs.\n",
      "    Noting that it typically reports first quarter results in\n",
      "late march, said the report is likely to be issued in early\n",
      "April this year.\n",
      "    It said the delay is due to administrative considerations,\n",
      "including conducting appraisals, in connection with the\n",
      "acquisitions.\n",
      " Reuter\n",
      "\n"
     ]
    }
   ],
   "source": [
    "print topics[11].text\n",
    "print text[11].text"
   ]
  },
  {
   "cell_type": "code",
   "execution_count": 6,
   "metadata": {
    "collapsed": false
   },
   "outputs": [
    {
     "name": "stdout",
     "output_type": "stream",
     "text": [
      "35\n",
      "{u'copper': True, u'livestock': True, u'sunseed': True, u'trade': True, u'cocoa': True, u'reserves': True, u'soybean': True, u'ship': True, u'cotton': True, u'housing': True, u'rye': True, u'gnp': True, u'sugar': True, u'veg-oil': True, u'oat': True, u'barley': True, u'crude': True, u'coffee': True, u'soy-oil': True, u'wheat': True, u'meal-feed': True, u'corn': True, u'nat-gas': True, u'oilseed': True, u'linseed': True, u'lin-oil': True, u'earn': True, u'cpi': True, u'soy-meal': True, u'sun-oil': True, u'money-supply': True, u'carcass': True, u'acq': True, u'grain': True, u'sorghum': True}\n"
     ]
    }
   ],
   "source": [
    "uniqueTopics = {}\n",
    "\n",
    "for topicList in topics:\n",
    "    for t in topicList:\n",
    "        if t.text != '':\n",
    "            uniqueTopics[t.text] = True\n",
    "\n",
    "print len(uniqueTopics)\n",
    "print uniqueTopics"
   ]
  },
  {
   "cell_type": "markdown",
   "metadata": {},
   "source": [
    "Make these things callable by index"
   ]
  },
  {
   "cell_type": "code",
   "execution_count": 7,
   "metadata": {
    "collapsed": false
   },
   "outputs": [],
   "source": [
    "topicsToInd = dict()\n",
    "indToTopic = dict()\n",
    "\n",
    "for i in range(len(uniqueTopics)):\n",
    "    topicsToInd[uniqueTopics.keys()[i]] = i\n",
    "    indToTopic[i] = uniqueTopics.keys()[i]"
   ]
  },
  {
   "cell_type": "markdown",
   "metadata": {},
   "source": [
    "Next, keep only the articles that have a non-null list of topics"
   ]
  },
  {
   "cell_type": "code",
   "execution_count": 8,
   "metadata": {
    "collapsed": false
   },
   "outputs": [
    {
     "name": "stdout",
     "output_type": "stream",
     "text": [
      "126\n",
      "[u'grain', u'wheat', u'corn', u'barley', u'oat', u'sorghum']\n"
     ]
    }
   ],
   "source": [
    "valid = []\n",
    "\n",
    "for ind in range(len(topics)):\n",
    "    if len(topics[ind]) != 0:\n",
    "        valid.append(ind)\n",
    "        \n",
    "print len(valid)\n",
    "print [t.text for t in topics[valid[1]]]"
   ]
  },
  {
   "cell_type": "code",
   "execution_count": 9,
   "metadata": {
    "collapsed": false
   },
   "outputs": [],
   "source": [
    "topics = [topics[x] for x in valid]\n",
    "for ind in range(len(topics)):\n",
    "    topicList = topics[ind]\n",
    "    toText = []\n",
    "    \n",
    "    for t in topicList:\n",
    "        toText.append(t.text)\n",
    "        \n",
    "    topics[ind] = toText[:]\n",
    "\n",
    "text = [text[x].text for x in valid]"
   ]
  },
  {
   "cell_type": "code",
   "execution_count": 10,
   "metadata": {
    "collapsed": false
   },
   "outputs": [
    {
     "name": "stdout",
     "output_type": "stream",
     "text": [
      "[u'earn', u'acq']\n",
      "\n",
      "OHIO MATTRESS <OMT> MAY HAVE LOWER 1ST QTR NET\n",
      "    CLEVELAND, Feb 26 - Ohio Mattress Co said its first\n",
      "quarter, ending February 28, profits may be below the 2.4 mln\n",
      "dlrs, or 15 cts a share, earned in the first quarter of fiscal\n",
      "1986.\n",
      "    The company said any decline would be due to expenses\n",
      "related to the acquisitions in the middle of the current\n",
      "quarter of seven licensees of Sealy Inc, as well as 82 pct of\n",
      "the outstanding capital stock of Sealy.\n",
      "    Because of these acquisitions, it said, first quarter sales\n",
      "will be substantially higher than last year's 67.1 mln dlrs.\n",
      "    Noting that it typically reports first quarter results in\n",
      "late march, said the report is likely to be issued in early\n",
      "April this year.\n",
      "    It said the delay is due to administrative considerations,\n",
      "including conducting appraisals, in connection with the\n",
      "acquisitions.\n",
      " Reuter\n",
      "\n"
     ]
    }
   ],
   "source": [
    "print topics[6]\n",
    "print text[6]"
   ]
  },
  {
   "cell_type": "code",
   "execution_count": 11,
   "metadata": {
    "collapsed": false
   },
   "outputs": [
    {
     "name": "stdout",
     "output_type": "stream",
     "text": [
      "126 126    <---- these should be equal\n"
     ]
    }
   ],
   "source": [
    "print len(topics), len(text), \"   <---- these should be equal\""
   ]
  },
  {
   "cell_type": "markdown",
   "metadata": {},
   "source": [
    "Next, create a dictionary of type topics -> article indexes with said topics"
   ]
  },
  {
   "cell_type": "code",
   "execution_count": 12,
   "metadata": {
    "collapsed": false
   },
   "outputs": [
    {
     "name": "stdout",
     "output_type": "stream",
     "text": [
      "[1, 2, 10, 59, 112]\n"
     ]
    }
   ],
   "source": [
    "articles = dict()\n",
    "\n",
    "for i in range(len(topics)):\n",
    "    for t in topics[i]:\n",
    "        if topicsToInd[t] in articles:\n",
    "            articles[topicsToInd[t]].append(i)\n",
    "        else:\n",
    "            articles[topicsToInd[t]] = [i]\n",
    "\n",
    "print articles[topicsToInd['wheat']]"
   ]
  },
  {
   "cell_type": "markdown",
   "metadata": {},
   "source": [
    "### Now, to generate tf-idf scores"
   ]
  },
  {
   "cell_type": "code",
   "execution_count": 13,
   "metadata": {
    "collapsed": false
   },
   "outputs": [],
   "source": [
    "from sklearn.feature_extraction.text import TfidfVectorizer"
   ]
  },
  {
   "cell_type": "markdown",
   "metadata": {},
   "source": [
    "Set ngram_range for a more refined analysis"
   ]
  },
  {
   "cell_type": "code",
   "execution_count": 14,
   "metadata": {
    "collapsed": true
   },
   "outputs": [],
   "source": [
    "vectorizer = TfidfVectorizer(analyzer='word', ngram_range=(1,3), min_df = 0, stop_words = 'english')"
   ]
  },
  {
   "cell_type": "code",
   "execution_count": 15,
   "metadata": {
    "collapsed": false
   },
   "outputs": [],
   "source": [
    "X = vectorizer.fit_transform(text).todense()"
   ]
  },
  {
   "cell_type": "code",
   "execution_count": 16,
   "metadata": {
    "collapsed": false
   },
   "outputs": [],
   "source": [
    "for ind in range(len(X)):\n",
    "    X[ind] = np.array(X[ind].tolist()[0])"
   ]
  },
  {
   "cell_type": "markdown",
   "metadata": {},
   "source": [
    "### Can we compute the cosine between two different articles? Create a cosine similarity matrix."
   ]
  },
  {
   "cell_type": "code",
   "execution_count": 17,
   "metadata": {
    "collapsed": false
   },
   "outputs": [
    {
     "data": {
      "text/plain": [
       "array([[ 0.03125751]])"
      ]
     },
     "execution_count": 17,
     "metadata": {},
     "output_type": "execute_result"
    }
   ],
   "source": [
    "cosine_similarity(X[0].reshape(1,-1), X[6].reshape(1,-1))"
   ]
  },
  {
   "cell_type": "code",
   "execution_count": 18,
   "metadata": {
    "collapsed": true
   },
   "outputs": [],
   "source": [
    "n = len(topics)"
   ]
  },
  {
   "cell_type": "code",
   "execution_count": 19,
   "metadata": {
    "collapsed": true
   },
   "outputs": [],
   "source": [
    "csim = [[0 for i in range(n)] for i in range(n)]\n",
    "\n",
    "for i in range(n):\n",
    "    for j in range(n):\n",
    "        csim[i][j] = cosine_similarity(X[i].reshape(1,-1), X[j].reshape(1,-1))[0][0]"
   ]
  },
  {
   "cell_type": "markdown",
   "metadata": {
    "collapsed": true
   },
   "source": [
    "### Now, apply our algorithm with facility location as the submodular functions"
   ]
  },
  {
   "cell_type": "code",
   "execution_count": 20,
   "metadata": {
    "collapsed": true
   },
   "outputs": [],
   "source": [
    "n = len(topics)\n",
    "m = len(uniqueTopics)\n",
    "l = 10\n",
    "k = 5"
   ]
  },
  {
   "cell_type": "code",
   "execution_count": 21,
   "metadata": {
    "collapsed": false
   },
   "outputs": [
    {
     "name": "stdout",
     "output_type": "stream",
     "text": [
      "We obtained objective value  59.0597597683  for set  [2, 59, 18, 125, 1, 39, 44, 122, 98, 61]\n",
      "Algo ran in  1.56849813461\n",
      "Our solution =  59.0597597683\n"
     ]
    }
   ],
   "source": [
    "from novel import novel\n",
    "\n",
    "startTime = time.time()\n",
    "myS, myCost, myEvals = novel(n, m, l, k, csim, articles)\n",
    "print \"Algo ran in \", time.time() - startTime\n",
    "print 'Our solution = ', myCost\n",
    "\n",
    "# sanity check\n",
    "# print len(myS)\n",
    "# for i in range(m):\n",
    "#     print set(myBestS[i]).issubset(myS), len(myBestS[i]) == k"
   ]
  },
  {
   "cell_type": "code",
   "execution_count": 22,
   "metadata": {
    "collapsed": false
   },
   "outputs": [
    {
     "name": "stdout",
     "output_type": "stream",
     "text": [
      "Greedy Merge gives cost =  98.5718681183\n",
      "Size of S is  47\n",
      "Obtained solution 98.5718681183\n"
     ]
    }
   ],
   "source": [
    "from greedymerge import greedymerge\n",
    "\n",
    "gmS, gmCost, gmEvals = greedymerge(n, m, l, k, csim, articles)\n",
    "\n",
    "print 'Obtained solution', gmCost"
   ]
  },
  {
   "cell_type": "code",
   "execution_count": 23,
   "metadata": {
    "collapsed": false
   },
   "outputs": [
    {
     "name": "stdout",
     "output_type": "stream",
     "text": [
      "Greedy Sum gives cost =  59.0555468889\n",
      "Greedy Sum gives 59.0555468889\n"
     ]
    }
   ],
   "source": [
    "from greedysum import greedysum\n",
    "\n",
    "gsS, gsCost, gsEvals = greedysum(n, m, l, k, csim, articles)\n",
    "\n",
    "print 'Greedy Sum gives', gsCost"
   ]
  },
  {
   "cell_type": "code",
   "execution_count": 24,
   "metadata": {
    "collapsed": false
   },
   "outputs": [],
   "source": [
    "# from localsearch import localsearch\n",
    "\n",
    "# lsS, lsCost, lsEvals = localsearch(n, m, l, k, csim, articles, epsilon = 0.2)\n",
    "\n",
    "# print 'Local Search gives', lsCost"
   ]
  },
  {
   "cell_type": "code",
   "execution_count": 25,
   "metadata": {
    "collapsed": false
   },
   "outputs": [
    {
     "name": "stdout",
     "output_type": "stream",
     "text": [
      "Replacement Greedy gives  59.0597597683\n"
     ]
    }
   ],
   "source": [
    "from replacementGreedy import replacementGreedy\n",
    "\n",
    "rgS, rgCost, rgEvals = replacementGreedy(n, m, l, k, csim, articles)\n",
    "\n",
    "print 'Replacement Greedy gives ', rgCost"
   ]
  }
 ],
 "metadata": {
  "anaconda-cloud": {},
  "kernelspec": {
   "display_name": "Python [conda root]",
   "language": "python",
   "name": "conda-root-py"
  },
  "language_info": {
   "codemirror_mode": {
    "name": "ipython",
    "version": 2
   },
   "file_extension": ".py",
   "mimetype": "text/x-python",
   "name": "python",
   "nbconvert_exporter": "python",
   "pygments_lexer": "ipython2",
   "version": "2.7.12"
  }
 },
 "nbformat": 4,
 "nbformat_minor": 1
}
