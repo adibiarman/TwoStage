{
 "cells": [
  {
   "cell_type": "markdown",
   "metadata": {},
   "source": [
    "### in this set of experiments, we are given a completed ratings matrix"
   ]
  },
  {
   "cell_type": "code",
   "execution_count": 1,
   "metadata": {
    "collapsed": true
   },
   "outputs": [],
   "source": [
    "import numpy as np\n",
    "import math\n",
    "import time\n",
    "import matplotlib.pyplot as plt\n",
    "import random\n",
    "\n",
    "from scipy import stats"
   ]
  },
  {
   "cell_type": "code",
   "execution_count": 2,
   "metadata": {
    "collapsed": false
   },
   "outputs": [
    {
     "name": "stdout",
     "output_type": "stream",
     "text": [
      "200 1995\n"
     ]
    }
   ],
   "source": [
    "ratingsFile = open(\"ratingsSummary.csv\", \"r\")\n",
    "\n",
    "userRatings = dict()\n",
    "relevantMovies = dict()\n",
    "\n",
    "for line in ratingsFile:\n",
    "    data = map(float,line.split(','))\n",
    "    \n",
    "    usr = int(data[0])\n",
    "    mov = int(data[1])\n",
    "    r = int(data[2])\n",
    "    \n",
    "    if usr in userRatings:\n",
    "        userRatings[usr][mov] = r\n",
    "    else:\n",
    "        userRatings[usr] = dict()\n",
    "        userRatings[usr][mov] = r\n",
    "        \n",
    "    relevantMovies[mov] = True\n",
    "    \n",
    "print len(userRatings.keys()), len(relevantMovies.keys())"
   ]
  },
  {
   "cell_type": "markdown",
   "metadata": {},
   "source": [
    "### Now, read in the movies."
   ]
  },
  {
   "cell_type": "code",
   "execution_count": 3,
   "metadata": {
    "collapsed": true
   },
   "outputs": [],
   "source": [
    "movies = dict() # a category -> list_of_movies dict stored as integers\n",
    "movieCats = dict() # movieID -> categories movie is part\n",
    "\n",
    "# catID returns the index of a category of type string. catName returns the name of the category given its ID.\n",
    "catID = dict()\n",
    "catName = dict()\n",
    "\n",
    "# same as with cat\n",
    "movieID = dict()\n",
    "movieName = dict()"
   ]
  },
  {
   "cell_type": "code",
   "execution_count": 4,
   "metadata": {
    "collapsed": false
   },
   "outputs": [
    {
     "name": "stdout",
     "output_type": "stream",
     "text": [
      "we have 1995 movies\n"
     ]
    }
   ],
   "source": [
    "allData = open(\"movies.csv\", \"r\")\n",
    "\n",
    "# this first line contains header info\n",
    "allData.readline()\n",
    "\n",
    "numMovies = 0\n",
    "numGenres = 0\n",
    "\n",
    "while True:\n",
    "    line = allData.readline()\n",
    "    \n",
    "    if line == '':\n",
    "        break\n",
    "    \n",
    "    curMovieID = int(line.split(\",\", 1)[0])\n",
    "    if curMovieID not in relevantMovies.keys():\n",
    "        continue\n",
    "    \n",
    "    curMovieName = (line.split(\",\", 1)[1]).rsplit(\",\", 1)[0]\n",
    "    curCategories = line.rsplit(\",\", 1)[1].rsplit(\"\\r\")[0].split(\"|\")\n",
    "    \n",
    "    \n",
    "    # update catID, catName, movieID, movieName\n",
    "    movieID[curMovieName] = curMovieID\n",
    "    movieName[curMovieID] = curMovieName\n",
    "    \n",
    "    for cat in curCategories:\n",
    "        if not (cat in catID):\n",
    "            catID[cat] = numGenres\n",
    "            catName[numGenres] = cat\n",
    "            \n",
    "            numGenres = numGenres + 1\n",
    "            \n",
    "    movieCats[curMovieID] = curCategories\n",
    "            \n",
    "    for cat in curCategories:\n",
    "        if catID[cat] in movies:\n",
    "            movies[catID[cat]].append(movieID[curMovieName])\n",
    "        else:\n",
    "            movies[catID[cat]] = [movieID[curMovieName]]\n",
    "    \n",
    "    numMovies = numMovies + 1\n",
    "\n",
    "print \"we have\", numMovies, \"movies\""
   ]
  },
  {
   "cell_type": "code",
   "execution_count": 5,
   "metadata": {
    "collapsed": false
   },
   "outputs": [
    {
     "name": "stdout",
     "output_type": "stream",
     "text": [
      "[593, 1076, 1200, 1214, 1219, 1258, 1261, 1333, 1340, 1348]\n",
      "\"Silence of the Lambs, The (1991)\"\n",
      "['Crime', 'Horror', 'Thriller']\n",
      "['Mystery', 'Romance', 'Sci-Fi', 'Musical', 'Film-Noir', 'Crime', 'Drama', 'Fantasy', 'Western', 'Animation', 'War', 'Adventure', 'Horror', 'Action', '(no genres listed)', 'Comedy', 'Documentary', 'Children', 'Thriller', 'IMAX']\n"
     ]
    }
   ],
   "source": [
    "print movies[catID['Horror']][:10]\n",
    "print movieName[movies[catID['Horror']][0]]\n",
    "print movieCats[movies[catID['Horror']][0]]\n",
    "print catID.keys()"
   ]
  },
  {
   "cell_type": "code",
   "execution_count": 6,
   "metadata": {
    "collapsed": false
   },
   "outputs": [
    {
     "name": "stdout",
     "output_type": "stream",
     "text": [
      "We have 200 users\n",
      "We have 1995 movies\n",
      "We have 20 genres\n"
     ]
    }
   ],
   "source": [
    "print 'We have', len(userRatings.keys()), 'users'\n",
    "print 'We have', len(movieCats), 'movies'\n",
    "print 'We have', len(catID.keys()), 'genres'"
   ]
  },
  {
   "cell_type": "code",
   "execution_count": 7,
   "metadata": {
    "collapsed": false
   },
   "outputs": [
    {
     "name": "stdout",
     "output_type": "stream",
     "text": [
      "1995 200\n"
     ]
    }
   ],
   "source": [
    "numMovies = len(movieCats)\n",
    "numUsers = len(userRatings.keys())\n",
    "\n",
    "print numMovies, numUsers"
   ]
  },
  {
   "cell_type": "markdown",
   "metadata": {},
   "source": [
    "### Now, complete the ratings matrix"
   ]
  },
  {
   "cell_type": "code",
   "execution_count": 18,
   "metadata": {
    "collapsed": false
   },
   "outputs": [],
   "source": [
    "ratingsIncomplete = np.array([[float('NaN') for i in range(numMovies)] for j in range(numUsers)])\n",
    "\n",
    "movieList = movieName.keys()\n",
    "userList = userRatings.keys()\n",
    "\n",
    "for user in userRatings:\n",
    "    for mov in userRatings[user]:\n",
    "        line = userList.index(user)\n",
    "        col = movieList.index(mov)\n",
    "        \n",
    "        ratingsIncomplete[line][col] = userRatings[user][mov]"
   ]
  },
  {
   "cell_type": "code",
   "execution_count": 19,
   "metadata": {
    "collapsed": false
   },
   "outputs": [
    {
     "name": "stdout",
     "output_type": "stream",
     "text": [
      "[SoftImpute] Max Singular Value of X_init = 1123.683327\n",
      "[SoftImpute] Iter 1: observed MAE=0.522688 rank=196\n",
      "[SoftImpute] Iter 2: observed MAE=0.537585 rank=193\n",
      "[SoftImpute] Iter 3: observed MAE=0.548181 rank=177\n",
      "[SoftImpute] Iter 4: observed MAE=0.548157 rank=153\n",
      "[SoftImpute] Iter 5: observed MAE=0.544339 rank=134\n",
      "[SoftImpute] Iter 6: observed MAE=0.539971 rank=116\n",
      "[SoftImpute] Iter 7: observed MAE=0.535780 rank=104\n",
      "[SoftImpute] Iter 8: observed MAE=0.532160 rank=93\n",
      "[SoftImpute] Iter 9: observed MAE=0.528867 rank=85\n",
      "[SoftImpute] Iter 10: observed MAE=0.526145 rank=78\n",
      "[SoftImpute] Iter 11: observed MAE=0.523777 rank=74\n",
      "[SoftImpute] Iter 12: observed MAE=0.521712 rank=71\n",
      "[SoftImpute] Iter 13: observed MAE=0.519792 rank=68\n",
      "[SoftImpute] Iter 14: observed MAE=0.518061 rank=65\n",
      "[SoftImpute] Iter 15: observed MAE=0.516570 rank=62\n",
      "[SoftImpute] Iter 16: observed MAE=0.515245 rank=61\n",
      "[SoftImpute] Iter 17: observed MAE=0.514135 rank=61\n",
      "[SoftImpute] Iter 18: observed MAE=0.513141 rank=60\n",
      "[SoftImpute] Iter 19: observed MAE=0.512242 rank=58\n",
      "[SoftImpute] Iter 20: observed MAE=0.511421 rank=57\n",
      "[SoftImpute] Iter 21: observed MAE=0.510680 rank=57\n",
      "[SoftImpute] Iter 22: observed MAE=0.509994 rank=56\n",
      "[SoftImpute] Iter 23: observed MAE=0.509379 rank=56\n",
      "[SoftImpute] Iter 24: observed MAE=0.508823 rank=56\n",
      "[SoftImpute] Iter 25: observed MAE=0.508311 rank=56\n",
      "[SoftImpute] Iter 26: observed MAE=0.507826 rank=55\n",
      "[SoftImpute] Iter 27: observed MAE=0.507356 rank=55\n",
      "[SoftImpute] Iter 28: observed MAE=0.506916 rank=54\n",
      "[SoftImpute] Iter 29: observed MAE=0.506502 rank=54\n",
      "[SoftImpute] Iter 30: observed MAE=0.506122 rank=54\n",
      "[SoftImpute] Iter 31: observed MAE=0.505775 rank=54\n",
      "[SoftImpute] Iter 32: observed MAE=0.505456 rank=53\n",
      "[SoftImpute] Iter 33: observed MAE=0.505157 rank=53\n",
      "[SoftImpute] Iter 34: observed MAE=0.504882 rank=53\n",
      "[SoftImpute] Iter 35: observed MAE=0.504629 rank=53\n",
      "[SoftImpute] Iter 36: observed MAE=0.504391 rank=53\n",
      "[SoftImpute] Iter 37: observed MAE=0.504169 rank=53\n",
      "[SoftImpute] Iter 38: observed MAE=0.503962 rank=53\n",
      "[SoftImpute] Iter 39: observed MAE=0.503767 rank=53\n",
      "[SoftImpute] Iter 40: observed MAE=0.503580 rank=53\n",
      "[SoftImpute] Iter 41: observed MAE=0.503403 rank=53\n",
      "[SoftImpute] Iter 42: observed MAE=0.503234 rank=53\n",
      "[SoftImpute] Iter 43: observed MAE=0.503070 rank=53\n",
      "[SoftImpute] Iter 44: observed MAE=0.502914 rank=53\n",
      "[SoftImpute] Iter 45: observed MAE=0.502765 rank=53\n",
      "[SoftImpute] Iter 46: observed MAE=0.502623 rank=53\n",
      "[SoftImpute] Iter 47: observed MAE=0.502489 rank=53\n",
      "[SoftImpute] Iter 48: observed MAE=0.502361 rank=53\n",
      "[SoftImpute] Iter 49: observed MAE=0.502238 rank=53\n",
      "[SoftImpute] Iter 50: observed MAE=0.502122 rank=53\n",
      "[SoftImpute] Iter 51: observed MAE=0.502010 rank=53\n",
      "[SoftImpute] Iter 52: observed MAE=0.501904 rank=53\n",
      "[SoftImpute] Iter 53: observed MAE=0.501803 rank=53\n",
      "[SoftImpute] Iter 54: observed MAE=0.501707 rank=53\n",
      "[SoftImpute] Iter 55: observed MAE=0.501616 rank=53\n",
      "[SoftImpute] Iter 56: observed MAE=0.501529 rank=53\n",
      "[SoftImpute] Iter 57: observed MAE=0.501446 rank=53\n",
      "[SoftImpute] Iter 58: observed MAE=0.501367 rank=53\n",
      "[SoftImpute] Iter 59: observed MAE=0.501293 rank=53\n",
      "[SoftImpute] Iter 60: observed MAE=0.501222 rank=53\n",
      "[SoftImpute] Iter 61: observed MAE=0.501155 rank=53\n",
      "[SoftImpute] Iter 62: observed MAE=0.501090 rank=52\n",
      "[SoftImpute] Iter 63: observed MAE=0.501029 rank=52\n",
      "[SoftImpute] Iter 64: observed MAE=0.500970 rank=52\n",
      "[SoftImpute] Iter 65: observed MAE=0.500915 rank=52\n",
      "[SoftImpute] Iter 66: observed MAE=0.500863 rank=52\n",
      "[SoftImpute] Iter 67: observed MAE=0.500813 rank=52\n",
      "[SoftImpute] Iter 68: observed MAE=0.500766 rank=52\n",
      "[SoftImpute] Iter 69: observed MAE=0.500722 rank=52\n",
      "[SoftImpute] Iter 70: observed MAE=0.500679 rank=52\n",
      "[SoftImpute] Iter 71: observed MAE=0.500639 rank=52\n",
      "[SoftImpute] Iter 72: observed MAE=0.500601 rank=52\n",
      "[SoftImpute] Iter 73: observed MAE=0.500565 rank=52\n",
      "[SoftImpute] Iter 74: observed MAE=0.500530 rank=52\n",
      "[SoftImpute] Iter 75: observed MAE=0.500498 rank=52\n",
      "[SoftImpute] Iter 76: observed MAE=0.500466 rank=52\n",
      "[SoftImpute] Iter 77: observed MAE=0.500437 rank=52\n",
      "[SoftImpute] Iter 78: observed MAE=0.500408 rank=52\n",
      "[SoftImpute] Iter 79: observed MAE=0.500381 rank=52\n",
      "[SoftImpute] Stopped after iteration 79 for lambda=22.473667\n",
      "5.6149969101\n"
     ]
    }
   ],
   "source": [
    "from fancyimpute import SoftImpute\n",
    "\n",
    "startTime = time.time()\n",
    "\n",
    "solver = SoftImpute(\n",
    "    min_value=0.0,\n",
    "    max_value=5.0)\n",
    "\n",
    "ratingsComplete = solver.complete(ratingsIncomplete)\n",
    "\n",
    "print time.time() - startTime"
   ]
  },
  {
   "cell_type": "code",
   "execution_count": 20,
   "metadata": {
    "collapsed": false
   },
   "outputs": [],
   "source": [
    "ratingsComplete.tofile('completedMatrix.txt', sep=\" \", format=\"%s\")"
   ]
  },
  {
   "cell_type": "code",
   "execution_count": 21,
   "metadata": {
    "collapsed": false
   },
   "outputs": [
    {
     "name": "stdout",
     "output_type": "stream",
     "text": [
      "(399000,)\n",
      "[  4.   2.   1.   4.   1.   1.  nan   2.   1.  nan   2.  nan   3.   2.  nan\n",
      "  nan   2.   5.  nan   2.  nan  nan   1.  nan  nan  nan   3.  nan  nan   1.\n",
      "  nan  nan   3.   2.  nan  nan   4.  nan   1.  nan  nan   3.  nan  nan  nan\n",
      "   3.   3.   2.   4.   2.  nan   3.  nan  nan   3.   4.  nan  nan  nan   1.\n",
      "  nan  nan   4.  nan  nan  nan   4.  nan   4.  nan  nan  nan   1.   4.   4.\n",
      "   3.  nan   1.   3.   2.  nan   2.   2.   3.  nan   1.   2.   3.  nan  nan\n",
      "  nan   2.   2.   2.  nan   3.   5.  nan  nan   1.]\n",
      "[ 4.          2.          1.          4.          1.          1.\n",
      "  2.72127607  2.          1.          2.25120966  2.          1.57156987\n",
      "  3.          2.          2.25764631  2.49203325  2.          5.\n",
      "  1.52421058  2.          2.24577134  1.93828605  1.          1.94505764\n",
      "  2.48057829  2.25902861  3.          2.47004573  2.27368885  1.\n",
      "  2.31629372  1.77087709  3.          2.          1.74061402  2.21564699\n",
      "  4.          2.31416744  1.          2.03823933  2.43110943  3.\n",
      "  2.16761158  1.79320759  2.18524889  3.          3.          2.          4.\n",
      "  2.          2.0168833   3.          1.3904904   1.85965972  3.          4.\n",
      "  2.18569043  2.25747246  2.29742185  1.          2.25517509  2.45786629\n",
      "  4.          1.90467389  2.44539186  2.56576755  4.          2.57032047\n",
      "  4.          2.39523047  1.63359616  2.31503876  1.          4.          4.\n",
      "  3.          2.20212376  1.          3.          2.          2.31032609\n",
      "  2.          2.          3.          2.38561811  1.          2.          3.\n",
      "  2.17960939  1.96159035  1.0145415   2.          2.          2.\n",
      "  2.24489873  3.          5.          2.30518825  1.95861008  1.        ]\n"
     ]
    }
   ],
   "source": [
    "new_data = np.loadtxt('completedMatrix.txt')\n",
    "\n",
    "print new_data.shape\n",
    "\n",
    "new_data = new_data.reshape((numUsers,numMovies))\n",
    "\n",
    "print ratingsIncomplete[0][:100]\n",
    "print ratingsComplete[0][:100]"
   ]
  },
  {
   "cell_type": "code",
   "execution_count": null,
   "metadata": {
    "collapsed": true
   },
   "outputs": [],
   "source": []
  }
 ],
 "metadata": {
  "anaconda-cloud": {},
  "kernelspec": {
   "display_name": "Python [conda root]",
   "language": "python",
   "name": "conda-root-py"
  },
  "language_info": {
   "codemirror_mode": {
    "name": "ipython",
    "version": 2
   },
   "file_extension": ".py",
   "mimetype": "text/x-python",
   "name": "python",
   "nbconvert_exporter": "python",
   "pygments_lexer": "ipython2",
   "version": "2.7.12"
  }
 },
 "nbformat": 4,
 "nbformat_minor": 1
}
