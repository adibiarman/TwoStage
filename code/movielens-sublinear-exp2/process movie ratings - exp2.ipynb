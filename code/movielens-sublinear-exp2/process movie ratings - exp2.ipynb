{
 "cells": [
  {
   "cell_type": "markdown",
   "metadata": {},
   "source": [
    "# Part I. Ingesting data."
   ]
  },
  {
   "cell_type": "markdown",
   "metadata": {},
   "source": [
    "Create a dictionary with movies for each genre."
   ]
  },
  {
   "cell_type": "code",
   "execution_count": 1,
   "metadata": {
    "collapsed": true
   },
   "outputs": [],
   "source": [
    "import numpy as np\n",
    "import math\n",
    "import time"
   ]
  },
  {
   "cell_type": "code",
   "execution_count": 2,
   "metadata": {
    "collapsed": true
   },
   "outputs": [],
   "source": [
    "n = 2000\n",
    "m = 200\n",
    "nr = 20"
   ]
  },
  {
   "cell_type": "markdown",
   "metadata": {},
   "source": [
    "### Read in the ratings. Ratings are in the format - userId,movieId,rating,timestamp"
   ]
  },
  {
   "cell_type": "code",
   "execution_count": 3,
   "metadata": {
    "collapsed": false
   },
   "outputs": [],
   "source": [
    "userRatingsFile = open(\"ratings.csv\", \"r\")\n",
    "userRatings = [ map(float,line.split(',')) for line in userRatingsFile ]"
   ]
  },
  {
   "cell_type": "code",
   "execution_count": 4,
   "metadata": {
    "collapsed": false
   },
   "outputs": [
    {
     "data": {
      "text/plain": [
       "([1.0, 2.0, 3.5, 1112486027.0], [1.0, 29.0, 3.5, 1112484676.0])"
      ]
     },
     "execution_count": 4,
     "metadata": {},
     "output_type": "execute_result"
    }
   ],
   "source": [
    "userRatings[0], userRatings[1]"
   ]
  },
  {
   "cell_type": "code",
   "execution_count": 5,
   "metadata": {
    "collapsed": false
   },
   "outputs": [],
   "source": [
    "ratings = dict()\n",
    "\n",
    "for r in userRatings:\n",
    "    mov = r[1]\n",
    "    val = r[2]\n",
    "    \n",
    "    if mov in ratings:\n",
    "        ratings[mov].append(val)\n",
    "    else:\n",
    "        ratings[mov] = [val]\n",
    "    \n",
    "# assign a positive rating only to movies that have at least nr users rating them\n",
    "for r in ratings:\n",
    "    if len(ratings[r]) >= nr:\n",
    "        ratings[r] = np.mean(ratings[r])\n",
    "    else:\n",
    "        ratings[r] = 0"
   ]
  },
  {
   "cell_type": "code",
   "execution_count": 6,
   "metadata": {
    "collapsed": false
   },
   "outputs": [
    {
     "data": {
      "text/plain": [
       "(3.9212395613240769, 3.1510404397330194, 3.2213851761846901)"
      ]
     },
     "execution_count": 6,
     "metadata": {},
     "output_type": "execute_result"
    }
   ],
   "source": [
    "ratings[1], ratings[3], ratings[100]"
   ]
  },
  {
   "cell_type": "markdown",
   "metadata": {},
   "source": [
    "### Pick the movies with the best $n$ ratings"
   ]
  },
  {
   "cell_type": "code",
   "execution_count": 7,
   "metadata": {
    "collapsed": false
   },
   "outputs": [
    {
     "name": "stdout",
     "output_type": "stream",
     "text": [
      "3.73705722071\n"
     ]
    }
   ],
   "source": [
    "lowest = sorted(ratings.values())[len(ratings.values()) - n - 1]\n",
    "print lowest"
   ]
  },
  {
   "cell_type": "code",
   "execution_count": 8,
   "metadata": {
    "collapsed": false
   },
   "outputs": [
    {
     "name": "stdout",
     "output_type": "stream",
     "text": [
      "2000\n"
     ]
    }
   ],
   "source": [
    "bestRatings = dict()\n",
    "\n",
    "for mov in ratings:\n",
    "    if ratings[mov] > lowest:\n",
    "        bestRatings[mov] = ratings[mov]\n",
    "        \n",
    "print len(bestRatings.keys())"
   ]
  },
  {
   "cell_type": "markdown",
   "metadata": {},
   "source": [
    "### Get the users who rated these movies. From their list, pick the $m$ of them that rated most movies"
   ]
  },
  {
   "cell_type": "code",
   "execution_count": 9,
   "metadata": {
    "collapsed": false
   },
   "outputs": [],
   "source": [
    "numRatings = dict()\n",
    "\n",
    "for r in userRatings:\n",
    "    userID = r[0]\n",
    "    mov = r[1]\n",
    "    \n",
    "    if mov in bestRatings:\n",
    "        if userID in numRatings:\n",
    "            numRatings[userID] = numRatings[userID] + 1\n",
    "        else:\n",
    "            numRatings[userID] = 0"
   ]
  },
  {
   "cell_type": "code",
   "execution_count": 10,
   "metadata": {
    "collapsed": false
   },
   "outputs": [
    {
     "name": "stdout",
     "output_type": "stream",
     "text": [
      "630\n"
     ]
    }
   ],
   "source": [
    "lowest = sorted(numRatings.values())[len(numRatings.values()) - m]\n",
    "print lowest"
   ]
  },
  {
   "cell_type": "code",
   "execution_count": 11,
   "metadata": {
    "collapsed": false
   },
   "outputs": [],
   "source": [
    "mostRatings = dict()\n",
    "\n",
    "for user in numRatings:\n",
    "    if numRatings[user] >= lowest:\n",
    "        mostRatings[user] = numRatings[user]"
   ]
  },
  {
   "cell_type": "code",
   "execution_count": 12,
   "metadata": {
    "collapsed": false
   },
   "outputs": [
    {
     "name": "stdout",
     "output_type": "stream",
     "text": [
      "Number of users: 200\n",
      "Some user ids.. [86529.0, 63147.0, 135425.0, 87561.0, 64949.0]\n",
      "Number of movies 2000\n",
      "Some movie ids.. [1.0, 8195.0, 8197.0, 6.0, 8199.0]\n"
     ]
    }
   ],
   "source": [
    "print 'Number of users:', len(mostRatings)\n",
    "print 'Some user ids..', mostRatings.keys()[:5]\n",
    "print 'Number of movies', len(bestRatings)\n",
    "print 'Some movie ids..', bestRatings.keys()[:5]"
   ]
  },
  {
   "cell_type": "markdown",
   "metadata": {},
   "source": [
    "#### write users ratings to a file to save time next time"
   ]
  },
  {
   "cell_type": "code",
   "execution_count": 13,
   "metadata": {
    "collapsed": false
   },
   "outputs": [],
   "source": [
    "procRatings = open(\"ratingsSummary.csv\", \"w\")\n",
    "\n",
    "for r in userRatings:\n",
    "    usr = r[0]\n",
    "    mov = r[1]\n",
    "    rating = r[2]\n",
    "    \n",
    "    if (usr in mostRatings) and (mov in bestRatings):\n",
    "        procRatings.write(str(usr) + \",\" + str(mov) + \",\" + str(rating) + \"\\n\")\n",
    "    \n",
    "procRatings.close()"
   ]
  },
  {
   "cell_type": "code",
   "execution_count": null,
   "metadata": {
    "collapsed": true
   },
   "outputs": [],
   "source": []
  }
 ],
 "metadata": {
  "anaconda-cloud": {},
  "kernelspec": {
   "display_name": "Python [conda root]",
   "language": "python",
   "name": "conda-root-py"
  },
  "language_info": {
   "codemirror_mode": {
    "name": "ipython",
    "version": 2
   },
   "file_extension": ".py",
   "mimetype": "text/x-python",
   "name": "python",
   "nbconvert_exporter": "python",
   "pygments_lexer": "ipython2",
   "version": "2.7.12"
  }
 },
 "nbformat": 4,
 "nbformat_minor": 1
}
