{
 "cells": [
  {
   "cell_type": "markdown",
   "metadata": {},
   "source": [
    "We will build a movie recommendation system. "
   ]
  },
  {
   "cell_type": "markdown",
   "metadata": {},
   "source": [
    "Out of the movielens DS, we will pick a set of movies such that out of those movies we have a good coverage of several movies genres, such as horror, comedy etc."
   ]
  },
  {
   "cell_type": "markdown",
   "metadata": {},
   "source": [
    "Each of these categories H will correspond to a submodular function, where the value of $f_H(S)$ is defined as follows \n",
    "\n",
    "$\\sum_{j \\in S} max_{i \\in H} s_{i,j}$\n",
    "\n",
    "Where $s_{i,j}$ is the similarty between $i$ and $j$ (the higher the similarity the closer related the movies should be)."
   ]
  }
 ],
 "metadata": {
  "anaconda-cloud": {},
  "kernelspec": {
   "display_name": "Python [conda root]",
   "language": "python",
   "name": "conda-root-py"
  },
  "language_info": {
   "codemirror_mode": {
    "name": "ipython",
    "version": 2
   },
   "file_extension": ".py",
   "mimetype": "text/x-python",
   "name": "python",
   "nbconvert_exporter": "python",
   "pygments_lexer": "ipython2",
   "version": "2.7.12"
  }
 },
 "nbformat": 4,
 "nbformat_minor": 1
}
