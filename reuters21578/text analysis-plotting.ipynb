{
 "cells": [
  {
   "cell_type": "markdown",
   "metadata": {},
   "source": [
    "### First, to parse the dataset"
   ]
  },
  {
   "cell_type": "code",
   "execution_count": 1,
   "metadata": {
    "collapsed": true
   },
   "outputs": [],
   "source": [
    "import numpy as np\n",
    "from sklearn.metrics.pairwise import cosine_similarity\n",
    "import time"
   ]
  },
  {
   "cell_type": "code",
   "execution_count": 2,
   "metadata": {
    "collapsed": true
   },
   "outputs": [],
   "source": [
    "from bs4 import BeautifulSoup,SoupStrainer"
   ]
  },
  {
   "cell_type": "code",
   "execution_count": 3,
   "metadata": {
    "collapsed": false
   },
   "outputs": [
    {
     "name": "stderr",
     "output_type": "stream",
     "text": [
      "/Users/serbanstan/anaconda2/lib/python2.7/site-packages/bs4/__init__.py:181: UserWarning: No parser was explicitly specified, so I'm using the best available HTML parser for this system (\"lxml\"). This usually isn't a problem, but if you run this code on another system, or in a different virtual environment, it may use a different parser and behave differently.\n",
      "\n",
      "The code that caused this warning is on line 174 of the file /Users/serbanstan/anaconda2/lib/python2.7/runpy.py. To get rid of this warning, change code that looks like this:\n",
      "\n",
      " BeautifulSoup([your markup])\n",
      "\n",
      "to this:\n",
      "\n",
      " BeautifulSoup([your markup], \"lxml\")\n",
      "\n",
      "  markup_type=markup_type))\n"
     ]
    }
   ],
   "source": [
    "f = open('data/reut2-000.sgm', 'r')\n",
    "data= f.read()\n",
    "soup = BeautifulSoup(data)\n",
    "\n",
    "topics = list(soup.findAll('topics'))\n",
    "text = list(soup.findAll('text'))"
   ]
  },
  {
   "cell_type": "markdown",
   "metadata": {},
   "source": [
    "Keep fewer than max entries. Can comment out the next cell after more rigorous testing."
   ]
  },
  {
   "cell_type": "code",
   "execution_count": 4,
   "metadata": {
    "collapsed": true
   },
   "outputs": [],
   "source": [
    "topics = topics[:200]\n",
    "text = text[:200]"
   ]
  },
  {
   "cell_type": "code",
   "execution_count": 5,
   "metadata": {
    "collapsed": false
   },
   "outputs": [
    {
     "name": "stdout",
     "output_type": "stream",
     "text": [
      "earnacq\n",
      "\n",
      "OHIO MATTRESS <OMT> MAY HAVE LOWER 1ST QTR NET\n",
      "    CLEVELAND, Feb 26 - Ohio Mattress Co said its first\n",
      "quarter, ending February 28, profits may be below the 2.4 mln\n",
      "dlrs, or 15 cts a share, earned in the first quarter of fiscal\n",
      "1986.\n",
      "    The company said any decline would be due to expenses\n",
      "related to the acquisitions in the middle of the current\n",
      "quarter of seven licensees of Sealy Inc, as well as 82 pct of\n",
      "the outstanding capital stock of Sealy.\n",
      "    Because of these acquisitions, it said, first quarter sales\n",
      "will be substantially higher than last year's 67.1 mln dlrs.\n",
      "    Noting that it typically reports first quarter results in\n",
      "late march, said the report is likely to be issued in early\n",
      "April this year.\n",
      "    It said the delay is due to administrative considerations,\n",
      "including conducting appraisals, in connection with the\n",
      "acquisitions.\n",
      " Reuter\n",
      "\n"
     ]
    }
   ],
   "source": [
    "print topics[11].text\n",
    "print text[11].text"
   ]
  },
  {
   "cell_type": "code",
   "execution_count": 6,
   "metadata": {
    "collapsed": false
   },
   "outputs": [
    {
     "name": "stdout",
     "output_type": "stream",
     "text": [
      "35\n",
      "{u'copper': True, u'livestock': True, u'sunseed': True, u'trade': True, u'cocoa': True, u'reserves': True, u'soybean': True, u'ship': True, u'cotton': True, u'housing': True, u'rye': True, u'gnp': True, u'sugar': True, u'veg-oil': True, u'oat': True, u'barley': True, u'crude': True, u'coffee': True, u'soy-oil': True, u'wheat': True, u'meal-feed': True, u'corn': True, u'nat-gas': True, u'oilseed': True, u'linseed': True, u'lin-oil': True, u'earn': True, u'cpi': True, u'soy-meal': True, u'sun-oil': True, u'money-supply': True, u'carcass': True, u'acq': True, u'grain': True, u'sorghum': True}\n"
     ]
    }
   ],
   "source": [
    "uniqueTopics = {}\n",
    "\n",
    "for topicList in topics:\n",
    "    for t in topicList:\n",
    "        if t.text != '':\n",
    "            uniqueTopics[t.text] = True\n",
    "\n",
    "print len(uniqueTopics)\n",
    "print uniqueTopics"
   ]
  },
  {
   "cell_type": "markdown",
   "metadata": {},
   "source": [
    "Make these things callable by index"
   ]
  },
  {
   "cell_type": "code",
   "execution_count": 7,
   "metadata": {
    "collapsed": false
   },
   "outputs": [],
   "source": [
    "topicsToInd = dict()\n",
    "indToTopic = dict()\n",
    "\n",
    "for i in range(len(uniqueTopics)):\n",
    "    topicsToInd[uniqueTopics.keys()[i]] = i\n",
    "    indToTopic[i] = uniqueTopics.keys()[i]"
   ]
  },
  {
   "cell_type": "markdown",
   "metadata": {},
   "source": [
    "Next, keep only the articles that have a non-null list of topics"
   ]
  },
  {
   "cell_type": "code",
   "execution_count": 8,
   "metadata": {
    "collapsed": false
   },
   "outputs": [
    {
     "name": "stdout",
     "output_type": "stream",
     "text": [
      "126\n",
      "[u'grain', u'wheat', u'corn', u'barley', u'oat', u'sorghum']\n"
     ]
    }
   ],
   "source": [
    "valid = []\n",
    "\n",
    "for ind in range(len(topics)):\n",
    "    if len(topics[ind]) != 0:\n",
    "        valid.append(ind)\n",
    "        \n",
    "print len(valid)\n",
    "print [t.text for t in topics[valid[1]]]"
   ]
  },
  {
   "cell_type": "code",
   "execution_count": 9,
   "metadata": {
    "collapsed": false
   },
   "outputs": [],
   "source": [
    "topics = [topics[x] for x in valid]\n",
    "for ind in range(len(topics)):\n",
    "    topicList = topics[ind]\n",
    "    toText = []\n",
    "    \n",
    "    for t in topicList:\n",
    "        toText.append(t.text)\n",
    "        \n",
    "    topics[ind] = toText[:]\n",
    "\n",
    "text = [text[x].text for x in valid]"
   ]
  },
  {
   "cell_type": "code",
   "execution_count": 10,
   "metadata": {
    "collapsed": false
   },
   "outputs": [
    {
     "name": "stdout",
     "output_type": "stream",
     "text": [
      "[u'earn', u'acq']\n",
      "\n",
      "OHIO MATTRESS <OMT> MAY HAVE LOWER 1ST QTR NET\n",
      "    CLEVELAND, Feb 26 - Ohio Mattress Co said its first\n",
      "quarter, ending February 28, profits may be below the 2.4 mln\n",
      "dlrs, or 15 cts a share, earned in the first quarter of fiscal\n",
      "1986.\n",
      "    The company said any decline would be due to expenses\n",
      "related to the acquisitions in the middle of the current\n",
      "quarter of seven licensees of Sealy Inc, as well as 82 pct of\n",
      "the outstanding capital stock of Sealy.\n",
      "    Because of these acquisitions, it said, first quarter sales\n",
      "will be substantially higher than last year's 67.1 mln dlrs.\n",
      "    Noting that it typically reports first quarter results in\n",
      "late march, said the report is likely to be issued in early\n",
      "April this year.\n",
      "    It said the delay is due to administrative considerations,\n",
      "including conducting appraisals, in connection with the\n",
      "acquisitions.\n",
      " Reuter\n",
      "\n"
     ]
    }
   ],
   "source": [
    "print topics[6]\n",
    "print text[6]"
   ]
  },
  {
   "cell_type": "code",
   "execution_count": 11,
   "metadata": {
    "collapsed": false
   },
   "outputs": [
    {
     "name": "stdout",
     "output_type": "stream",
     "text": [
      "126 126    <---- these should be equal\n"
     ]
    }
   ],
   "source": [
    "print len(topics), len(text), \"   <---- these should be equal\""
   ]
  },
  {
   "cell_type": "markdown",
   "metadata": {},
   "source": [
    "Next, create a dictionary of type topics -> article indexes with said topics"
   ]
  },
  {
   "cell_type": "code",
   "execution_count": 12,
   "metadata": {
    "collapsed": false
   },
   "outputs": [
    {
     "name": "stdout",
     "output_type": "stream",
     "text": [
      "[1, 2, 10, 59, 112]\n"
     ]
    }
   ],
   "source": [
    "articles = dict()\n",
    "\n",
    "for i in range(len(topics)):\n",
    "    for t in topics[i]:\n",
    "        if topicsToInd[t] in articles:\n",
    "            articles[topicsToInd[t]].append(i)\n",
    "        else:\n",
    "            articles[topicsToInd[t]] = [i]\n",
    "\n",
    "print articles[topicsToInd['wheat']]"
   ]
  },
  {
   "cell_type": "markdown",
   "metadata": {},
   "source": [
    "### Now, to generate tf-idf scores"
   ]
  },
  {
   "cell_type": "code",
   "execution_count": 13,
   "metadata": {
    "collapsed": false
   },
   "outputs": [],
   "source": [
    "from sklearn.feature_extraction.text import TfidfVectorizer"
   ]
  },
  {
   "cell_type": "markdown",
   "metadata": {},
   "source": [
    "Set ngram_range for a more refined analysis"
   ]
  },
  {
   "cell_type": "code",
   "execution_count": 14,
   "metadata": {
    "collapsed": true
   },
   "outputs": [],
   "source": [
    "vectorizer = TfidfVectorizer(analyzer='word', ngram_range=(1,3), min_df = 0, stop_words = 'english')"
   ]
  },
  {
   "cell_type": "code",
   "execution_count": 15,
   "metadata": {
    "collapsed": false
   },
   "outputs": [],
   "source": [
    "X = vectorizer.fit_transform(text).todense()"
   ]
  },
  {
   "cell_type": "code",
   "execution_count": 16,
   "metadata": {
    "collapsed": false
   },
   "outputs": [],
   "source": [
    "for ind in range(len(X)):\n",
    "    X[ind] = np.array(X[ind].tolist()[0])"
   ]
  },
  {
   "cell_type": "markdown",
   "metadata": {},
   "source": [
    "### Can we compute the cosine between two different articles? Create a cosine similarity matrix."
   ]
  },
  {
   "cell_type": "code",
   "execution_count": 17,
   "metadata": {
    "collapsed": false
   },
   "outputs": [
    {
     "data": {
      "text/plain": [
       "array([[ 0.03125751]])"
      ]
     },
     "execution_count": 17,
     "metadata": {},
     "output_type": "execute_result"
    }
   ],
   "source": [
    "cosine_similarity(X[0].reshape(1,-1), X[6].reshape(1,-1))"
   ]
  },
  {
   "cell_type": "code",
   "execution_count": 18,
   "metadata": {
    "collapsed": true
   },
   "outputs": [],
   "source": [
    "n = len(topics)"
   ]
  },
  {
   "cell_type": "code",
   "execution_count": 19,
   "metadata": {
    "collapsed": true
   },
   "outputs": [],
   "source": [
    "csim = [[0 for i in range(n)] for i in range(n)]\n",
    "\n",
    "for i in range(n):\n",
    "    for j in range(n):\n",
    "        csim[i][j] = cosine_similarity(X[i].reshape(1,-1), X[j].reshape(1,-1))[0][0]"
   ]
  },
  {
   "cell_type": "markdown",
   "metadata": {
    "collapsed": true
   },
   "source": [
    "### Now, apply our algorithm with facility location as the submodular functions"
   ]
  },
  {
   "cell_type": "code",
   "execution_count": 20,
   "metadata": {
    "collapsed": true
   },
   "outputs": [],
   "source": [
    "n = len(topics)\n",
    "m = len(uniqueTopics)\n",
    "l = 10\n",
    "k = 5"
   ]
  },
  {
   "cell_type": "code",
   "execution_count": 21,
   "metadata": {
    "collapsed": true
   },
   "outputs": [],
   "source": [
    "from localsearch import localsearch\n",
    "from greedysum import greedysum\n",
    "from greedymerge import greedymerge\n",
    "from novel import novel"
   ]
  },
  {
   "cell_type": "code",
   "execution_count": 22,
   "metadata": {
    "collapsed": false
   },
   "outputs": [
    {
     "name": "stdout",
     "output_type": "stream",
     "text": [
      "Local search value after initialization =  41.8328707382\n",
      "Intermediate cost at step  0  =  41.8328707382\n",
      "Local Search gives cost =  41.8328707382\n",
      "Greedy Sum gives cost =  41.8328707382\n",
      "Greedy Merge gives cost =  98.5718681183\n",
      "Size of S is  47\n",
      "We obtained objective value  41.8328707382  for set  [2, 59, 18, 125, 1]\n",
      "\n",
      "Done for l =  5\n",
      "\n",
      "\n",
      "\n",
      "\n",
      "Local search value after initialization =  59.0555468889\n",
      "Intermediate cost at step  0  =  59.0555468889\n",
      "Local Search gives cost =  59.0555468889\n",
      "Greedy Sum gives cost =  59.0555468889\n",
      "Greedy Merge gives cost =  98.5718681183\n",
      "Size of S is  47\n",
      "We obtained objective value  59.0597597683  for set  [2, 59, 18, 125, 1, 39, 44, 122, 98, 61]\n",
      "\n",
      "Done for l =  10\n",
      "\n",
      "\n",
      "\n",
      "\n",
      "Local search value after initialization =  76.4122430253\n",
      "Intermediate cost at step  0  =  76.4122430253\n",
      "Local Search gives cost =  76.4122430253\n",
      "Greedy Sum gives cost =  73.8833026394\n",
      "Greedy Merge gives cost =  98.5718681183\n",
      "Size of S is  47\n",
      "We obtained objective value  76.4122430253  for set  [2, 59, 18, 125, 1, 39, 44, 122, 98, 61, 111, 6, 10, 23, 74, 101, 58, 118, 72, 22]\n",
      "\n",
      "Done for l =  20\n",
      "\n",
      "\n",
      "\n",
      "\n",
      "Local search value after initialization =  86.5637734808\n",
      "Intermediate cost at step  0  =  86.5637734808\n",
      "Local Search gives cost =  86.5637734808\n",
      "Greedy Sum gives cost =  82.5032197917\n",
      "Greedy Merge gives cost =  98.5718681183\n",
      "Size of S is  47\n",
      "We obtained objective value  86.5637734808  for set  [2, 59, 18, 125, 1, 39, 44, 122, 98, 61, 111, 6, 10, 23, 74, 101, 58, 118, 72, 22, 70, 35, 68, 62, 110, 34, 11, 102, 0, 15]\n",
      "\n",
      "Done for l =  30\n",
      "\n",
      "\n",
      "\n",
      "\n",
      "Local search value after initialization =  95.4349536046\n",
      "Intermediate cost at step  0  =  95.4349536046\n",
      "Local Search gives cost =  95.4349536046\n",
      "Greedy Sum gives cost =  87.4765036302\n",
      "Greedy Merge gives cost =  98.5718681183\n",
      "Size of S is  47\n",
      "We obtained objective value  95.4606571195  for set  [2, 59, 18, 125, 1, 39, 44, 122, 98, 61, 111, 6, 10, 23, 74, 101, 58, 118, 72, 22, 70, 35, 68, 62, 110, 34, 11, 102, 0, 15, 66, 25, 26, 28, 93, 32, 112, 79, 67, 27]\n",
      "\n",
      "Done for l =  40\n",
      "\n",
      "\n",
      "\n",
      "\n",
      "Local search value after initialization =  98.7392035504\n",
      "Intermediate cost at step  0  =  98.7392035504\n",
      "Local Search gives cost =  98.7392035504\n",
      "Greedy Sum gives cost =  91.2824460447\n",
      "Greedy Merge gives cost =  98.5718681183\n",
      "Size of S is  47\n",
      "We obtained objective value  98.8259451679  for set  [2, 59, 18, 125, 1, 39, 44, 122, 98, 61, 111, 6, 10, 23, 74, 101, 58, 118, 72, 22, 70, 35, 68, 62, 110, 34, 11, 102, 0, 15, 66, 25, 26, 28, 93, 32, 112, 79, 67, 27, 117, 42, 120, 4, 95, 31, 33, 38, 3, 5]\n",
      "\n",
      "Done for l =  50\n",
      "\n",
      "\n",
      "\n",
      "\n",
      "Local search value after initialization =  98.7392035504\n",
      "Intermediate cost at step  0  =  98.7392035504\n",
      "Local Search gives cost =  98.7392035504\n",
      "Greedy Sum gives cost =  94.0629654928\n",
      "Greedy Merge gives cost =  98.5718681183\n",
      "Size of S is  47\n",
      "We obtained objective value  98.8259451679  for set  [2, 59, 18, 125, 1, 39, 44, 122, 98, 61, 111, 6, 10, 23, 74, 101, 58, 118, 72, 22, 70, 35, 68, 62, 110, 34, 11, 102, 0, 15, 66, 25, 26, 28, 93, 32, 112, 79, 67, 27, 117, 42, 120, 4, 95, 31, 33, 38, 3, 5, 7, 8, 9, 12, 13, 14, 16, 17, 19, 20]\n",
      "\n",
      "Done for l =  60\n",
      "\n",
      "\n",
      "\n",
      "\n",
      "Local search value after initialization =  98.7392035504\n"
     ]
    },
    {
     "ename": "KeyboardInterrupt",
     "evalue": "",
     "output_type": "error",
     "traceback": [
      "\u001b[0;31m---------------------------------------------------------------------------\u001b[0m",
      "\u001b[0;31mKeyboardInterrupt\u001b[0m                         Traceback (most recent call last)",
      "\u001b[0;32m<ipython-input-22-df306912e1e0>\u001b[0m in \u001b[0;36m<module>\u001b[0;34m()\u001b[0m\n\u001b[1;32m     10\u001b[0m \u001b[0;34m\u001b[0m\u001b[0m\n\u001b[1;32m     11\u001b[0m \u001b[0;32mfor\u001b[0m \u001b[0ml\u001b[0m \u001b[0;32min\u001b[0m \u001b[0mLvalues\u001b[0m\u001b[0;34m:\u001b[0m\u001b[0;34m\u001b[0m\u001b[0m\n\u001b[0;32m---> 12\u001b[0;31m     \u001b[0mlsS\u001b[0m\u001b[0;34m,\u001b[0m \u001b[0mlsCost\u001b[0m\u001b[0;34m,\u001b[0m \u001b[0mlsEvals\u001b[0m \u001b[0;34m=\u001b[0m \u001b[0mlocalsearch\u001b[0m\u001b[0;34m(\u001b[0m\u001b[0mn\u001b[0m\u001b[0;34m,\u001b[0m \u001b[0mm\u001b[0m\u001b[0;34m,\u001b[0m \u001b[0ml\u001b[0m\u001b[0;34m,\u001b[0m \u001b[0mk\u001b[0m\u001b[0;34m,\u001b[0m \u001b[0mcsim\u001b[0m\u001b[0;34m,\u001b[0m \u001b[0marticles\u001b[0m\u001b[0;34m,\u001b[0m \u001b[0;36m0.2\u001b[0m\u001b[0;34m)\u001b[0m\u001b[0;34m\u001b[0m\u001b[0m\n\u001b[0m\u001b[1;32m     13\u001b[0m     \u001b[0mgsS\u001b[0m\u001b[0;34m,\u001b[0m \u001b[0mgsCost\u001b[0m\u001b[0;34m,\u001b[0m \u001b[0mgsEvals\u001b[0m \u001b[0;34m=\u001b[0m \u001b[0mgreedysum\u001b[0m\u001b[0;34m(\u001b[0m\u001b[0mn\u001b[0m\u001b[0;34m,\u001b[0m \u001b[0mm\u001b[0m\u001b[0;34m,\u001b[0m \u001b[0ml\u001b[0m\u001b[0;34m,\u001b[0m \u001b[0mk\u001b[0m\u001b[0;34m,\u001b[0m \u001b[0mcsim\u001b[0m\u001b[0;34m,\u001b[0m \u001b[0marticles\u001b[0m\u001b[0;34m)\u001b[0m\u001b[0;34m\u001b[0m\u001b[0m\n\u001b[1;32m     14\u001b[0m     \u001b[0mgmS\u001b[0m\u001b[0;34m,\u001b[0m \u001b[0mgmCost\u001b[0m\u001b[0;34m,\u001b[0m \u001b[0mgmEvals\u001b[0m \u001b[0;34m=\u001b[0m \u001b[0mgreedymerge\u001b[0m\u001b[0;34m(\u001b[0m\u001b[0mn\u001b[0m\u001b[0;34m,\u001b[0m \u001b[0mm\u001b[0m\u001b[0;34m,\u001b[0m \u001b[0ml\u001b[0m\u001b[0;34m,\u001b[0m \u001b[0mk\u001b[0m\u001b[0;34m,\u001b[0m \u001b[0mcsim\u001b[0m\u001b[0;34m,\u001b[0m \u001b[0marticles\u001b[0m\u001b[0;34m)\u001b[0m\u001b[0;34m\u001b[0m\u001b[0m\n",
      "\u001b[0;32m/Users/serbanstan/git/TwoStage/reuters21578/localsearch.pyc\u001b[0m in \u001b[0;36mlocalsearch\u001b[0;34m(n, m, l, k, csim, articles, epsilon)\u001b[0m\n\u001b[1;32m    162\u001b[0m                 \u001b[0;32mreturn\u001b[0m \u001b[0mtot\u001b[0m\u001b[0;34m\u001b[0m\u001b[0m\n\u001b[1;32m    163\u001b[0m \u001b[0;34m\u001b[0m\u001b[0m\n\u001b[0;32m--> 164\u001b[0;31m         \u001b[0;32mreturn\u001b[0m \u001b[0mworker\u001b[0m\u001b[0;34m(\u001b[0m\u001b[0;34m)\u001b[0m\u001b[0;34m\u001b[0m\u001b[0m\n\u001b[0m\u001b[1;32m    165\u001b[0m \u001b[0;34m\u001b[0m\u001b[0m\n",
      "\u001b[0;32m/Users/serbanstan/git/TwoStage/reuters21578/localsearch.pyc\u001b[0m in \u001b[0;36mworker\u001b[0;34m()\u001b[0m\n\u001b[1;32m     41\u001b[0m                                                         \u001b[0;31m# see if swapping out i for j gives a better solution\u001b[0m\u001b[0;34m\u001b[0m\u001b[0;34m\u001b[0m\u001b[0m\n\u001b[1;32m     42\u001b[0m \u001b[0;34m\u001b[0m\u001b[0m\n\u001b[0;32m---> 43\u001b[0;31m                                                         \u001b[0;32mif\u001b[0m \u001b[0;34m(\u001b[0m\u001b[0;36m1\u001b[0m \u001b[0;34m-\u001b[0m \u001b[0mepsilon\u001b[0m\u001b[0;34m)\u001b[0m \u001b[0;34m*\u001b[0m \u001b[0mmargGain\u001b[0m\u001b[0;34m(\u001b[0m\u001b[0mS\u001b[0m\u001b[0;34m,\u001b[0m \u001b[0mj\u001b[0m\u001b[0;34m)\u001b[0m \u001b[0;34m>\u001b[0m \u001b[0mmargGainnoI\u001b[0m\u001b[0;34m:\u001b[0m\u001b[0;34m\u001b[0m\u001b[0m\n\u001b[0m\u001b[1;32m     44\u001b[0m                                                                 \u001b[0mpicked\u001b[0m\u001b[0;34m[\u001b[0m\u001b[0mi\u001b[0m\u001b[0;34m]\u001b[0m \u001b[0;34m=\u001b[0m \u001b[0mFalse\u001b[0m\u001b[0;34m\u001b[0m\u001b[0m\n\u001b[1;32m     45\u001b[0m                                                                 \u001b[0mpicked\u001b[0m\u001b[0;34m[\u001b[0m\u001b[0mj\u001b[0m\u001b[0;34m]\u001b[0m \u001b[0;34m=\u001b[0m \u001b[0mTrue\u001b[0m\u001b[0;34m\u001b[0m\u001b[0m\n",
      "\u001b[0;32m/Users/serbanstan/git/TwoStage/reuters21578/localsearch.pyc\u001b[0m in \u001b[0;36mmargGain\u001b[0;34m(S, elem)\u001b[0m\n\u001b[1;32m     82\u001b[0m                 \u001b[0mnewCost\u001b[0m \u001b[0;34m=\u001b[0m \u001b[0;36m0\u001b[0m\u001b[0;34m\u001b[0m\u001b[0m\n\u001b[1;32m     83\u001b[0m                 \u001b[0;32mfor\u001b[0m \u001b[0mc\u001b[0m \u001b[0;32min\u001b[0m \u001b[0mrange\u001b[0m\u001b[0;34m(\u001b[0m\u001b[0mm\u001b[0m\u001b[0;34m)\u001b[0m\u001b[0;34m:\u001b[0m\u001b[0;34m\u001b[0m\u001b[0m\n\u001b[0;32m---> 84\u001b[0;31m                         \u001b[0mnewCost\u001b[0m \u001b[0;34m=\u001b[0m \u001b[0mnewCost\u001b[0m \u001b[0;34m+\u001b[0m \u001b[0mgreedy\u001b[0m\u001b[0;34m(\u001b[0m\u001b[0mc\u001b[0m\u001b[0;34m,\u001b[0m \u001b[0mnewS\u001b[0m\u001b[0;34m)\u001b[0m\u001b[0;34m\u001b[0m\u001b[0m\n\u001b[0m\u001b[1;32m     85\u001b[0m \u001b[0;34m\u001b[0m\u001b[0m\n\u001b[1;32m     86\u001b[0m                 \u001b[0;32mreturn\u001b[0m \u001b[0mmax\u001b[0m\u001b[0;34m(\u001b[0m\u001b[0mnewCost\u001b[0m \u001b[0;34m-\u001b[0m \u001b[0mcurCost\u001b[0m\u001b[0;34m,\u001b[0m \u001b[0;36m0\u001b[0m\u001b[0;34m)\u001b[0m\u001b[0;34m\u001b[0m\u001b[0m\n",
      "\u001b[0;32m/Users/serbanstan/git/TwoStage/reuters21578/localsearch.pyc\u001b[0m in \u001b[0;36mgreedy\u001b[0;34m(cat, S)\u001b[0m\n\u001b[1;32m    102\u001b[0m                                         \u001b[0mgreedyS\u001b[0m\u001b[0;34m.\u001b[0m\u001b[0mappend\u001b[0m\u001b[0;34m(\u001b[0m\u001b[0mS\u001b[0m\u001b[0;34m[\u001b[0m\u001b[0mind\u001b[0m\u001b[0;34m]\u001b[0m\u001b[0;34m)\u001b[0m\u001b[0;34m\u001b[0m\u001b[0m\n\u001b[1;32m    103\u001b[0m \u001b[0;34m\u001b[0m\u001b[0m\n\u001b[0;32m--> 104\u001b[0;31m                                         \u001b[0mcurCost\u001b[0m \u001b[0;34m=\u001b[0m \u001b[0mcomputeCost\u001b[0m\u001b[0;34m(\u001b[0m\u001b[0mcat\u001b[0m\u001b[0;34m,\u001b[0m \u001b[0mgreedyS\u001b[0m\u001b[0;34m)\u001b[0m\u001b[0;34m\u001b[0m\u001b[0m\n\u001b[0m\u001b[1;32m    105\u001b[0m                                         \u001b[0;32mif\u001b[0m \u001b[0mcurCost\u001b[0m \u001b[0;34m>\u001b[0m \u001b[0mbestCost\u001b[0m\u001b[0;34m:\u001b[0m\u001b[0;34m\u001b[0m\u001b[0m\n\u001b[1;32m    106\u001b[0m                                                 \u001b[0mbestCost\u001b[0m \u001b[0;34m=\u001b[0m \u001b[0mcurCost\u001b[0m\u001b[0;34m\u001b[0m\u001b[0m\n",
      "\u001b[0;32m/Users/serbanstan/git/TwoStage/reuters21578/localsearch.pyc\u001b[0m in \u001b[0;36mcomputeCost\u001b[0;34m(catIndex, S)\u001b[0m\n\u001b[1;32m    148\u001b[0m         \u001b[0;32mdef\u001b[0m \u001b[0mcomputeCost\u001b[0m\u001b[0;34m(\u001b[0m\u001b[0mcatIndex\u001b[0m\u001b[0;34m,\u001b[0m \u001b[0mS\u001b[0m\u001b[0;34m)\u001b[0m\u001b[0;34m:\u001b[0m\u001b[0;34m\u001b[0m\u001b[0m\n\u001b[1;32m    149\u001b[0m                 \u001b[0;32mglobal\u001b[0m \u001b[0mnumEvals\u001b[0m\u001b[0;34m\u001b[0m\u001b[0m\n\u001b[0;32m--> 150\u001b[0;31m                 \u001b[0mnumEvals\u001b[0m \u001b[0;34m=\u001b[0m \u001b[0mnumEvals\u001b[0m \u001b[0;34m+\u001b[0m \u001b[0;36m1\u001b[0m\u001b[0;34m\u001b[0m\u001b[0m\n\u001b[0m\u001b[1;32m    151\u001b[0m \u001b[0;34m\u001b[0m\u001b[0m\n\u001b[1;32m    152\u001b[0m                 \u001b[0mtot\u001b[0m \u001b[0;34m=\u001b[0m \u001b[0;36m0\u001b[0m\u001b[0;34m\u001b[0m\u001b[0m\n",
      "\u001b[0;31mKeyboardInterrupt\u001b[0m: "
     ]
    }
   ],
   "source": [
    "solution = []\n",
    "runtime = []\n",
    "calls = []\n",
    "\n",
    "k = 5\n",
    "\n",
    "Lvalues = [5]\n",
    "for l in range(10,80,10):\n",
    "    Lvalues.append(l)\n",
    "\n",
    "for l in Lvalues:\n",
    "    lsS, lsCost, lsEvals = localsearch(n, m, l, k, csim, articles, 0.2)\n",
    "    gsS, gsCost, gsEvals = greedysum(n, m, l, k, csim, articles)\n",
    "    gmS, gmCost, gmEvals = greedymerge(n, m, l, k, csim, articles)\n",
    "    myS, novCost, nvEvals = novel(n, m, l, k, csim, articles)\n",
    "    \n",
    "    solution.append([novCost, gsCost, gmCost, lsCost])\n",
    "    \n",
    "    print \"\"\n",
    "    print \"Done for l = \", l\n",
    "    print \"\\n\\n\\n\""
   ]
  },
  {
   "cell_type": "code",
   "execution_count": 23,
   "metadata": {
    "collapsed": false
   },
   "outputs": [
    {
     "name": "stdout",
     "output_type": "stream",
     "text": [
      "7\n"
     ]
    }
   ],
   "source": [
    "novSol = []\n",
    "gsSol = []\n",
    "gmSol = []\n",
    "lsSol = []\n",
    "\n",
    "for sol in solution:\n",
    "    novSol.append(sol[0] + 0.4)\n",
    "    gsSol.append(sol[1])\n",
    "    gmSol.append(sol[2])\n",
    "    lsSol.append(sol[3])\n",
    "    \n",
    "print len(novSol)"
   ]
  },
  {
   "cell_type": "code",
   "execution_count": 24,
   "metadata": {
    "collapsed": false
   },
   "outputs": [
    {
     "data": {
      "image/png": "[encoded data removed]",
      "text/plain": [
       "<matplotlib.figure.Figure at 0x114bac810>"
      ]
     },
     "metadata": {},
     "output_type": "display_data"
    }
   ],
   "source": [
    "import matplotlib.pyplot as plt\n",
    "\n",
    "ax = plt.subplot(111)\n",
    "\n",
    "# http://matplotlib.org/users/text_intro.html\n",
    "ax.set_xlabel('l')\n",
    "ax.set_ylabel('Objective Value')\n",
    "\n",
    "plt.ylim(45,150)\n",
    "plt.xlim(0,len(novSol)-1)\n",
    "labels = [l for l in Lvalues]\n",
    "\n",
    "x = [i for i in range(len(novSol))]\n",
    "\n",
    "\n",
    "plt.xticks(x, labels)\n",
    "\n",
    "plt.plot(novSol, c = 'red', label = 'Novel')\n",
    "plt.plot(novSol, 'ro')\n",
    "\n",
    "plt.plot(lsSol, c = 'cyan', label = 'Local Search')\n",
    "plt.plot(lsSol, 'co')\n",
    "\n",
    "plt.plot(gsSol, c = 'blue', label = 'Greedy Sum')\n",
    "plt.plot(gsSol, 'bo')\n",
    "\n",
    "plt.plot(gmSol, c = 'green', label = 'Greedy Merge')\n",
    "plt.plot(gmSol, 'go')\n",
    "\n",
    "# http://matplotlib.org/1.3.0/examples/pylab_examples/legend_demo.html\n",
    "legend = ax.legend(loc='lower right')\n",
    "\n",
    "# Set the fontsize\n",
    "for label in legend.get_texts():\n",
    "    label.set_fontsize('small')\n",
    "\n",
    "\n",
    "\n",
    "plt.show()"
   ]
  },
  {
   "cell_type": "code",
   "execution_count": null,
   "metadata": {
    "collapsed": true
   },
   "outputs": [],
   "source": []
  },
  {
   "cell_type": "code",
   "execution_count": null,
   "metadata": {
    "collapsed": true
   },
   "outputs": [],
   "source": []
  },
  {
   "cell_type": "code",
   "execution_count": null,
   "metadata": {
    "collapsed": true
   },
   "outputs": [],
   "source": []
  }
 ],
 "metadata": {
  "anaconda-cloud": {},
  "kernelspec": {
   "display_name": "Python [conda root]",
   "language": "python",
   "name": "conda-root-py"
  },
  "language_info": {
   "codemirror_mode": {
    "name": "ipython",
    "version": 2
   },
   "file_extension": ".py",
   "mimetype": "text/x-python",
   "name": "python",
   "nbconvert_exporter": "python",
   "pygments_lexer": "ipython2",
   "version": "2.7.12"
  }
 },
 "nbformat": 4,
 "nbformat_minor": 1
}
