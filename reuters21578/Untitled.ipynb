{
 "cells": [
  {
   "cell_type": "markdown",
   "metadata": {},
   "source": [
    "### First, to parse the dataset"
   ]
  },
  {
   "cell_type": "code",
   "execution_count": 1,
   "metadata": {
    "collapsed": true
   },
   "outputs": [],
   "source": [
    "import numpy as np\n",
    "from sklearn.metrics.pairwise import cosine_similarity"
   ]
  },
  {
   "cell_type": "code",
   "execution_count": 2,
   "metadata": {
    "collapsed": true
   },
   "outputs": [],
   "source": [
    "from bs4 import BeautifulSoup,SoupStrainer"
   ]
  },
  {
   "cell_type": "code",
   "execution_count": 3,
   "metadata": {
    "collapsed": false
   },
   "outputs": [
    {
     "name": "stderr",
     "output_type": "stream",
     "text": [
      "/Users/serbanstan/anaconda2/lib/python2.7/site-packages/bs4/__init__.py:181: UserWarning: No parser was explicitly specified, so I'm using the best available HTML parser for this system (\"lxml\"). This usually isn't a problem, but if you run this code on another system, or in a different virtual environment, it may use a different parser and behave differently.\n",
      "\n",
      "The code that caused this warning is on line 174 of the file /Users/serbanstan/anaconda2/lib/python2.7/runpy.py. To get rid of this warning, change code that looks like this:\n",
      "\n",
      " BeautifulSoup([your markup])\n",
      "\n",
      "to this:\n",
      "\n",
      " BeautifulSoup([your markup], \"lxml\")\n",
      "\n",
      "  markup_type=markup_type))\n"
     ]
    }
   ],
   "source": [
    "f = open('data/reut2-000.sgm', 'r')\n",
    "data= f.read()\n",
    "soup = BeautifulSoup(data)\n",
    "\n",
    "topics = list(soup.findAll('topics'))\n",
    "text = list(soup.findAll('text'))"
   ]
  },
  {
   "cell_type": "code",
   "execution_count": 4,
   "metadata": {
    "collapsed": false
   },
   "outputs": [
    {
     "name": "stdout",
     "output_type": "stream",
     "text": [
      "earnacq\n",
      "\n",
      "OHIO MATTRESS <OMT> MAY HAVE LOWER 1ST QTR NET\n",
      "    CLEVELAND, Feb 26 - Ohio Mattress Co said its first\n",
      "quarter, ending February 28, profits may be below the 2.4 mln\n",
      "dlrs, or 15 cts a share, earned in the first quarter of fiscal\n",
      "1986.\n",
      "    The company said any decline would be due to expenses\n",
      "related to the acquisitions in the middle of the current\n",
      "quarter of seven licensees of Sealy Inc, as well as 82 pct of\n",
      "the outstanding capital stock of Sealy.\n",
      "    Because of these acquisitions, it said, first quarter sales\n",
      "will be substantially higher than last year's 67.1 mln dlrs.\n",
      "    Noting that it typically reports first quarter results in\n",
      "late march, said the report is likely to be issued in early\n",
      "April this year.\n",
      "    It said the delay is due to administrative considerations,\n",
      "including conducting appraisals, in connection with the\n",
      "acquisitions.\n",
      " Reuter\n",
      "\n"
     ]
    }
   ],
   "source": [
    "print topics[11].text\n",
    "print text[11].text"
   ]
  },
  {
   "cell_type": "code",
   "execution_count": 5,
   "metadata": {
    "collapsed": false
   },
   "outputs": [
    {
     "name": "stdout",
     "output_type": "stream",
     "text": [
      "73\n",
      "{u'copper': True, u'rape-meal': True, u'copra-cake': True, u'livestock': True, u'gold': True, u'money-fx': True, u'yen': True, u'tea': True, u'sunseed': True, u'ipi': True, u'trade': True, u'cocoa': True, u'iron-steel': True, u'reserves': True, u'tin': True, u'soybean': True, u'jobs': True, u'ship': True, u'cotton': True, u'red-bean': True, u'alum': True, u'strategic-metal': True, u'palm-oil': True, u'groundnut-oil': True, u'housing': True, u'rye': True, u'gnp': True, u'sugar': True, u'rubber': True, u'dlr': True, u'veg-oil': True, u'oat': True, u'barley': True, u'interest': True, u'crude': True, u'rice': True, u'rape-oil': True, u'palmkernel': True, u'plywood': True, u'platinum': True, u'coffee': True, u'soy-oil': True, u'wheat': True, u'meal-feed': True, u'propane': True, u'lei': True, u'corn': True, u'gas': True, u'nat-gas': True, u'oilseed': True, u'wool': True, u'heat': True, u'cornglutenfeed': True, u'linseed': True, u'l-cattle': True, u'silver': True, u'saudriyal': True, u'lin-oil': True, u'earn': True, u'cpi': True, u'soy-meal': True, u'bop': True, u'sun-oil': True, u'money-supply': True, u'citruspulp': True, u'carcass': True, u'tapioca': True, u'hog': True, u'acq': True, u'grain': True, u'retail': True, u'sorghum': True, u'rapeseed': True}\n"
     ]
    }
   ],
   "source": [
    "uniqueTopics = {}\n",
    "\n",
    "for topicList in topics:\n",
    "    for t in topicList:\n",
    "        if t.text != '':\n",
    "            uniqueTopics[t.text] = True\n",
    "\n",
    "print len(uniqueTopics)\n",
    "print uniqueTopics"
   ]
  },
  {
   "cell_type": "code",
   "execution_count": 6,
   "metadata": {
    "collapsed": false
   },
   "outputs": [
    {
     "name": "stdout",
     "output_type": "stream",
     "text": [
      "512\n",
      "[u'grain', u'wheat', u'corn', u'barley', u'oat', u'sorghum']\n"
     ]
    }
   ],
   "source": [
    "valid = []\n",
    "\n",
    "for ind in range(len(topics)):\n",
    "    if len(topics[ind]) != 0:\n",
    "        valid.append(ind)\n",
    "        \n",
    "print len(valid)\n",
    "print [t.text for t in topics[valid[1]]]"
   ]
  },
  {
   "cell_type": "code",
   "execution_count": 7,
   "metadata": {
    "collapsed": false
   },
   "outputs": [],
   "source": [
    "topics = [topics[x] for x in valid]\n",
    "for ind in range(len(topics)):\n",
    "    topicList = topics[ind]\n",
    "    toText = []\n",
    "    \n",
    "    for t in topicList:\n",
    "        toText.append(t.text)\n",
    "        \n",
    "    topics[ind] = toText[:]\n",
    "\n",
    "text = [text[x].text for x in valid]"
   ]
  },
  {
   "cell_type": "code",
   "execution_count": 8,
   "metadata": {
    "collapsed": false
   },
   "outputs": [
    {
     "name": "stdout",
     "output_type": "stream",
     "text": [
      "[u'earn', u'acq']\n",
      "\n",
      "OHIO MATTRESS <OMT> MAY HAVE LOWER 1ST QTR NET\n",
      "    CLEVELAND, Feb 26 - Ohio Mattress Co said its first\n",
      "quarter, ending February 28, profits may be below the 2.4 mln\n",
      "dlrs, or 15 cts a share, earned in the first quarter of fiscal\n",
      "1986.\n",
      "    The company said any decline would be due to expenses\n",
      "related to the acquisitions in the middle of the current\n",
      "quarter of seven licensees of Sealy Inc, as well as 82 pct of\n",
      "the outstanding capital stock of Sealy.\n",
      "    Because of these acquisitions, it said, first quarter sales\n",
      "will be substantially higher than last year's 67.1 mln dlrs.\n",
      "    Noting that it typically reports first quarter results in\n",
      "late march, said the report is likely to be issued in early\n",
      "April this year.\n",
      "    It said the delay is due to administrative considerations,\n",
      "including conducting appraisals, in connection with the\n",
      "acquisitions.\n",
      " Reuter\n",
      "\n"
     ]
    }
   ],
   "source": [
    "print topics[6]\n",
    "print text[6]"
   ]
  },
  {
   "cell_type": "code",
   "execution_count": 9,
   "metadata": {
    "collapsed": false
   },
   "outputs": [
    {
     "name": "stdout",
     "output_type": "stream",
     "text": [
      "512 512    <---- these should be equal\n"
     ]
    }
   ],
   "source": [
    "print len(topics), len(text), \"   <---- these should be equal\""
   ]
  },
  {
   "cell_type": "markdown",
   "metadata": {},
   "source": [
    "### Now, to generate tf-idf scores"
   ]
  },
  {
   "cell_type": "code",
   "execution_count": 10,
   "metadata": {
    "collapsed": false
   },
   "outputs": [],
   "source": [
    "from sklearn.feature_extraction.text import TfidfVectorizer"
   ]
  },
  {
   "cell_type": "markdown",
   "metadata": {},
   "source": [
    "Set ngram_range for a more refined analysis"
   ]
  },
  {
   "cell_type": "code",
   "execution_count": 11,
   "metadata": {
    "collapsed": true
   },
   "outputs": [],
   "source": [
    "vectorizer = TfidfVectorizer(analyzer='word', ngram_range=(1,3), min_df = 0, stop_words = 'english')"
   ]
  },
  {
   "cell_type": "code",
   "execution_count": 12,
   "metadata": {
    "collapsed": false
   },
   "outputs": [],
   "source": [
    "X = vectorizer.fit_transform(text).todense()"
   ]
  },
  {
   "cell_type": "code",
   "execution_count": 13,
   "metadata": {
    "collapsed": false
   },
   "outputs": [],
   "source": [
    "for ind in range(len(X)):\n",
    "    X[ind] = np.array(X[ind].tolist()[0])"
   ]
  },
  {
   "cell_type": "markdown",
   "metadata": {},
   "source": [
    "### Can we compute the cosine between two different articles?"
   ]
  },
  {
   "cell_type": "code",
   "execution_count": 14,
   "metadata": {
    "collapsed": false
   },
   "outputs": [
    {
     "data": {
      "text/plain": [
       "array([[ 0.02230861]])"
      ]
     },
     "execution_count": 14,
     "metadata": {},
     "output_type": "execute_result"
    }
   ],
   "source": [
    "cosine_similarity(X[0].reshape(1,-1), X[6].reshape(1,-1))"
   ]
  },
  {
   "cell_type": "code",
   "execution_count": null,
   "metadata": {
    "collapsed": true
   },
   "outputs": [],
   "source": []
  }
 ],
 "metadata": {
  "anaconda-cloud": {},
  "kernelspec": {
   "display_name": "Python [conda root]",
   "language": "python",
   "name": "conda-root-py"
  },
  "language_info": {
   "codemirror_mode": {
    "name": "ipython",
    "version": 2
   },
   "file_extension": ".py",
   "mimetype": "text/x-python",
   "name": "python",
   "nbconvert_exporter": "python",
   "pygments_lexer": "ipython2",
   "version": "2.7.12"
  }
 },
 "nbformat": 4,
 "nbformat_minor": 1
}
